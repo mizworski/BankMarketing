{
 "cells": [
  {
   "cell_type": "code",
   "execution_count": 1,
   "metadata": {
    "collapsed": true
   },
   "outputs": [],
   "source": [
    "import pandas as pd\n",
    "import numpy as np\n",
    "from matplotlib import pyplot as plt"
   ]
  },
  {
   "cell_type": "code",
   "execution_count": 2,
   "metadata": {
    "collapsed": true
   },
   "outputs": [],
   "source": [
    "df = pd.read_csv('../data/bank-classification.csv', index_col=0)"
   ]
  },
  {
   "cell_type": "code",
   "execution_count": 3,
   "metadata": {
    "collapsed": true
   },
   "outputs": [],
   "source": [
    "df_train = df[df.y != 'unknown']\n",
    "df_test = df[df.y == 'unknown']"
   ]
  },
  {
   "cell_type": "code",
   "execution_count": 4,
   "metadata": {},
   "outputs": [
    {
     "data": {
      "text/html": [
       "<div>\n",
       "<style>\n",
       "    .dataframe thead tr:only-child th {\n",
       "        text-align: right;\n",
       "    }\n",
       "\n",
       "    .dataframe thead th {\n",
       "        text-align: left;\n",
       "    }\n",
       "\n",
       "    .dataframe tbody tr th {\n",
       "        vertical-align: top;\n",
       "    }\n",
       "</style>\n",
       "<table border=\"1\" class=\"dataframe\">\n",
       "  <thead>\n",
       "    <tr style=\"text-align: right;\">\n",
       "      <th></th>\n",
       "      <th>birth_date</th>\n",
       "      <th>job</th>\n",
       "      <th>marital</th>\n",
       "      <th>education</th>\n",
       "      <th>default</th>\n",
       "      <th>housing</th>\n",
       "      <th>loan</th>\n",
       "      <th>contact_date</th>\n",
       "      <th>contact</th>\n",
       "      <th>campaign</th>\n",
       "      <th>pdays</th>\n",
       "      <th>previous</th>\n",
       "      <th>poutcome</th>\n",
       "      <th>y</th>\n",
       "    </tr>\n",
       "    <tr>\n",
       "      <th>id</th>\n",
       "      <th></th>\n",
       "      <th></th>\n",
       "      <th></th>\n",
       "      <th></th>\n",
       "      <th></th>\n",
       "      <th></th>\n",
       "      <th></th>\n",
       "      <th></th>\n",
       "      <th></th>\n",
       "      <th></th>\n",
       "      <th></th>\n",
       "      <th></th>\n",
       "      <th></th>\n",
       "      <th></th>\n",
       "    </tr>\n",
       "  </thead>\n",
       "  <tbody>\n",
       "    <tr>\n",
       "      <th>1</th>\n",
       "      <td>1952-03-23</td>\n",
       "      <td>housemaid</td>\n",
       "      <td>married</td>\n",
       "      <td>basic.4y</td>\n",
       "      <td>no</td>\n",
       "      <td>no</td>\n",
       "      <td>no</td>\n",
       "      <td>2008-05-12</td>\n",
       "      <td>telephone</td>\n",
       "      <td>1</td>\n",
       "      <td>999</td>\n",
       "      <td>0</td>\n",
       "      <td>nonexistent</td>\n",
       "      <td>no</td>\n",
       "    </tr>\n",
       "    <tr>\n",
       "      <th>2</th>\n",
       "      <td>1951-03-24</td>\n",
       "      <td>services</td>\n",
       "      <td>married</td>\n",
       "      <td>high.school</td>\n",
       "      <td>unknown</td>\n",
       "      <td>no</td>\n",
       "      <td>no</td>\n",
       "      <td>2008-05-26</td>\n",
       "      <td>telephone</td>\n",
       "      <td>1</td>\n",
       "      <td>999</td>\n",
       "      <td>0</td>\n",
       "      <td>nonexistent</td>\n",
       "      <td>unknown</td>\n",
       "    </tr>\n",
       "    <tr>\n",
       "      <th>3</th>\n",
       "      <td>1971-05-19</td>\n",
       "      <td>services</td>\n",
       "      <td>married</td>\n",
       "      <td>high.school</td>\n",
       "      <td>no</td>\n",
       "      <td>yes</td>\n",
       "      <td>no</td>\n",
       "      <td>2008-05-05</td>\n",
       "      <td>telephone</td>\n",
       "      <td>1</td>\n",
       "      <td>999</td>\n",
       "      <td>0</td>\n",
       "      <td>nonexistent</td>\n",
       "      <td>no</td>\n",
       "    </tr>\n",
       "    <tr>\n",
       "      <th>4</th>\n",
       "      <td>1968-01-24</td>\n",
       "      <td>admin.</td>\n",
       "      <td>married</td>\n",
       "      <td>basic.6y</td>\n",
       "      <td>no</td>\n",
       "      <td>no</td>\n",
       "      <td>no</td>\n",
       "      <td>2008-05-19</td>\n",
       "      <td>telephone</td>\n",
       "      <td>1</td>\n",
       "      <td>999</td>\n",
       "      <td>0</td>\n",
       "      <td>nonexistent</td>\n",
       "      <td>unknown</td>\n",
       "    </tr>\n",
       "    <tr>\n",
       "      <th>5</th>\n",
       "      <td>1952-05-11</td>\n",
       "      <td>services</td>\n",
       "      <td>married</td>\n",
       "      <td>high.school</td>\n",
       "      <td>no</td>\n",
       "      <td>no</td>\n",
       "      <td>yes</td>\n",
       "      <td>2008-05-19</td>\n",
       "      <td>telephone</td>\n",
       "      <td>1</td>\n",
       "      <td>999</td>\n",
       "      <td>0</td>\n",
       "      <td>nonexistent</td>\n",
       "      <td>unknown</td>\n",
       "    </tr>\n",
       "  </tbody>\n",
       "</table>\n",
       "</div>"
      ],
      "text/plain": [
       "    birth_date        job  marital    education  default housing loan  \\\n",
       "id                                                                      \n",
       "1   1952-03-23  housemaid  married     basic.4y       no      no   no   \n",
       "2   1951-03-24   services  married  high.school  unknown      no   no   \n",
       "3   1971-05-19   services  married  high.school       no     yes   no   \n",
       "4   1968-01-24     admin.  married     basic.6y       no      no   no   \n",
       "5   1952-05-11   services  married  high.school       no      no  yes   \n",
       "\n",
       "   contact_date    contact  campaign  pdays  previous     poutcome        y  \n",
       "id                                                                           \n",
       "1    2008-05-12  telephone         1    999         0  nonexistent       no  \n",
       "2    2008-05-26  telephone         1    999         0  nonexistent  unknown  \n",
       "3    2008-05-05  telephone         1    999         0  nonexistent       no  \n",
       "4    2008-05-19  telephone         1    999         0  nonexistent  unknown  \n",
       "5    2008-05-19  telephone         1    999         0  nonexistent  unknown  "
      ]
     },
     "execution_count": 4,
     "metadata": {},
     "output_type": "execute_result"
    }
   ],
   "source": [
    "df.head()"
   ]
  },
  {
   "cell_type": "code",
   "execution_count": 5,
   "metadata": {},
   "outputs": [
    {
     "data": {
      "text/plain": [
       "birth_date       1951-03-24\n",
       "job                services\n",
       "marital             married\n",
       "education       high.school\n",
       "default             unknown\n",
       "housing                  no\n",
       "loan                     no\n",
       "contact_date     2008-05-26\n",
       "contact           telephone\n",
       "campaign                  1\n",
       "pdays                   999\n",
       "previous                  0\n",
       "poutcome        nonexistent\n",
       "y                   unknown\n",
       "Name: 2, dtype: object"
      ]
     },
     "execution_count": 5,
     "metadata": {},
     "output_type": "execute_result"
    }
   ],
   "source": [
    "df.iloc[1]"
   ]
  },
  {
   "cell_type": "code",
   "execution_count": 6,
   "metadata": {
    "collapsed": true
   },
   "outputs": [],
   "source": [
    "# df[:10].apply(lambda r: , axis=1)\n",
    "categorical_cols = list(set(df.columns) - set(['birth_date', 'contact_date']))\n",
    "# df['sum_nan'] = (df[['default', 'loan', 'education', 'housing', 'job']] == 'unknown').sum(axis=1)\n",
    "# df['sum_0'] = (df[['out1','out2','out3']] == 0).sum(axis=1)"
   ]
  },
  {
   "cell_type": "code",
   "execution_count": 7,
   "metadata": {
    "collapsed": true
   },
   "outputs": [],
   "source": [
    "# df['sum_nan']"
   ]
  },
  {
   "cell_type": "code",
   "execution_count": 8,
   "metadata": {
    "scrolled": true
   },
   "outputs": [
    {
     "name": "stdout",
     "output_type": "stream",
     "text": [
      "default\n",
      "no         16408\n",
      "unknown     4389\n",
      "yes            2\n",
      "Name: default, dtype: int64\n",
      " \n",
      "education\n",
      "university.degree      6192\n",
      "high.school            4781\n",
      "basic.9y               3016\n",
      "professional.course    2592\n",
      "basic.4y               2154\n",
      "basic.6y               1170\n",
      "unknown                 887\n",
      "illiterate                7\n",
      "Name: education, dtype: int64\n",
      " \n",
      "loan\n",
      "no         17122\n",
      "yes         3187\n",
      "unknown      490\n",
      "Name: loan, dtype: int64\n",
      " \n",
      "campaign\n",
      "1     8864\n",
      "2     5340\n",
      "3     2711\n",
      "4     1354\n",
      "5      786\n",
      "6      480\n",
      "7      332\n",
      "8      222\n",
      "9      150\n",
      "10     111\n",
      "11      81\n",
      "12      69\n",
      "13      55\n",
      "14      34\n",
      "16      33\n",
      "17      29\n",
      "15      24\n",
      "19      17\n",
      "18      15\n",
      "20      14\n",
      "21      10\n",
      "22      10\n",
      "24      10\n",
      "23      10\n",
      "29       6\n",
      "27       5\n",
      "26       5\n",
      "32       3\n",
      "28       3\n",
      "30       3\n",
      "25       3\n",
      "43       2\n",
      "35       2\n",
      "33       1\n",
      "31       1\n",
      "34       1\n",
      "40       1\n",
      "41       1\n",
      "39       1\n",
      "Name: campaign, dtype: int64\n",
      " \n",
      "marital\n",
      "married     12512\n",
      "single       5896\n",
      "divorced     2347\n",
      "unknown        44\n",
      "Name: marital, dtype: int64\n",
      " \n",
      "housing\n",
      "yes        10923\n",
      "no          9386\n",
      "unknown      490\n",
      "Name: housing, dtype: int64\n",
      " \n",
      "y\n",
      "no     18419\n",
      "yes     2380\n",
      "Name: y, dtype: int64\n",
      " \n",
      "job\n",
      "admin.           5284\n",
      "blue-collar      4708\n",
      "technician       3365\n",
      "services         1995\n",
      "management       1485\n",
      "retired           874\n",
      "entrepreneur      745\n",
      "self-employed     699\n",
      "housemaid         522\n",
      "unemployed        496\n",
      "student           444\n",
      "unknown           182\n",
      "Name: job, dtype: int64\n",
      " \n",
      "contact\n",
      "cellular     13212\n",
      "telephone     7587\n",
      "Name: contact, dtype: int64\n",
      " \n",
      "previous\n",
      "0    17983\n",
      "1     2276\n",
      "2      386\n",
      "3      111\n",
      "4       32\n",
      "5        7\n",
      "6        3\n",
      "7        1\n",
      "Name: previous, dtype: int64\n",
      " \n",
      "poutcome\n",
      "nonexistent    17983\n",
      "failure         2143\n",
      "success          673\n",
      "Name: poutcome, dtype: int64\n",
      " \n",
      "pdays\n",
      "999    20043\n",
      "6        216\n",
      "3        214\n",
      "4         54\n",
      "9         35\n",
      "12        30\n",
      "2         30\n",
      "7         26\n",
      "13        21\n",
      "10        21\n",
      "5         21\n",
      "11        16\n",
      "14        13\n",
      "1         10\n",
      "8         10\n",
      "15         9\n",
      "0          7\n",
      "18         6\n",
      "17         6\n",
      "16         6\n",
      "22         2\n",
      "21         1\n",
      "25         1\n",
      "26         1\n",
      "Name: pdays, dtype: int64\n",
      " \n"
     ]
    }
   ],
   "source": [
    "categorical_cols = set(df.columns) - set(['birth_date', 'contact_date']) \n",
    "for col in categorical_cols:\n",
    "    print(col)\n",
    "    print(df_train[col].value_counts())\n",
    "    print(' ')"
   ]
  },
  {
   "cell_type": "code",
   "execution_count": 9,
   "metadata": {
    "collapsed": true
   },
   "outputs": [],
   "source": [
    "df_known = df[df.y != 'unknown']"
   ]
  },
  {
   "cell_type": "code",
   "execution_count": 10,
   "metadata": {},
   "outputs": [
    {
     "data": {
      "image/png": "[encoded data removed]",
      "text/plain": [
       "<matplotlib.figure.Figure at 0x7f199d72de80>"
      ]
     },
     "metadata": {},
     "output_type": "display_data"
    }
   ],
   "source": [
    "df_known.groupby(['education', 'y']).size().plot(kind='bar')\n",
    "plt.show()"
   ]
  },
  {
   "cell_type": "code",
   "execution_count": 11,
   "metadata": {},
   "outputs": [
    {
     "data": {
      "text/plain": [
       "education            y  \n",
       "basic.4y             no     1919\n",
       "                     yes     235\n",
       "basic.6y             no     1081\n",
       "                     yes      89\n",
       "basic.9y             no     2766\n",
       "                     yes     250\n",
       "high.school          no     4242\n",
       "                     yes     539\n",
       "illiterate           no        6\n",
       "                     yes       1\n",
       "professional.course  no     2306\n",
       "                     yes     286\n",
       "university.degree    no     5341\n",
       "                     yes     851\n",
       "unknown              no      758\n",
       "                     yes     129\n",
       "dtype: int64"
      ]
     },
     "execution_count": 11,
     "metadata": {},
     "output_type": "execute_result"
    }
   ],
   "source": [
    "df_known.groupby(['education', 'y']).size()"
   ]
  },
  {
   "cell_type": "code",
   "execution_count": 12,
   "metadata": {},
   "outputs": [
    {
     "data": {
      "text/plain": [
       "MultiIndex(levels=[['basic.4y', 'basic.6y', 'basic.9y', 'high.school', 'illiterate', 'professional.course', 'university.degree', 'unknown'], ['no', 'yes']],\n",
       "           labels=[[0, 0, 1, 1, 2, 2, 3, 3, 4, 4, 5, 5, 6, 6, 7, 7], [0, 1, 0, 1, 0, 1, 0, 1, 0, 1, 0, 1, 0, 1, 0, 1]],\n",
       "           names=['education', 'y'])"
      ]
     },
     "execution_count": 12,
     "metadata": {},
     "output_type": "execute_result"
    }
   ],
   "source": [
    "df_known.groupby(['education', 'y']).size().keys()"
   ]
  },
  {
   "cell_type": "code",
   "execution_count": null,
   "metadata": {
    "collapsed": true
   },
   "outputs": [],
   "source": []
  },
  {
   "cell_type": "code",
   "execution_count": 13,
   "metadata": {
    "collapsed": true
   },
   "outputs": [],
   "source": [
    "def print_ratios(column):\n",
    "    counts = df_known.groupby([column, 'y']).size()\n",
    "\n",
    "    ratios = {}\n",
    "    for key in counts.keys().levels[0]:\n",
    "        if (key, 'yes') in counts:\n",
    "            ratios[key] = counts[key, 'yes'] / (counts[key, 'yes'] + counts[key, 'no'])\n",
    "        else:\n",
    "            ratios[key] = 0\n",
    "    plt.bar(range(len(ratios)), ratios.values(), align='center')\n",
    "    plt.xticks(range(len(ratios)), ratios.keys(), rotation=90)\n",
    "\n",
    "    plt.show()"
   ]
  },
  {
   "cell_type": "code",
   "execution_count": 14,
   "metadata": {
    "scrolled": false
   },
   "outputs": [
    {
     "name": "stdout",
     "output_type": "stream",
     "text": [
      "default\n"
     ]
    },
    {
     "data": {
      "image/png": "[encoded data removed]",
      "text/plain": [
       "<matplotlib.figure.Figure at 0x7f199d3cb2b0>"
      ]
     },
     "metadata": {},
     "output_type": "display_data"
    },
    {
     "name": "stdout",
     "output_type": "stream",
     "text": [
      "loan\n"
     ]
    },
    {
     "data": {
      "image/png": "[encoded data removed]",
      "text/plain": [
       "<matplotlib.figure.Figure at 0x7f199aaa93c8>"
      ]
     },
     "metadata": {},
     "output_type": "display_data"
    },
    {
     "name": "stdout",
     "output_type": "stream",
     "text": [
      "education\n"
     ]
    },
    {
     "data": {
      "image/png": "[encoded data removed]",
      "text/plain": [
       "<matplotlib.figure.Figure at 0x7f199aaa9390>"
      ]
     },
     "metadata": {},
     "output_type": "display_data"
    },
    {
     "name": "stdout",
     "output_type": "stream",
     "text": [
      "marital\n"
     ]
    },
    {
     "data": {
      "image/png": "[encoded data removed]",
      "text/plain": [
       "<matplotlib.figure.Figure at 0x7f199aa9aef0>"
      ]
     },
     "metadata": {},
     "output_type": "display_data"
    },
    {
     "name": "stdout",
     "output_type": "stream",
     "text": [
      "housing\n"
     ]
    },
    {
     "data": {
      "image/png": "[encoded data removed]",
      "text/plain": [
       "<matplotlib.figure.Figure at 0x7f199aa68898>"
      ]
     },
     "metadata": {},
     "output_type": "display_data"
    },
    {
     "name": "stdout",
     "output_type": "stream",
     "text": [
      "job\n"
     ]
    },
    {
     "data": {
      "image/png": "[encoded data removed]",
      "text/plain": [
       "<matplotlib.figure.Figure at 0x7f199a97e128>"
      ]
     },
     "metadata": {},
     "output_type": "display_data"
    },
    {
     "name": "stdout",
     "output_type": "stream",
     "text": [
      "contact\n"
     ]
    },
    {
     "data": {
      "image/png": "[encoded data removed]",
      "text/plain": [
       "<matplotlib.figure.Figure at 0x7f199aa884e0>"
      ]
     },
     "metadata": {},
     "output_type": "display_data"
    },
    {
     "name": "stdout",
     "output_type": "stream",
     "text": [
      "previous\n"
     ]
    },
    {
     "data": {
      "image/png": "[encoded data removed]",
      "text/plain": [
       "<matplotlib.figure.Figure at 0x7f199aa267b8>"
      ]
     },
     "metadata": {},
     "output_type": "display_data"
    },
    {
     "name": "stdout",
     "output_type": "stream",
     "text": [
      "poutcome\n"
     ]
    },
    {
     "data": {
      "image/png": "[encoded data removed]",
      "text/plain": [
       "<matplotlib.figure.Figure at 0x7f199ab2e5c0>"
      ]
     },
     "metadata": {},
     "output_type": "display_data"
    }
   ],
   "source": [
    "categorical_cols = list(set(df_known.columns) - \n",
    "                            set(['birth_date', 'contact_date', 'pdays', 'campaign', 'y','age', 'sum_nan']))\n",
    "for col in categorical_cols:\n",
    "    print(col)\n",
    "    print_ratios(col)"
   ]
  },
  {
   "cell_type": "code",
   "execution_count": 15,
   "metadata": {},
   "outputs": [
    {
     "data": {
      "text/plain": [
       "previous  y  \n",
       "0         no     16368\n",
       "          yes     1615\n",
       "1         no      1784\n",
       "          yes      492\n",
       "2         no       200\n",
       "          yes      186\n",
       "3         no        45\n",
       "          yes       66\n",
       "4         no        17\n",
       "          yes       15\n",
       "5         no         2\n",
       "          yes        5\n",
       "6         no         2\n",
       "          yes        1\n",
       "7         no         1\n",
       "dtype: int64"
      ]
     },
     "execution_count": 15,
     "metadata": {},
     "output_type": "execute_result"
    }
   ],
   "source": [
    "counts = df_known.groupby(['previous', 'y']).size()\n",
    "counts"
   ]
  },
  {
   "cell_type": "code",
   "execution_count": null,
   "metadata": {
    "collapsed": true
   },
   "outputs": [],
   "source": []
  }
 ],
 "metadata": {
  "kernelspec": {
   "display_name": "Python 2",
   "language": "python",
   "name": "python2"
  },
  "language_info": {
   "codemirror_mode": {
    "name": "ipython",
    "version": 3
   },
   "file_extension": ".py",
   "mimetype": "text/x-python",
   "name": "python",
   "nbconvert_exporter": "python",
   "pygments_lexer": "ipython3",
   "version": "3.6.3"
  }
 },
 "nbformat": 4,
 "nbformat_minor": 2
}
