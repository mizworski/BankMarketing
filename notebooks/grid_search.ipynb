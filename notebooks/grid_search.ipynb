{
 "cells": [
  {
   "cell_type": "code",
   "execution_count": 1,
   "metadata": {
    "collapsed": true
   },
   "outputs": [],
   "source": [
    "import pandas as pd\n",
    "import numpy as np\n",
    "import sys\n",
    "sys.path.append(\"/home/mizworski/Repos/xgboost/python-package/\")\n",
    "from xgboost import XGBClassifier\n",
    "from sklearn.model_selection import train_test_split\n",
    "from sklearn.metrics import accuracy_score\n",
    "from datetime import datetime\n",
    "from sklearn.metrics import roc_curve, auc\n",
    "from sklearn.model_selection import StratifiedKFold\n",
    "import matplotlib.pyplot as plt\n",
    "from sklearn.utils.validation import column_or_1d\n",
    "from scipy import interp"
   ]
  },
  {
   "cell_type": "code",
   "execution_count": 2,
   "metadata": {
    "collapsed": true
   },
   "outputs": [],
   "source": [
    "date_parse_format = '%Y-%m-%d'\n",
    "\n",
    "\n",
    "def preprocess_data(data):\n",
    "    categorical_cols = list(set(data.columns) - set(['birth_date', 'contact_date', 'pdays', 'campaign', 'y']))\n",
    "    \n",
    "    X = pd.get_dummies(data, columns=categorical_cols, drop_first=True)\n",
    "    X['contacted'] = pd.get_dummies(X.pdays < 999, drop_first=True)\n",
    "    now = datetime.strptime(X.contact_date.max(), date_parse_format)\n",
    "    X['age'] = X.apply(lambda r: int((now - datetime.strptime(r.birth_date, date_parse_format)).days / 365.25), axis=1)\n",
    "    X.drop('birth_date', axis=1, inplace=True)\n",
    "    X['days_since_contact'] =  X.apply(lambda r: int((now - datetime.strptime(r.contact_date, date_parse_format)).days), axis=1)\n",
    "    X.drop('contact_date', axis=1, inplace=True)\n",
    "    \n",
    "    train_x = X[X.y != 'unknown']\n",
    "    test_x = X[X.y == 'unknown']\n",
    "    train_y = train_x['y']\n",
    "    train_y = pd.get_dummies(train_y, drop_first=True)\n",
    "    train_x = train_x.drop('y', axis=1)\n",
    "    test_x = test_x.drop('y', axis=1)\n",
    "    \n",
    "#     train_y = column_or_1d(train_y)\n",
    "#     train_x = train_x.as_matrix()\n",
    "#     test_x = test_x.as_matrix()\n",
    "    \n",
    "    return train_x, train_y, test_x\n",
    "    "
   ]
  },
  {
   "cell_type": "code",
   "execution_count": 3,
   "metadata": {
    "collapsed": true
   },
   "outputs": [],
   "source": [
    "df = pd.read_csv('../data/bank-classification.csv', index_col=0)\n",
    "df = df.sample(frac=1)"
   ]
  },
  {
   "cell_type": "code",
   "execution_count": 4,
   "metadata": {
    "collapsed": true
   },
   "outputs": [],
   "source": [
    "X_train, Y_train, X_test = preprocess_data(df)"
   ]
  },
  {
   "cell_type": "code",
   "execution_count": 5,
   "metadata": {},
   "outputs": [
    {
     "data": {
      "text/plain": [
       "Index(['campaign', 'pdays', 'job_blue-collar', 'job_entrepreneur',\n",
       "       'job_housemaid', 'job_management', 'job_retired', 'job_self-employed',\n",
       "       'job_services', 'job_student', 'job_technician', 'job_unemployed',\n",
       "       'job_unknown', 'default_unknown', 'default_yes', 'education_basic.6y',\n",
       "       'education_basic.9y', 'education_high.school', 'education_illiterate',\n",
       "       'education_professional.course', 'education_university.degree',\n",
       "       'education_unknown', 'housing_unknown', 'housing_yes', 'loan_unknown',\n",
       "       'loan_yes', 'previous_1', 'previous_2', 'previous_3', 'previous_4',\n",
       "       'previous_5', 'previous_6', 'previous_7', 'poutcome_nonexistent',\n",
       "       'poutcome_success', 'marital_married', 'marital_single',\n",
       "       'marital_unknown', 'contact_telephone', 'contacted', 'age',\n",
       "       'days_since_contact'],\n",
       "      dtype='object')"
      ]
     },
     "execution_count": 5,
     "metadata": {},
     "output_type": "execute_result"
    }
   ],
   "source": [
    "X_train.columns"
   ]
  },
  {
   "cell_type": "code",
   "execution_count": 6,
   "metadata": {
    "collapsed": true
   },
   "outputs": [],
   "source": [
    "X_train['houseXmarried'] = X_train.housing_yes * X_train.marital_married\n",
    "X_train['uniXmarried'] = X_train['education_university.degree'] * X_train.marital_married\n",
    "X_train['highschoolXmarried'] = X_train['education_high.school'] * X_train.marital_married\n",
    "X_train['job_high_paid'] = X_train.job_entrepreneur + X_train.job_management + X_train.job_technician\n",
    "X_train['campaignXdays_since_contact']= X_train.campaign * X_train.days_since_contact\n",
    "X_train['campaignXpoutcome_success']= X_train.campaign * X_train.poutcome_success"
   ]
  },
  {
   "cell_type": "code",
   "execution_count": 15,
   "metadata": {
    "collapsed": true
   },
   "outputs": [],
   "source": [
    "from scipy import stats\n",
    "from sklearn.model_selection import GridSearchCV, RandomizedSearchCV"
   ]
  },
  {
   "cell_type": "code",
   "execution_count": 16,
   "metadata": {},
   "outputs": [
    {
     "ename": "AttributeError",
     "evalue": "'numpy.ndarray' object has no attribute 'as_matrix'",
     "output_type": "error",
     "traceback": [
      "\u001b[0;31m---------------------------------------------------------------------------\u001b[0m",
      "\u001b[0;31mAttributeError\u001b[0m                            Traceback (most recent call last)",
      "\u001b[0;32m<ipython-input-16-fbc811fe6d39>\u001b[0m in \u001b[0;36m<module>\u001b[0;34m()\u001b[0m\n\u001b[1;32m      1\u001b[0m \u001b[0;34m\u001b[0m\u001b[0m\n\u001b[0;32m----> 2\u001b[0;31m \u001b[0mX_train\u001b[0m \u001b[0;34m=\u001b[0m \u001b[0mX_train\u001b[0m\u001b[0;34m.\u001b[0m\u001b[0mas_matrix\u001b[0m\u001b[0;34m(\u001b[0m\u001b[0;34m)\u001b[0m\u001b[0;34m\u001b[0m\u001b[0m\n\u001b[0m\u001b[1;32m      3\u001b[0m \u001b[0mY_train\u001b[0m \u001b[0;34m=\u001b[0m \u001b[0mcolumn_or_1d\u001b[0m\u001b[0;34m(\u001b[0m\u001b[0mY_train\u001b[0m\u001b[0;34m)\u001b[0m\u001b[0;34m\u001b[0m\u001b[0m\n",
      "\u001b[0;31mAttributeError\u001b[0m: 'numpy.ndarray' object has no attribute 'as_matrix'"
     ]
    }
   ],
   "source": [
    "\n",
    "X_train = X_train.as_matrix()\n",
    "Y_train = column_or_1d(Y_train)"
   ]
  },
  {
   "cell_type": "code",
   "execution_count": 17,
   "metadata": {
    "collapsed": true
   },
   "outputs": [],
   "source": [
    "from numpy import random"
   ]
  },
  {
   "cell_type": "code",
   "execution_count": 18,
   "metadata": {
    "collapsed": true
   },
   "outputs": [],
   "source": [
    "clf_xgb = XGBClassifier(objective = 'binary:logistic')\n",
    "param_dist = {'n_estimators': stats.randint(200, 1000),\n",
    "              'learning_rate': np.arange(0.01, 0.7, 0.01),\n",
    "              'subsample': np.arange(0.95, 1.0, 0.001),\n",
    "              'max_depth': [3, 4, 5, 6, 7, 9],\n",
    "              'colsample_bytree': np.arange(0.95, 1.0, 0.001),\n",
    "              'min_child_weight': [1, 2, 3, 4]\n",
    "             }\n",
    "param_dist = {'n_estimators': stats.randint(200, 1000),\n",
    "              'learning_rate': 10 ** np.arange(-3, -1, 0.01),\n",
    "              'subsample': [1],\n",
    "              'max_depth': [3, 4, 5, 6, 7, 8, 9],\n",
    "              'colsample_bytree': [1],\n",
    "              'min_child_weight': [1, 2, 3],\n",
    "              'gamma' : np.arange(0, 1.488, 0.01),\n",
    "              'reg_alpha':np.arange(0, 1, 0.01), \n",
    "              'reg_lambda':np.arange(0, 1, 0.01)\n",
    "             }\n",
    "\n",
    "# numFolds = 5\n",
    "# kfold_5 = cross_validation.KFold(n = len(X), shuffle = True, n_folds = numFolds)\n",
    "\n",
    "clf = RandomizedSearchCV(clf_xgb, \n",
    "                         param_distributions = param_dist,\n",
    "                         cv = 6,  \n",
    "                         n_iter = 25, # you want 5 here not 25 if I understand you correctly \n",
    "                         scoring = 'roc_auc', \n",
    "                         error_score = 0, \n",
    "                         verbose = 3, \n",
    "                         n_jobs = -1)"
   ]
  },
  {
   "cell_type": "code",
   "execution_count": 19,
   "metadata": {},
   "outputs": [
    {
     "data": {
      "text/plain": [
       "(20799, 48)"
      ]
     },
     "execution_count": 19,
     "metadata": {},
     "output_type": "execute_result"
    }
   ],
   "source": [
    "X_train.shape"
   ]
  },
  {
   "cell_type": "code",
   "execution_count": 20,
   "metadata": {},
   "outputs": [
    {
     "data": {
      "text/plain": [
       "(20799,)"
      ]
     },
     "execution_count": 20,
     "metadata": {},
     "output_type": "execute_result"
    }
   ],
   "source": [
    "Y_train.shape"
   ]
  },
  {
   "cell_type": "code",
   "execution_count": 21,
   "metadata": {
    "scrolled": true
   },
   "outputs": [
    {
     "name": "stdout",
     "output_type": "stream",
     "text": [
      "Fitting 6 folds for each of 25 candidates, totalling 150 fits\n",
      "[CV] colsample_bytree=1, gamma=0.54, learning_rate=0.0013803842646, max_depth=3, min_child_weight=1, n_estimators=823, reg_alpha=0.84, reg_lambda=0.33, subsample=1 \n",
      "[CV] colsample_bytree=1, gamma=0.54, learning_rate=0.0013803842646, max_depth=3, min_child_weight=1, n_estimators=823, reg_alpha=0.84, reg_lambda=0.33, subsample=1 \n",
      "[CV] colsample_bytree=1, gamma=0.54, learning_rate=0.0013803842646, max_depth=3, min_child_weight=1, n_estimators=823, reg_alpha=0.84, reg_lambda=0.33, subsample=1 \n",
      "[CV] colsample_bytree=1, gamma=0.54, learning_rate=0.0013803842646, max_depth=3, min_child_weight=1, n_estimators=823, reg_alpha=0.84, reg_lambda=0.33, subsample=1 \n",
      "[CV] colsample_bytree=1, gamma=0.54, learning_rate=0.0013803842646, max_depth=3, min_child_weight=1, n_estimators=823, reg_alpha=0.84, reg_lambda=0.33, subsample=1 \n",
      "[CV] colsample_bytree=1, gamma=0.54, learning_rate=0.0013803842646, max_depth=3, min_child_weight=1, n_estimators=823, reg_alpha=0.84, reg_lambda=0.33, subsample=1 \n",
      "[CV] colsample_bytree=1, gamma=0.21, learning_rate=0.00181970085861, max_depth=3, min_child_weight=2, n_estimators=617, reg_alpha=0.33, reg_lambda=0.85, subsample=1 \n",
      "[CV] colsample_bytree=1, gamma=0.21, learning_rate=0.00181970085861, max_depth=3, min_child_weight=2, n_estimators=617, reg_alpha=0.33, reg_lambda=0.85, subsample=1 \n"
     ]
    },
    {
     "ename": "KeyboardInterrupt",
     "evalue": "",
     "output_type": "error",
     "traceback": [
      "\u001b[0;31m---------------------------------------------------------------------------\u001b[0m",
      "\u001b[0;31mKeyboardInterrupt\u001b[0m                         Traceback (most recent call last)",
      "\u001b[0;32m<ipython-input-21-b663d6de08b4>\u001b[0m in \u001b[0;36m<module>\u001b[0;34m()\u001b[0m\n\u001b[0;32m----> 1\u001b[0;31m \u001b[0mclf\u001b[0m\u001b[0;34m.\u001b[0m\u001b[0mfit\u001b[0m\u001b[0;34m(\u001b[0m\u001b[0mX_train\u001b[0m\u001b[0;34m,\u001b[0m \u001b[0mY_train\u001b[0m\u001b[0;34m)\u001b[0m\u001b[0;34m\u001b[0m\u001b[0m\n\u001b[0m",
      "\u001b[0;32m/usr/lib64/python3.6/site-packages/sklearn/model_selection/_search.py\u001b[0m in \u001b[0;36mfit\u001b[0;34m(self, X, y, groups)\u001b[0m\n\u001b[1;32m   1188\u001b[0m                                           \u001b[0mself\u001b[0m\u001b[0;34m.\u001b[0m\u001b[0mn_iter\u001b[0m\u001b[0;34m,\u001b[0m\u001b[0;34m\u001b[0m\u001b[0m\n\u001b[1;32m   1189\u001b[0m                                           random_state=self.random_state)\n\u001b[0;32m-> 1190\u001b[0;31m         \u001b[0;32mreturn\u001b[0m \u001b[0mself\u001b[0m\u001b[0;34m.\u001b[0m\u001b[0m_fit\u001b[0m\u001b[0;34m(\u001b[0m\u001b[0mX\u001b[0m\u001b[0;34m,\u001b[0m \u001b[0my\u001b[0m\u001b[0;34m,\u001b[0m \u001b[0mgroups\u001b[0m\u001b[0;34m,\u001b[0m \u001b[0msampled_params\u001b[0m\u001b[0;34m)\u001b[0m\u001b[0;34m\u001b[0m\u001b[0m\n\u001b[0m",
      "\u001b[0;32m/usr/lib64/python3.6/site-packages/sklearn/model_selection/_search.py\u001b[0m in \u001b[0;36m_fit\u001b[0;34m(self, X, y, groups, parameter_iterable)\u001b[0m\n\u001b[1;32m    562\u001b[0m                                   \u001b[0mreturn_times\u001b[0m\u001b[0;34m=\u001b[0m\u001b[0;32mTrue\u001b[0m\u001b[0;34m,\u001b[0m \u001b[0mreturn_parameters\u001b[0m\u001b[0;34m=\u001b[0m\u001b[0;32mTrue\u001b[0m\u001b[0;34m,\u001b[0m\u001b[0;34m\u001b[0m\u001b[0m\n\u001b[1;32m    563\u001b[0m                                   error_score=self.error_score)\n\u001b[0;32m--> 564\u001b[0;31m           \u001b[0;32mfor\u001b[0m \u001b[0mparameters\u001b[0m \u001b[0;32min\u001b[0m \u001b[0mparameter_iterable\u001b[0m\u001b[0;34m\u001b[0m\u001b[0m\n\u001b[0m\u001b[1;32m    565\u001b[0m           for train, test in cv_iter)\n\u001b[1;32m    566\u001b[0m \u001b[0;34m\u001b[0m\u001b[0m\n",
      "\u001b[0;32m/usr/lib64/python3.6/site-packages/sklearn/externals/joblib/parallel.py\u001b[0m in \u001b[0;36m__call__\u001b[0;34m(self, iterable)\u001b[0m\n\u001b[1;32m    766\u001b[0m                 \u001b[0;31m# consumption.\u001b[0m\u001b[0;34m\u001b[0m\u001b[0;34m\u001b[0m\u001b[0m\n\u001b[1;32m    767\u001b[0m                 \u001b[0mself\u001b[0m\u001b[0;34m.\u001b[0m\u001b[0m_iterating\u001b[0m \u001b[0;34m=\u001b[0m \u001b[0;32mFalse\u001b[0m\u001b[0;34m\u001b[0m\u001b[0m\n\u001b[0;32m--> 768\u001b[0;31m             \u001b[0mself\u001b[0m\u001b[0;34m.\u001b[0m\u001b[0mretrieve\u001b[0m\u001b[0;34m(\u001b[0m\u001b[0;34m)\u001b[0m\u001b[0;34m\u001b[0m\u001b[0m\n\u001b[0m\u001b[1;32m    769\u001b[0m             \u001b[0;31m# Make sure that we get a last message telling us we are done\u001b[0m\u001b[0;34m\u001b[0m\u001b[0;34m\u001b[0m\u001b[0m\n\u001b[1;32m    770\u001b[0m             \u001b[0melapsed_time\u001b[0m \u001b[0;34m=\u001b[0m \u001b[0mtime\u001b[0m\u001b[0;34m.\u001b[0m\u001b[0mtime\u001b[0m\u001b[0;34m(\u001b[0m\u001b[0;34m)\u001b[0m \u001b[0;34m-\u001b[0m \u001b[0mself\u001b[0m\u001b[0;34m.\u001b[0m\u001b[0m_start_time\u001b[0m\u001b[0;34m\u001b[0m\u001b[0m\n",
      "\u001b[0;32m/usr/lib64/python3.6/site-packages/sklearn/externals/joblib/parallel.py\u001b[0m in \u001b[0;36mretrieve\u001b[0;34m(self)\u001b[0m\n\u001b[1;32m    717\u001b[0m                     \u001b[0mensure_ready\u001b[0m \u001b[0;34m=\u001b[0m \u001b[0mself\u001b[0m\u001b[0;34m.\u001b[0m\u001b[0m_managed_backend\u001b[0m\u001b[0;34m\u001b[0m\u001b[0m\n\u001b[1;32m    718\u001b[0m                     \u001b[0mbackend\u001b[0m\u001b[0;34m.\u001b[0m\u001b[0mabort_everything\u001b[0m\u001b[0;34m(\u001b[0m\u001b[0mensure_ready\u001b[0m\u001b[0;34m=\u001b[0m\u001b[0mensure_ready\u001b[0m\u001b[0;34m)\u001b[0m\u001b[0;34m\u001b[0m\u001b[0m\n\u001b[0;32m--> 719\u001b[0;31m                 \u001b[0;32mraise\u001b[0m \u001b[0mexception\u001b[0m\u001b[0;34m\u001b[0m\u001b[0m\n\u001b[0m\u001b[1;32m    720\u001b[0m \u001b[0;34m\u001b[0m\u001b[0m\n\u001b[1;32m    721\u001b[0m     \u001b[0;32mdef\u001b[0m \u001b[0m__call__\u001b[0m\u001b[0;34m(\u001b[0m\u001b[0mself\u001b[0m\u001b[0;34m,\u001b[0m \u001b[0miterable\u001b[0m\u001b[0;34m)\u001b[0m\u001b[0;34m:\u001b[0m\u001b[0;34m\u001b[0m\u001b[0m\n",
      "\u001b[0;32m/usr/lib64/python3.6/site-packages/sklearn/externals/joblib/parallel.py\u001b[0m in \u001b[0;36mretrieve\u001b[0;34m(self)\u001b[0m\n\u001b[1;32m    680\u001b[0m                 \u001b[0;31m# check if timeout supported in backend future implementation\u001b[0m\u001b[0;34m\u001b[0m\u001b[0;34m\u001b[0m\u001b[0m\n\u001b[1;32m    681\u001b[0m                 \u001b[0;32mif\u001b[0m \u001b[0;34m'timeout'\u001b[0m \u001b[0;32min\u001b[0m \u001b[0mgetfullargspec\u001b[0m\u001b[0;34m(\u001b[0m\u001b[0mjob\u001b[0m\u001b[0;34m.\u001b[0m\u001b[0mget\u001b[0m\u001b[0;34m)\u001b[0m\u001b[0;34m.\u001b[0m\u001b[0margs\u001b[0m\u001b[0;34m:\u001b[0m\u001b[0;34m\u001b[0m\u001b[0m\n\u001b[0;32m--> 682\u001b[0;31m                     \u001b[0mself\u001b[0m\u001b[0;34m.\u001b[0m\u001b[0m_output\u001b[0m\u001b[0;34m.\u001b[0m\u001b[0mextend\u001b[0m\u001b[0;34m(\u001b[0m\u001b[0mjob\u001b[0m\u001b[0;34m.\u001b[0m\u001b[0mget\u001b[0m\u001b[0;34m(\u001b[0m\u001b[0mtimeout\u001b[0m\u001b[0;34m=\u001b[0m\u001b[0mself\u001b[0m\u001b[0;34m.\u001b[0m\u001b[0mtimeout\u001b[0m\u001b[0;34m)\u001b[0m\u001b[0;34m)\u001b[0m\u001b[0;34m\u001b[0m\u001b[0m\n\u001b[0m\u001b[1;32m    683\u001b[0m                 \u001b[0;32melse\u001b[0m\u001b[0;34m:\u001b[0m\u001b[0;34m\u001b[0m\u001b[0m\n\u001b[1;32m    684\u001b[0m                     \u001b[0mself\u001b[0m\u001b[0;34m.\u001b[0m\u001b[0m_output\u001b[0m\u001b[0;34m.\u001b[0m\u001b[0mextend\u001b[0m\u001b[0;34m(\u001b[0m\u001b[0mjob\u001b[0m\u001b[0;34m.\u001b[0m\u001b[0mget\u001b[0m\u001b[0;34m(\u001b[0m\u001b[0;34m)\u001b[0m\u001b[0;34m)\u001b[0m\u001b[0;34m\u001b[0m\u001b[0m\n",
      "\u001b[0;32m/usr/lib64/python3.6/multiprocessing/pool.py\u001b[0m in \u001b[0;36mget\u001b[0;34m(self, timeout)\u001b[0m\n\u001b[1;32m    636\u001b[0m \u001b[0;34m\u001b[0m\u001b[0m\n\u001b[1;32m    637\u001b[0m     \u001b[0;32mdef\u001b[0m \u001b[0mget\u001b[0m\u001b[0;34m(\u001b[0m\u001b[0mself\u001b[0m\u001b[0;34m,\u001b[0m \u001b[0mtimeout\u001b[0m\u001b[0;34m=\u001b[0m\u001b[0;32mNone\u001b[0m\u001b[0;34m)\u001b[0m\u001b[0;34m:\u001b[0m\u001b[0;34m\u001b[0m\u001b[0m\n\u001b[0;32m--> 638\u001b[0;31m         \u001b[0mself\u001b[0m\u001b[0;34m.\u001b[0m\u001b[0mwait\u001b[0m\u001b[0;34m(\u001b[0m\u001b[0mtimeout\u001b[0m\u001b[0;34m)\u001b[0m\u001b[0;34m\u001b[0m\u001b[0m\n\u001b[0m\u001b[1;32m    639\u001b[0m         \u001b[0;32mif\u001b[0m \u001b[0;32mnot\u001b[0m \u001b[0mself\u001b[0m\u001b[0;34m.\u001b[0m\u001b[0mready\u001b[0m\u001b[0;34m(\u001b[0m\u001b[0;34m)\u001b[0m\u001b[0;34m:\u001b[0m\u001b[0;34m\u001b[0m\u001b[0m\n\u001b[1;32m    640\u001b[0m             \u001b[0;32mraise\u001b[0m \u001b[0mTimeoutError\u001b[0m\u001b[0;34m\u001b[0m\u001b[0m\n",
      "\u001b[0;32m/usr/lib64/python3.6/multiprocessing/pool.py\u001b[0m in \u001b[0;36mwait\u001b[0;34m(self, timeout)\u001b[0m\n\u001b[1;32m    633\u001b[0m \u001b[0;34m\u001b[0m\u001b[0m\n\u001b[1;32m    634\u001b[0m     \u001b[0;32mdef\u001b[0m \u001b[0mwait\u001b[0m\u001b[0;34m(\u001b[0m\u001b[0mself\u001b[0m\u001b[0;34m,\u001b[0m \u001b[0mtimeout\u001b[0m\u001b[0;34m=\u001b[0m\u001b[0;32mNone\u001b[0m\u001b[0;34m)\u001b[0m\u001b[0;34m:\u001b[0m\u001b[0;34m\u001b[0m\u001b[0m\n\u001b[0;32m--> 635\u001b[0;31m         \u001b[0mself\u001b[0m\u001b[0;34m.\u001b[0m\u001b[0m_event\u001b[0m\u001b[0;34m.\u001b[0m\u001b[0mwait\u001b[0m\u001b[0;34m(\u001b[0m\u001b[0mtimeout\u001b[0m\u001b[0;34m)\u001b[0m\u001b[0;34m\u001b[0m\u001b[0m\n\u001b[0m\u001b[1;32m    636\u001b[0m \u001b[0;34m\u001b[0m\u001b[0m\n\u001b[1;32m    637\u001b[0m     \u001b[0;32mdef\u001b[0m \u001b[0mget\u001b[0m\u001b[0;34m(\u001b[0m\u001b[0mself\u001b[0m\u001b[0;34m,\u001b[0m \u001b[0mtimeout\u001b[0m\u001b[0;34m=\u001b[0m\u001b[0;32mNone\u001b[0m\u001b[0;34m)\u001b[0m\u001b[0;34m:\u001b[0m\u001b[0;34m\u001b[0m\u001b[0m\n",
      "\u001b[0;32m/usr/lib64/python3.6/threading.py\u001b[0m in \u001b[0;36mwait\u001b[0;34m(self, timeout)\u001b[0m\n\u001b[1;32m    549\u001b[0m             \u001b[0msignaled\u001b[0m \u001b[0;34m=\u001b[0m \u001b[0mself\u001b[0m\u001b[0;34m.\u001b[0m\u001b[0m_flag\u001b[0m\u001b[0;34m\u001b[0m\u001b[0m\n\u001b[1;32m    550\u001b[0m             \u001b[0;32mif\u001b[0m \u001b[0;32mnot\u001b[0m \u001b[0msignaled\u001b[0m\u001b[0;34m:\u001b[0m\u001b[0;34m\u001b[0m\u001b[0m\n\u001b[0;32m--> 551\u001b[0;31m                 \u001b[0msignaled\u001b[0m \u001b[0;34m=\u001b[0m \u001b[0mself\u001b[0m\u001b[0;34m.\u001b[0m\u001b[0m_cond\u001b[0m\u001b[0;34m.\u001b[0m\u001b[0mwait\u001b[0m\u001b[0;34m(\u001b[0m\u001b[0mtimeout\u001b[0m\u001b[0;34m)\u001b[0m\u001b[0;34m\u001b[0m\u001b[0m\n\u001b[0m\u001b[1;32m    552\u001b[0m             \u001b[0;32mreturn\u001b[0m \u001b[0msignaled\u001b[0m\u001b[0;34m\u001b[0m\u001b[0m\n\u001b[1;32m    553\u001b[0m \u001b[0;34m\u001b[0m\u001b[0m\n",
      "\u001b[0;32m/usr/lib64/python3.6/threading.py\u001b[0m in \u001b[0;36mwait\u001b[0;34m(self, timeout)\u001b[0m\n\u001b[1;32m    293\u001b[0m         \u001b[0;32mtry\u001b[0m\u001b[0;34m:\u001b[0m    \u001b[0;31m# restore state no matter what (e.g., KeyboardInterrupt)\u001b[0m\u001b[0;34m\u001b[0m\u001b[0m\n\u001b[1;32m    294\u001b[0m             \u001b[0;32mif\u001b[0m \u001b[0mtimeout\u001b[0m \u001b[0;32mis\u001b[0m \u001b[0;32mNone\u001b[0m\u001b[0;34m:\u001b[0m\u001b[0;34m\u001b[0m\u001b[0m\n\u001b[0;32m--> 295\u001b[0;31m                 \u001b[0mwaiter\u001b[0m\u001b[0;34m.\u001b[0m\u001b[0macquire\u001b[0m\u001b[0;34m(\u001b[0m\u001b[0;34m)\u001b[0m\u001b[0;34m\u001b[0m\u001b[0m\n\u001b[0m\u001b[1;32m    296\u001b[0m                 \u001b[0mgotit\u001b[0m \u001b[0;34m=\u001b[0m \u001b[0;32mTrue\u001b[0m\u001b[0;34m\u001b[0m\u001b[0m\n\u001b[1;32m    297\u001b[0m             \u001b[0;32melse\u001b[0m\u001b[0;34m:\u001b[0m\u001b[0;34m\u001b[0m\u001b[0m\n",
      "\u001b[0;31mKeyboardInterrupt\u001b[0m: "
     ]
    }
   ],
   "source": [
    "clf.fit(X_train, Y_train)"
   ]
  },
  {
   "cell_type": "code",
   "execution_count": 102,
   "metadata": {
    "scrolled": false
   },
   "outputs": [
    {
     "name": "stdout",
     "output_type": "stream",
     "text": [
      "Raw AUC score: 0.789172634049\n",
      "colsample_bytree: 1\n",
      "gamma: 0.02\n",
      "learning_rate: 0.017782794100388136\n",
      "max_depth: 4\n",
      "min_child_weight: 1\n",
      "n_estimators: 264\n",
      "reg_alpha: 0.029999999999999999\n",
      "reg_lambda: 0.46000000000000002\n",
      "subsample: 1\n"
     ]
    },
    {
     "name": "stderr",
     "output_type": "stream",
     "text": [
      "/usr/lib64/python3.6/site-packages/sklearn/model_selection/_search.py:667: DeprecationWarning: The grid_scores_ attribute was deprecated in version 0.18 in favor of the more elaborate cv_results_ attribute. The grid_scores_ attribute will not be available from 0.20\n",
      "  DeprecationWarning)\n"
     ]
    },
    {
     "ename": "ValueError",
     "evalue": "feature_names mismatch: ['f0', 'f1', 'f2', 'f3', 'f4', 'f5', 'f6', 'f7', 'f8', 'f9', 'f10', 'f11', 'f12', 'f13', 'f14', 'f15', 'f16', 'f17', 'f18', 'f19', 'f20', 'f21', 'f22', 'f23', 'f24', 'f25', 'f26', 'f27', 'f28', 'f29', 'f30', 'f31', 'f32', 'f33', 'f34', 'f35', 'f36', 'f37', 'f38', 'f39', 'f40', 'f41', 'f42', 'f43', 'f44', 'f45', 'f46', 'f47'] ['f0', 'f1', 'f2', 'f3', 'f4', 'f5', 'f6', 'f7', 'f8', 'f9', 'f10', 'f11', 'f12', 'f13', 'f14', 'f15', 'f16', 'f17', 'f18', 'f19', 'f20', 'f21', 'f22', 'f23', 'f24', 'f25', 'f26', 'f27', 'f28', 'f29', 'f30', 'f31', 'f32', 'f33', 'f34', 'f35', 'f36', 'f37', 'f38', 'f39', 'f40', 'f41']\nexpected f46, f47, f45, f42, f44, f43 in input data",
     "output_type": "error",
     "traceback": [
      "\u001b[0;31m---------------------------------------------------------------------------\u001b[0m",
      "\u001b[0;31mValueError\u001b[0m                                Traceback (most recent call last)",
      "\u001b[0;32m<ipython-input-102-c85b4da2b022>\u001b[0m in \u001b[0;36m<module>\u001b[0;34m()\u001b[0m\n\u001b[1;32m      6\u001b[0m     \u001b[0mprint\u001b[0m\u001b[0;34m(\u001b[0m\u001b[0;34m\"%s: %r\"\u001b[0m \u001b[0;34m%\u001b[0m \u001b[0;34m(\u001b[0m\u001b[0mparam_name\u001b[0m\u001b[0;34m,\u001b[0m \u001b[0mbest_parameters\u001b[0m\u001b[0;34m[\u001b[0m\u001b[0mparam_name\u001b[0m\u001b[0;34m]\u001b[0m\u001b[0;34m)\u001b[0m\u001b[0;34m)\u001b[0m\u001b[0;34m\u001b[0m\u001b[0m\n\u001b[1;32m      7\u001b[0m \u001b[0;34m\u001b[0m\u001b[0m\n\u001b[0;32m----> 8\u001b[0;31m \u001b[0mtest_probs\u001b[0m \u001b[0;34m=\u001b[0m \u001b[0mclf\u001b[0m\u001b[0;34m.\u001b[0m\u001b[0mpredict_proba\u001b[0m\u001b[0;34m(\u001b[0m\u001b[0mX_test\u001b[0m\u001b[0;34m.\u001b[0m\u001b[0mas_matrix\u001b[0m\u001b[0;34m(\u001b[0m\u001b[0;34m)\u001b[0m\u001b[0;34m)\u001b[0m\u001b[0;34m[\u001b[0m\u001b[0;34m:\u001b[0m\u001b[0;34m,\u001b[0m\u001b[0;36m1\u001b[0m\u001b[0;34m]\u001b[0m\u001b[0;34m\u001b[0m\u001b[0m\n\u001b[0m",
      "\u001b[0;32m/usr/lib64/python3.6/site-packages/sklearn/utils/metaestimators.py\u001b[0m in \u001b[0;36m<lambda>\u001b[0;34m(*args, **kwargs)\u001b[0m\n\u001b[1;32m     52\u001b[0m \u001b[0;34m\u001b[0m\u001b[0m\n\u001b[1;32m     53\u001b[0m         \u001b[0;31m# lambda, but not partial, allows help() to work with update_wrapper\u001b[0m\u001b[0;34m\u001b[0m\u001b[0;34m\u001b[0m\u001b[0m\n\u001b[0;32m---> 54\u001b[0;31m         \u001b[0mout\u001b[0m \u001b[0;34m=\u001b[0m \u001b[0;32mlambda\u001b[0m \u001b[0;34m*\u001b[0m\u001b[0margs\u001b[0m\u001b[0;34m,\u001b[0m \u001b[0;34m**\u001b[0m\u001b[0mkwargs\u001b[0m\u001b[0;34m:\u001b[0m \u001b[0mself\u001b[0m\u001b[0;34m.\u001b[0m\u001b[0mfn\u001b[0m\u001b[0;34m(\u001b[0m\u001b[0mobj\u001b[0m\u001b[0;34m,\u001b[0m \u001b[0;34m*\u001b[0m\u001b[0margs\u001b[0m\u001b[0;34m,\u001b[0m \u001b[0;34m**\u001b[0m\u001b[0mkwargs\u001b[0m\u001b[0;34m)\u001b[0m\u001b[0;34m\u001b[0m\u001b[0m\n\u001b[0m\u001b[1;32m     55\u001b[0m         \u001b[0;31m# update the docstring of the returned function\u001b[0m\u001b[0;34m\u001b[0m\u001b[0;34m\u001b[0m\u001b[0m\n\u001b[1;32m     56\u001b[0m         \u001b[0mupdate_wrapper\u001b[0m\u001b[0;34m(\u001b[0m\u001b[0mout\u001b[0m\u001b[0;34m,\u001b[0m \u001b[0mself\u001b[0m\u001b[0;34m.\u001b[0m\u001b[0mfn\u001b[0m\u001b[0;34m)\u001b[0m\u001b[0;34m\u001b[0m\u001b[0m\n",
      "\u001b[0;32m/usr/lib64/python3.6/site-packages/sklearn/model_selection/_search.py\u001b[0m in \u001b[0;36mpredict_proba\u001b[0;34m(self, X)\u001b[0m\n\u001b[1;32m    463\u001b[0m         \"\"\"\n\u001b[1;32m    464\u001b[0m         \u001b[0mself\u001b[0m\u001b[0;34m.\u001b[0m\u001b[0m_check_is_fitted\u001b[0m\u001b[0;34m(\u001b[0m\u001b[0;34m'predict_proba'\u001b[0m\u001b[0;34m)\u001b[0m\u001b[0;34m\u001b[0m\u001b[0m\n\u001b[0;32m--> 465\u001b[0;31m         \u001b[0;32mreturn\u001b[0m \u001b[0mself\u001b[0m\u001b[0;34m.\u001b[0m\u001b[0mbest_estimator_\u001b[0m\u001b[0;34m.\u001b[0m\u001b[0mpredict_proba\u001b[0m\u001b[0;34m(\u001b[0m\u001b[0mX\u001b[0m\u001b[0;34m)\u001b[0m\u001b[0;34m\u001b[0m\u001b[0m\n\u001b[0m\u001b[1;32m    466\u001b[0m \u001b[0;34m\u001b[0m\u001b[0m\n\u001b[1;32m    467\u001b[0m     \u001b[0;34m@\u001b[0m\u001b[0mif_delegate_has_method\u001b[0m\u001b[0;34m(\u001b[0m\u001b[0mdelegate\u001b[0m\u001b[0;34m=\u001b[0m\u001b[0;34m(\u001b[0m\u001b[0;34m'best_estimator_'\u001b[0m\u001b[0;34m,\u001b[0m \u001b[0;34m'estimator'\u001b[0m\u001b[0;34m)\u001b[0m\u001b[0;34m)\u001b[0m\u001b[0;34m\u001b[0m\u001b[0m\n",
      "\u001b[0;32m~/Repos/xgboost/python-package/xgboost/sklearn.py\u001b[0m in \u001b[0;36mpredict_proba\u001b[0;34m(self, data, output_margin, ntree_limit)\u001b[0m\n\u001b[1;32m    537\u001b[0m         class_probs = self.get_booster().predict(test_dmatrix,\n\u001b[1;32m    538\u001b[0m                                                  \u001b[0moutput_margin\u001b[0m\u001b[0;34m=\u001b[0m\u001b[0moutput_margin\u001b[0m\u001b[0;34m,\u001b[0m\u001b[0;34m\u001b[0m\u001b[0m\n\u001b[0;32m--> 539\u001b[0;31m                                                  ntree_limit=ntree_limit)\n\u001b[0m\u001b[1;32m    540\u001b[0m         \u001b[0;32mif\u001b[0m \u001b[0mself\u001b[0m\u001b[0;34m.\u001b[0m\u001b[0mobjective\u001b[0m \u001b[0;34m==\u001b[0m \u001b[0;34m\"multi:softprob\"\u001b[0m\u001b[0;34m:\u001b[0m\u001b[0;34m\u001b[0m\u001b[0m\n\u001b[1;32m    541\u001b[0m             \u001b[0;32mreturn\u001b[0m \u001b[0mclass_probs\u001b[0m\u001b[0;34m\u001b[0m\u001b[0m\n",
      "\u001b[0;32m~/Repos/xgboost/python-package/xgboost/core.py\u001b[0m in \u001b[0;36mpredict\u001b[0;34m(self, data, output_margin, ntree_limit, pred_leaf, pred_contribs, approx_contribs)\u001b[0m\n\u001b[1;32m   1042\u001b[0m             \u001b[0moption_mask\u001b[0m \u001b[0;34m|=\u001b[0m \u001b[0;36m0x08\u001b[0m\u001b[0;34m\u001b[0m\u001b[0m\n\u001b[1;32m   1043\u001b[0m \u001b[0;34m\u001b[0m\u001b[0m\n\u001b[0;32m-> 1044\u001b[0;31m         \u001b[0mself\u001b[0m\u001b[0;34m.\u001b[0m\u001b[0m_validate_features\u001b[0m\u001b[0;34m(\u001b[0m\u001b[0mdata\u001b[0m\u001b[0;34m)\u001b[0m\u001b[0;34m\u001b[0m\u001b[0m\n\u001b[0m\u001b[1;32m   1045\u001b[0m \u001b[0;34m\u001b[0m\u001b[0m\n\u001b[1;32m   1046\u001b[0m         \u001b[0mlength\u001b[0m \u001b[0;34m=\u001b[0m \u001b[0mc_bst_ulong\u001b[0m\u001b[0;34m(\u001b[0m\u001b[0;34m)\u001b[0m\u001b[0;34m\u001b[0m\u001b[0m\n",
      "\u001b[0;32m~/Repos/xgboost/python-package/xgboost/core.py\u001b[0m in \u001b[0;36m_validate_features\u001b[0;34m(self, data)\u001b[0m\n\u001b[1;32m   1286\u001b[0m \u001b[0;34m\u001b[0m\u001b[0m\n\u001b[1;32m   1287\u001b[0m                 raise ValueError(msg.format(self.feature_names,\n\u001b[0;32m-> 1288\u001b[0;31m                                             data.feature_names))\n\u001b[0m\u001b[1;32m   1289\u001b[0m \u001b[0;34m\u001b[0m\u001b[0m\n\u001b[1;32m   1290\u001b[0m     \u001b[0;32mdef\u001b[0m \u001b[0mget_split_value_histogram\u001b[0m\u001b[0;34m(\u001b[0m\u001b[0mself\u001b[0m\u001b[0;34m,\u001b[0m \u001b[0mfeature\u001b[0m\u001b[0;34m,\u001b[0m \u001b[0mfmap\u001b[0m\u001b[0;34m=\u001b[0m\u001b[0;34m''\u001b[0m\u001b[0;34m,\u001b[0m \u001b[0mbins\u001b[0m\u001b[0;34m=\u001b[0m\u001b[0;32mNone\u001b[0m\u001b[0;34m,\u001b[0m \u001b[0mas_pandas\u001b[0m\u001b[0;34m=\u001b[0m\u001b[0;32mTrue\u001b[0m\u001b[0;34m)\u001b[0m\u001b[0;34m:\u001b[0m\u001b[0;34m\u001b[0m\u001b[0m\n",
      "\u001b[0;31mValueError\u001b[0m: feature_names mismatch: ['f0', 'f1', 'f2', 'f3', 'f4', 'f5', 'f6', 'f7', 'f8', 'f9', 'f10', 'f11', 'f12', 'f13', 'f14', 'f15', 'f16', 'f17', 'f18', 'f19', 'f20', 'f21', 'f22', 'f23', 'f24', 'f25', 'f26', 'f27', 'f28', 'f29', 'f30', 'f31', 'f32', 'f33', 'f34', 'f35', 'f36', 'f37', 'f38', 'f39', 'f40', 'f41', 'f42', 'f43', 'f44', 'f45', 'f46', 'f47'] ['f0', 'f1', 'f2', 'f3', 'f4', 'f5', 'f6', 'f7', 'f8', 'f9', 'f10', 'f11', 'f12', 'f13', 'f14', 'f15', 'f16', 'f17', 'f18', 'f19', 'f20', 'f21', 'f22', 'f23', 'f24', 'f25', 'f26', 'f27', 'f28', 'f29', 'f30', 'f31', 'f32', 'f33', 'f34', 'f35', 'f36', 'f37', 'f38', 'f39', 'f40', 'f41']\nexpected f46, f47, f45, f42, f44, f43 in input data"
     ]
    }
   ],
   "source": [
    "\n",
    "#trust your CV!\n",
    "best_parameters, score, _ = max(clf.grid_scores_, key=lambda x: x[1])\n",
    "print('Raw AUC score:', score)\n",
    "for param_name in sorted(best_parameters.keys()):\n",
    "    print(\"%s: %r\" % (param_name, best_parameters[param_name]))\n",
    "\n",
    "test_probs = clf.predict_proba(X_test.as_matrix())[:,1]"
   ]
  },
  {
   "cell_type": "code",
   "execution_count": null,
   "metadata": {
    "collapsed": true,
    "scrolled": true
   },
   "outputs": [],
   "source": [
    "clf.grid_scores_"
   ]
  },
  {
   "cell_type": "code",
   "execution_count": 103,
   "metadata": {
    "scrolled": true
   },
   "outputs": [
    {
     "name": "stdout",
     "output_type": "stream",
     "text": [
      "Fitting 6 folds for each of 25 candidates, totalling 150 fits\n",
      "[CV] colsample_bytree=1, gamma=2.21, learning_rate=0.00251188643151, max_depth=5, min_child_weight=4, n_estimators=249, reg_alpha=0.21, reg_lambda=0.85, subsample=1 \n",
      "[CV] colsample_bytree=1, gamma=2.21, learning_rate=0.00251188643151, max_depth=5, min_child_weight=4, n_estimators=249, reg_alpha=0.21, reg_lambda=0.85, subsample=1 \n",
      "[CV] colsample_bytree=1, gamma=2.21, learning_rate=0.00251188643151, max_depth=5, min_child_weight=4, n_estimators=249, reg_alpha=0.21, reg_lambda=0.85, subsample=1 \n",
      "[CV] colsample_bytree=1, gamma=2.21, learning_rate=0.00251188643151, max_depth=5, min_child_weight=4, n_estimators=249, reg_alpha=0.21, reg_lambda=0.85, subsample=1 \n",
      "[CV] colsample_bytree=1, gamma=2.21, learning_rate=0.00251188643151, max_depth=5, min_child_weight=4, n_estimators=249, reg_alpha=0.21, reg_lambda=0.85, subsample=1 \n",
      "[CV] colsample_bytree=1, gamma=2.21, learning_rate=0.00251188643151, max_depth=5, min_child_weight=4, n_estimators=249, reg_alpha=0.21, reg_lambda=0.85, subsample=1 \n",
      "[CV] colsample_bytree=1, gamma=3.14, learning_rate=0.00309029543251, max_depth=5, min_child_weight=4, n_estimators=225, reg_alpha=0.69, reg_lambda=0.84, subsample=1 \n",
      "[CV] colsample_bytree=1, gamma=3.14, learning_rate=0.00309029543251, max_depth=5, min_child_weight=4, n_estimators=225, reg_alpha=0.69, reg_lambda=0.84, subsample=1 \n",
      "[CV]  colsample_bytree=1, gamma=3.14, learning_rate=0.00309029543251, max_depth=5, min_child_weight=4, n_estimators=225, reg_alpha=0.69, reg_lambda=0.84, subsample=1, score=0.772084, total=   9.9s\n",
      "[CV] colsample_bytree=1, gamma=3.14, learning_rate=0.00309029543251, max_depth=5, min_child_weight=4, n_estimators=225, reg_alpha=0.69, reg_lambda=0.84, subsample=1 \n",
      "[CV]  colsample_bytree=1, gamma=3.14, learning_rate=0.00309029543251, max_depth=5, min_child_weight=4, n_estimators=225, reg_alpha=0.69, reg_lambda=0.84, subsample=1, score=0.764094, total=  10.1s\n",
      "[CV] colsample_bytree=1, gamma=3.14, learning_rate=0.00309029543251, max_depth=5, min_child_weight=4, n_estimators=225, reg_alpha=0.69, reg_lambda=0.84, subsample=1 \n",
      "[CV]  colsample_bytree=1, gamma=2.21, learning_rate=0.00251188643151, max_depth=5, min_child_weight=4, n_estimators=249, reg_alpha=0.21, reg_lambda=0.85, subsample=1, score=0.783890, total=  10.8s\n",
      "[CV] colsample_bytree=1, gamma=3.14, learning_rate=0.00309029543251, max_depth=5, min_child_weight=4, n_estimators=225, reg_alpha=0.69, reg_lambda=0.84, subsample=1 \n",
      "[CV]  colsample_bytree=1, gamma=2.21, learning_rate=0.00251188643151, max_depth=5, min_child_weight=4, n_estimators=249, reg_alpha=0.21, reg_lambda=0.85, subsample=1, score=0.766064, total=  11.1s\n",
      "[CV] colsample_bytree=1, gamma=3.14, learning_rate=0.00309029543251, max_depth=5, min_child_weight=4, n_estimators=225, reg_alpha=0.69, reg_lambda=0.84, subsample=1 \n",
      "[CV]  colsample_bytree=1, gamma=2.21, learning_rate=0.00251188643151, max_depth=5, min_child_weight=4, n_estimators=249, reg_alpha=0.21, reg_lambda=0.85, subsample=1, score=0.791234, total=  11.3s\n",
      "[CV] colsample_bytree=1, gamma=2.47, learning_rate=0.0056234132519, max_depth=4, min_child_weight=3, n_estimators=877, reg_alpha=0.61, reg_lambda=0.98, subsample=1 \n",
      "[CV]  colsample_bytree=1, gamma=2.21, learning_rate=0.00251188643151, max_depth=5, min_child_weight=4, n_estimators=249, reg_alpha=0.21, reg_lambda=0.85, subsample=1, score=0.771555, total=  11.3s\n",
      "[CV] colsample_bytree=1, gamma=2.47, learning_rate=0.0056234132519, max_depth=4, min_child_weight=3, n_estimators=877, reg_alpha=0.61, reg_lambda=0.98, subsample=1 \n",
      "[CV]  colsample_bytree=1, gamma=2.21, learning_rate=0.00251188643151, max_depth=5, min_child_weight=4, n_estimators=249, reg_alpha=0.21, reg_lambda=0.85, subsample=1, score=0.793081, total=  11.3s\n",
      "[CV] colsample_bytree=1, gamma=2.47, learning_rate=0.0056234132519, max_depth=4, min_child_weight=3, n_estimators=877, reg_alpha=0.61, reg_lambda=0.98, subsample=1 \n",
      "[CV]  colsample_bytree=1, gamma=2.21, learning_rate=0.00251188643151, max_depth=5, min_child_weight=4, n_estimators=249, reg_alpha=0.21, reg_lambda=0.85, subsample=1, score=0.788878, total=  12.0s\n",
      "[CV] colsample_bytree=1, gamma=2.47, learning_rate=0.0056234132519, max_depth=4, min_child_weight=3, n_estimators=877, reg_alpha=0.61, reg_lambda=0.98, subsample=1 \n",
      "[CV]  colsample_bytree=1, gamma=3.14, learning_rate=0.00309029543251, max_depth=5, min_child_weight=4, n_estimators=225, reg_alpha=0.69, reg_lambda=0.84, subsample=1, score=0.793018, total=  10.0s\n",
      "[CV] colsample_bytree=1, gamma=2.47, learning_rate=0.0056234132519, max_depth=4, min_child_weight=3, n_estimators=877, reg_alpha=0.61, reg_lambda=0.98, subsample=1 \n",
      "[CV]  colsample_bytree=1, gamma=3.14, learning_rate=0.00309029543251, max_depth=5, min_child_weight=4, n_estimators=225, reg_alpha=0.69, reg_lambda=0.84, subsample=1, score=0.792467, total=   9.9s\n",
      "[CV] colsample_bytree=1, gamma=2.47, learning_rate=0.0056234132519, max_depth=4, min_child_weight=3, n_estimators=877, reg_alpha=0.61, reg_lambda=0.98, subsample=1 \n",
      "[CV]  colsample_bytree=1, gamma=3.14, learning_rate=0.00309029543251, max_depth=5, min_child_weight=4, n_estimators=225, reg_alpha=0.69, reg_lambda=0.84, subsample=1, score=0.790926, total=  11.2s\n",
      "[CV] colsample_bytree=1, gamma=2.55, learning_rate=0.00109647819614, max_depth=5, min_child_weight=1, n_estimators=916, reg_alpha=0.22, reg_lambda=0.71, subsample=1 \n",
      "[CV]  colsample_bytree=1, gamma=3.14, learning_rate=0.00309029543251, max_depth=5, min_child_weight=4, n_estimators=225, reg_alpha=0.69, reg_lambda=0.84, subsample=1, score=0.784070, total=  11.1s\n",
      "[CV] colsample_bytree=1, gamma=2.55, learning_rate=0.00109647819614, max_depth=5, min_child_weight=1, n_estimators=916, reg_alpha=0.22, reg_lambda=0.71, subsample=1 \n",
      "[CV]  colsample_bytree=1, gamma=2.47, learning_rate=0.0056234132519, max_depth=4, min_child_weight=3, n_estimators=877, reg_alpha=0.61, reg_lambda=0.98, subsample=1, score=0.772532, total=  30.5s\n",
      "[CV] colsample_bytree=1, gamma=2.55, learning_rate=0.00109647819614, max_depth=5, min_child_weight=1, n_estimators=916, reg_alpha=0.22, reg_lambda=0.71, subsample=1 \n",
      "[CV]  colsample_bytree=1, gamma=2.47, learning_rate=0.0056234132519, max_depth=4, min_child_weight=3, n_estimators=877, reg_alpha=0.61, reg_lambda=0.98, subsample=1, score=0.799921, total=  31.3s\n",
      "[CV] colsample_bytree=1, gamma=2.55, learning_rate=0.00109647819614, max_depth=5, min_child_weight=1, n_estimators=916, reg_alpha=0.22, reg_lambda=0.71, subsample=1 \n",
      "[CV]  colsample_bytree=1, gamma=2.47, learning_rate=0.0056234132519, max_depth=4, min_child_weight=3, n_estimators=877, reg_alpha=0.61, reg_lambda=0.98, subsample=1, score=0.778635, total=  31.6s\n",
      "[CV] colsample_bytree=1, gamma=2.55, learning_rate=0.00109647819614, max_depth=5, min_child_weight=1, n_estimators=916, reg_alpha=0.22, reg_lambda=0.71, subsample=1 \n",
      "[CV]  colsample_bytree=1, gamma=2.47, learning_rate=0.0056234132519, max_depth=4, min_child_weight=3, n_estimators=877, reg_alpha=0.61, reg_lambda=0.98, subsample=1, score=0.790284, total=  31.9s\n",
      "[CV] colsample_bytree=1, gamma=2.55, learning_rate=0.00109647819614, max_depth=5, min_child_weight=1, n_estimators=916, reg_alpha=0.22, reg_lambda=0.71, subsample=1 \n"
     ]
    },
    {
     "name": "stderr",
     "output_type": "stream",
     "text": [
      "[Parallel(n_jobs=-1)]: Done  16 tasks      | elapsed:   45.1s\n"
     ]
    },
    {
     "name": "stdout",
     "output_type": "stream",
     "text": [
      "[CV]  colsample_bytree=1, gamma=2.47, learning_rate=0.0056234132519, max_depth=4, min_child_weight=3, n_estimators=877, reg_alpha=0.61, reg_lambda=0.98, subsample=1, score=0.792875, total=  30.2s\n",
      "[CV] colsample_bytree=1, gamma=2.84, learning_rate=0.00239883291902, max_depth=7, min_child_weight=2, n_estimators=636, reg_alpha=0.82, reg_lambda=0.79, subsample=1 \n",
      "[CV]  colsample_bytree=1, gamma=2.47, learning_rate=0.0056234132519, max_depth=4, min_child_weight=3, n_estimators=877, reg_alpha=0.61, reg_lambda=0.98, subsample=1, score=0.799096, total=  31.9s\n",
      "[CV] colsample_bytree=1, gamma=2.84, learning_rate=0.00239883291902, max_depth=7, min_child_weight=2, n_estimators=636, reg_alpha=0.82, reg_lambda=0.79, subsample=1 \n",
      "[CV]  colsample_bytree=1, gamma=2.55, learning_rate=0.00109647819614, max_depth=5, min_child_weight=1, n_estimators=916, reg_alpha=0.22, reg_lambda=0.71, subsample=1, score=0.771768, total=  39.9s\n",
      "[CV] colsample_bytree=1, gamma=2.84, learning_rate=0.00239883291902, max_depth=7, min_child_weight=2, n_estimators=636, reg_alpha=0.82, reg_lambda=0.79, subsample=1 \n",
      "[CV]  colsample_bytree=1, gamma=2.55, learning_rate=0.00109647819614, max_depth=5, min_child_weight=1, n_estimators=916, reg_alpha=0.22, reg_lambda=0.71, subsample=1, score=0.769328, total=  40.1s\n",
      "[CV] colsample_bytree=1, gamma=2.84, learning_rate=0.00239883291902, max_depth=7, min_child_weight=2, n_estimators=636, reg_alpha=0.82, reg_lambda=0.79, subsample=1 \n",
      "[CV]  colsample_bytree=1, gamma=2.55, learning_rate=0.00109647819614, max_depth=5, min_child_weight=1, n_estimators=916, reg_alpha=0.22, reg_lambda=0.71, subsample=1, score=0.791044, total=  41.8s\n",
      "[CV] colsample_bytree=1, gamma=2.84, learning_rate=0.00239883291902, max_depth=7, min_child_weight=2, n_estimators=636, reg_alpha=0.82, reg_lambda=0.79, subsample=1 \n",
      "[CV]  colsample_bytree=1, gamma=2.55, learning_rate=0.00109647819614, max_depth=5, min_child_weight=1, n_estimators=916, reg_alpha=0.22, reg_lambda=0.71, subsample=1, score=0.785362, total=  41.2s\n",
      "[CV] colsample_bytree=1, gamma=2.84, learning_rate=0.00239883291902, max_depth=7, min_child_weight=2, n_estimators=636, reg_alpha=0.82, reg_lambda=0.79, subsample=1 \n",
      "[CV]  colsample_bytree=1, gamma=2.55, learning_rate=0.00109647819614, max_depth=5, min_child_weight=1, n_estimators=916, reg_alpha=0.22, reg_lambda=0.71, subsample=1, score=0.793824, total=  43.2s\n",
      "[CV] colsample_bytree=1, gamma=1.32, learning_rate=0.00575439937337, max_depth=6, min_child_weight=2, n_estimators=949, reg_alpha=0.53, reg_lambda=0.62, subsample=1 \n",
      "[CV]  colsample_bytree=1, gamma=2.55, learning_rate=0.00109647819614, max_depth=5, min_child_weight=1, n_estimators=916, reg_alpha=0.22, reg_lambda=0.71, subsample=1, score=0.789148, total=  42.2s\n",
      "[CV] colsample_bytree=1, gamma=1.32, learning_rate=0.00575439937337, max_depth=6, min_child_weight=2, n_estimators=949, reg_alpha=0.53, reg_lambda=0.62, subsample=1 \n",
      "[CV]  colsample_bytree=1, gamma=2.84, learning_rate=0.00239883291902, max_depth=7, min_child_weight=2, n_estimators=636, reg_alpha=0.82, reg_lambda=0.79, subsample=1, score=0.771441, total=  41.9s\n",
      "[CV] colsample_bytree=1, gamma=1.32, learning_rate=0.00575439937337, max_depth=6, min_child_weight=2, n_estimators=949, reg_alpha=0.53, reg_lambda=0.62, subsample=1 \n",
      "[CV]  colsample_bytree=1, gamma=2.84, learning_rate=0.00239883291902, max_depth=7, min_child_weight=2, n_estimators=636, reg_alpha=0.82, reg_lambda=0.79, subsample=1, score=0.772381, total=  43.3s\n",
      "[CV] colsample_bytree=1, gamma=1.32, learning_rate=0.00575439937337, max_depth=6, min_child_weight=2, n_estimators=949, reg_alpha=0.53, reg_lambda=0.62, subsample=1 \n",
      "[CV]  colsample_bytree=1, gamma=2.84, learning_rate=0.00239883291902, max_depth=7, min_child_weight=2, n_estimators=636, reg_alpha=0.82, reg_lambda=0.79, subsample=1, score=0.786921, total=  45.7s\n",
      "[CV] colsample_bytree=1, gamma=1.32, learning_rate=0.00575439937337, max_depth=6, min_child_weight=2, n_estimators=949, reg_alpha=0.53, reg_lambda=0.62, subsample=1 \n",
      "[CV]  colsample_bytree=1, gamma=2.84, learning_rate=0.00239883291902, max_depth=7, min_child_weight=2, n_estimators=636, reg_alpha=0.82, reg_lambda=0.79, subsample=1, score=0.793689, total=  46.7s\n",
      "[CV] colsample_bytree=1, gamma=1.32, learning_rate=0.00575439937337, max_depth=6, min_child_weight=2, n_estimators=949, reg_alpha=0.53, reg_lambda=0.62, subsample=1 \n",
      "[CV]  colsample_bytree=1, gamma=2.84, learning_rate=0.00239883291902, max_depth=7, min_child_weight=2, n_estimators=636, reg_alpha=0.82, reg_lambda=0.79, subsample=1, score=0.792192, total=  46.5s\n",
      "[CV] colsample_bytree=1, gamma=2.02, learning_rate=0.00346736850453, max_depth=6, min_child_weight=2, n_estimators=577, reg_alpha=0.66, reg_lambda=0.63, subsample=1 \n",
      "[CV]  colsample_bytree=1, gamma=2.84, learning_rate=0.00239883291902, max_depth=7, min_child_weight=2, n_estimators=636, reg_alpha=0.82, reg_lambda=0.79, subsample=1, score=0.797241, total=  48.4s\n",
      "[CV] colsample_bytree=1, gamma=2.02, learning_rate=0.00346736850453, max_depth=6, min_child_weight=2, n_estimators=577, reg_alpha=0.66, reg_lambda=0.63, subsample=1 \n",
      "[CV]  colsample_bytree=1, gamma=1.32, learning_rate=0.00575439937337, max_depth=6, min_child_weight=2, n_estimators=949, reg_alpha=0.53, reg_lambda=0.62, subsample=1, score=0.774555, total=  58.6s\n",
      "[CV] colsample_bytree=1, gamma=2.02, learning_rate=0.00346736850453, max_depth=6, min_child_weight=2, n_estimators=577, reg_alpha=0.66, reg_lambda=0.63, subsample=1 \n",
      "[CV]  colsample_bytree=1, gamma=1.32, learning_rate=0.00575439937337, max_depth=6, min_child_weight=2, n_estimators=949, reg_alpha=0.53, reg_lambda=0.62, subsample=1, score=0.767957, total= 1.0min\n",
      "[CV] colsample_bytree=1, gamma=2.02, learning_rate=0.00346736850453, max_depth=6, min_child_weight=2, n_estimators=577, reg_alpha=0.66, reg_lambda=0.63, subsample=1 \n",
      "[CV]  colsample_bytree=1, gamma=1.32, learning_rate=0.00575439937337, max_depth=6, min_child_weight=2, n_estimators=949, reg_alpha=0.53, reg_lambda=0.62, subsample=1, score=0.796716, total=  57.7s\n",
      "[CV] colsample_bytree=1, gamma=2.02, learning_rate=0.00346736850453, max_depth=6, min_child_weight=2, n_estimators=577, reg_alpha=0.66, reg_lambda=0.63, subsample=1 \n",
      "[CV]  colsample_bytree=1, gamma=1.32, learning_rate=0.00575439937337, max_depth=6, min_child_weight=2, n_estimators=949, reg_alpha=0.53, reg_lambda=0.62, subsample=1, score=0.784729, total=  57.2s\n",
      "[CV] colsample_bytree=1, gamma=2.02, learning_rate=0.00346736850453, max_depth=6, min_child_weight=2, n_estimators=577, reg_alpha=0.66, reg_lambda=0.63, subsample=1 \n",
      "[CV]  colsample_bytree=1, gamma=1.32, learning_rate=0.00575439937337, max_depth=6, min_child_weight=2, n_estimators=949, reg_alpha=0.53, reg_lambda=0.62, subsample=1, score=0.797548, total=  55.1s\n",
      "[CV] colsample_bytree=1, gamma=3.44, learning_rate=0.00338844156139, max_depth=7, min_child_weight=2, n_estimators=719, reg_alpha=0.6, reg_lambda=0.71, subsample=1 \n",
      "[CV]  colsample_bytree=1, gamma=2.02, learning_rate=0.00346736850453, max_depth=6, min_child_weight=2, n_estimators=577, reg_alpha=0.66, reg_lambda=0.63, subsample=1, score=0.775114, total=  34.8s\n",
      "[CV] colsample_bytree=1, gamma=3.44, learning_rate=0.00338844156139, max_depth=7, min_child_weight=2, n_estimators=719, reg_alpha=0.6, reg_lambda=0.71, subsample=1 \n",
      "[CV]  colsample_bytree=1, gamma=1.32, learning_rate=0.00575439937337, max_depth=6, min_child_weight=2, n_estimators=949, reg_alpha=0.53, reg_lambda=0.62, subsample=1, score=0.794131, total=  59.2s\n",
      "[CV] colsample_bytree=1, gamma=3.44, learning_rate=0.00338844156139, max_depth=7, min_child_weight=2, n_estimators=719, reg_alpha=0.6, reg_lambda=0.71, subsample=1 \n",
      "[CV]  colsample_bytree=1, gamma=2.02, learning_rate=0.00346736850453, max_depth=6, min_child_weight=2, n_estimators=577, reg_alpha=0.66, reg_lambda=0.63, subsample=1, score=0.768373, total=  36.4s\n",
      "[CV] colsample_bytree=1, gamma=3.44, learning_rate=0.00338844156139, max_depth=7, min_child_weight=2, n_estimators=719, reg_alpha=0.6, reg_lambda=0.71, subsample=1 \n",
      "[CV]  colsample_bytree=1, gamma=2.02, learning_rate=0.00346736850453, max_depth=6, min_child_weight=2, n_estimators=577, reg_alpha=0.66, reg_lambda=0.63, subsample=1, score=0.785271, total=  35.1s\n",
      "[CV] colsample_bytree=1, gamma=3.44, learning_rate=0.00338844156139, max_depth=7, min_child_weight=2, n_estimators=719, reg_alpha=0.6, reg_lambda=0.71, subsample=1 \n"
     ]
    },
    {
     "name": "stdout",
     "output_type": "stream",
     "text": [
      "[CV]  colsample_bytree=1, gamma=2.02, learning_rate=0.00346736850453, max_depth=6, min_child_weight=2, n_estimators=577, reg_alpha=0.66, reg_lambda=0.63, subsample=1, score=0.797749, total=  37.1s\n",
      "[CV] colsample_bytree=1, gamma=3.44, learning_rate=0.00338844156139, max_depth=7, min_child_weight=2, n_estimators=719, reg_alpha=0.6, reg_lambda=0.71, subsample=1 \n",
      "[CV]  colsample_bytree=1, gamma=2.02, learning_rate=0.00346736850453, max_depth=6, min_child_weight=2, n_estimators=577, reg_alpha=0.66, reg_lambda=0.63, subsample=1, score=0.798132, total=  34.8s\n",
      "[CV] colsample_bytree=1, gamma=2.14, learning_rate=0.0036307805477, max_depth=7, min_child_weight=2, n_estimators=758, reg_alpha=0.32, reg_lambda=0.75, subsample=1 \n",
      "[CV]  colsample_bytree=1, gamma=2.02, learning_rate=0.00346736850453, max_depth=6, min_child_weight=2, n_estimators=577, reg_alpha=0.66, reg_lambda=0.63, subsample=1, score=0.792148, total=  36.6s\n",
      "[CV] colsample_bytree=1, gamma=2.14, learning_rate=0.0036307805477, max_depth=7, min_child_weight=2, n_estimators=758, reg_alpha=0.32, reg_lambda=0.75, subsample=1 \n",
      "[CV]  colsample_bytree=1, gamma=3.44, learning_rate=0.00338844156139, max_depth=7, min_child_weight=2, n_estimators=719, reg_alpha=0.6, reg_lambda=0.71, subsample=1, score=0.775589, total=  55.0s\n",
      "[CV] colsample_bytree=1, gamma=2.14, learning_rate=0.0036307805477, max_depth=7, min_child_weight=2, n_estimators=758, reg_alpha=0.32, reg_lambda=0.75, subsample=1 \n",
      "[CV]  colsample_bytree=1, gamma=3.44, learning_rate=0.00338844156139, max_depth=7, min_child_weight=2, n_estimators=719, reg_alpha=0.6, reg_lambda=0.71, subsample=1, score=0.795455, total=  52.5s\n",
      "[CV] colsample_bytree=1, gamma=2.14, learning_rate=0.0036307805477, max_depth=7, min_child_weight=2, n_estimators=758, reg_alpha=0.32, reg_lambda=0.75, subsample=1 \n",
      "[CV]  colsample_bytree=1, gamma=3.44, learning_rate=0.00338844156139, max_depth=7, min_child_weight=2, n_estimators=719, reg_alpha=0.6, reg_lambda=0.71, subsample=1, score=0.772003, total=  55.5s\n",
      "[CV] colsample_bytree=1, gamma=2.14, learning_rate=0.0036307805477, max_depth=7, min_child_weight=2, n_estimators=758, reg_alpha=0.32, reg_lambda=0.75, subsample=1 \n",
      "[CV]  colsample_bytree=1, gamma=3.44, learning_rate=0.00338844156139, max_depth=7, min_child_weight=2, n_estimators=719, reg_alpha=0.6, reg_lambda=0.71, subsample=1, score=0.787399, total=  53.6s\n",
      "[CV] colsample_bytree=1, gamma=2.14, learning_rate=0.0036307805477, max_depth=7, min_child_weight=2, n_estimators=758, reg_alpha=0.32, reg_lambda=0.75, subsample=1 \n",
      "[CV]  colsample_bytree=1, gamma=3.44, learning_rate=0.00338844156139, max_depth=7, min_child_weight=2, n_estimators=719, reg_alpha=0.6, reg_lambda=0.71, subsample=1, score=0.797961, total=  51.3s\n",
      "[CV] colsample_bytree=1, gamma=3.48, learning_rate=0.00478630092323, max_depth=7, min_child_weight=1, n_estimators=618, reg_alpha=0.55, reg_lambda=0.95, subsample=1 \n",
      "[CV]  colsample_bytree=1, gamma=3.44, learning_rate=0.00338844156139, max_depth=7, min_child_weight=2, n_estimators=719, reg_alpha=0.6, reg_lambda=0.71, subsample=1, score=0.792841, total=  53.9s\n",
      "[CV] colsample_bytree=1, gamma=3.48, learning_rate=0.00478630092323, max_depth=7, min_child_weight=1, n_estimators=618, reg_alpha=0.55, reg_lambda=0.95, subsample=1 \n",
      "[CV]  colsample_bytree=1, gamma=2.14, learning_rate=0.0036307805477, max_depth=7, min_child_weight=2, n_estimators=758, reg_alpha=0.32, reg_lambda=0.75, subsample=1, score=0.776421, total=  53.5s\n",
      "[CV] colsample_bytree=1, gamma=3.48, learning_rate=0.00478630092323, max_depth=7, min_child_weight=1, n_estimators=618, reg_alpha=0.55, reg_lambda=0.95, subsample=1 \n",
      "[CV]  colsample_bytree=1, gamma=2.14, learning_rate=0.0036307805477, max_depth=7, min_child_weight=2, n_estimators=758, reg_alpha=0.32, reg_lambda=0.75, subsample=1, score=0.774386, total=  54.7s\n",
      "[CV] colsample_bytree=1, gamma=3.48, learning_rate=0.00478630092323, max_depth=7, min_child_weight=1, n_estimators=618, reg_alpha=0.55, reg_lambda=0.95, subsample=1 \n",
      "[CV]  colsample_bytree=1, gamma=2.14, learning_rate=0.0036307805477, max_depth=7, min_child_weight=2, n_estimators=758, reg_alpha=0.32, reg_lambda=0.75, subsample=1, score=0.785184, total=  47.0s\n",
      "[CV] colsample_bytree=1, gamma=3.48, learning_rate=0.00478630092323, max_depth=7, min_child_weight=1, n_estimators=618, reg_alpha=0.55, reg_lambda=0.95, subsample=1 \n",
      "[CV]  colsample_bytree=1, gamma=2.14, learning_rate=0.0036307805477, max_depth=7, min_child_weight=2, n_estimators=758, reg_alpha=0.32, reg_lambda=0.75, subsample=1, score=0.799643, total=  49.4s\n",
      "[CV] colsample_bytree=1, gamma=3.48, learning_rate=0.00478630092323, max_depth=7, min_child_weight=1, n_estimators=618, reg_alpha=0.55, reg_lambda=0.95, subsample=1 \n",
      "[CV]  colsample_bytree=1, gamma=2.14, learning_rate=0.0036307805477, max_depth=7, min_child_weight=2, n_estimators=758, reg_alpha=0.32, reg_lambda=0.75, subsample=1, score=0.796957, total=  48.4s\n",
      "[CV] colsample_bytree=1, gamma=2.12, learning_rate=0.00575439937337, max_depth=5, min_child_weight=3, n_estimators=519, reg_alpha=0.52, reg_lambda=0.67, subsample=1 \n",
      "[CV]  colsample_bytree=1, gamma=2.14, learning_rate=0.0036307805477, max_depth=7, min_child_weight=2, n_estimators=758, reg_alpha=0.32, reg_lambda=0.75, subsample=1, score=0.794084, total=  48.0s\n",
      "[CV] colsample_bytree=1, gamma=2.12, learning_rate=0.00575439937337, max_depth=5, min_child_weight=3, n_estimators=519, reg_alpha=0.52, reg_lambda=0.67, subsample=1 \n",
      "[CV]  colsample_bytree=1, gamma=3.48, learning_rate=0.00478630092323, max_depth=7, min_child_weight=1, n_estimators=618, reg_alpha=0.55, reg_lambda=0.95, subsample=1, score=0.776489, total=  38.2s\n",
      "[CV] colsample_bytree=1, gamma=2.12, learning_rate=0.00575439937337, max_depth=5, min_child_weight=3, n_estimators=519, reg_alpha=0.52, reg_lambda=0.67, subsample=1 \n",
      "[CV]  colsample_bytree=1, gamma=3.48, learning_rate=0.00478630092323, max_depth=7, min_child_weight=1, n_estimators=618, reg_alpha=0.55, reg_lambda=0.95, subsample=1, score=0.773413, total=  39.6s\n",
      "[CV] colsample_bytree=1, gamma=2.12, learning_rate=0.00575439937337, max_depth=5, min_child_weight=3, n_estimators=519, reg_alpha=0.52, reg_lambda=0.67, subsample=1 \n",
      "[CV]  colsample_bytree=1, gamma=3.48, learning_rate=0.00478630092323, max_depth=7, min_child_weight=1, n_estimators=618, reg_alpha=0.55, reg_lambda=0.95, subsample=1, score=0.796174, total=  41.1s\n",
      "[CV] colsample_bytree=1, gamma=2.12, learning_rate=0.00575439937337, max_depth=5, min_child_weight=3, n_estimators=519, reg_alpha=0.52, reg_lambda=0.67, subsample=1 \n",
      "[CV]  colsample_bytree=1, gamma=3.48, learning_rate=0.00478630092323, max_depth=7, min_child_weight=1, n_estimators=618, reg_alpha=0.55, reg_lambda=0.95, subsample=1, score=0.787711, total=  44.0s\n",
      "[CV] colsample_bytree=1, gamma=2.12, learning_rate=0.00575439937337, max_depth=5, min_child_weight=3, n_estimators=519, reg_alpha=0.52, reg_lambda=0.67, subsample=1 \n",
      "[CV]  colsample_bytree=1, gamma=2.12, learning_rate=0.00575439937337, max_depth=5, min_child_weight=3, n_estimators=519, reg_alpha=0.52, reg_lambda=0.67, subsample=1, score=0.778002, total=  27.4s\n",
      "[CV] colsample_bytree=1, gamma=2.46, learning_rate=0.00954992586021, max_depth=5, min_child_weight=1, n_estimators=861, reg_alpha=0.82, reg_lambda=0.8, subsample=1 \n",
      "[CV]  colsample_bytree=1, gamma=2.12, learning_rate=0.00575439937337, max_depth=5, min_child_weight=3, n_estimators=519, reg_alpha=0.52, reg_lambda=0.67, subsample=1, score=0.770878, total=  26.9s\n",
      "[CV] colsample_bytree=1, gamma=2.46, learning_rate=0.00954992586021, max_depth=5, min_child_weight=1, n_estimators=861, reg_alpha=0.82, reg_lambda=0.8, subsample=1 \n",
      "[CV]  colsample_bytree=1, gamma=2.12, learning_rate=0.00575439937337, max_depth=5, min_child_weight=3, n_estimators=519, reg_alpha=0.52, reg_lambda=0.67, subsample=1, score=0.796556, total=  27.3s\n",
      "[CV] colsample_bytree=1, gamma=2.46, learning_rate=0.00954992586021, max_depth=5, min_child_weight=1, n_estimators=861, reg_alpha=0.82, reg_lambda=0.8, subsample=1 \n",
      "[CV]  colsample_bytree=1, gamma=2.12, learning_rate=0.00575439937337, max_depth=5, min_child_weight=3, n_estimators=519, reg_alpha=0.52, reg_lambda=0.67, subsample=1, score=0.789234, total=  27.6s\n",
      "[CV] colsample_bytree=1, gamma=2.46, learning_rate=0.00954992586021, max_depth=5, min_child_weight=1, n_estimators=861, reg_alpha=0.82, reg_lambda=0.8, subsample=1 \n"
     ]
    },
    {
     "name": "stdout",
     "output_type": "stream",
     "text": [
      "[CV]  colsample_bytree=1, gamma=2.12, learning_rate=0.00575439937337, max_depth=5, min_child_weight=3, n_estimators=519, reg_alpha=0.52, reg_lambda=0.67, subsample=1, score=0.798694, total=  24.2s\n",
      "[CV] colsample_bytree=1, gamma=2.46, learning_rate=0.00954992586021, max_depth=5, min_child_weight=1, n_estimators=861, reg_alpha=0.82, reg_lambda=0.8, subsample=1 \n",
      "[CV]  colsample_bytree=1, gamma=3.48, learning_rate=0.00478630092323, max_depth=7, min_child_weight=1, n_estimators=618, reg_alpha=0.55, reg_lambda=0.95, subsample=1, score=0.797238, total=  43.4s\n",
      "[CV] colsample_bytree=1, gamma=2.46, learning_rate=0.00954992586021, max_depth=5, min_child_weight=1, n_estimators=861, reg_alpha=0.82, reg_lambda=0.8, subsample=1 \n",
      "[CV]  colsample_bytree=1, gamma=3.48, learning_rate=0.00478630092323, max_depth=7, min_child_weight=1, n_estimators=618, reg_alpha=0.55, reg_lambda=0.95, subsample=1, score=0.793806, total=  43.8s\n",
      "[CV] colsample_bytree=1, gamma=2.3, learning_rate=0.00125892541179, max_depth=7, min_child_weight=4, n_estimators=680, reg_alpha=0.85, reg_lambda=0.62, subsample=1 \n",
      "[CV]  colsample_bytree=1, gamma=2.12, learning_rate=0.00575439937337, max_depth=5, min_child_weight=3, n_estimators=519, reg_alpha=0.52, reg_lambda=0.67, subsample=1, score=0.791951, total=  22.2s\n",
      "[CV] colsample_bytree=1, gamma=2.3, learning_rate=0.00125892541179, max_depth=7, min_child_weight=4, n_estimators=680, reg_alpha=0.85, reg_lambda=0.62, subsample=1 \n",
      "[CV]  colsample_bytree=1, gamma=2.46, learning_rate=0.00954992586021, max_depth=5, min_child_weight=1, n_estimators=861, reg_alpha=0.82, reg_lambda=0.8, subsample=1, score=0.776589, total=  36.7s\n",
      "[CV] colsample_bytree=1, gamma=2.3, learning_rate=0.00125892541179, max_depth=7, min_child_weight=4, n_estimators=680, reg_alpha=0.85, reg_lambda=0.62, subsample=1 \n",
      "[CV]  colsample_bytree=1, gamma=2.46, learning_rate=0.00954992586021, max_depth=5, min_child_weight=1, n_estimators=861, reg_alpha=0.82, reg_lambda=0.8, subsample=1, score=0.772004, total=  36.5s\n",
      "[CV] colsample_bytree=1, gamma=2.3, learning_rate=0.00125892541179, max_depth=7, min_child_weight=4, n_estimators=680, reg_alpha=0.85, reg_lambda=0.62, subsample=1 \n",
      "[CV]  colsample_bytree=1, gamma=2.46, learning_rate=0.00954992586021, max_depth=5, min_child_weight=1, n_estimators=861, reg_alpha=0.82, reg_lambda=0.8, subsample=1, score=0.797594, total=  35.7s\n",
      "[CV] colsample_bytree=1, gamma=2.3, learning_rate=0.00125892541179, max_depth=7, min_child_weight=4, n_estimators=680, reg_alpha=0.85, reg_lambda=0.62, subsample=1 \n",
      "[CV]  colsample_bytree=1, gamma=2.46, learning_rate=0.00954992586021, max_depth=5, min_child_weight=1, n_estimators=861, reg_alpha=0.82, reg_lambda=0.8, subsample=1, score=0.789313, total=  37.2s\n",
      "[CV] colsample_bytree=1, gamma=2.3, learning_rate=0.00125892541179, max_depth=7, min_child_weight=4, n_estimators=680, reg_alpha=0.85, reg_lambda=0.62, subsample=1 \n",
      "[CV]  colsample_bytree=1, gamma=2.46, learning_rate=0.00954992586021, max_depth=5, min_child_weight=1, n_estimators=861, reg_alpha=0.82, reg_lambda=0.8, subsample=1, score=0.801059, total=  36.1s\n",
      "[CV] colsample_bytree=1, gamma=2.74, learning_rate=0.00141253754462, max_depth=7, min_child_weight=2, n_estimators=355, reg_alpha=0.31, reg_lambda=0.84, subsample=1 \n",
      "[CV]  colsample_bytree=1, gamma=2.46, learning_rate=0.00954992586021, max_depth=5, min_child_weight=1, n_estimators=861, reg_alpha=0.82, reg_lambda=0.8, subsample=1, score=0.794603, total=  37.3s\n",
      "[CV] colsample_bytree=1, gamma=2.74, learning_rate=0.00141253754462, max_depth=7, min_child_weight=2, n_estimators=355, reg_alpha=0.31, reg_lambda=0.84, subsample=1 \n",
      "[CV]  colsample_bytree=1, gamma=2.3, learning_rate=0.00125892541179, max_depth=7, min_child_weight=4, n_estimators=680, reg_alpha=0.85, reg_lambda=0.62, subsample=1, score=0.769525, total=  42.0s\n",
      "[CV] colsample_bytree=1, gamma=2.74, learning_rate=0.00141253754462, max_depth=7, min_child_weight=2, n_estimators=355, reg_alpha=0.31, reg_lambda=0.84, subsample=1 \n",
      "[CV]  colsample_bytree=1, gamma=2.3, learning_rate=0.00125892541179, max_depth=7, min_child_weight=4, n_estimators=680, reg_alpha=0.85, reg_lambda=0.62, subsample=1, score=0.771258, total=  43.1s\n",
      "[CV] colsample_bytree=1, gamma=2.74, learning_rate=0.00141253754462, max_depth=7, min_child_weight=2, n_estimators=355, reg_alpha=0.31, reg_lambda=0.84, subsample=1 \n",
      "[CV]  colsample_bytree=1, gamma=2.74, learning_rate=0.00141253754462, max_depth=7, min_child_weight=2, n_estimators=355, reg_alpha=0.31, reg_lambda=0.84, subsample=1, score=0.771164, total=  21.7s\n",
      "[CV] colsample_bytree=1, gamma=2.74, learning_rate=0.00141253754462, max_depth=7, min_child_weight=2, n_estimators=355, reg_alpha=0.31, reg_lambda=0.84, subsample=1 \n",
      "[CV]  colsample_bytree=1, gamma=2.74, learning_rate=0.00141253754462, max_depth=7, min_child_weight=2, n_estimators=355, reg_alpha=0.31, reg_lambda=0.84, subsample=1, score=0.768256, total=  21.4s\n",
      "[CV] colsample_bytree=1, gamma=2.74, learning_rate=0.00141253754462, max_depth=7, min_child_weight=2, n_estimators=355, reg_alpha=0.31, reg_lambda=0.84, subsample=1 \n",
      "[CV]  colsample_bytree=1, gamma=2.74, learning_rate=0.00141253754462, max_depth=7, min_child_weight=2, n_estimators=355, reg_alpha=0.31, reg_lambda=0.84, subsample=1, score=0.783402, total=  22.9s\n",
      "[CV] colsample_bytree=1, gamma=3.39, learning_rate=0.00199526231497, max_depth=5, min_child_weight=1, n_estimators=901, reg_alpha=0.84, reg_lambda=0.7, subsample=1 \n",
      "[CV]  colsample_bytree=1, gamma=2.74, learning_rate=0.00141253754462, max_depth=7, min_child_weight=2, n_estimators=355, reg_alpha=0.31, reg_lambda=0.84, subsample=1, score=0.791477, total=  23.0s\n",
      "[CV]  colsample_bytree=1, gamma=2.3, learning_rate=0.00125892541179, max_depth=7, min_child_weight=4, n_estimators=680, reg_alpha=0.85, reg_lambda=0.62, subsample=1, score=0.792944, total=  43.7s\n",
      "[CV] colsample_bytree=1, gamma=3.39, learning_rate=0.00199526231497, max_depth=5, min_child_weight=1, n_estimators=901, reg_alpha=0.84, reg_lambda=0.7, subsample=1 \n",
      "[CV] colsample_bytree=1, gamma=3.39, learning_rate=0.00199526231497, max_depth=5, min_child_weight=1, n_estimators=901, reg_alpha=0.84, reg_lambda=0.7, subsample=1 \n",
      "[CV]  colsample_bytree=1, gamma=2.3, learning_rate=0.00125892541179, max_depth=7, min_child_weight=4, n_estimators=680, reg_alpha=0.85, reg_lambda=0.62, subsample=1, score=0.786424, total=  44.2s\n",
      "[CV] colsample_bytree=1, gamma=3.39, learning_rate=0.00199526231497, max_depth=5, min_child_weight=1, n_estimators=901, reg_alpha=0.84, reg_lambda=0.7, subsample=1 \n",
      "[CV]  colsample_bytree=1, gamma=2.3, learning_rate=0.00125892541179, max_depth=7, min_child_weight=4, n_estimators=680, reg_alpha=0.85, reg_lambda=0.62, subsample=1, score=0.793336, total=  44.0s\n",
      "[CV] colsample_bytree=1, gamma=3.39, learning_rate=0.00199526231497, max_depth=5, min_child_weight=1, n_estimators=901, reg_alpha=0.84, reg_lambda=0.7, subsample=1 \n",
      "[CV]  colsample_bytree=1, gamma=2.3, learning_rate=0.00125892541179, max_depth=7, min_child_weight=4, n_estimators=680, reg_alpha=0.85, reg_lambda=0.62, subsample=1, score=0.791238, total=  46.9s\n",
      "[CV] colsample_bytree=1, gamma=3.39, learning_rate=0.00199526231497, max_depth=5, min_child_weight=1, n_estimators=901, reg_alpha=0.84, reg_lambda=0.7, subsample=1 \n",
      "[CV]  colsample_bytree=1, gamma=2.74, learning_rate=0.00141253754462, max_depth=7, min_child_weight=2, n_estimators=355, reg_alpha=0.31, reg_lambda=0.84, subsample=1, score=0.791843, total=  26.3s\n",
      "[CV] colsample_bytree=1, gamma=3.02, learning_rate=0.0030199517204, max_depth=7, min_child_weight=3, n_estimators=477, reg_alpha=0.4, reg_lambda=0.73, subsample=1 \n",
      "[CV]  colsample_bytree=1, gamma=2.74, learning_rate=0.00141253754462, max_depth=7, min_child_weight=2, n_estimators=355, reg_alpha=0.31, reg_lambda=0.84, subsample=1, score=0.788661, total=  26.0s\n",
      "[CV] colsample_bytree=1, gamma=3.02, learning_rate=0.0030199517204, max_depth=7, min_child_weight=3, n_estimators=477, reg_alpha=0.4, reg_lambda=0.73, subsample=1 \n",
      "[CV]  colsample_bytree=1, gamma=3.39, learning_rate=0.00199526231497, max_depth=5, min_child_weight=1, n_estimators=901, reg_alpha=0.84, reg_lambda=0.7, subsample=1, score=0.770079, total=  42.6s\n",
      "[CV] colsample_bytree=1, gamma=3.02, learning_rate=0.0030199517204, max_depth=7, min_child_weight=3, n_estimators=477, reg_alpha=0.4, reg_lambda=0.73, subsample=1 \n"
     ]
    },
    {
     "name": "stdout",
     "output_type": "stream",
     "text": [
      "[CV]  colsample_bytree=1, gamma=3.39, learning_rate=0.00199526231497, max_depth=5, min_child_weight=1, n_estimators=901, reg_alpha=0.84, reg_lambda=0.7, subsample=1, score=0.784912, total=  42.5s\n",
      "[CV] colsample_bytree=1, gamma=3.02, learning_rate=0.0030199517204, max_depth=7, min_child_weight=3, n_estimators=477, reg_alpha=0.4, reg_lambda=0.73, subsample=1 \n",
      "[CV]  colsample_bytree=1, gamma=3.39, learning_rate=0.00199526231497, max_depth=5, min_child_weight=1, n_estimators=901, reg_alpha=0.84, reg_lambda=0.7, subsample=1, score=0.772090, total=  44.5s\n",
      "[CV] colsample_bytree=1, gamma=3.02, learning_rate=0.0030199517204, max_depth=7, min_child_weight=3, n_estimators=477, reg_alpha=0.4, reg_lambda=0.73, subsample=1 \n",
      "[CV]  colsample_bytree=1, gamma=3.39, learning_rate=0.00199526231497, max_depth=5, min_child_weight=1, n_estimators=901, reg_alpha=0.84, reg_lambda=0.7, subsample=1, score=0.792895, total=  44.5s\n",
      "[CV] colsample_bytree=1, gamma=3.02, learning_rate=0.0030199517204, max_depth=7, min_child_weight=3, n_estimators=477, reg_alpha=0.4, reg_lambda=0.73, subsample=1 \n",
      "[CV]  colsample_bytree=1, gamma=3.39, learning_rate=0.00199526231497, max_depth=5, min_child_weight=1, n_estimators=901, reg_alpha=0.84, reg_lambda=0.7, subsample=1, score=0.796547, total=  44.8s\n",
      "[CV] colsample_bytree=1, gamma=2.52, learning_rate=0.00831763771103, max_depth=4, min_child_weight=1, n_estimators=501, reg_alpha=0.32, reg_lambda=0.83, subsample=1 \n",
      "[CV]  colsample_bytree=1, gamma=3.02, learning_rate=0.0030199517204, max_depth=7, min_child_weight=3, n_estimators=477, reg_alpha=0.4, reg_lambda=0.73, subsample=1, score=0.777048, total=  34.0s\n",
      "[CV] colsample_bytree=1, gamma=2.52, learning_rate=0.00831763771103, max_depth=4, min_child_weight=1, n_estimators=501, reg_alpha=0.32, reg_lambda=0.83, subsample=1 \n",
      "[CV]  colsample_bytree=1, gamma=3.02, learning_rate=0.0030199517204, max_depth=7, min_child_weight=3, n_estimators=477, reg_alpha=0.4, reg_lambda=0.73, subsample=1, score=0.770158, total=  34.3s\n",
      "[CV] colsample_bytree=1, gamma=2.52, learning_rate=0.00831763771103, max_depth=4, min_child_weight=1, n_estimators=501, reg_alpha=0.32, reg_lambda=0.83, subsample=1 \n",
      "[CV]  colsample_bytree=1, gamma=3.39, learning_rate=0.00199526231497, max_depth=5, min_child_weight=1, n_estimators=901, reg_alpha=0.84, reg_lambda=0.7, subsample=1, score=0.792054, total=  42.6s\n",
      "[CV] colsample_bytree=1, gamma=2.52, learning_rate=0.00831763771103, max_depth=4, min_child_weight=1, n_estimators=501, reg_alpha=0.32, reg_lambda=0.83, subsample=1 \n",
      "[CV]  colsample_bytree=1, gamma=2.52, learning_rate=0.00831763771103, max_depth=4, min_child_weight=1, n_estimators=501, reg_alpha=0.32, reg_lambda=0.83, subsample=1, score=0.778627, total=  17.8s\n",
      "[CV] colsample_bytree=1, gamma=2.52, learning_rate=0.00831763771103, max_depth=4, min_child_weight=1, n_estimators=501, reg_alpha=0.32, reg_lambda=0.83, subsample=1 \n",
      "[CV]  colsample_bytree=1, gamma=2.52, learning_rate=0.00831763771103, max_depth=4, min_child_weight=1, n_estimators=501, reg_alpha=0.32, reg_lambda=0.83, subsample=1, score=0.774276, total=  18.2s\n",
      "[CV] colsample_bytree=1, gamma=2.52, learning_rate=0.00831763771103, max_depth=4, min_child_weight=1, n_estimators=501, reg_alpha=0.32, reg_lambda=0.83, subsample=1 \n",
      "[CV]  colsample_bytree=1, gamma=2.52, learning_rate=0.00831763771103, max_depth=4, min_child_weight=1, n_estimators=501, reg_alpha=0.32, reg_lambda=0.83, subsample=1, score=0.799048, total=  18.4s\n",
      "[CV] colsample_bytree=1, gamma=2.66, learning_rate=0.00141253754462, max_depth=4, min_child_weight=4, n_estimators=991, reg_alpha=0.78, reg_lambda=0.7, subsample=1 \n",
      "[CV]  colsample_bytree=1, gamma=2.52, learning_rate=0.00831763771103, max_depth=4, min_child_weight=1, n_estimators=501, reg_alpha=0.32, reg_lambda=0.83, subsample=1, score=0.790037, total=  18.0s\n",
      "[CV] colsample_bytree=1, gamma=2.66, learning_rate=0.00141253754462, max_depth=4, min_child_weight=4, n_estimators=991, reg_alpha=0.78, reg_lambda=0.7, subsample=1 \n",
      "[CV]  colsample_bytree=1, gamma=3.02, learning_rate=0.0030199517204, max_depth=7, min_child_weight=3, n_estimators=477, reg_alpha=0.4, reg_lambda=0.73, subsample=1, score=0.794104, total=  31.6s\n",
      "[CV] colsample_bytree=1, gamma=2.66, learning_rate=0.00141253754462, max_depth=4, min_child_weight=4, n_estimators=991, reg_alpha=0.78, reg_lambda=0.7, subsample=1 \n",
      "[CV]  colsample_bytree=1, gamma=3.02, learning_rate=0.0030199517204, max_depth=7, min_child_weight=3, n_estimators=477, reg_alpha=0.4, reg_lambda=0.73, subsample=1, score=0.796540, total=  31.1s\n",
      "[CV] colsample_bytree=1, gamma=2.66, learning_rate=0.00141253754462, max_depth=4, min_child_weight=4, n_estimators=991, reg_alpha=0.78, reg_lambda=0.7, subsample=1 \n",
      "[CV]  colsample_bytree=1, gamma=3.02, learning_rate=0.0030199517204, max_depth=7, min_child_weight=3, n_estimators=477, reg_alpha=0.4, reg_lambda=0.73, subsample=1, score=0.785852, total=  31.9s\n",
      "[CV] colsample_bytree=1, gamma=2.66, learning_rate=0.00141253754462, max_depth=4, min_child_weight=4, n_estimators=991, reg_alpha=0.78, reg_lambda=0.7, subsample=1 \n",
      "[CV]  colsample_bytree=1, gamma=3.02, learning_rate=0.0030199517204, max_depth=7, min_child_weight=3, n_estimators=477, reg_alpha=0.4, reg_lambda=0.73, subsample=1, score=0.791612, total=  32.4s\n",
      "[CV] colsample_bytree=1, gamma=2.66, learning_rate=0.00141253754462, max_depth=4, min_child_weight=4, n_estimators=991, reg_alpha=0.78, reg_lambda=0.7, subsample=1 \n",
      "[CV]  colsample_bytree=1, gamma=2.52, learning_rate=0.00831763771103, max_depth=4, min_child_weight=1, n_estimators=501, reg_alpha=0.32, reg_lambda=0.83, subsample=1, score=0.802295, total=  18.6s\n",
      "[CV] colsample_bytree=1, gamma=1.48, learning_rate=0.00588843655356, max_depth=7, min_child_weight=2, n_estimators=912, reg_alpha=0.52, reg_lambda=0.82, subsample=1 \n",
      "[CV]  colsample_bytree=1, gamma=2.52, learning_rate=0.00831763771103, max_depth=4, min_child_weight=1, n_estimators=501, reg_alpha=0.32, reg_lambda=0.83, subsample=1, score=0.791605, total=  17.7s\n",
      "[CV] colsample_bytree=1, gamma=1.48, learning_rate=0.00588843655356, max_depth=7, min_child_weight=2, n_estimators=912, reg_alpha=0.52, reg_lambda=0.82, subsample=1 \n",
      "[CV]  colsample_bytree=1, gamma=2.66, learning_rate=0.00141253754462, max_depth=4, min_child_weight=4, n_estimators=991, reg_alpha=0.78, reg_lambda=0.7, subsample=1, score=0.770688, total=  35.7s\n",
      "[CV] colsample_bytree=1, gamma=1.48, learning_rate=0.00588843655356, max_depth=7, min_child_weight=2, n_estimators=912, reg_alpha=0.52, reg_lambda=0.82, subsample=1 \n",
      "[CV]  colsample_bytree=1, gamma=2.66, learning_rate=0.00141253754462, max_depth=4, min_child_weight=4, n_estimators=991, reg_alpha=0.78, reg_lambda=0.7, subsample=1, score=0.767030, total=  36.3s\n",
      "[CV] colsample_bytree=1, gamma=1.48, learning_rate=0.00588843655356, max_depth=7, min_child_weight=2, n_estimators=912, reg_alpha=0.52, reg_lambda=0.82, subsample=1 \n",
      "[CV]  colsample_bytree=1, gamma=2.66, learning_rate=0.00141253754462, max_depth=4, min_child_weight=4, n_estimators=991, reg_alpha=0.78, reg_lambda=0.7, subsample=1, score=0.791751, total=  36.7s\n",
      "[CV] colsample_bytree=1, gamma=1.48, learning_rate=0.00588843655356, max_depth=7, min_child_weight=2, n_estimators=912, reg_alpha=0.52, reg_lambda=0.82, subsample=1 \n",
      "[CV]  colsample_bytree=1, gamma=2.66, learning_rate=0.00141253754462, max_depth=4, min_child_weight=4, n_estimators=991, reg_alpha=0.78, reg_lambda=0.7, subsample=1, score=0.783045, total=  36.3s\n",
      "[CV] colsample_bytree=1, gamma=1.48, learning_rate=0.00588843655356, max_depth=7, min_child_weight=2, n_estimators=912, reg_alpha=0.52, reg_lambda=0.82, subsample=1 \n",
      "[CV]  colsample_bytree=1, gamma=2.66, learning_rate=0.00141253754462, max_depth=4, min_child_weight=4, n_estimators=991, reg_alpha=0.78, reg_lambda=0.7, subsample=1, score=0.791541, total=  35.4s\n",
      "[CV] colsample_bytree=1, gamma=2.84, learning_rate=0.00851138038202, max_depth=5, min_child_weight=4, n_estimators=287, reg_alpha=0.26, reg_lambda=0.84, subsample=1 \n",
      "[CV]  colsample_bytree=1, gamma=2.66, learning_rate=0.00141253754462, max_depth=4, min_child_weight=4, n_estimators=991, reg_alpha=0.78, reg_lambda=0.7, subsample=1, score=0.792482, total=  38.4s\n",
      "[CV] colsample_bytree=1, gamma=2.84, learning_rate=0.00851138038202, max_depth=5, min_child_weight=4, n_estimators=287, reg_alpha=0.26, reg_lambda=0.84, subsample=1 \n"
     ]
    },
    {
     "name": "stdout",
     "output_type": "stream",
     "text": [
      "[CV]  colsample_bytree=1, gamma=2.84, learning_rate=0.00851138038202, max_depth=5, min_child_weight=4, n_estimators=287, reg_alpha=0.26, reg_lambda=0.84, subsample=1, score=0.774656, total=  12.0s\n",
      "[CV] colsample_bytree=1, gamma=2.84, learning_rate=0.00851138038202, max_depth=5, min_child_weight=4, n_estimators=287, reg_alpha=0.26, reg_lambda=0.84, subsample=1 \n",
      "[CV]  colsample_bytree=1, gamma=2.84, learning_rate=0.00851138038202, max_depth=5, min_child_weight=4, n_estimators=287, reg_alpha=0.26, reg_lambda=0.84, subsample=1, score=0.770274, total=  12.5s\n",
      "[CV] colsample_bytree=1, gamma=2.84, learning_rate=0.00851138038202, max_depth=5, min_child_weight=4, n_estimators=287, reg_alpha=0.26, reg_lambda=0.84, subsample=1 \n",
      "[CV]  colsample_bytree=1, gamma=2.84, learning_rate=0.00851138038202, max_depth=5, min_child_weight=4, n_estimators=287, reg_alpha=0.26, reg_lambda=0.84, subsample=1, score=0.796371, total=  14.1s\n",
      "[CV] colsample_bytree=1, gamma=2.84, learning_rate=0.00851138038202, max_depth=5, min_child_weight=4, n_estimators=287, reg_alpha=0.26, reg_lambda=0.84, subsample=1 \n",
      "[CV]  colsample_bytree=1, gamma=2.84, learning_rate=0.00851138038202, max_depth=5, min_child_weight=4, n_estimators=287, reg_alpha=0.26, reg_lambda=0.84, subsample=1, score=0.788123, total=  14.8s\n",
      "[CV] colsample_bytree=1, gamma=2.84, learning_rate=0.00851138038202, max_depth=5, min_child_weight=4, n_estimators=287, reg_alpha=0.26, reg_lambda=0.84, subsample=1 \n"
     ]
    },
    {
     "name": "stderr",
     "output_type": "stream",
     "text": [
      "[Parallel(n_jobs=-1)]: Done 112 tasks      | elapsed:  8.8min\n"
     ]
    },
    {
     "name": "stdout",
     "output_type": "stream",
     "text": [
      "[CV]  colsample_bytree=1, gamma=1.48, learning_rate=0.00588843655356, max_depth=7, min_child_weight=2, n_estimators=912, reg_alpha=0.52, reg_lambda=0.82, subsample=1, score=0.775519, total= 1.1min\n",
      "[CV] colsample_bytree=1, gamma=2.36, learning_rate=0.00275422870334, max_depth=6, min_child_weight=2, n_estimators=723, reg_alpha=0.57, reg_lambda=0.61, subsample=1 \n",
      "[CV]  colsample_bytree=1, gamma=1.48, learning_rate=0.00588843655356, max_depth=7, min_child_weight=2, n_estimators=912, reg_alpha=0.52, reg_lambda=0.82, subsample=1, score=0.770426, total= 1.0min\n",
      "[CV] colsample_bytree=1, gamma=2.36, learning_rate=0.00275422870334, max_depth=6, min_child_weight=2, n_estimators=723, reg_alpha=0.57, reg_lambda=0.61, subsample=1 \n",
      "[CV]  colsample_bytree=1, gamma=2.84, learning_rate=0.00851138038202, max_depth=5, min_child_weight=4, n_estimators=287, reg_alpha=0.26, reg_lambda=0.84, subsample=1, score=0.798842, total=  14.8s\n",
      "[CV] colsample_bytree=1, gamma=2.36, learning_rate=0.00275422870334, max_depth=6, min_child_weight=2, n_estimators=723, reg_alpha=0.57, reg_lambda=0.61, subsample=1 \n",
      "[CV]  colsample_bytree=1, gamma=2.84, learning_rate=0.00851138038202, max_depth=5, min_child_weight=4, n_estimators=287, reg_alpha=0.26, reg_lambda=0.84, subsample=1, score=0.791870, total=  14.3s\n",
      "[CV] colsample_bytree=1, gamma=2.36, learning_rate=0.00275422870334, max_depth=6, min_child_weight=2, n_estimators=723, reg_alpha=0.57, reg_lambda=0.61, subsample=1 \n",
      "[CV]  colsample_bytree=1, gamma=1.48, learning_rate=0.00588843655356, max_depth=7, min_child_weight=2, n_estimators=912, reg_alpha=0.52, reg_lambda=0.82, subsample=1, score=0.797331, total= 1.0min\n",
      "[CV]  colsample_bytree=1, gamma=1.48, learning_rate=0.00588843655356, max_depth=7, min_child_weight=2, n_estimators=912, reg_alpha=0.52, reg_lambda=0.82, subsample=1, score=0.782466, total= 1.0min\n",
      "[CV] colsample_bytree=1, gamma=2.36, learning_rate=0.00275422870334, max_depth=6, min_child_weight=2, n_estimators=723, reg_alpha=0.57, reg_lambda=0.61, subsample=1 \n",
      "[CV] colsample_bytree=1, gamma=2.36, learning_rate=0.00275422870334, max_depth=6, min_child_weight=2, n_estimators=723, reg_alpha=0.57, reg_lambda=0.61, subsample=1 \n",
      "[CV]  colsample_bytree=1, gamma=1.48, learning_rate=0.00588843655356, max_depth=7, min_child_weight=2, n_estimators=912, reg_alpha=0.52, reg_lambda=0.82, subsample=1, score=0.796338, total= 1.0min\n",
      "[CV] colsample_bytree=1, gamma=1.77, learning_rate=0.00204173794467, max_depth=7, min_child_weight=1, n_estimators=406, reg_alpha=0.68, reg_lambda=0.96, subsample=1 \n",
      "[CV]  colsample_bytree=1, gamma=1.48, learning_rate=0.00588843655356, max_depth=7, min_child_weight=2, n_estimators=912, reg_alpha=0.52, reg_lambda=0.82, subsample=1, score=0.796409, total= 1.0min\n",
      "[CV] colsample_bytree=1, gamma=1.77, learning_rate=0.00204173794467, max_depth=7, min_child_weight=1, n_estimators=406, reg_alpha=0.68, reg_lambda=0.96, subsample=1 \n",
      "[CV]  colsample_bytree=1, gamma=2.36, learning_rate=0.00275422870334, max_depth=6, min_child_weight=2, n_estimators=723, reg_alpha=0.57, reg_lambda=0.61, subsample=1, score=0.767070, total=  42.4s\n",
      "[CV] colsample_bytree=1, gamma=1.77, learning_rate=0.00204173794467, max_depth=7, min_child_weight=1, n_estimators=406, reg_alpha=0.68, reg_lambda=0.96, subsample=1 \n",
      "[CV]  colsample_bytree=1, gamma=2.36, learning_rate=0.00275422870334, max_depth=6, min_child_weight=2, n_estimators=723, reg_alpha=0.57, reg_lambda=0.61, subsample=1, score=0.774989, total=  43.8s\n",
      "[CV] colsample_bytree=1, gamma=1.77, learning_rate=0.00204173794467, max_depth=7, min_child_weight=1, n_estimators=406, reg_alpha=0.68, reg_lambda=0.96, subsample=1 \n",
      "[CV]  colsample_bytree=1, gamma=2.36, learning_rate=0.00275422870334, max_depth=6, min_child_weight=2, n_estimators=723, reg_alpha=0.57, reg_lambda=0.61, subsample=1, score=0.797177, total=  43.6s\n",
      "[CV] colsample_bytree=1, gamma=1.77, learning_rate=0.00204173794467, max_depth=7, min_child_weight=1, n_estimators=406, reg_alpha=0.68, reg_lambda=0.96, subsample=1 \n",
      "[CV]  colsample_bytree=1, gamma=2.36, learning_rate=0.00275422870334, max_depth=6, min_child_weight=2, n_estimators=723, reg_alpha=0.57, reg_lambda=0.61, subsample=1, score=0.785057, total=  42.8s\n",
      "[CV] colsample_bytree=1, gamma=1.77, learning_rate=0.00204173794467, max_depth=7, min_child_weight=1, n_estimators=406, reg_alpha=0.68, reg_lambda=0.96, subsample=1 \n",
      "[CV]  colsample_bytree=1, gamma=1.77, learning_rate=0.00204173794467, max_depth=7, min_child_weight=1, n_estimators=406, reg_alpha=0.68, reg_lambda=0.96, subsample=1, score=0.771775, total=  29.4s\n",
      "[CV] colsample_bytree=1, gamma=2.17, learning_rate=0.00288403150313, max_depth=7, min_child_weight=1, n_estimators=647, reg_alpha=0.23, reg_lambda=0.8, subsample=1 \n",
      "[CV]  colsample_bytree=1, gamma=1.77, learning_rate=0.00204173794467, max_depth=7, min_child_weight=1, n_estimators=406, reg_alpha=0.68, reg_lambda=0.96, subsample=1, score=0.769463, total=  29.9s\n",
      "[CV] colsample_bytree=1, gamma=2.17, learning_rate=0.00288403150313, max_depth=7, min_child_weight=1, n_estimators=647, reg_alpha=0.23, reg_lambda=0.8, subsample=1 \n",
      "[CV]  colsample_bytree=1, gamma=2.36, learning_rate=0.00275422870334, max_depth=6, min_child_weight=2, n_estimators=723, reg_alpha=0.57, reg_lambda=0.61, subsample=1, score=0.792515, total=  44.1s\n",
      "[CV] colsample_bytree=1, gamma=2.17, learning_rate=0.00288403150313, max_depth=7, min_child_weight=1, n_estimators=647, reg_alpha=0.23, reg_lambda=0.8, subsample=1 \n",
      "[CV]  colsample_bytree=1, gamma=2.36, learning_rate=0.00275422870334, max_depth=6, min_child_weight=2, n_estimators=723, reg_alpha=0.57, reg_lambda=0.61, subsample=1, score=0.797168, total=  45.2s\n",
      "[CV] colsample_bytree=1, gamma=2.17, learning_rate=0.00288403150313, max_depth=7, min_child_weight=1, n_estimators=647, reg_alpha=0.23, reg_lambda=0.8, subsample=1 \n",
      "[CV]  colsample_bytree=1, gamma=1.77, learning_rate=0.00204173794467, max_depth=7, min_child_weight=1, n_estimators=406, reg_alpha=0.68, reg_lambda=0.96, subsample=1, score=0.794126, total=  30.6s\n",
      "[CV] colsample_bytree=1, gamma=2.17, learning_rate=0.00288403150313, max_depth=7, min_child_weight=1, n_estimators=647, reg_alpha=0.23, reg_lambda=0.8, subsample=1 \n",
      "[CV]  colsample_bytree=1, gamma=1.77, learning_rate=0.00204173794467, max_depth=7, min_child_weight=1, n_estimators=406, reg_alpha=0.68, reg_lambda=0.96, subsample=1, score=0.787093, total=  32.1s\n",
      "[CV] colsample_bytree=1, gamma=2.17, learning_rate=0.00288403150313, max_depth=7, min_child_weight=1, n_estimators=647, reg_alpha=0.23, reg_lambda=0.8, subsample=1 \n",
      "[CV]  colsample_bytree=1, gamma=1.77, learning_rate=0.00204173794467, max_depth=7, min_child_weight=1, n_estimators=406, reg_alpha=0.68, reg_lambda=0.96, subsample=1, score=0.794211, total=  29.3s\n",
      "[CV] colsample_bytree=1, gamma=2.26, learning_rate=0.00229086765277, max_depth=4, min_child_weight=3, n_estimators=640, reg_alpha=0.56, reg_lambda=0.76, subsample=1 \n",
      "[CV]  colsample_bytree=1, gamma=1.77, learning_rate=0.00204173794467, max_depth=7, min_child_weight=1, n_estimators=406, reg_alpha=0.68, reg_lambda=0.96, subsample=1, score=0.789079, total=  32.1s\n",
      "[CV] colsample_bytree=1, gamma=2.26, learning_rate=0.00229086765277, max_depth=4, min_child_weight=3, n_estimators=640, reg_alpha=0.56, reg_lambda=0.76, subsample=1 \n",
      "[CV]  colsample_bytree=1, gamma=2.26, learning_rate=0.00229086765277, max_depth=4, min_child_weight=3, n_estimators=640, reg_alpha=0.56, reg_lambda=0.76, subsample=1, score=0.770449, total=  24.6s\n",
      "[CV] colsample_bytree=1, gamma=2.26, learning_rate=0.00229086765277, max_depth=4, min_child_weight=3, n_estimators=640, reg_alpha=0.56, reg_lambda=0.76, subsample=1 \n",
      "[CV]  colsample_bytree=1, gamma=2.17, learning_rate=0.00288403150313, max_depth=7, min_child_weight=1, n_estimators=647, reg_alpha=0.23, reg_lambda=0.8, subsample=1, score=0.775128, total=  49.7s\n",
      "[CV] colsample_bytree=1, gamma=2.26, learning_rate=0.00229086765277, max_depth=4, min_child_weight=3, n_estimators=640, reg_alpha=0.56, reg_lambda=0.76, subsample=1 \n",
      "[CV]  colsample_bytree=1, gamma=2.17, learning_rate=0.00288403150313, max_depth=7, min_child_weight=1, n_estimators=647, reg_alpha=0.23, reg_lambda=0.8, subsample=1, score=0.768573, total=  49.3s\n",
      "[CV] colsample_bytree=1, gamma=2.26, learning_rate=0.00229086765277, max_depth=4, min_child_weight=3, n_estimators=640, reg_alpha=0.56, reg_lambda=0.76, subsample=1 \n"
     ]
    },
    {
     "name": "stdout",
     "output_type": "stream",
     "text": [
      "[CV]  colsample_bytree=1, gamma=2.26, learning_rate=0.00229086765277, max_depth=4, min_child_weight=3, n_estimators=640, reg_alpha=0.56, reg_lambda=0.76, subsample=1, score=0.768621, total=  24.5s\n",
      "[CV] colsample_bytree=1, gamma=2.26, learning_rate=0.00229086765277, max_depth=4, min_child_weight=3, n_estimators=640, reg_alpha=0.56, reg_lambda=0.76, subsample=1 \n",
      "[CV]  colsample_bytree=1, gamma=2.17, learning_rate=0.00288403150313, max_depth=7, min_child_weight=1, n_estimators=647, reg_alpha=0.23, reg_lambda=0.8, subsample=1, score=0.796962, total=  47.0s\n",
      "[CV] colsample_bytree=1, gamma=3.05, learning_rate=0.0063095734448, max_depth=5, min_child_weight=2, n_estimators=820, reg_alpha=0.26, reg_lambda=0.96, subsample=1 \n",
      "[CV]  colsample_bytree=1, gamma=2.17, learning_rate=0.00288403150313, max_depth=7, min_child_weight=1, n_estimators=647, reg_alpha=0.23, reg_lambda=0.8, subsample=1, score=0.783733, total=  49.1s\n",
      "[CV] colsample_bytree=1, gamma=3.05, learning_rate=0.0063095734448, max_depth=5, min_child_weight=2, n_estimators=820, reg_alpha=0.26, reg_lambda=0.96, subsample=1 \n",
      "[CV]  colsample_bytree=1, gamma=2.17, learning_rate=0.00288403150313, max_depth=7, min_child_weight=1, n_estimators=647, reg_alpha=0.23, reg_lambda=0.8, subsample=1, score=0.798552, total=  45.7s\n",
      "[CV] colsample_bytree=1, gamma=3.05, learning_rate=0.0063095734448, max_depth=5, min_child_weight=2, n_estimators=820, reg_alpha=0.26, reg_lambda=0.96, subsample=1 \n",
      "[CV]  colsample_bytree=1, gamma=2.17, learning_rate=0.00288403150313, max_depth=7, min_child_weight=1, n_estimators=647, reg_alpha=0.23, reg_lambda=0.8, subsample=1, score=0.791653, total=  44.7s\n",
      "[CV] colsample_bytree=1, gamma=3.05, learning_rate=0.0063095734448, max_depth=5, min_child_weight=2, n_estimators=820, reg_alpha=0.26, reg_lambda=0.96, subsample=1 \n",
      "[CV]  colsample_bytree=1, gamma=2.26, learning_rate=0.00229086765277, max_depth=4, min_child_weight=3, n_estimators=640, reg_alpha=0.56, reg_lambda=0.76, subsample=1, score=0.782863, total=  21.3s\n",
      "[CV] colsample_bytree=1, gamma=3.05, learning_rate=0.0063095734448, max_depth=5, min_child_weight=2, n_estimators=820, reg_alpha=0.26, reg_lambda=0.96, subsample=1 \n",
      "[CV]  colsample_bytree=1, gamma=2.26, learning_rate=0.00229086765277, max_depth=4, min_child_weight=3, n_estimators=640, reg_alpha=0.56, reg_lambda=0.76, subsample=1, score=0.791447, total=  22.1s\n",
      "[CV] colsample_bytree=1, gamma=3.05, learning_rate=0.0063095734448, max_depth=5, min_child_weight=2, n_estimators=820, reg_alpha=0.26, reg_lambda=0.96, subsample=1 \n",
      "[CV]  colsample_bytree=1, gamma=2.26, learning_rate=0.00229086765277, max_depth=4, min_child_weight=3, n_estimators=640, reg_alpha=0.56, reg_lambda=0.76, subsample=1, score=0.792782, total=  21.3s\n",
      "[CV]  colsample_bytree=1, gamma=2.26, learning_rate=0.00229086765277, max_depth=4, min_child_weight=3, n_estimators=640, reg_alpha=0.56, reg_lambda=0.76, subsample=1, score=0.793383, total=  22.4s\n",
      "[CV]  colsample_bytree=1, gamma=3.05, learning_rate=0.0063095734448, max_depth=5, min_child_weight=2, n_estimators=820, reg_alpha=0.26, reg_lambda=0.96, subsample=1, score=0.778309, total=  27.1s\n",
      "[CV]  colsample_bytree=1, gamma=3.05, learning_rate=0.0063095734448, max_depth=5, min_child_weight=2, n_estimators=820, reg_alpha=0.26, reg_lambda=0.96, subsample=1, score=0.800015, total=  25.5s\n",
      "[CV]  colsample_bytree=1, gamma=3.05, learning_rate=0.0063095734448, max_depth=5, min_child_weight=2, n_estimators=820, reg_alpha=0.26, reg_lambda=0.96, subsample=1, score=0.772218, total=  31.3s\n",
      "[CV]  colsample_bytree=1, gamma=3.05, learning_rate=0.0063095734448, max_depth=5, min_child_weight=2, n_estimators=820, reg_alpha=0.26, reg_lambda=0.96, subsample=1, score=0.790550, total=  29.5s\n",
      "[CV]  colsample_bytree=1, gamma=3.05, learning_rate=0.0063095734448, max_depth=5, min_child_weight=2, n_estimators=820, reg_alpha=0.26, reg_lambda=0.96, subsample=1, score=0.794932, total=  28.6s\n",
      "[CV]  colsample_bytree=1, gamma=3.05, learning_rate=0.0063095734448, max_depth=5, min_child_weight=2, n_estimators=820, reg_alpha=0.26, reg_lambda=0.96, subsample=1, score=0.800259, total=  28.9s\n"
     ]
    },
    {
     "name": "stderr",
     "output_type": "stream",
     "text": [
      "[Parallel(n_jobs=-1)]: Done 150 out of 150 | elapsed: 11.5min finished\n"
     ]
    },
    {
     "name": "stdout",
     "output_type": "stream",
     "text": [
      "Raw AUC score: 0.789379398328\n",
      "colsample_bytree: 1\n",
      "gamma: 3.0500000000000016\n",
      "learning_rate: 0.0063095734448016848\n",
      "max_depth: 5\n",
      "min_child_weight: 2\n",
      "n_estimators: 820\n",
      "reg_alpha: 0.26000000000000006\n",
      "reg_lambda: 0.9600000000000003\n",
      "subsample: 1\n"
     ]
    },
    {
     "name": "stderr",
     "output_type": "stream",
     "text": [
      "/usr/lib64/python3.6/site-packages/sklearn/model_selection/_search.py:667: DeprecationWarning: The grid_scores_ attribute was deprecated in version 0.18 in favor of the more elaborate cv_results_ attribute. The grid_scores_ attribute will not be available from 0.20\n",
      "  DeprecationWarning)\n"
     ]
    },
    {
     "ename": "ValueError",
     "evalue": "feature_names mismatch: ['f0', 'f1', 'f2', 'f3', 'f4', 'f5', 'f6', 'f7', 'f8', 'f9', 'f10', 'f11', 'f12', 'f13', 'f14', 'f15', 'f16', 'f17', 'f18', 'f19', 'f20', 'f21', 'f22', 'f23', 'f24', 'f25', 'f26', 'f27', 'f28', 'f29', 'f30', 'f31', 'f32', 'f33', 'f34', 'f35', 'f36', 'f37', 'f38', 'f39', 'f40', 'f41', 'f42', 'f43', 'f44', 'f45', 'f46', 'f47'] ['f0', 'f1', 'f2', 'f3', 'f4', 'f5', 'f6', 'f7', 'f8', 'f9', 'f10', 'f11', 'f12', 'f13', 'f14', 'f15', 'f16', 'f17', 'f18', 'f19', 'f20', 'f21', 'f22', 'f23', 'f24', 'f25', 'f26', 'f27', 'f28', 'f29', 'f30', 'f31', 'f32', 'f33', 'f34', 'f35', 'f36', 'f37', 'f38', 'f39', 'f40', 'f41']\nexpected f46, f47, f45, f42, f44, f43 in input data",
     "output_type": "error",
     "traceback": [
      "\u001b[0;31m---------------------------------------------------------------------------\u001b[0m",
      "\u001b[0;31mValueError\u001b[0m                                Traceback (most recent call last)",
      "\u001b[0;32m<ipython-input-103-df90d917d143>\u001b[0m in \u001b[0;36m<module>\u001b[0;34m()\u001b[0m\n\u001b[1;32m     26\u001b[0m     \u001b[0mprint\u001b[0m\u001b[0;34m(\u001b[0m\u001b[0;34m\"%s: %r\"\u001b[0m \u001b[0;34m%\u001b[0m \u001b[0;34m(\u001b[0m\u001b[0mparam_name\u001b[0m\u001b[0;34m,\u001b[0m \u001b[0mbest_parameters\u001b[0m\u001b[0;34m[\u001b[0m\u001b[0mparam_name\u001b[0m\u001b[0;34m]\u001b[0m\u001b[0;34m)\u001b[0m\u001b[0;34m)\u001b[0m\u001b[0;34m\u001b[0m\u001b[0m\n\u001b[1;32m     27\u001b[0m \u001b[0;34m\u001b[0m\u001b[0m\n\u001b[0;32m---> 28\u001b[0;31m \u001b[0mtest_probs\u001b[0m \u001b[0;34m=\u001b[0m \u001b[0mclf\u001b[0m\u001b[0;34m.\u001b[0m\u001b[0mpredict_proba\u001b[0m\u001b[0;34m(\u001b[0m\u001b[0mX_test\u001b[0m\u001b[0;34m.\u001b[0m\u001b[0mas_matrix\u001b[0m\u001b[0;34m(\u001b[0m\u001b[0;34m)\u001b[0m\u001b[0;34m)\u001b[0m\u001b[0;34m[\u001b[0m\u001b[0;34m:\u001b[0m\u001b[0;34m,\u001b[0m\u001b[0;36m1\u001b[0m\u001b[0;34m]\u001b[0m\u001b[0;34m\u001b[0m\u001b[0m\n\u001b[0m",
      "\u001b[0;32m/usr/lib64/python3.6/site-packages/sklearn/utils/metaestimators.py\u001b[0m in \u001b[0;36m<lambda>\u001b[0;34m(*args, **kwargs)\u001b[0m\n\u001b[1;32m     52\u001b[0m \u001b[0;34m\u001b[0m\u001b[0m\n\u001b[1;32m     53\u001b[0m         \u001b[0;31m# lambda, but not partial, allows help() to work with update_wrapper\u001b[0m\u001b[0;34m\u001b[0m\u001b[0;34m\u001b[0m\u001b[0m\n\u001b[0;32m---> 54\u001b[0;31m         \u001b[0mout\u001b[0m \u001b[0;34m=\u001b[0m \u001b[0;32mlambda\u001b[0m \u001b[0;34m*\u001b[0m\u001b[0margs\u001b[0m\u001b[0;34m,\u001b[0m \u001b[0;34m**\u001b[0m\u001b[0mkwargs\u001b[0m\u001b[0;34m:\u001b[0m \u001b[0mself\u001b[0m\u001b[0;34m.\u001b[0m\u001b[0mfn\u001b[0m\u001b[0;34m(\u001b[0m\u001b[0mobj\u001b[0m\u001b[0;34m,\u001b[0m \u001b[0;34m*\u001b[0m\u001b[0margs\u001b[0m\u001b[0;34m,\u001b[0m \u001b[0;34m**\u001b[0m\u001b[0mkwargs\u001b[0m\u001b[0;34m)\u001b[0m\u001b[0;34m\u001b[0m\u001b[0m\n\u001b[0m\u001b[1;32m     55\u001b[0m         \u001b[0;31m# update the docstring of the returned function\u001b[0m\u001b[0;34m\u001b[0m\u001b[0;34m\u001b[0m\u001b[0m\n\u001b[1;32m     56\u001b[0m         \u001b[0mupdate_wrapper\u001b[0m\u001b[0;34m(\u001b[0m\u001b[0mout\u001b[0m\u001b[0;34m,\u001b[0m \u001b[0mself\u001b[0m\u001b[0;34m.\u001b[0m\u001b[0mfn\u001b[0m\u001b[0;34m)\u001b[0m\u001b[0;34m\u001b[0m\u001b[0m\n",
      "\u001b[0;32m/usr/lib64/python3.6/site-packages/sklearn/model_selection/_search.py\u001b[0m in \u001b[0;36mpredict_proba\u001b[0;34m(self, X)\u001b[0m\n\u001b[1;32m    463\u001b[0m         \"\"\"\n\u001b[1;32m    464\u001b[0m         \u001b[0mself\u001b[0m\u001b[0;34m.\u001b[0m\u001b[0m_check_is_fitted\u001b[0m\u001b[0;34m(\u001b[0m\u001b[0;34m'predict_proba'\u001b[0m\u001b[0;34m)\u001b[0m\u001b[0;34m\u001b[0m\u001b[0m\n\u001b[0;32m--> 465\u001b[0;31m         \u001b[0;32mreturn\u001b[0m \u001b[0mself\u001b[0m\u001b[0;34m.\u001b[0m\u001b[0mbest_estimator_\u001b[0m\u001b[0;34m.\u001b[0m\u001b[0mpredict_proba\u001b[0m\u001b[0;34m(\u001b[0m\u001b[0mX\u001b[0m\u001b[0;34m)\u001b[0m\u001b[0;34m\u001b[0m\u001b[0m\n\u001b[0m\u001b[1;32m    466\u001b[0m \u001b[0;34m\u001b[0m\u001b[0m\n\u001b[1;32m    467\u001b[0m     \u001b[0;34m@\u001b[0m\u001b[0mif_delegate_has_method\u001b[0m\u001b[0;34m(\u001b[0m\u001b[0mdelegate\u001b[0m\u001b[0;34m=\u001b[0m\u001b[0;34m(\u001b[0m\u001b[0;34m'best_estimator_'\u001b[0m\u001b[0;34m,\u001b[0m \u001b[0;34m'estimator'\u001b[0m\u001b[0;34m)\u001b[0m\u001b[0;34m)\u001b[0m\u001b[0;34m\u001b[0m\u001b[0m\n",
      "\u001b[0;32m~/Repos/xgboost/python-package/xgboost/sklearn.py\u001b[0m in \u001b[0;36mpredict_proba\u001b[0;34m(self, data, output_margin, ntree_limit)\u001b[0m\n\u001b[1;32m    537\u001b[0m         class_probs = self.get_booster().predict(test_dmatrix,\n\u001b[1;32m    538\u001b[0m                                                  \u001b[0moutput_margin\u001b[0m\u001b[0;34m=\u001b[0m\u001b[0moutput_margin\u001b[0m\u001b[0;34m,\u001b[0m\u001b[0;34m\u001b[0m\u001b[0m\n\u001b[0;32m--> 539\u001b[0;31m                                                  ntree_limit=ntree_limit)\n\u001b[0m\u001b[1;32m    540\u001b[0m         \u001b[0;32mif\u001b[0m \u001b[0mself\u001b[0m\u001b[0;34m.\u001b[0m\u001b[0mobjective\u001b[0m \u001b[0;34m==\u001b[0m \u001b[0;34m\"multi:softprob\"\u001b[0m\u001b[0;34m:\u001b[0m\u001b[0;34m\u001b[0m\u001b[0m\n\u001b[1;32m    541\u001b[0m             \u001b[0;32mreturn\u001b[0m \u001b[0mclass_probs\u001b[0m\u001b[0;34m\u001b[0m\u001b[0m\n",
      "\u001b[0;32m~/Repos/xgboost/python-package/xgboost/core.py\u001b[0m in \u001b[0;36mpredict\u001b[0;34m(self, data, output_margin, ntree_limit, pred_leaf, pred_contribs, approx_contribs)\u001b[0m\n\u001b[1;32m   1042\u001b[0m             \u001b[0moption_mask\u001b[0m \u001b[0;34m|=\u001b[0m \u001b[0;36m0x08\u001b[0m\u001b[0;34m\u001b[0m\u001b[0m\n\u001b[1;32m   1043\u001b[0m \u001b[0;34m\u001b[0m\u001b[0m\n\u001b[0;32m-> 1044\u001b[0;31m         \u001b[0mself\u001b[0m\u001b[0;34m.\u001b[0m\u001b[0m_validate_features\u001b[0m\u001b[0;34m(\u001b[0m\u001b[0mdata\u001b[0m\u001b[0;34m)\u001b[0m\u001b[0;34m\u001b[0m\u001b[0m\n\u001b[0m\u001b[1;32m   1045\u001b[0m \u001b[0;34m\u001b[0m\u001b[0m\n\u001b[1;32m   1046\u001b[0m         \u001b[0mlength\u001b[0m \u001b[0;34m=\u001b[0m \u001b[0mc_bst_ulong\u001b[0m\u001b[0;34m(\u001b[0m\u001b[0;34m)\u001b[0m\u001b[0;34m\u001b[0m\u001b[0m\n",
      "\u001b[0;32m~/Repos/xgboost/python-package/xgboost/core.py\u001b[0m in \u001b[0;36m_validate_features\u001b[0;34m(self, data)\u001b[0m\n\u001b[1;32m   1286\u001b[0m \u001b[0;34m\u001b[0m\u001b[0m\n\u001b[1;32m   1287\u001b[0m                 raise ValueError(msg.format(self.feature_names,\n\u001b[0;32m-> 1288\u001b[0;31m                                             data.feature_names))\n\u001b[0m\u001b[1;32m   1289\u001b[0m \u001b[0;34m\u001b[0m\u001b[0m\n\u001b[1;32m   1290\u001b[0m     \u001b[0;32mdef\u001b[0m \u001b[0mget_split_value_histogram\u001b[0m\u001b[0;34m(\u001b[0m\u001b[0mself\u001b[0m\u001b[0;34m,\u001b[0m \u001b[0mfeature\u001b[0m\u001b[0;34m,\u001b[0m \u001b[0mfmap\u001b[0m\u001b[0;34m=\u001b[0m\u001b[0;34m''\u001b[0m\u001b[0;34m,\u001b[0m \u001b[0mbins\u001b[0m\u001b[0;34m=\u001b[0m\u001b[0;32mNone\u001b[0m\u001b[0;34m,\u001b[0m \u001b[0mas_pandas\u001b[0m\u001b[0;34m=\u001b[0m\u001b[0;32mTrue\u001b[0m\u001b[0;34m)\u001b[0m\u001b[0;34m:\u001b[0m\u001b[0;34m\u001b[0m\u001b[0m\n",
      "\u001b[0;31mValueError\u001b[0m: feature_names mismatch: ['f0', 'f1', 'f2', 'f3', 'f4', 'f5', 'f6', 'f7', 'f8', 'f9', 'f10', 'f11', 'f12', 'f13', 'f14', 'f15', 'f16', 'f17', 'f18', 'f19', 'f20', 'f21', 'f22', 'f23', 'f24', 'f25', 'f26', 'f27', 'f28', 'f29', 'f30', 'f31', 'f32', 'f33', 'f34', 'f35', 'f36', 'f37', 'f38', 'f39', 'f40', 'f41', 'f42', 'f43', 'f44', 'f45', 'f46', 'f47'] ['f0', 'f1', 'f2', 'f3', 'f4', 'f5', 'f6', 'f7', 'f8', 'f9', 'f10', 'f11', 'f12', 'f13', 'f14', 'f15', 'f16', 'f17', 'f18', 'f19', 'f20', 'f21', 'f22', 'f23', 'f24', 'f25', 'f26', 'f27', 'f28', 'f29', 'f30', 'f31', 'f32', 'f33', 'f34', 'f35', 'f36', 'f37', 'f38', 'f39', 'f40', 'f41']\nexpected f46, f47, f45, f42, f44, f43 in input data"
     ]
    }
   ],
   "source": [
    "param_dist = {'n_estimators': stats.randint(200, 1000),\n",
    "              'learning_rate': 10 ** np.arange(-3, -2, 0.01),\n",
    "              'subsample': [1],\n",
    "              'max_depth': [4, 5, 6, 7],\n",
    "              'colsample_bytree': [1],\n",
    "              'min_child_weight': [1, 2, 3, 4],\n",
    "              'gamma' : np.arange(1.1, 3.488, 0.01),\n",
    "              'reg_alpha':np.arange(0.2, 1, 0.01), \n",
    "              'reg_lambda':np.arange(0.6, 1, 0.01)\n",
    "             }\n",
    "\n",
    "clf = RandomizedSearchCV(clf_xgb, \n",
    "                         param_distributions = param_dist,\n",
    "                         cv = 6,  \n",
    "                         n_iter = 25, # you want 5 here not 25 if I understand you correctly \n",
    "                         scoring = 'roc_auc', \n",
    "                         error_score = 0, \n",
    "                         verbose = 3, \n",
    "                         n_jobs = -1)\n",
    "clf.fit(X_train, Y_train)\n",
    "\n",
    "#trust your CV!\n",
    "best_parameters, score, _ = max(clf.grid_scores_, key=lambda x: x[1])\n",
    "print('Raw AUC score:', score)\n",
    "for param_name in sorted(best_parameters.keys()):\n",
    "    print(\"%s: %r\" % (param_name, best_parameters[param_name]))\n",
    "\n",
    "test_probs = clf.predict_proba(X_test.as_matrix())[:,1]"
   ]
  },
  {
   "cell_type": "code",
   "execution_count": null,
   "metadata": {
    "collapsed": true
   },
   "outputs": [],
   "source": [
    "test_probs"
   ]
  },
  {
   "cell_type": "code",
   "execution_count": null,
   "metadata": {
    "collapsed": true
   },
   "outputs": [],
   "source": [
    "test_indices = X_test.index.values\n",
    "test_indices"
   ]
  },
  {
   "cell_type": "code",
   "execution_count": null,
   "metadata": {
    "collapsed": true
   },
   "outputs": [],
   "source": [
    "results = pd.DataFrame({'id':test_indices, 'y':test_probs})"
   ]
  },
  {
   "cell_type": "code",
   "execution_count": null,
   "metadata": {
    "collapsed": true
   },
   "outputs": [],
   "source": [
    "results.head()"
   ]
  },
  {
   "cell_type": "code",
   "execution_count": null,
   "metadata": {
    "collapsed": true
   },
   "outputs": [],
   "source": [
    "results_sorted = results.sort_values(['id'])"
   ]
  },
  {
   "cell_type": "code",
   "execution_count": null,
   "metadata": {
    "collapsed": true
   },
   "outputs": [],
   "source": [
    "results_sorted.head()"
   ]
  },
  {
   "cell_type": "code",
   "execution_count": null,
   "metadata": {
    "collapsed": true
   },
   "outputs": [],
   "source": [
    "test_indices = X_test.index.values\n",
    "test_indices\n",
    "results = pd.DataFrame({'id':test_indices, 'y':test_probs})\n",
    "results_sorted = results.sort_values(['id'])\n",
    "results_sorted.to_csv('test_submition2.csv', index=False)"
   ]
  },
  {
   "cell_type": "code",
   "execution_count": null,
   "metadata": {
    "collapsed": true
   },
   "outputs": [],
   "source": []
  }
 ],
 "metadata": {
  "kernelspec": {
   "display_name": "Python 2",
   "language": "python",
   "name": "python2"
  },
  "language_info": {
   "codemirror_mode": {
    "name": "ipython",
    "version": 3
   },
   "file_extension": ".py",
   "mimetype": "text/x-python",
   "name": "python",
   "nbconvert_exporter": "python",
   "pygments_lexer": "ipython3",
   "version": "3.6.3"
  }
 },
 "nbformat": 4,
 "nbformat_minor": 2
}
