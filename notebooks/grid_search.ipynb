{
 "cells": [
  {
   "cell_type": "code",
   "execution_count": 1,
   "metadata": {
    "collapsed": true
   },
   "outputs": [],
   "source": [
    "import pandas as pd\n",
    "import numpy as np\n",
    "import sys\n",
    "sys.path.append(\"/home/mizworski/Repos/xgboost/python-package/\")\n",
    "from xgboost import XGBClassifier\n",
    "from sklearn.model_selection import train_test_split\n",
    "from sklearn.metrics import accuracy_score\n",
    "from datetime import datetime\n",
    "from sklearn.metrics import roc_curve, auc\n",
    "from sklearn.model_selection import StratifiedKFold\n",
    "import matplotlib.pyplot as plt\n",
    "from sklearn.utils.validation import column_or_1d\n",
    "from scipy import interp"
   ]
  },
  {
   "cell_type": "code",
   "execution_count": 2,
   "metadata": {
    "collapsed": true
   },
   "outputs": [],
   "source": [
    "date_parse_format = '%Y-%m-%d'\n",
    "\n",
    "\n",
    "def preprocess_data(data):\n",
    "    categorical_cols = list(set(data.columns) - set(['birth_date', 'contact_date', 'pdays', 'campaign', 'y']))\n",
    "    \n",
    "    X = pd.get_dummies(data, columns=categorical_cols, drop_first=True)\n",
    "    X['contacted'] = pd.get_dummies(X.pdays < 999, drop_first=True)\n",
    "    now = datetime.strptime(X.contact_date.max(), date_parse_format)\n",
    "    X['age'] = X.apply(lambda r: int((now - datetime.strptime(r.birth_date, date_parse_format)).days / 365.25), axis=1)\n",
    "    X.drop('birth_date', axis=1, inplace=True)\n",
    "    X['days_since_contact'] =  X.apply(lambda r: int((now - datetime.strptime(r.contact_date, date_parse_format)).days), axis=1)\n",
    "    X.drop('contact_date', axis=1, inplace=True)\n",
    "    \n",
    "    train_x = X[X.y != 'unknown']\n",
    "    test_x = X[X.y == 'unknown']\n",
    "    train_y = train_x['y']\n",
    "    train_y = pd.get_dummies(train_y, drop_first=True)\n",
    "    train_x = train_x.drop('y', axis=1)\n",
    "    test_x = test_x.drop('y', axis=1)\n",
    "    \n",
    "#     train_y = column_or_1d(train_y)\n",
    "#     train_x = train_x.as_matrix()\n",
    "#     test_x = test_x.as_matrix()\n",
    "    \n",
    "    return train_x, train_y, test_x\n",
    "    "
   ]
  },
  {
   "cell_type": "code",
   "execution_count": 3,
   "metadata": {
    "collapsed": true
   },
   "outputs": [],
   "source": [
    "df = pd.read_csv('../data/bank-classification.csv', index_col=0)\n",
    "df = df.sample(frac=1)"
   ]
  },
  {
   "cell_type": "code",
   "execution_count": 4,
   "metadata": {
    "collapsed": true
   },
   "outputs": [],
   "source": [
    "X_train, Y_train, X_test = preprocess_data(df)"
   ]
  },
  {
   "cell_type": "code",
   "execution_count": 5,
   "metadata": {},
   "outputs": [],
   "source": [
    "\n",
    "from sklearn.model_selection import GridSearchCV, RandomizedSearchCV"
   ]
  },
  {
   "cell_type": "code",
   "execution_count": 6,
   "metadata": {},
   "outputs": [],
   "source": [
    "\n",
    "X_train = X_train.as_matrix()\n",
    "Y_train = column_or_1d(Y_train)"
   ]
  },
  {
   "cell_type": "code",
   "execution_count": 18,
   "metadata": {
    "collapsed": true
   },
   "outputs": [],
   "source": [
    "from numpy import random"
   ]
  },
  {
   "cell_type": "code",
   "execution_count": 65,
   "metadata": {},
   "outputs": [],
   "source": [
    "clf_xgb = XGBClassifier(objective = 'binary:logistic')\n",
    "param_dist = {'n_estimators': stats.randint(200, 1000),\n",
    "              'learning_rate': np.arange(0.01, 0.7, 0.01),\n",
    "              'subsample': np.arange(0.95, 1.0, 0.001),\n",
    "              'max_depth': [3, 4, 5, 6, 7, 9],\n",
    "              'colsample_bytree': np.arange(0.95, 1.0, 0.001),\n",
    "              'min_child_weight': [1, 2, 3, 4]\n",
    "             }\n",
    "param_dist = {'n_estimators': stats.randint(200, 1000),\n",
    "              'learning_rate': 10 ** np.arange(-3, -1, 0.01),\n",
    "              'subsample': [1],\n",
    "              'max_depth': [3, 4, 5, 6, 7, 8, 9],\n",
    "              'colsample_bytree': [1],\n",
    "              'min_child_weight': [1, 2, 3],\n",
    "              'gamma' : np.arange(0, 1.488, 0.01),\n",
    "              'reg_alpha':np.arange(0, 1, 0.01), \n",
    "              'reg_lambda':np.arange(0, 1, 0.01)\n",
    "             }\n",
    "\n",
    "# numFolds = 5\n",
    "# kfold_5 = cross_validation.KFold(n = len(X), shuffle = True, n_folds = numFolds)\n",
    "\n",
    "clf = RandomizedSearchCV(clf_xgb, \n",
    "                         param_distributions = param_dist,\n",
    "                         cv = 6,  \n",
    "                         n_iter = 25, # you want 5 here not 25 if I understand you correctly \n",
    "                         scoring = 'roc_auc', \n",
    "                         error_score = 0, \n",
    "                         verbose = 3, \n",
    "                         n_jobs = -1)"
   ]
  },
  {
   "cell_type": "code",
   "execution_count": 67,
   "metadata": {
    "scrolled": true
   },
   "outputs": [
    {
     "name": "stdout",
     "output_type": "stream",
     "text": [
      "Fitting 6 folds for each of 25 candidates, totalling 150 fits\n",
      "[CV] colsample_bytree=1, gamma=1.21, learning_rate=0.00354813389234, max_depth=9, min_child_weight=2, n_estimators=550, reg_alpha=0.5, reg_lambda=0.78, subsample=1 \n",
      "[CV] colsample_bytree=1, gamma=1.21, learning_rate=0.00354813389234, max_depth=9, min_child_weight=2, n_estimators=550, reg_alpha=0.5, reg_lambda=0.78, subsample=1 \n",
      "[CV] colsample_bytree=1, gamma=1.21, learning_rate=0.00354813389234, max_depth=9, min_child_weight=2, n_estimators=550, reg_alpha=0.5, reg_lambda=0.78, subsample=1 \n",
      "[CV] colsample_bytree=1, gamma=1.21, learning_rate=0.00354813389234, max_depth=9, min_child_weight=2, n_estimators=550, reg_alpha=0.5, reg_lambda=0.78, subsample=1 \n",
      "[CV] colsample_bytree=1, gamma=1.21, learning_rate=0.00354813389234, max_depth=9, min_child_weight=2, n_estimators=550, reg_alpha=0.5, reg_lambda=0.78, subsample=1 \n",
      "[CV] colsample_bytree=1, gamma=1.21, learning_rate=0.00354813389234, max_depth=9, min_child_weight=2, n_estimators=550, reg_alpha=0.5, reg_lambda=0.78, subsample=1 \n",
      "[CV] colsample_bytree=1, gamma=0.99, learning_rate=0.021379620895, max_depth=6, min_child_weight=2, n_estimators=276, reg_alpha=0.76, reg_lambda=0.52, subsample=1 \n",
      "[CV] colsample_bytree=1, gamma=0.99, learning_rate=0.021379620895, max_depth=6, min_child_weight=2, n_estimators=276, reg_alpha=0.76, reg_lambda=0.52, subsample=1 \n",
      "[CV]  colsample_bytree=1, gamma=0.99, learning_rate=0.021379620895, max_depth=6, min_child_weight=2, n_estimators=276, reg_alpha=0.76, reg_lambda=0.52, subsample=1, score=0.807125, total=  11.8s\n",
      "[CV] colsample_bytree=1, gamma=0.99, learning_rate=0.021379620895, max_depth=6, min_child_weight=2, n_estimators=276, reg_alpha=0.76, reg_lambda=0.52, subsample=1 \n",
      "[CV]  colsample_bytree=1, gamma=0.99, learning_rate=0.021379620895, max_depth=6, min_child_weight=2, n_estimators=276, reg_alpha=0.76, reg_lambda=0.52, subsample=1, score=0.792102, total=  12.4s\n",
      "[CV] colsample_bytree=1, gamma=0.99, learning_rate=0.021379620895, max_depth=6, min_child_weight=2, n_estimators=276, reg_alpha=0.76, reg_lambda=0.52, subsample=1 \n",
      "[CV]  colsample_bytree=1, gamma=0.99, learning_rate=0.021379620895, max_depth=6, min_child_weight=2, n_estimators=276, reg_alpha=0.76, reg_lambda=0.52, subsample=1, score=0.792507, total=  12.5s\n",
      "[CV] colsample_bytree=1, gamma=0.99, learning_rate=0.021379620895, max_depth=6, min_child_weight=2, n_estimators=276, reg_alpha=0.76, reg_lambda=0.52, subsample=1 \n",
      "[CV]  colsample_bytree=1, gamma=0.99, learning_rate=0.021379620895, max_depth=6, min_child_weight=2, n_estimators=276, reg_alpha=0.76, reg_lambda=0.52, subsample=1, score=0.787890, total=  12.2s\n",
      "[CV] colsample_bytree=1, gamma=0.99, learning_rate=0.021379620895, max_depth=6, min_child_weight=2, n_estimators=276, reg_alpha=0.76, reg_lambda=0.52, subsample=1 \n",
      "[CV]  colsample_bytree=1, gamma=0.99, learning_rate=0.021379620895, max_depth=6, min_child_weight=2, n_estimators=276, reg_alpha=0.76, reg_lambda=0.52, subsample=1, score=0.780749, total=  11.4s\n",
      "[CV] colsample_bytree=1, gamma=0.71, learning_rate=0.00181970085861, max_depth=4, min_child_weight=2, n_estimators=422, reg_alpha=0.83, reg_lambda=0.88, subsample=1 \n",
      "[CV]  colsample_bytree=1, gamma=0.99, learning_rate=0.021379620895, max_depth=6, min_child_weight=2, n_estimators=276, reg_alpha=0.76, reg_lambda=0.52, subsample=1, score=0.766529, total=  11.2s\n",
      "[CV] colsample_bytree=1, gamma=0.71, learning_rate=0.00181970085861, max_depth=4, min_child_weight=2, n_estimators=422, reg_alpha=0.83, reg_lambda=0.88, subsample=1 \n",
      "[CV]  colsample_bytree=1, gamma=1.21, learning_rate=0.00354813389234, max_depth=9, min_child_weight=2, n_estimators=550, reg_alpha=0.5, reg_lambda=0.78, subsample=1, score=0.766015, total=  37.4s\n",
      "[CV] colsample_bytree=1, gamma=0.71, learning_rate=0.00181970085861, max_depth=4, min_child_weight=2, n_estimators=422, reg_alpha=0.83, reg_lambda=0.88, subsample=1 \n",
      "[CV]  colsample_bytree=1, gamma=1.21, learning_rate=0.00354813389234, max_depth=9, min_child_weight=2, n_estimators=550, reg_alpha=0.5, reg_lambda=0.78, subsample=1, score=0.795545, total=  37.9s\n",
      "[CV] colsample_bytree=1, gamma=0.71, learning_rate=0.00181970085861, max_depth=4, min_child_weight=2, n_estimators=422, reg_alpha=0.83, reg_lambda=0.88, subsample=1 \n",
      "[CV]  colsample_bytree=1, gamma=1.21, learning_rate=0.00354813389234, max_depth=9, min_child_weight=2, n_estimators=550, reg_alpha=0.5, reg_lambda=0.78, subsample=1, score=0.790980, total=  38.2s\n",
      "[CV] colsample_bytree=1, gamma=0.71, learning_rate=0.00181970085861, max_depth=4, min_child_weight=2, n_estimators=422, reg_alpha=0.83, reg_lambda=0.88, subsample=1 \n",
      "[CV]  colsample_bytree=1, gamma=1.21, learning_rate=0.00354813389234, max_depth=9, min_child_weight=2, n_estimators=550, reg_alpha=0.5, reg_lambda=0.78, subsample=1, score=0.788029, total=  38.6s\n",
      "[CV] colsample_bytree=1, gamma=0.71, learning_rate=0.00181970085861, max_depth=4, min_child_weight=2, n_estimators=422, reg_alpha=0.83, reg_lambda=0.88, subsample=1 \n",
      "[CV]  colsample_bytree=1, gamma=1.21, learning_rate=0.00354813389234, max_depth=9, min_child_weight=2, n_estimators=550, reg_alpha=0.5, reg_lambda=0.78, subsample=1, score=0.781312, total=  38.7s\n",
      "[CV] colsample_bytree=1, gamma=0.11, learning_rate=0.00512861383991, max_depth=5, min_child_weight=3, n_estimators=940, reg_alpha=0.72, reg_lambda=0.35, subsample=1 \n",
      "[CV]  colsample_bytree=1, gamma=1.21, learning_rate=0.00354813389234, max_depth=9, min_child_weight=2, n_estimators=550, reg_alpha=0.5, reg_lambda=0.78, subsample=1, score=0.808839, total=  38.8s\n",
      "[CV] colsample_bytree=1, gamma=0.11, learning_rate=0.00512861383991, max_depth=5, min_child_weight=3, n_estimators=940, reg_alpha=0.72, reg_lambda=0.35, subsample=1 \n",
      "[CV]  colsample_bytree=1, gamma=0.71, learning_rate=0.00181970085861, max_depth=4, min_child_weight=2, n_estimators=422, reg_alpha=0.83, reg_lambda=0.88, subsample=1, score=0.792630, total=  13.6s\n",
      "[CV]  colsample_bytree=1, gamma=0.71, learning_rate=0.00181970085861, max_depth=4, min_child_weight=2, n_estimators=422, reg_alpha=0.83, reg_lambda=0.88, subsample=1, score=0.790170, total=  13.4s\n",
      "[CV] colsample_bytree=1, gamma=0.11, learning_rate=0.00512861383991, max_depth=5, min_child_weight=3, n_estimators=940, reg_alpha=0.72, reg_lambda=0.35, subsample=1 \n",
      "[CV] colsample_bytree=1, gamma=0.11, learning_rate=0.00512861383991, max_depth=5, min_child_weight=3, n_estimators=940, reg_alpha=0.72, reg_lambda=0.35, subsample=1 \n",
      "[CV]  colsample_bytree=1, gamma=0.71, learning_rate=0.00181970085861, max_depth=4, min_child_weight=2, n_estimators=422, reg_alpha=0.83, reg_lambda=0.88, subsample=1, score=0.785831, total=  12.7s\n",
      "[CV] colsample_bytree=1, gamma=0.11, learning_rate=0.00512861383991, max_depth=5, min_child_weight=3, n_estimators=940, reg_alpha=0.72, reg_lambda=0.35, subsample=1 \n",
      "[CV]  colsample_bytree=1, gamma=0.71, learning_rate=0.00181970085861, max_depth=4, min_child_weight=2, n_estimators=422, reg_alpha=0.83, reg_lambda=0.88, subsample=1, score=0.774234, total=  12.4s\n",
      "[CV] colsample_bytree=1, gamma=0.11, learning_rate=0.00512861383991, max_depth=5, min_child_weight=3, n_estimators=940, reg_alpha=0.72, reg_lambda=0.35, subsample=1 \n"
     ]
    },
    {
     "name": "stderr",
     "output_type": "stream",
     "text": [
      "[Parallel(n_jobs=-1)]: Done  16 tasks      | elapsed:   53.7s\n"
     ]
    },
    {
     "name": "stdout",
     "output_type": "stream",
     "text": [
      "[CV]  colsample_bytree=1, gamma=0.71, learning_rate=0.00181970085861, max_depth=4, min_child_weight=2, n_estimators=422, reg_alpha=0.83, reg_lambda=0.88, subsample=1, score=0.760944, total=  12.4s\n",
      "[CV] colsample_bytree=1, gamma=0.44, learning_rate=0.0251188643151, max_depth=7, min_child_weight=2, n_estimators=512, reg_alpha=0.75, reg_lambda=0.57, subsample=1 \n",
      "[CV]  colsample_bytree=1, gamma=0.71, learning_rate=0.00181970085861, max_depth=4, min_child_weight=2, n_estimators=422, reg_alpha=0.83, reg_lambda=0.88, subsample=1, score=0.786929, total=  13.5s\n",
      "[CV] colsample_bytree=1, gamma=0.44, learning_rate=0.0251188643151, max_depth=7, min_child_weight=2, n_estimators=512, reg_alpha=0.75, reg_lambda=0.57, subsample=1 \n",
      "[CV]  colsample_bytree=1, gamma=0.11, learning_rate=0.00512861383991, max_depth=5, min_child_weight=3, n_estimators=940, reg_alpha=0.72, reg_lambda=0.35, subsample=1, score=0.794637, total=  33.6s\n",
      "[CV] colsample_bytree=1, gamma=0.44, learning_rate=0.0251188643151, max_depth=7, min_child_weight=2, n_estimators=512, reg_alpha=0.75, reg_lambda=0.57, subsample=1 \n",
      "[CV]  colsample_bytree=1, gamma=0.11, learning_rate=0.00512861383991, max_depth=5, min_child_weight=3, n_estimators=940, reg_alpha=0.72, reg_lambda=0.35, subsample=1, score=0.808459, total=  34.8s\n",
      "[CV] colsample_bytree=1, gamma=0.44, learning_rate=0.0251188643151, max_depth=7, min_child_weight=2, n_estimators=512, reg_alpha=0.75, reg_lambda=0.57, subsample=1 \n",
      "[CV]  colsample_bytree=1, gamma=0.44, learning_rate=0.0251188643151, max_depth=7, min_child_weight=2, n_estimators=512, reg_alpha=0.75, reg_lambda=0.57, subsample=1, score=0.782541, total=  24.6s\n",
      "[CV] colsample_bytree=1, gamma=0.44, learning_rate=0.0251188643151, max_depth=7, min_child_weight=2, n_estimators=512, reg_alpha=0.75, reg_lambda=0.57, subsample=1 \n",
      "[CV]  colsample_bytree=1, gamma=0.44, learning_rate=0.0251188643151, max_depth=7, min_child_weight=2, n_estimators=512, reg_alpha=0.75, reg_lambda=0.57, subsample=1, score=0.801694, total=  26.1s\n",
      "[CV] colsample_bytree=1, gamma=0.44, learning_rate=0.0251188643151, max_depth=7, min_child_weight=2, n_estimators=512, reg_alpha=0.75, reg_lambda=0.57, subsample=1 \n",
      "[CV]  colsample_bytree=1, gamma=0.11, learning_rate=0.00512861383991, max_depth=5, min_child_weight=3, n_estimators=940, reg_alpha=0.72, reg_lambda=0.35, subsample=1, score=0.794042, total=  32.9s\n",
      "[CV] colsample_bytree=1, gamma=0.63, learning_rate=0.0181970085861, max_depth=5, min_child_weight=3, n_estimators=536, reg_alpha=0.36, reg_lambda=0.06, subsample=1 \n",
      "[CV]  colsample_bytree=1, gamma=0.11, learning_rate=0.00512861383991, max_depth=5, min_child_weight=3, n_estimators=940, reg_alpha=0.72, reg_lambda=0.35, subsample=1, score=0.794773, total=  34.7s\n",
      "[CV] colsample_bytree=1, gamma=0.63, learning_rate=0.0181970085861, max_depth=5, min_child_weight=3, n_estimators=536, reg_alpha=0.36, reg_lambda=0.06, subsample=1 \n",
      "[CV]  colsample_bytree=1, gamma=0.11, learning_rate=0.00512861383991, max_depth=5, min_child_weight=3, n_estimators=940, reg_alpha=0.72, reg_lambda=0.35, subsample=1, score=0.782696, total=  33.8s\n",
      "[CV] colsample_bytree=1, gamma=0.63, learning_rate=0.0181970085861, max_depth=5, min_child_weight=3, n_estimators=536, reg_alpha=0.36, reg_lambda=0.06, subsample=1 \n",
      "[CV]  colsample_bytree=1, gamma=0.11, learning_rate=0.00512861383991, max_depth=5, min_child_weight=3, n_estimators=940, reg_alpha=0.72, reg_lambda=0.35, subsample=1, score=0.763056, total=  36.3s\n",
      "[CV] colsample_bytree=1, gamma=0.63, learning_rate=0.0181970085861, max_depth=5, min_child_weight=3, n_estimators=536, reg_alpha=0.36, reg_lambda=0.06, subsample=1 \n",
      "[CV]  colsample_bytree=1, gamma=0.44, learning_rate=0.0251188643151, max_depth=7, min_child_weight=2, n_estimators=512, reg_alpha=0.75, reg_lambda=0.57, subsample=1, score=0.787152, total=  27.7s\n",
      "[CV] colsample_bytree=1, gamma=0.63, learning_rate=0.0181970085861, max_depth=5, min_child_weight=3, n_estimators=536, reg_alpha=0.36, reg_lambda=0.06, subsample=1 \n",
      "[CV]  colsample_bytree=1, gamma=0.44, learning_rate=0.0251188643151, max_depth=7, min_child_weight=2, n_estimators=512, reg_alpha=0.75, reg_lambda=0.57, subsample=1, score=0.780551, total=  27.7s\n",
      "[CV] colsample_bytree=1, gamma=0.63, learning_rate=0.0181970085861, max_depth=5, min_child_weight=3, n_estimators=536, reg_alpha=0.36, reg_lambda=0.06, subsample=1 \n",
      "[CV]  colsample_bytree=1, gamma=0.63, learning_rate=0.0181970085861, max_depth=5, min_child_weight=3, n_estimators=536, reg_alpha=0.36, reg_lambda=0.06, subsample=1, score=0.807624, total=  21.6s\n",
      "[CV] colsample_bytree=1, gamma=1.15, learning_rate=0.00338844156139, max_depth=6, min_child_weight=3, n_estimators=914, reg_alpha=0.88, reg_lambda=0.3, subsample=1 \n",
      "[CV]  colsample_bytree=1, gamma=0.63, learning_rate=0.0181970085861, max_depth=5, min_child_weight=3, n_estimators=536, reg_alpha=0.36, reg_lambda=0.06, subsample=1, score=0.789129, total=  20.0s\n",
      "[CV] colsample_bytree=1, gamma=1.15, learning_rate=0.00338844156139, max_depth=6, min_child_weight=3, n_estimators=914, reg_alpha=0.88, reg_lambda=0.3, subsample=1 \n",
      "[CV]  colsample_bytree=1, gamma=0.44, learning_rate=0.0251188643151, max_depth=7, min_child_weight=2, n_estimators=512, reg_alpha=0.75, reg_lambda=0.57, subsample=1, score=0.771602, total=  27.7s\n",
      "[CV] colsample_bytree=1, gamma=1.15, learning_rate=0.00338844156139, max_depth=6, min_child_weight=3, n_estimators=914, reg_alpha=0.88, reg_lambda=0.3, subsample=1 \n",
      "[CV]  colsample_bytree=1, gamma=0.63, learning_rate=0.0181970085861, max_depth=5, min_child_weight=3, n_estimators=536, reg_alpha=0.36, reg_lambda=0.06, subsample=1, score=0.788339, total=  19.8s\n",
      "[CV] colsample_bytree=1, gamma=1.15, learning_rate=0.00338844156139, max_depth=6, min_child_weight=3, n_estimators=914, reg_alpha=0.88, reg_lambda=0.3, subsample=1 \n",
      "[CV]  colsample_bytree=1, gamma=0.44, learning_rate=0.0251188643151, max_depth=7, min_child_weight=2, n_estimators=512, reg_alpha=0.75, reg_lambda=0.57, subsample=1, score=0.763338, total=  27.4s\n",
      "[CV] colsample_bytree=1, gamma=1.15, learning_rate=0.00338844156139, max_depth=6, min_child_weight=3, n_estimators=914, reg_alpha=0.88, reg_lambda=0.3, subsample=1 \n",
      "[CV]  colsample_bytree=1, gamma=0.63, learning_rate=0.0181970085861, max_depth=5, min_child_weight=3, n_estimators=536, reg_alpha=0.36, reg_lambda=0.06, subsample=1, score=0.785892, total=  18.9s\n",
      "[CV] colsample_bytree=1, gamma=1.15, learning_rate=0.00338844156139, max_depth=6, min_child_weight=3, n_estimators=914, reg_alpha=0.88, reg_lambda=0.3, subsample=1 \n",
      "[CV]  colsample_bytree=1, gamma=0.63, learning_rate=0.0181970085861, max_depth=5, min_child_weight=3, n_estimators=536, reg_alpha=0.36, reg_lambda=0.06, subsample=1, score=0.783875, total=  20.5s\n",
      "[CV] colsample_bytree=1, gamma=0.82, learning_rate=0.00389045144994, max_depth=5, min_child_weight=3, n_estimators=295, reg_alpha=0.63, reg_lambda=0.47, subsample=1 \n",
      "[CV]  colsample_bytree=1, gamma=0.63, learning_rate=0.0181970085861, max_depth=5, min_child_weight=3, n_estimators=536, reg_alpha=0.36, reg_lambda=0.06, subsample=1, score=0.762866, total=  20.1s\n",
      "[CV] colsample_bytree=1, gamma=0.82, learning_rate=0.00389045144994, max_depth=5, min_child_weight=3, n_estimators=295, reg_alpha=0.63, reg_lambda=0.47, subsample=1 \n",
      "[CV]  colsample_bytree=1, gamma=0.82, learning_rate=0.00389045144994, max_depth=5, min_child_weight=3, n_estimators=295, reg_alpha=0.63, reg_lambda=0.47, subsample=1, score=0.791838, total=   9.7s\n",
      "[CV] colsample_bytree=1, gamma=0.82, learning_rate=0.00389045144994, max_depth=5, min_child_weight=3, n_estimators=295, reg_alpha=0.63, reg_lambda=0.47, subsample=1 \n",
      "[CV]  colsample_bytree=1, gamma=0.82, learning_rate=0.00389045144994, max_depth=5, min_child_weight=3, n_estimators=295, reg_alpha=0.63, reg_lambda=0.47, subsample=1, score=0.796863, total=  10.3s\n",
      "[CV] colsample_bytree=1, gamma=0.82, learning_rate=0.00389045144994, max_depth=5, min_child_weight=3, n_estimators=295, reg_alpha=0.63, reg_lambda=0.47, subsample=1 \n",
      "[CV]  colsample_bytree=1, gamma=0.82, learning_rate=0.00389045144994, max_depth=5, min_child_weight=3, n_estimators=295, reg_alpha=0.63, reg_lambda=0.47, subsample=1, score=0.787370, total=  12.6s\n",
      "[CV] colsample_bytree=1, gamma=0.82, learning_rate=0.00389045144994, max_depth=5, min_child_weight=3, n_estimators=295, reg_alpha=0.63, reg_lambda=0.47, subsample=1 \n"
     ]
    },
    {
     "name": "stdout",
     "output_type": "stream",
     "text": [
      "[CV]  colsample_bytree=1, gamma=0.82, learning_rate=0.00389045144994, max_depth=5, min_child_weight=3, n_estimators=295, reg_alpha=0.63, reg_lambda=0.47, subsample=1, score=0.792486, total=  13.0s\n",
      "[CV] colsample_bytree=1, gamma=0.82, learning_rate=0.00389045144994, max_depth=5, min_child_weight=3, n_estimators=295, reg_alpha=0.63, reg_lambda=0.47, subsample=1 \n",
      "[CV]  colsample_bytree=1, gamma=1.15, learning_rate=0.00338844156139, max_depth=6, min_child_weight=3, n_estimators=914, reg_alpha=0.88, reg_lambda=0.3, subsample=1, score=0.807335, total=  43.0s\n",
      "[CV] colsample_bytree=1, gamma=0.79, learning_rate=0.00660693448008, max_depth=5, min_child_weight=3, n_estimators=766, reg_alpha=0.79, reg_lambda=0.71, subsample=1 \n",
      "[CV]  colsample_bytree=1, gamma=1.15, learning_rate=0.00338844156139, max_depth=6, min_child_weight=3, n_estimators=914, reg_alpha=0.88, reg_lambda=0.3, subsample=1, score=0.781678, total=  42.7s\n",
      "[CV] colsample_bytree=1, gamma=0.79, learning_rate=0.00660693448008, max_depth=5, min_child_weight=3, n_estimators=766, reg_alpha=0.79, reg_lambda=0.71, subsample=1 \n",
      "[CV]  colsample_bytree=1, gamma=1.15, learning_rate=0.00338844156139, max_depth=6, min_child_weight=3, n_estimators=914, reg_alpha=0.88, reg_lambda=0.3, subsample=1, score=0.792360, total=  44.1s\n",
      "[CV] colsample_bytree=1, gamma=0.79, learning_rate=0.00660693448008, max_depth=5, min_child_weight=3, n_estimators=766, reg_alpha=0.79, reg_lambda=0.71, subsample=1 \n",
      "[CV]  colsample_bytree=1, gamma=1.15, learning_rate=0.00338844156139, max_depth=6, min_child_weight=3, n_estimators=914, reg_alpha=0.88, reg_lambda=0.3, subsample=1, score=0.790981, total=  43.9s\n",
      "[CV] colsample_bytree=1, gamma=0.79, learning_rate=0.00660693448008, max_depth=5, min_child_weight=3, n_estimators=766, reg_alpha=0.79, reg_lambda=0.71, subsample=1 \n",
      "[CV]  colsample_bytree=1, gamma=1.15, learning_rate=0.00338844156139, max_depth=6, min_child_weight=3, n_estimators=914, reg_alpha=0.88, reg_lambda=0.3, subsample=1, score=0.789399, total=  44.8s\n",
      "[CV] colsample_bytree=1, gamma=0.79, learning_rate=0.00660693448008, max_depth=5, min_child_weight=3, n_estimators=766, reg_alpha=0.79, reg_lambda=0.71, subsample=1 \n",
      "[CV]  colsample_bytree=1, gamma=1.15, learning_rate=0.00338844156139, max_depth=6, min_child_weight=3, n_estimators=914, reg_alpha=0.88, reg_lambda=0.3, subsample=1, score=0.765454, total=  43.8s\n",
      "[CV] colsample_bytree=1, gamma=0.79, learning_rate=0.00660693448008, max_depth=5, min_child_weight=3, n_estimators=766, reg_alpha=0.79, reg_lambda=0.71, subsample=1 \n",
      "[CV]  colsample_bytree=1, gamma=0.82, learning_rate=0.00389045144994, max_depth=5, min_child_weight=3, n_estimators=295, reg_alpha=0.63, reg_lambda=0.47, subsample=1, score=0.777295, total=  10.8s\n",
      "[CV] colsample_bytree=1, gamma=0.3, learning_rate=0.0052480746025, max_depth=5, min_child_weight=3, n_estimators=302, reg_alpha=0.4, reg_lambda=0.49, subsample=1 \n",
      "[CV]  colsample_bytree=1, gamma=0.82, learning_rate=0.00389045144994, max_depth=5, min_child_weight=3, n_estimators=295, reg_alpha=0.63, reg_lambda=0.47, subsample=1, score=0.760995, total=  10.8s\n",
      "[CV] colsample_bytree=1, gamma=0.3, learning_rate=0.0052480746025, max_depth=5, min_child_weight=3, n_estimators=302, reg_alpha=0.4, reg_lambda=0.49, subsample=1 \n",
      "[CV]  colsample_bytree=1, gamma=0.3, learning_rate=0.0052480746025, max_depth=5, min_child_weight=3, n_estimators=302, reg_alpha=0.4, reg_lambda=0.49, subsample=1, score=0.796190, total=  12.1s\n",
      "[CV] colsample_bytree=1, gamma=0.3, learning_rate=0.0052480746025, max_depth=5, min_child_weight=3, n_estimators=302, reg_alpha=0.4, reg_lambda=0.49, subsample=1 \n",
      "[CV]  colsample_bytree=1, gamma=0.3, learning_rate=0.0052480746025, max_depth=5, min_child_weight=3, n_estimators=302, reg_alpha=0.4, reg_lambda=0.49, subsample=1, score=0.793489, total=  12.4s\n",
      "[CV] colsample_bytree=1, gamma=0.3, learning_rate=0.0052480746025, max_depth=5, min_child_weight=3, n_estimators=302, reg_alpha=0.4, reg_lambda=0.49, subsample=1 \n",
      "[CV]  colsample_bytree=1, gamma=0.79, learning_rate=0.00660693448008, max_depth=5, min_child_weight=3, n_estimators=766, reg_alpha=0.79, reg_lambda=0.71, subsample=1, score=0.809619, total=  28.8s\n",
      "[CV] colsample_bytree=1, gamma=0.3, learning_rate=0.0052480746025, max_depth=5, min_child_weight=3, n_estimators=302, reg_alpha=0.4, reg_lambda=0.49, subsample=1 \n",
      "[CV]  colsample_bytree=1, gamma=0.79, learning_rate=0.00660693448008, max_depth=5, min_child_weight=3, n_estimators=766, reg_alpha=0.79, reg_lambda=0.71, subsample=1, score=0.793729, total=  27.0s\n",
      "[CV] colsample_bytree=1, gamma=0.3, learning_rate=0.0052480746025, max_depth=5, min_child_weight=3, n_estimators=302, reg_alpha=0.4, reg_lambda=0.49, subsample=1 \n",
      "[CV]  colsample_bytree=1, gamma=0.79, learning_rate=0.00660693448008, max_depth=5, min_child_weight=3, n_estimators=766, reg_alpha=0.79, reg_lambda=0.71, subsample=1, score=0.795161, total=  27.0s\n",
      "[CV] colsample_bytree=1, gamma=0.31, learning_rate=0.00316227766017, max_depth=8, min_child_weight=1, n_estimators=469, reg_alpha=0.35, reg_lambda=0.66, subsample=1 \n",
      "[CV]  colsample_bytree=1, gamma=0.3, learning_rate=0.0052480746025, max_depth=5, min_child_weight=3, n_estimators=302, reg_alpha=0.4, reg_lambda=0.49, subsample=1, score=0.790233, total=  10.1s\n",
      "[CV] colsample_bytree=1, gamma=0.31, learning_rate=0.00316227766017, max_depth=8, min_child_weight=1, n_estimators=469, reg_alpha=0.35, reg_lambda=0.66, subsample=1 \n",
      "[CV]  colsample_bytree=1, gamma=0.79, learning_rate=0.00660693448008, max_depth=5, min_child_weight=3, n_estimators=766, reg_alpha=0.79, reg_lambda=0.71, subsample=1, score=0.782613, total=  27.7s\n",
      "[CV] colsample_bytree=1, gamma=0.31, learning_rate=0.00316227766017, max_depth=8, min_child_weight=1, n_estimators=469, reg_alpha=0.35, reg_lambda=0.66, subsample=1 \n",
      "[CV]  colsample_bytree=1, gamma=0.3, learning_rate=0.0052480746025, max_depth=5, min_child_weight=3, n_estimators=302, reg_alpha=0.4, reg_lambda=0.49, subsample=1, score=0.791183, total=  10.5s\n",
      "[CV] colsample_bytree=1, gamma=0.31, learning_rate=0.00316227766017, max_depth=8, min_child_weight=1, n_estimators=469, reg_alpha=0.35, reg_lambda=0.66, subsample=1 \n",
      "[CV]  colsample_bytree=1, gamma=0.79, learning_rate=0.00660693448008, max_depth=5, min_child_weight=3, n_estimators=766, reg_alpha=0.79, reg_lambda=0.71, subsample=1, score=0.793301, total=  28.4s\n",
      "[CV] colsample_bytree=1, gamma=0.31, learning_rate=0.00316227766017, max_depth=8, min_child_weight=1, n_estimators=469, reg_alpha=0.35, reg_lambda=0.66, subsample=1 \n",
      "[CV]  colsample_bytree=1, gamma=0.79, learning_rate=0.00660693448008, max_depth=5, min_child_weight=3, n_estimators=766, reg_alpha=0.79, reg_lambda=0.71, subsample=1, score=0.764694, total=  27.6s\n",
      "[CV] colsample_bytree=1, gamma=0.31, learning_rate=0.00316227766017, max_depth=8, min_child_weight=1, n_estimators=469, reg_alpha=0.35, reg_lambda=0.66, subsample=1 \n",
      "[CV]  colsample_bytree=1, gamma=0.3, learning_rate=0.0052480746025, max_depth=5, min_child_weight=3, n_estimators=302, reg_alpha=0.4, reg_lambda=0.49, subsample=1, score=0.778263, total=  10.5s\n",
      "[CV] colsample_bytree=1, gamma=0.03, learning_rate=0.0144543977075, max_depth=9, min_child_weight=3, n_estimators=577, reg_alpha=0.06, reg_lambda=0.54, subsample=1 \n",
      "[CV]  colsample_bytree=1, gamma=0.3, learning_rate=0.0052480746025, max_depth=5, min_child_weight=3, n_estimators=302, reg_alpha=0.4, reg_lambda=0.49, subsample=1, score=0.759073, total=  11.1s\n",
      "[CV] colsample_bytree=1, gamma=0.03, learning_rate=0.0144543977075, max_depth=9, min_child_weight=3, n_estimators=577, reg_alpha=0.06, reg_lambda=0.54, subsample=1 \n",
      "[CV]  colsample_bytree=1, gamma=0.31, learning_rate=0.00316227766017, max_depth=8, min_child_weight=1, n_estimators=469, reg_alpha=0.35, reg_lambda=0.66, subsample=1, score=0.792775, total=  28.1s\n",
      "[CV] colsample_bytree=1, gamma=0.03, learning_rate=0.0144543977075, max_depth=9, min_child_weight=3, n_estimators=577, reg_alpha=0.06, reg_lambda=0.54, subsample=1 \n",
      "[CV]  colsample_bytree=1, gamma=0.31, learning_rate=0.00316227766017, max_depth=8, min_child_weight=1, n_estimators=469, reg_alpha=0.35, reg_lambda=0.66, subsample=1, score=0.801408, total=  29.4s\n",
      "[CV] colsample_bytree=1, gamma=0.03, learning_rate=0.0144543977075, max_depth=9, min_child_weight=3, n_estimators=577, reg_alpha=0.06, reg_lambda=0.54, subsample=1 \n"
     ]
    },
    {
     "name": "stdout",
     "output_type": "stream",
     "text": [
      "[CV]  colsample_bytree=1, gamma=0.31, learning_rate=0.00316227766017, max_depth=8, min_child_weight=1, n_estimators=469, reg_alpha=0.35, reg_lambda=0.66, subsample=1, score=0.778701, total=  28.1s\n",
      "[CV] colsample_bytree=1, gamma=0.03, learning_rate=0.0144543977075, max_depth=9, min_child_weight=3, n_estimators=577, reg_alpha=0.06, reg_lambda=0.54, subsample=1 \n",
      "[CV]  colsample_bytree=1, gamma=0.31, learning_rate=0.00316227766017, max_depth=8, min_child_weight=1, n_estimators=469, reg_alpha=0.35, reg_lambda=0.66, subsample=1, score=0.764708, total=  27.8s\n",
      "[CV] colsample_bytree=1, gamma=0.03, learning_rate=0.0144543977075, max_depth=9, min_child_weight=3, n_estimators=577, reg_alpha=0.06, reg_lambda=0.54, subsample=1 \n",
      "[CV]  colsample_bytree=1, gamma=0.31, learning_rate=0.00316227766017, max_depth=8, min_child_weight=1, n_estimators=469, reg_alpha=0.35, reg_lambda=0.66, subsample=1, score=0.789417, total=  29.1s\n",
      "[CV] colsample_bytree=1, gamma=0.19, learning_rate=0.00912010839356, max_depth=5, min_child_weight=1, n_estimators=293, reg_alpha=0.02, reg_lambda=0.18, subsample=1 \n",
      "[CV]  colsample_bytree=1, gamma=0.31, learning_rate=0.00316227766017, max_depth=8, min_child_weight=1, n_estimators=469, reg_alpha=0.35, reg_lambda=0.66, subsample=1, score=0.791674, total=  29.6s\n",
      "[CV] colsample_bytree=1, gamma=0.19, learning_rate=0.00912010839356, max_depth=5, min_child_weight=1, n_estimators=293, reg_alpha=0.02, reg_lambda=0.18, subsample=1 \n",
      "[CV]  colsample_bytree=1, gamma=0.19, learning_rate=0.00912010839356, max_depth=5, min_child_weight=1, n_estimators=293, reg_alpha=0.02, reg_lambda=0.18, subsample=1, score=0.805169, total=   9.9s\n",
      "[CV] colsample_bytree=1, gamma=0.19, learning_rate=0.00912010839356, max_depth=5, min_child_weight=1, n_estimators=293, reg_alpha=0.02, reg_lambda=0.18, subsample=1 \n",
      "[CV]  colsample_bytree=1, gamma=0.19, learning_rate=0.00912010839356, max_depth=5, min_child_weight=1, n_estimators=293, reg_alpha=0.02, reg_lambda=0.18, subsample=1, score=0.792888, total=  10.2s\n",
      "[CV] colsample_bytree=1, gamma=0.19, learning_rate=0.00912010839356, max_depth=5, min_child_weight=1, n_estimators=293, reg_alpha=0.02, reg_lambda=0.18, subsample=1 \n",
      "[CV]  colsample_bytree=1, gamma=0.03, learning_rate=0.0144543977075, max_depth=9, min_child_weight=3, n_estimators=577, reg_alpha=0.06, reg_lambda=0.54, subsample=1, score=0.799762, total=  37.1s\n",
      "[CV] colsample_bytree=1, gamma=0.19, learning_rate=0.00912010839356, max_depth=5, min_child_weight=1, n_estimators=293, reg_alpha=0.02, reg_lambda=0.18, subsample=1 \n",
      "[CV]  colsample_bytree=1, gamma=0.03, learning_rate=0.0144543977075, max_depth=9, min_child_weight=3, n_estimators=577, reg_alpha=0.06, reg_lambda=0.54, subsample=1, score=0.776949, total=  36.9s\n",
      "[CV] colsample_bytree=1, gamma=0.19, learning_rate=0.00912010839356, max_depth=5, min_child_weight=1, n_estimators=293, reg_alpha=0.02, reg_lambda=0.18, subsample=1 \n",
      "[CV]  colsample_bytree=1, gamma=0.19, learning_rate=0.00912010839356, max_depth=5, min_child_weight=1, n_estimators=293, reg_alpha=0.02, reg_lambda=0.18, subsample=1, score=0.787892, total=   9.7s\n",
      "[CV] colsample_bytree=1, gamma=0.94, learning_rate=0.0407380277804, max_depth=7, min_child_weight=2, n_estimators=419, reg_alpha=0.29, reg_lambda=0.56, subsample=1 \n",
      "[CV]  colsample_bytree=1, gamma=0.19, learning_rate=0.00912010839356, max_depth=5, min_child_weight=1, n_estimators=293, reg_alpha=0.02, reg_lambda=0.18, subsample=1, score=0.789749, total=  10.3s\n",
      "[CV] colsample_bytree=1, gamma=0.94, learning_rate=0.0407380277804, max_depth=7, min_child_weight=2, n_estimators=419, reg_alpha=0.29, reg_lambda=0.56, subsample=1 \n",
      "[CV]  colsample_bytree=1, gamma=0.19, learning_rate=0.00912010839356, max_depth=5, min_child_weight=1, n_estimators=293, reg_alpha=0.02, reg_lambda=0.18, subsample=1, score=0.780445, total=   9.4s\n",
      "[CV] colsample_bytree=1, gamma=0.94, learning_rate=0.0407380277804, max_depth=7, min_child_weight=2, n_estimators=419, reg_alpha=0.29, reg_lambda=0.56, subsample=1 \n",
      "[CV]  colsample_bytree=1, gamma=0.19, learning_rate=0.00912010839356, max_depth=5, min_child_weight=1, n_estimators=293, reg_alpha=0.02, reg_lambda=0.18, subsample=1, score=0.762757, total=   9.4s\n",
      "[CV] colsample_bytree=1, gamma=0.94, learning_rate=0.0407380277804, max_depth=7, min_child_weight=2, n_estimators=419, reg_alpha=0.29, reg_lambda=0.56, subsample=1 \n",
      "[CV]  colsample_bytree=1, gamma=0.03, learning_rate=0.0144543977075, max_depth=9, min_child_weight=3, n_estimators=577, reg_alpha=0.06, reg_lambda=0.54, subsample=1, score=0.783343, total=  35.6s\n",
      "[CV] colsample_bytree=1, gamma=0.94, learning_rate=0.0407380277804, max_depth=7, min_child_weight=2, n_estimators=419, reg_alpha=0.29, reg_lambda=0.56, subsample=1 \n",
      "[CV]  colsample_bytree=1, gamma=0.03, learning_rate=0.0144543977075, max_depth=9, min_child_weight=3, n_estimators=577, reg_alpha=0.06, reg_lambda=0.54, subsample=1, score=0.780872, total=  35.6s\n",
      "[CV] colsample_bytree=1, gamma=0.94, learning_rate=0.0407380277804, max_depth=7, min_child_weight=2, n_estimators=419, reg_alpha=0.29, reg_lambda=0.56, subsample=1 \n",
      "[CV]  colsample_bytree=1, gamma=0.03, learning_rate=0.0144543977075, max_depth=9, min_child_weight=3, n_estimators=577, reg_alpha=0.06, reg_lambda=0.54, subsample=1, score=0.768955, total=  35.8s\n",
      "[CV] colsample_bytree=1, gamma=0.78, learning_rate=0.0346736850453, max_depth=5, min_child_weight=2, n_estimators=958, reg_alpha=0.28, reg_lambda=0.24, subsample=1 \n",
      "[CV]  colsample_bytree=1, gamma=0.03, learning_rate=0.0144543977075, max_depth=9, min_child_weight=3, n_estimators=577, reg_alpha=0.06, reg_lambda=0.54, subsample=1, score=0.763913, total=  36.9s\n",
      "[CV] colsample_bytree=1, gamma=0.78, learning_rate=0.0346736850453, max_depth=5, min_child_weight=2, n_estimators=958, reg_alpha=0.28, reg_lambda=0.24, subsample=1 \n",
      "[CV]  colsample_bytree=1, gamma=0.94, learning_rate=0.0407380277804, max_depth=7, min_child_weight=2, n_estimators=419, reg_alpha=0.29, reg_lambda=0.56, subsample=1, score=0.797708, total=  18.7s\n",
      "[CV] colsample_bytree=1, gamma=0.78, learning_rate=0.0346736850453, max_depth=5, min_child_weight=2, n_estimators=958, reg_alpha=0.28, reg_lambda=0.24, subsample=1 \n",
      "[CV]  colsample_bytree=1, gamma=0.94, learning_rate=0.0407380277804, max_depth=7, min_child_weight=2, n_estimators=419, reg_alpha=0.29, reg_lambda=0.56, subsample=1, score=0.780641, total=  18.7s\n",
      "[CV] colsample_bytree=1, gamma=0.78, learning_rate=0.0346736850453, max_depth=5, min_child_weight=2, n_estimators=958, reg_alpha=0.28, reg_lambda=0.24, subsample=1 \n",
      "[CV]  colsample_bytree=1, gamma=0.94, learning_rate=0.0407380277804, max_depth=7, min_child_weight=2, n_estimators=419, reg_alpha=0.29, reg_lambda=0.56, subsample=1, score=0.783455, total=  18.9s\n",
      "[CV] colsample_bytree=1, gamma=0.78, learning_rate=0.0346736850453, max_depth=5, min_child_weight=2, n_estimators=958, reg_alpha=0.28, reg_lambda=0.24, subsample=1 \n",
      "[CV]  colsample_bytree=1, gamma=0.94, learning_rate=0.0407380277804, max_depth=7, min_child_weight=2, n_estimators=419, reg_alpha=0.29, reg_lambda=0.56, subsample=1, score=0.777255, total=  20.2s\n",
      "[CV] colsample_bytree=1, gamma=0.78, learning_rate=0.0346736850453, max_depth=5, min_child_weight=2, n_estimators=958, reg_alpha=0.28, reg_lambda=0.24, subsample=1 \n",
      "[CV]  colsample_bytree=1, gamma=0.94, learning_rate=0.0407380277804, max_depth=7, min_child_weight=2, n_estimators=419, reg_alpha=0.29, reg_lambda=0.56, subsample=1, score=0.775814, total=  19.1s\n",
      "[CV] colsample_bytree=1, gamma=0.61, learning_rate=0.0295120922667, max_depth=7, min_child_weight=2, n_estimators=745, reg_alpha=0.31, reg_lambda=0.14, subsample=1 \n",
      "[CV]  colsample_bytree=1, gamma=0.94, learning_rate=0.0407380277804, max_depth=7, min_child_weight=2, n_estimators=419, reg_alpha=0.29, reg_lambda=0.56, subsample=1, score=0.763826, total=  19.9s\n",
      "[CV] colsample_bytree=1, gamma=0.61, learning_rate=0.0295120922667, max_depth=7, min_child_weight=2, n_estimators=745, reg_alpha=0.31, reg_lambda=0.14, subsample=1 \n",
      "[CV]  colsample_bytree=1, gamma=0.78, learning_rate=0.0346736850453, max_depth=5, min_child_weight=2, n_estimators=958, reg_alpha=0.28, reg_lambda=0.24, subsample=1, score=0.805546, total=  29.9s\n",
      "[CV] colsample_bytree=1, gamma=0.61, learning_rate=0.0295120922667, max_depth=7, min_child_weight=2, n_estimators=745, reg_alpha=0.31, reg_lambda=0.14, subsample=1 \n"
     ]
    },
    {
     "name": "stdout",
     "output_type": "stream",
     "text": [
      "[CV]  colsample_bytree=1, gamma=0.78, learning_rate=0.0346736850453, max_depth=5, min_child_weight=2, n_estimators=958, reg_alpha=0.28, reg_lambda=0.24, subsample=1, score=0.785773, total=  30.4s\n",
      "[CV] colsample_bytree=1, gamma=0.61, learning_rate=0.0295120922667, max_depth=7, min_child_weight=2, n_estimators=745, reg_alpha=0.31, reg_lambda=0.14, subsample=1 \n",
      "[CV]  colsample_bytree=1, gamma=0.78, learning_rate=0.0346736850453, max_depth=5, min_child_weight=2, n_estimators=958, reg_alpha=0.28, reg_lambda=0.24, subsample=1, score=0.787394, total=  30.2s\n",
      "[CV] colsample_bytree=1, gamma=0.61, learning_rate=0.0295120922667, max_depth=7, min_child_weight=2, n_estimators=745, reg_alpha=0.31, reg_lambda=0.14, subsample=1 \n",
      "[CV]  colsample_bytree=1, gamma=0.78, learning_rate=0.0346736850453, max_depth=5, min_child_weight=2, n_estimators=958, reg_alpha=0.28, reg_lambda=0.24, subsample=1, score=0.785525, total=  30.8s\n",
      "[CV] colsample_bytree=1, gamma=0.61, learning_rate=0.0295120922667, max_depth=7, min_child_weight=2, n_estimators=745, reg_alpha=0.31, reg_lambda=0.14, subsample=1 \n",
      "[CV]  colsample_bytree=1, gamma=0.78, learning_rate=0.0346736850453, max_depth=5, min_child_weight=2, n_estimators=958, reg_alpha=0.28, reg_lambda=0.24, subsample=1, score=0.784342, total=  29.9s\n",
      "[CV] colsample_bytree=1, gamma=0.16, learning_rate=0.0117489755494, max_depth=3, min_child_weight=1, n_estimators=563, reg_alpha=0.67, reg_lambda=0.59, subsample=1 \n",
      "[CV]  colsample_bytree=1, gamma=0.78, learning_rate=0.0346736850453, max_depth=5, min_child_weight=2, n_estimators=958, reg_alpha=0.28, reg_lambda=0.24, subsample=1, score=0.760988, total=  29.8s\n",
      "[CV] colsample_bytree=1, gamma=0.16, learning_rate=0.0117489755494, max_depth=3, min_child_weight=1, n_estimators=563, reg_alpha=0.67, reg_lambda=0.59, subsample=1 \n",
      "[CV]  colsample_bytree=1, gamma=0.16, learning_rate=0.0117489755494, max_depth=3, min_child_weight=1, n_estimators=563, reg_alpha=0.67, reg_lambda=0.59, subsample=1, score=0.803627, total=  10.7s\n",
      "[CV] colsample_bytree=1, gamma=0.16, learning_rate=0.0117489755494, max_depth=3, min_child_weight=1, n_estimators=563, reg_alpha=0.67, reg_lambda=0.59, subsample=1 \n",
      "[CV]  colsample_bytree=1, gamma=0.61, learning_rate=0.0295120922667, max_depth=7, min_child_weight=2, n_estimators=745, reg_alpha=0.31, reg_lambda=0.14, subsample=1, score=0.797572, total=  32.8s\n",
      "[CV] colsample_bytree=1, gamma=0.16, learning_rate=0.0117489755494, max_depth=3, min_child_weight=1, n_estimators=563, reg_alpha=0.67, reg_lambda=0.59, subsample=1 \n",
      "[CV]  colsample_bytree=1, gamma=0.16, learning_rate=0.0117489755494, max_depth=3, min_child_weight=1, n_estimators=563, reg_alpha=0.67, reg_lambda=0.59, subsample=1, score=0.794278, total=  10.9s\n",
      "[CV] colsample_bytree=1, gamma=0.16, learning_rate=0.0117489755494, max_depth=3, min_child_weight=1, n_estimators=563, reg_alpha=0.67, reg_lambda=0.59, subsample=1 \n",
      "[CV]  colsample_bytree=1, gamma=0.61, learning_rate=0.0295120922667, max_depth=7, min_child_weight=2, n_estimators=745, reg_alpha=0.31, reg_lambda=0.14, subsample=1, score=0.777198, total=  33.6s\n",
      "[CV] colsample_bytree=1, gamma=0.16, learning_rate=0.0117489755494, max_depth=3, min_child_weight=1, n_estimators=563, reg_alpha=0.67, reg_lambda=0.59, subsample=1 \n",
      "[CV]  colsample_bytree=1, gamma=0.16, learning_rate=0.0117489755494, max_depth=3, min_child_weight=1, n_estimators=563, reg_alpha=0.67, reg_lambda=0.59, subsample=1, score=0.795665, total=  10.9s\n",
      "[CV] colsample_bytree=1, gamma=0.9, learning_rate=0.0457088189615, max_depth=4, min_child_weight=3, n_estimators=684, reg_alpha=0.31, reg_lambda=0.27, subsample=1 \n",
      "[CV]  colsample_bytree=1, gamma=0.16, learning_rate=0.0117489755494, max_depth=3, min_child_weight=1, n_estimators=563, reg_alpha=0.67, reg_lambda=0.59, subsample=1, score=0.790883, total=  10.8s\n",
      "[CV] colsample_bytree=1, gamma=0.9, learning_rate=0.0457088189615, max_depth=4, min_child_weight=3, n_estimators=684, reg_alpha=0.31, reg_lambda=0.27, subsample=1 \n",
      "[CV]  colsample_bytree=1, gamma=0.16, learning_rate=0.0117489755494, max_depth=3, min_child_weight=1, n_estimators=563, reg_alpha=0.67, reg_lambda=0.59, subsample=1, score=0.781438, total=  10.7s\n",
      "[CV] colsample_bytree=1, gamma=0.9, learning_rate=0.0457088189615, max_depth=4, min_child_weight=3, n_estimators=684, reg_alpha=0.31, reg_lambda=0.27, subsample=1 \n",
      "[CV]  colsample_bytree=1, gamma=0.61, learning_rate=0.0295120922667, max_depth=7, min_child_weight=2, n_estimators=745, reg_alpha=0.31, reg_lambda=0.14, subsample=1, score=0.780479, total=  33.0s\n",
      "[CV] colsample_bytree=1, gamma=0.9, learning_rate=0.0457088189615, max_depth=4, min_child_weight=3, n_estimators=684, reg_alpha=0.31, reg_lambda=0.27, subsample=1 \n",
      "[CV]  colsample_bytree=1, gamma=0.61, learning_rate=0.0295120922667, max_depth=7, min_child_weight=2, n_estimators=745, reg_alpha=0.31, reg_lambda=0.14, subsample=1, score=0.771036, total=  32.7s\n",
      "[CV]  colsample_bytree=1, gamma=0.16, learning_rate=0.0117489755494, max_depth=3, min_child_weight=1, n_estimators=563, reg_alpha=0.67, reg_lambda=0.59, subsample=1, score=0.765668, total=  10.8s\n",
      "[CV] colsample_bytree=1, gamma=0.9, learning_rate=0.0457088189615, max_depth=4, min_child_weight=3, n_estimators=684, reg_alpha=0.31, reg_lambda=0.27, subsample=1 \n",
      "[CV] colsample_bytree=1, gamma=0.9, learning_rate=0.0457088189615, max_depth=4, min_child_weight=3, n_estimators=684, reg_alpha=0.31, reg_lambda=0.27, subsample=1 \n",
      "[CV]  colsample_bytree=1, gamma=0.61, learning_rate=0.0295120922667, max_depth=7, min_child_weight=2, n_estimators=745, reg_alpha=0.31, reg_lambda=0.14, subsample=1, score=0.772038, total=  32.7s\n",
      "[CV] colsample_bytree=1, gamma=0.12, learning_rate=0.0208929613085, max_depth=3, min_child_weight=2, n_estimators=608, reg_alpha=0.43, reg_lambda=0.66, subsample=1 \n",
      "[CV]  colsample_bytree=1, gamma=0.61, learning_rate=0.0295120922667, max_depth=7, min_child_weight=2, n_estimators=745, reg_alpha=0.31, reg_lambda=0.14, subsample=1, score=0.763092, total=  32.3s\n",
      "[CV] colsample_bytree=1, gamma=0.12, learning_rate=0.0208929613085, max_depth=3, min_child_weight=2, n_estimators=608, reg_alpha=0.43, reg_lambda=0.66, subsample=1 \n",
      "[CV]  colsample_bytree=1, gamma=0.9, learning_rate=0.0457088189615, max_depth=4, min_child_weight=3, n_estimators=684, reg_alpha=0.31, reg_lambda=0.27, subsample=1, score=0.809153, total=  17.1s\n",
      "[CV] colsample_bytree=1, gamma=0.12, learning_rate=0.0208929613085, max_depth=3, min_child_weight=2, n_estimators=608, reg_alpha=0.43, reg_lambda=0.66, subsample=1 \n",
      "[CV]  colsample_bytree=1, gamma=0.12, learning_rate=0.0208929613085, max_depth=3, min_child_weight=2, n_estimators=608, reg_alpha=0.43, reg_lambda=0.66, subsample=1, score=0.803291, total=  11.6s\n",
      "[CV] colsample_bytree=1, gamma=0.12, learning_rate=0.0208929613085, max_depth=3, min_child_weight=2, n_estimators=608, reg_alpha=0.43, reg_lambda=0.66, subsample=1 \n",
      "[CV]  colsample_bytree=1, gamma=0.12, learning_rate=0.0208929613085, max_depth=3, min_child_weight=2, n_estimators=608, reg_alpha=0.43, reg_lambda=0.66, subsample=1, score=0.793769, total=  11.5s\n",
      "[CV] colsample_bytree=1, gamma=0.12, learning_rate=0.0208929613085, max_depth=3, min_child_weight=2, n_estimators=608, reg_alpha=0.43, reg_lambda=0.66, subsample=1 \n",
      "[CV]  colsample_bytree=1, gamma=0.9, learning_rate=0.0457088189615, max_depth=4, min_child_weight=3, n_estimators=684, reg_alpha=0.31, reg_lambda=0.27, subsample=1, score=0.783876, total=  17.0s\n",
      "[CV] colsample_bytree=1, gamma=0.12, learning_rate=0.0208929613085, max_depth=3, min_child_weight=2, n_estimators=608, reg_alpha=0.43, reg_lambda=0.66, subsample=1 \n",
      "[CV]  colsample_bytree=1, gamma=0.9, learning_rate=0.0457088189615, max_depth=4, min_child_weight=3, n_estimators=684, reg_alpha=0.31, reg_lambda=0.27, subsample=1, score=0.790591, total=  16.9s\n",
      "[CV] colsample_bytree=1, gamma=0.29, learning_rate=0.0181970085861, max_depth=8, min_child_weight=2, n_estimators=834, reg_alpha=0.25, reg_lambda=0.68, subsample=1 \n",
      "[CV]  colsample_bytree=1, gamma=0.9, learning_rate=0.0457088189615, max_depth=4, min_child_weight=3, n_estimators=684, reg_alpha=0.31, reg_lambda=0.27, subsample=1, score=0.781664, total=  17.2s\n",
      "[CV] colsample_bytree=1, gamma=0.29, learning_rate=0.0181970085861, max_depth=8, min_child_weight=2, n_estimators=834, reg_alpha=0.25, reg_lambda=0.68, subsample=1 \n"
     ]
    },
    {
     "name": "stdout",
     "output_type": "stream",
     "text": [
      "[CV]  colsample_bytree=1, gamma=0.9, learning_rate=0.0457088189615, max_depth=4, min_child_weight=3, n_estimators=684, reg_alpha=0.31, reg_lambda=0.27, subsample=1, score=0.780468, total=  16.9s\n",
      "[CV] colsample_bytree=1, gamma=0.29, learning_rate=0.0181970085861, max_depth=8, min_child_weight=2, n_estimators=834, reg_alpha=0.25, reg_lambda=0.68, subsample=1 \n",
      "[CV]  colsample_bytree=1, gamma=0.9, learning_rate=0.0457088189615, max_depth=4, min_child_weight=3, n_estimators=684, reg_alpha=0.31, reg_lambda=0.27, subsample=1, score=0.763383, total=  17.1s\n",
      "[CV] colsample_bytree=1, gamma=0.29, learning_rate=0.0181970085861, max_depth=8, min_child_weight=2, n_estimators=834, reg_alpha=0.25, reg_lambda=0.68, subsample=1 \n",
      "[CV]  colsample_bytree=1, gamma=0.12, learning_rate=0.0208929613085, max_depth=3, min_child_weight=2, n_estimators=608, reg_alpha=0.43, reg_lambda=0.66, subsample=1, score=0.794334, total=  11.8s\n",
      "[CV] colsample_bytree=1, gamma=0.29, learning_rate=0.0181970085861, max_depth=8, min_child_weight=2, n_estimators=834, reg_alpha=0.25, reg_lambda=0.68, subsample=1 \n",
      "[CV]  colsample_bytree=1, gamma=0.12, learning_rate=0.0208929613085, max_depth=3, min_child_weight=2, n_estimators=608, reg_alpha=0.43, reg_lambda=0.66, subsample=1, score=0.788517, total=  11.7s\n",
      "[CV] colsample_bytree=1, gamma=0.29, learning_rate=0.0181970085861, max_depth=8, min_child_weight=2, n_estimators=834, reg_alpha=0.25, reg_lambda=0.68, subsample=1 \n",
      "[CV]  colsample_bytree=1, gamma=0.12, learning_rate=0.0208929613085, max_depth=3, min_child_weight=2, n_estimators=608, reg_alpha=0.43, reg_lambda=0.66, subsample=1, score=0.782943, total=  11.7s\n",
      "[CV] colsample_bytree=1, gamma=0.23, learning_rate=0.00194984459976, max_depth=7, min_child_weight=3, n_estimators=203, reg_alpha=0.13, reg_lambda=0.01, subsample=1 \n"
     ]
    },
    {
     "name": "stderr",
     "output_type": "stream",
     "text": [
      "[Parallel(n_jobs=-1)]: Done 112 tasks      | elapsed:  5.7min\n"
     ]
    },
    {
     "name": "stdout",
     "output_type": "stream",
     "text": [
      "[CV]  colsample_bytree=1, gamma=0.12, learning_rate=0.0208929613085, max_depth=3, min_child_weight=2, n_estimators=608, reg_alpha=0.43, reg_lambda=0.66, subsample=1, score=0.764965, total=  11.8s\n",
      "[CV] colsample_bytree=1, gamma=0.23, learning_rate=0.00194984459976, max_depth=7, min_child_weight=3, n_estimators=203, reg_alpha=0.13, reg_lambda=0.01, subsample=1 \n",
      "[CV]  colsample_bytree=1, gamma=0.23, learning_rate=0.00194984459976, max_depth=7, min_child_weight=3, n_estimators=203, reg_alpha=0.13, reg_lambda=0.01, subsample=1, score=0.786453, total=   9.3s\n",
      "[CV] colsample_bytree=1, gamma=0.23, learning_rate=0.00194984459976, max_depth=7, min_child_weight=3, n_estimators=203, reg_alpha=0.13, reg_lambda=0.01, subsample=1 \n",
      "[CV]  colsample_bytree=1, gamma=0.23, learning_rate=0.00194984459976, max_depth=7, min_child_weight=3, n_estimators=203, reg_alpha=0.13, reg_lambda=0.01, subsample=1, score=0.784241, total=   9.5s\n",
      "[CV] colsample_bytree=1, gamma=0.23, learning_rate=0.00194984459976, max_depth=7, min_child_weight=3, n_estimators=203, reg_alpha=0.13, reg_lambda=0.01, subsample=1 \n",
      "[CV]  colsample_bytree=1, gamma=0.23, learning_rate=0.00194984459976, max_depth=7, min_child_weight=3, n_estimators=203, reg_alpha=0.13, reg_lambda=0.01, subsample=1, score=0.783714, total=   9.2s\n",
      "[CV] colsample_bytree=1, gamma=0.23, learning_rate=0.00194984459976, max_depth=7, min_child_weight=3, n_estimators=203, reg_alpha=0.13, reg_lambda=0.01, subsample=1 \n",
      "[CV]  colsample_bytree=1, gamma=0.23, learning_rate=0.00194984459976, max_depth=7, min_child_weight=3, n_estimators=203, reg_alpha=0.13, reg_lambda=0.01, subsample=1, score=0.782091, total=   9.2s\n",
      "[CV] colsample_bytree=1, gamma=0.23, learning_rate=0.00194984459976, max_depth=7, min_child_weight=3, n_estimators=203, reg_alpha=0.13, reg_lambda=0.01, subsample=1 \n",
      "[CV]  colsample_bytree=1, gamma=0.23, learning_rate=0.00194984459976, max_depth=7, min_child_weight=3, n_estimators=203, reg_alpha=0.13, reg_lambda=0.01, subsample=1, score=0.777496, total=   9.5s\n",
      "[CV] colsample_bytree=1, gamma=0.66, learning_rate=0.026302679919, max_depth=9, min_child_weight=3, n_estimators=401, reg_alpha=0.89, reg_lambda=0.72, subsample=1 \n",
      "[CV]  colsample_bytree=1, gamma=0.23, learning_rate=0.00194984459976, max_depth=7, min_child_weight=3, n_estimators=203, reg_alpha=0.13, reg_lambda=0.01, subsample=1, score=0.759661, total=  10.2s\n",
      "[CV] colsample_bytree=1, gamma=0.66, learning_rate=0.026302679919, max_depth=9, min_child_weight=3, n_estimators=401, reg_alpha=0.89, reg_lambda=0.72, subsample=1 \n",
      "[CV]  colsample_bytree=1, gamma=0.29, learning_rate=0.0181970085861, max_depth=8, min_child_weight=2, n_estimators=834, reg_alpha=0.25, reg_lambda=0.68, subsample=1, score=0.795603, total=  42.5s\n",
      "[CV] colsample_bytree=1, gamma=0.66, learning_rate=0.026302679919, max_depth=9, min_child_weight=3, n_estimators=401, reg_alpha=0.89, reg_lambda=0.72, subsample=1 \n",
      "[CV]  colsample_bytree=1, gamma=0.29, learning_rate=0.0181970085861, max_depth=8, min_child_weight=2, n_estimators=834, reg_alpha=0.25, reg_lambda=0.68, subsample=1, score=0.781377, total=  42.7s\n",
      "[CV] colsample_bytree=1, gamma=0.66, learning_rate=0.026302679919, max_depth=9, min_child_weight=3, n_estimators=401, reg_alpha=0.89, reg_lambda=0.72, subsample=1 \n",
      "[CV]  colsample_bytree=1, gamma=0.29, learning_rate=0.0181970085861, max_depth=8, min_child_weight=2, n_estimators=834, reg_alpha=0.25, reg_lambda=0.68, subsample=1, score=0.771285, total=  43.1s\n",
      "[CV] colsample_bytree=1, gamma=0.66, learning_rate=0.026302679919, max_depth=9, min_child_weight=3, n_estimators=401, reg_alpha=0.89, reg_lambda=0.72, subsample=1 \n",
      "[CV]  colsample_bytree=1, gamma=0.29, learning_rate=0.0181970085861, max_depth=8, min_child_weight=2, n_estimators=834, reg_alpha=0.25, reg_lambda=0.68, subsample=1, score=0.779693, total=  44.0s\n",
      "[CV] colsample_bytree=1, gamma=0.66, learning_rate=0.026302679919, max_depth=9, min_child_weight=3, n_estimators=401, reg_alpha=0.89, reg_lambda=0.72, subsample=1 \n",
      "[CV]  colsample_bytree=1, gamma=0.29, learning_rate=0.0181970085861, max_depth=8, min_child_weight=2, n_estimators=834, reg_alpha=0.25, reg_lambda=0.68, subsample=1, score=0.768194, total=  43.3s\n",
      "[CV] colsample_bytree=1, gamma=0.38, learning_rate=0.0107151930524, max_depth=5, min_child_weight=3, n_estimators=238, reg_alpha=0.0, reg_lambda=0.14, subsample=1 \n",
      "[CV]  colsample_bytree=1, gamma=0.29, learning_rate=0.0181970085861, max_depth=8, min_child_weight=2, n_estimators=834, reg_alpha=0.25, reg_lambda=0.68, subsample=1, score=0.761970, total=  43.5s\n",
      "[CV] colsample_bytree=1, gamma=0.38, learning_rate=0.0107151930524, max_depth=5, min_child_weight=3, n_estimators=238, reg_alpha=0.0, reg_lambda=0.14, subsample=1 \n",
      "[CV]  colsample_bytree=1, gamma=0.38, learning_rate=0.0107151930524, max_depth=5, min_child_weight=3, n_estimators=238, reg_alpha=0.0, reg_lambda=0.14, subsample=1, score=0.804854, total=   7.6s\n",
      "[CV] colsample_bytree=1, gamma=0.38, learning_rate=0.0107151930524, max_depth=5, min_child_weight=3, n_estimators=238, reg_alpha=0.0, reg_lambda=0.14, subsample=1 \n",
      "[CV]  colsample_bytree=1, gamma=0.38, learning_rate=0.0107151930524, max_depth=5, min_child_weight=3, n_estimators=238, reg_alpha=0.0, reg_lambda=0.14, subsample=1, score=0.795140, total=   7.6s\n",
      "[CV] colsample_bytree=1, gamma=0.38, learning_rate=0.0107151930524, max_depth=5, min_child_weight=3, n_estimators=238, reg_alpha=0.0, reg_lambda=0.14, subsample=1 \n",
      "[CV]  colsample_bytree=1, gamma=0.66, learning_rate=0.026302679919, max_depth=9, min_child_weight=3, n_estimators=401, reg_alpha=0.89, reg_lambda=0.72, subsample=1, score=0.803688, total=  24.2s\n",
      "[CV] colsample_bytree=1, gamma=0.38, learning_rate=0.0107151930524, max_depth=5, min_child_weight=3, n_estimators=238, reg_alpha=0.0, reg_lambda=0.14, subsample=1 \n",
      "[CV]  colsample_bytree=1, gamma=0.66, learning_rate=0.026302679919, max_depth=9, min_child_weight=3, n_estimators=401, reg_alpha=0.89, reg_lambda=0.72, subsample=1, score=0.778203, total=  24.1s\n",
      "[CV] colsample_bytree=1, gamma=0.38, learning_rate=0.0107151930524, max_depth=5, min_child_weight=3, n_estimators=238, reg_alpha=0.0, reg_lambda=0.14, subsample=1 \n",
      "[CV]  colsample_bytree=1, gamma=0.66, learning_rate=0.026302679919, max_depth=9, min_child_weight=3, n_estimators=401, reg_alpha=0.89, reg_lambda=0.72, subsample=1, score=0.784837, total=  24.3s\n",
      "[CV] colsample_bytree=1, gamma=0.73, learning_rate=0.0021379620895, max_depth=6, min_child_weight=2, n_estimators=671, reg_alpha=0.72, reg_lambda=0.11, subsample=1 \n",
      "[CV]  colsample_bytree=1, gamma=0.38, learning_rate=0.0107151930524, max_depth=5, min_child_weight=3, n_estimators=238, reg_alpha=0.0, reg_lambda=0.14, subsample=1, score=0.787909, total=   7.9s\n",
      "[CV] colsample_bytree=1, gamma=0.73, learning_rate=0.0021379620895, max_depth=6, min_child_weight=2, n_estimators=671, reg_alpha=0.72, reg_lambda=0.11, subsample=1 \n",
      "[CV]  colsample_bytree=1, gamma=0.38, learning_rate=0.0107151930524, max_depth=5, min_child_weight=3, n_estimators=238, reg_alpha=0.0, reg_lambda=0.14, subsample=1, score=0.788167, total=   7.9s\n",
      "[CV] colsample_bytree=1, gamma=0.73, learning_rate=0.0021379620895, max_depth=6, min_child_weight=2, n_estimators=671, reg_alpha=0.72, reg_lambda=0.11, subsample=1 \n",
      "[CV]  colsample_bytree=1, gamma=0.38, learning_rate=0.0107151930524, max_depth=5, min_child_weight=3, n_estimators=238, reg_alpha=0.0, reg_lambda=0.14, subsample=1, score=0.780796, total=   7.9s\n",
      "[CV] colsample_bytree=1, gamma=0.73, learning_rate=0.0021379620895, max_depth=6, min_child_weight=2, n_estimators=671, reg_alpha=0.72, reg_lambda=0.11, subsample=1 \n",
      "[CV]  colsample_bytree=1, gamma=0.66, learning_rate=0.026302679919, max_depth=9, min_child_weight=3, n_estimators=401, reg_alpha=0.89, reg_lambda=0.72, subsample=1, score=0.777869, total=  24.2s\n",
      "[CV] colsample_bytree=1, gamma=0.73, learning_rate=0.0021379620895, max_depth=6, min_child_weight=2, n_estimators=671, reg_alpha=0.72, reg_lambda=0.11, subsample=1 \n",
      "[CV]  colsample_bytree=1, gamma=0.66, learning_rate=0.026302679919, max_depth=9, min_child_weight=3, n_estimators=401, reg_alpha=0.89, reg_lambda=0.72, subsample=1, score=0.770325, total=  24.0s\n",
      "[CV] colsample_bytree=1, gamma=0.73, learning_rate=0.0021379620895, max_depth=6, min_child_weight=2, n_estimators=671, reg_alpha=0.72, reg_lambda=0.11, subsample=1 \n"
     ]
    },
    {
     "name": "stdout",
     "output_type": "stream",
     "text": [
      "[CV]  colsample_bytree=1, gamma=0.66, learning_rate=0.026302679919, max_depth=9, min_child_weight=3, n_estimators=401, reg_alpha=0.89, reg_lambda=0.72, subsample=1, score=0.765114, total=  24.6s\n",
      "[CV] colsample_bytree=1, gamma=0.13, learning_rate=0.011220184543, max_depth=5, min_child_weight=3, n_estimators=345, reg_alpha=0.31, reg_lambda=0.67, subsample=1 \n",
      "[CV]  colsample_bytree=1, gamma=0.38, learning_rate=0.0107151930524, max_depth=5, min_child_weight=3, n_estimators=238, reg_alpha=0.0, reg_lambda=0.14, subsample=1, score=0.761248, total=   8.0s\n",
      "[CV] colsample_bytree=1, gamma=0.13, learning_rate=0.011220184543, max_depth=5, min_child_weight=3, n_estimators=345, reg_alpha=0.31, reg_lambda=0.67, subsample=1 \n",
      "[CV]  colsample_bytree=1, gamma=0.13, learning_rate=0.011220184543, max_depth=5, min_child_weight=3, n_estimators=345, reg_alpha=0.31, reg_lambda=0.67, subsample=1, score=0.807052, total=  11.1s\n",
      "[CV] colsample_bytree=1, gamma=0.13, learning_rate=0.011220184543, max_depth=5, min_child_weight=3, n_estimators=345, reg_alpha=0.31, reg_lambda=0.67, subsample=1 \n",
      "[CV]  colsample_bytree=1, gamma=0.13, learning_rate=0.011220184543, max_depth=5, min_child_weight=3, n_estimators=345, reg_alpha=0.31, reg_lambda=0.67, subsample=1, score=0.797438, total=  11.1s\n",
      "[CV] colsample_bytree=1, gamma=0.13, learning_rate=0.011220184543, max_depth=5, min_child_weight=3, n_estimators=345, reg_alpha=0.31, reg_lambda=0.67, subsample=1 \n",
      "[CV]  colsample_bytree=1, gamma=0.13, learning_rate=0.011220184543, max_depth=5, min_child_weight=3, n_estimators=345, reg_alpha=0.31, reg_lambda=0.67, subsample=1, score=0.793313, total=  11.3s\n",
      "[CV] colsample_bytree=1, gamma=0.13, learning_rate=0.011220184543, max_depth=5, min_child_weight=3, n_estimators=345, reg_alpha=0.31, reg_lambda=0.67, subsample=1 \n",
      "[CV]  colsample_bytree=1, gamma=0.73, learning_rate=0.0021379620895, max_depth=6, min_child_weight=2, n_estimators=671, reg_alpha=0.72, reg_lambda=0.11, subsample=1, score=0.796781, total=  27.3s\n",
      "[CV] colsample_bytree=1, gamma=0.13, learning_rate=0.011220184543, max_depth=5, min_child_weight=3, n_estimators=345, reg_alpha=0.31, reg_lambda=0.67, subsample=1 \n",
      "[CV]  colsample_bytree=1, gamma=0.13, learning_rate=0.011220184543, max_depth=5, min_child_weight=3, n_estimators=345, reg_alpha=0.31, reg_lambda=0.67, subsample=1, score=0.793092, total=  11.1s\n",
      "[CV]  colsample_bytree=1, gamma=0.73, learning_rate=0.0021379620895, max_depth=6, min_child_weight=2, n_estimators=671, reg_alpha=0.72, reg_lambda=0.11, subsample=1, score=0.792514, total=  26.8s\n",
      "[CV]  colsample_bytree=1, gamma=0.73, learning_rate=0.0021379620895, max_depth=6, min_child_weight=2, n_estimators=671, reg_alpha=0.72, reg_lambda=0.11, subsample=1, score=0.762709, total=  26.0s\n",
      "[CV]  colsample_bytree=1, gamma=0.73, learning_rate=0.0021379620895, max_depth=6, min_child_weight=2, n_estimators=671, reg_alpha=0.72, reg_lambda=0.11, subsample=1, score=0.778886, total=  26.7s\n",
      "[CV]  colsample_bytree=1, gamma=0.73, learning_rate=0.0021379620895, max_depth=6, min_child_weight=2, n_estimators=671, reg_alpha=0.72, reg_lambda=0.11, subsample=1, score=0.787905, total=  27.2s\n",
      "[CV]  colsample_bytree=1, gamma=0.73, learning_rate=0.0021379620895, max_depth=6, min_child_weight=2, n_estimators=671, reg_alpha=0.72, reg_lambda=0.11, subsample=1, score=0.789483, total=  27.7s\n",
      "[CV]  colsample_bytree=1, gamma=0.13, learning_rate=0.011220184543, max_depth=5, min_child_weight=3, n_estimators=345, reg_alpha=0.31, reg_lambda=0.67, subsample=1, score=0.762905, total=   6.8s\n",
      "[CV]  colsample_bytree=1, gamma=0.13, learning_rate=0.011220184543, max_depth=5, min_child_weight=3, n_estimators=345, reg_alpha=0.31, reg_lambda=0.67, subsample=1, score=0.784705, total=   7.4s\n"
     ]
    },
    {
     "name": "stderr",
     "output_type": "stream",
     "text": [
      "[Parallel(n_jobs=-1)]: Done 150 out of 150 | elapsed:  7.3min finished\n"
     ]
    },
    {
     "data": {
      "text/plain": [
       "RandomizedSearchCV(cv=6, error_score=0,\n",
       "          estimator=XGBClassifier(base_score=0.5, booster='gbtree', colsample_bylevel=1,\n",
       "       colsample_bytree=1, gamma=0, learning_rate=0.1, max_delta_step=0,\n",
       "       max_depth=3, min_child_weight=1, missing=None, n_estimators=100,\n",
       "       n_jobs=1, nthread=None, objective='binary:logistic', random_state=0,\n",
       "       reg_alpha=0, reg_lambda=1, scale_pos_weight=1, seed=None,\n",
       "       silent=True, subsample=1),\n",
       "          fit_params={}, iid=True, n_iter=25, n_jobs=-1,\n",
       "          param_distributions={'n_estimators': <scipy.stats._distn_infrastructure.rv_frozen object at 0x7feda8d33dd8>, 'learning_rate': array([ 0.001  ,  0.00102, ...,  0.0955 ,  0.09772]), 'subsample': [1], 'max_depth': [3, 4, 5, 6, 7, 8, 9], 'colsample_bytree': [1], 'min_child_weight': [1, 2, 3], 'gamma': array([ 0.  ,  0.01, ...,  1.47,  1.48]), 'reg_alpha': array([ 0.  ,  0.01, ...,  0.98,  0.99]), 'reg_lambda': array([ 0.  ,  0.01, ...,  0.98,  0.99])},\n",
       "          pre_dispatch='2*n_jobs', random_state=None, refit=True,\n",
       "          return_train_score=True, scoring='roc_auc', verbose=3)"
      ]
     },
     "execution_count": 67,
     "metadata": {},
     "output_type": "execute_result"
    }
   ],
   "source": [
    "clf.fit(X_train, Y_train)"
   ]
  },
  {
   "cell_type": "code",
   "execution_count": 68,
   "metadata": {
    "scrolled": false
   },
   "outputs": [
    {
     "name": "stderr",
     "output_type": "stream",
     "text": [
      "/usr/lib64/python3.6/site-packages/sklearn/model_selection/_search.py:667: DeprecationWarning: The grid_scores_ attribute was deprecated in version 0.18 in favor of the more elaborate cv_results_ attribute. The grid_scores_ attribute will not be available from 0.20\n",
      "  DeprecationWarning)\n"
     ]
    },
    {
     "name": "stdout",
     "output_type": "stream",
     "text": [
      "Raw AUC score: 0.789855551734\n",
      "colsample_bytree: 1\n",
      "gamma: 0.79000000000000004\n",
      "learning_rate: 0.0066069344800756945\n",
      "max_depth: 5\n",
      "min_child_weight: 3\n",
      "n_estimators: 766\n",
      "reg_alpha: 0.79000000000000004\n",
      "reg_lambda: 0.70999999999999996\n",
      "subsample: 1\n"
     ]
    }
   ],
   "source": [
    "\n",
    "#trust your CV!\n",
    "best_parameters, score, _ = max(clf.grid_scores_, key=lambda x: x[1])\n",
    "print('Raw AUC score:', score)\n",
    "for param_name in sorted(best_parameters.keys()):\n",
    "    print(\"%s: %r\" % (param_name, best_parameters[param_name]))\n",
    "\n",
    "test_probs = clf.predict_proba(X_test.as_matrix())[:,1]"
   ]
  },
  {
   "cell_type": "code",
   "execution_count": 69,
   "metadata": {
    "scrolled": true
   },
   "outputs": [
    {
     "name": "stderr",
     "output_type": "stream",
     "text": [
      "/usr/lib64/python3.6/site-packages/sklearn/model_selection/_search.py:667: DeprecationWarning: The grid_scores_ attribute was deprecated in version 0.18 in favor of the more elaborate cv_results_ attribute. The grid_scores_ attribute will not be available from 0.20\n",
      "  DeprecationWarning)\n"
     ]
    },
    {
     "data": {
      "text/plain": [
       "[mean: 0.78846, std: 0.01308, params: {'colsample_bytree': 1, 'gamma': 1.21, 'learning_rate': 0.0035481338923356587, 'max_depth': 9, 'min_child_weight': 2, 'n_estimators': 550, 'reg_alpha': 0.5, 'reg_lambda': 0.78000000000000003, 'subsample': 1},\n",
       " mean: 0.78782, std: 0.01236, params: {'colsample_bytree': 1, 'gamma': 0.98999999999999999, 'learning_rate': 0.021379620895020924, 'max_depth': 6, 'min_child_weight': 2, 'n_estimators': 276, 'reg_alpha': 0.76000000000000001, 'reg_lambda': 0.52000000000000002, 'subsample': 1},\n",
       " mean: 0.78179, std: 0.01097, params: {'colsample_bytree': 1, 'gamma': 0.70999999999999996, 'learning_rate': 0.0018197008586099603, 'max_depth': 4, 'min_child_weight': 2, 'n_estimators': 422, 'reg_alpha': 0.83000000000000007, 'reg_lambda': 0.88, 'subsample': 1},\n",
       " mean: 0.78961, std: 0.01402, params: {'colsample_bytree': 1, 'gamma': 0.11, 'learning_rate': 0.0051286138399134701, 'max_depth': 5, 'min_child_weight': 3, 'n_estimators': 940, 'reg_alpha': 0.71999999999999997, 'reg_lambda': 0.35000000000000003, 'subsample': 1},\n",
       " mean: 0.78115, std: 0.01203, params: {'colsample_bytree': 1, 'gamma': 0.44, 'learning_rate': 0.025118864315094074, 'max_depth': 7, 'min_child_weight': 2, 'n_estimators': 512, 'reg_alpha': 0.75, 'reg_lambda': 0.57000000000000006, 'subsample': 1},\n",
       " mean: 0.78629, std: 0.01305, params: {'colsample_bytree': 1, 'gamma': 0.63, 'learning_rate': 0.018197008586098708, 'max_depth': 5, 'min_child_weight': 3, 'n_estimators': 536, 'reg_alpha': 0.35999999999999999, 'reg_lambda': 0.059999999999999998, 'subsample': 1},\n",
       " mean: 0.78787, std: 0.01260, params: {'colsample_bytree': 1, 'gamma': 1.1500000000000001, 'learning_rate': 0.0033884415613919371, 'max_depth': 6, 'min_child_weight': 3, 'n_estimators': 914, 'reg_alpha': 0.88, 'reg_lambda': 0.29999999999999999, 'subsample': 1},\n",
       " mean: 0.78448, std: 0.01213, params: {'colsample_bytree': 1, 'gamma': 0.82000000000000006, 'learning_rate': 0.0038904514499426934, 'max_depth': 5, 'min_child_weight': 3, 'n_estimators': 295, 'reg_alpha': 0.63, 'reg_lambda': 0.47000000000000003, 'subsample': 1},\n",
       " mean: 0.78986, std: 0.01373, params: {'colsample_bytree': 1, 'gamma': 0.79000000000000004, 'learning_rate': 0.0066069344800756945, 'max_depth': 5, 'min_child_weight': 3, 'n_estimators': 766, 'reg_alpha': 0.79000000000000004, 'reg_lambda': 0.70999999999999996, 'subsample': 1},\n",
       " mean: 0.78474, std: 0.01278, params: {'colsample_bytree': 1, 'gamma': 0.29999999999999999, 'learning_rate': 0.0052480746024975407, 'max_depth': 5, 'min_child_weight': 3, 'n_estimators': 302, 'reg_alpha': 0.40000000000000002, 'reg_lambda': 0.48999999999999999, 'subsample': 1},\n",
       " mean: 0.78645, std: 0.01178, params: {'colsample_bytree': 1, 'gamma': 0.31, 'learning_rate': 0.0031622776601683018, 'max_depth': 8, 'min_child_weight': 1, 'n_estimators': 469, 'reg_alpha': 0.35000000000000003, 'reg_lambda': 0.66000000000000003, 'subsample': 1},\n",
       " mean: 0.77897, std: 0.01145, params: {'colsample_bytree': 1, 'gamma': 0.029999999999999999, 'learning_rate': 0.014454397707458452, 'max_depth': 9, 'min_child_weight': 3, 'n_estimators': 577, 'reg_alpha': 0.059999999999999998, 'reg_lambda': 0.54000000000000004, 'subsample': 1},\n",
       " mean: 0.78649, std: 0.01292, params: {'colsample_bytree': 1, 'gamma': 0.19, 'learning_rate': 0.0091201083935586683, 'max_depth': 5, 'min_child_weight': 1, 'n_estimators': 293, 'reg_alpha': 0.02, 'reg_lambda': 0.17999999999999999, 'subsample': 1},\n",
       " mean: 0.77978, std: 0.01010, params: {'colsample_bytree': 1, 'gamma': 0.94000000000000006, 'learning_rate': 0.040738027780408054, 'max_depth': 7, 'min_child_weight': 2, 'n_estimators': 419, 'reg_alpha': 0.28999999999999998, 'reg_lambda': 0.56000000000000005, 'subsample': 1},\n",
       " mean: 0.78493, std: 0.01295, params: {'colsample_bytree': 1, 'gamma': 0.78000000000000003, 'learning_rate': 0.034673685045250542, 'max_depth': 5, 'min_child_weight': 2, 'n_estimators': 958, 'reg_alpha': 0.28000000000000003, 'reg_lambda': 0.23999999999999999, 'subsample': 1},\n",
       " mean: 0.77690, std: 0.01072, params: {'colsample_bytree': 1, 'gamma': 0.60999999999999999, 'learning_rate': 0.029512092266661728, 'max_depth': 7, 'min_child_weight': 2, 'n_estimators': 745, 'reg_alpha': 0.31, 'reg_lambda': 0.14000000000000001, 'subsample': 1},\n",
       " mean: 0.78860, std: 0.01218, params: {'colsample_bytree': 1, 'gamma': 0.16, 'learning_rate': 0.011748975549394679, 'max_depth': 3, 'min_child_weight': 1, 'n_estimators': 563, 'reg_alpha': 0.67000000000000004, 'reg_lambda': 0.58999999999999997, 'subsample': 1},\n",
       " mean: 0.78486, std: 0.01363, params: {'colsample_bytree': 1, 'gamma': 0.90000000000000002, 'learning_rate': 0.04570881896148378, 'max_depth': 4, 'min_child_weight': 3, 'n_estimators': 684, 'reg_alpha': 0.31, 'reg_lambda': 0.27000000000000002, 'subsample': 1},\n",
       " mean: 0.78797, std: 0.01200, params: {'colsample_bytree': 1, 'gamma': 0.12, 'learning_rate': 0.02089296130853904, 'max_depth': 3, 'min_child_weight': 2, 'n_estimators': 608, 'reg_alpha': 0.42999999999999999, 'reg_lambda': 0.66000000000000003, 'subsample': 1},\n",
       " mean: 0.77636, std: 0.01085, params: {'colsample_bytree': 1, 'gamma': 0.28999999999999998, 'learning_rate': 0.018197008586098708, 'max_depth': 8, 'min_child_weight': 2, 'n_estimators': 834, 'reg_alpha': 0.25, 'reg_lambda': 0.68000000000000005, 'subsample': 1},\n",
       " mean: 0.77894, std: 0.00905, params: {'colsample_bytree': 1, 'gamma': 0.23000000000000001, 'learning_rate': 0.0019498445997580176, 'max_depth': 7, 'min_child_weight': 3, 'n_estimators': 203, 'reg_alpha': 0.13, 'reg_lambda': 0.01, 'subsample': 1},\n",
       " mean: 0.78001, std: 0.01230, params: {'colsample_bytree': 1, 'gamma': 0.66000000000000003, 'learning_rate': 0.026302679918951986, 'max_depth': 9, 'min_child_weight': 3, 'n_estimators': 401, 'reg_alpha': 0.89000000000000001, 'reg_lambda': 0.71999999999999997, 'subsample': 1},\n",
       " mean: 0.78636, std: 0.01346, params: {'colsample_bytree': 1, 'gamma': 0.38, 'learning_rate': 0.010715193052375522, 'max_depth': 5, 'min_child_weight': 3, 'n_estimators': 238, 'reg_alpha': 0.0, 'reg_lambda': 0.14000000000000001, 'subsample': 1},\n",
       " mean: 0.78472, std: 0.01124, params: {'colsample_bytree': 1, 'gamma': 0.72999999999999998, 'learning_rate': 0.0021379620895021975, 'max_depth': 6, 'min_child_weight': 2, 'n_estimators': 671, 'reg_alpha': 0.71999999999999997, 'reg_lambda': 0.11, 'subsample': 1},\n",
       " mean: 0.78975, std: 0.01371, params: {'colsample_bytree': 1, 'gamma': 0.13, 'learning_rate': 0.011220184543019056, 'max_depth': 5, 'min_child_weight': 3, 'n_estimators': 345, 'reg_alpha': 0.31, 'reg_lambda': 0.67000000000000004, 'subsample': 1}]"
      ]
     },
     "execution_count": 69,
     "metadata": {},
     "output_type": "execute_result"
    }
   ],
   "source": [
    "clf.grid_scores_"
   ]
  },
  {
   "cell_type": "code",
   "execution_count": null,
   "metadata": {
    "scrolled": true
   },
   "outputs": [
    {
     "name": "stdout",
     "output_type": "stream",
     "text": [
      "Fitting 6 folds for each of 25 candidates, totalling 150 fits\n",
      "[CV] colsample_bytree=1, gamma=0.69, learning_rate=0.0011220184543, max_depth=6, min_child_weight=2, n_estimators=824, reg_alpha=0.9, reg_lambda=0.88, subsample=0.94 \n",
      "[CV] colsample_bytree=1, gamma=0.69, learning_rate=0.0011220184543, max_depth=6, min_child_weight=2, n_estimators=824, reg_alpha=0.9, reg_lambda=0.88, subsample=0.94 \n",
      "[CV] colsample_bytree=1, gamma=0.69, learning_rate=0.0011220184543, max_depth=6, min_child_weight=2, n_estimators=824, reg_alpha=0.9, reg_lambda=0.88, subsample=0.94 \n",
      "[CV] colsample_bytree=1, gamma=0.69, learning_rate=0.0011220184543, max_depth=6, min_child_weight=2, n_estimators=824, reg_alpha=0.9, reg_lambda=0.88, subsample=0.94 \n",
      "[CV] colsample_bytree=1, gamma=0.69, learning_rate=0.0011220184543, max_depth=6, min_child_weight=2, n_estimators=824, reg_alpha=0.9, reg_lambda=0.88, subsample=0.94 \n",
      "[CV] colsample_bytree=1, gamma=0.69, learning_rate=0.0011220184543, max_depth=6, min_child_weight=2, n_estimators=824, reg_alpha=0.9, reg_lambda=0.88, subsample=0.94 \n",
      "[CV] colsample_bytree=1, gamma=0.77, learning_rate=0.00549540873858, max_depth=6, min_child_weight=4, n_estimators=297, reg_alpha=0.67, reg_lambda=0.81, subsample=0.81 \n",
      "[CV] colsample_bytree=1, gamma=0.77, learning_rate=0.00549540873858, max_depth=6, min_child_weight=4, n_estimators=297, reg_alpha=0.67, reg_lambda=0.81, subsample=0.81 \n"
     ]
    }
   ],
   "source": [
    "param_dist = {'n_estimators': stats.randint(200, 1000),\n",
    "              'learning_rate': 10 ** np.arange(-4, -2, 0.01),\n",
    "              'subsample': np.arange(0.8, 1, 0.01),\n",
    "              'max_depth': [4, 5, 6],\n",
    "              'colsample_bytree': [1],\n",
    "              'min_child_weight': [1, 2, 3, 4],\n",
    "              'gamma' : np.arange(0.3, 1.488, 0.01),\n",
    "              'reg_alpha':np.arange(0.6, 1, 0.01), \n",
    "              'reg_lambda':np.arange(0.6, 1, 0.01)\n",
    "             }\n",
    "\n",
    "clf = RandomizedSearchCV(clf_xgb, \n",
    "                         param_distributions = param_dist,\n",
    "                         cv = 6,  \n",
    "                         n_iter = 25, # you want 5 here not 25 if I understand you correctly \n",
    "                         scoring = 'roc_auc', \n",
    "                         error_score = 0, \n",
    "                         verbose = 3, \n",
    "                         n_jobs = -1)\n",
    "clf.fit(X_train, Y_train)\n",
    "\n",
    "#trust your CV!\n",
    "best_parameters, score, _ = max(clf.grid_scores_, key=lambda x: x[1])\n",
    "print('Raw AUC score:', score)\n",
    "for param_name in sorted(best_parameters.keys()):\n",
    "    print(\"%s: %r\" % (param_name, best_parameters[param_name]))\n",
    "\n",
    "test_probs = clf.predict_proba(X_test.as_matrix())[:,1]"
   ]
  },
  {
   "cell_type": "code",
   "execution_count": 72,
   "metadata": {
    "scrolled": true
   },
   "outputs": [
    {
     "name": "stdout",
     "output_type": "stream",
     "text": [
      "Fitting 6 folds for each of 25 candidates, totalling 150 fits\n",
      "[CV] colsample_bytree=1, gamma=2.32, learning_rate=0.00234422881532, max_depth=6, min_child_weight=1, n_estimators=869, reg_alpha=0.7, reg_lambda=0.79, subsample=1 \n",
      "[CV] colsample_bytree=1, gamma=2.32, learning_rate=0.00234422881532, max_depth=6, min_child_weight=1, n_estimators=869, reg_alpha=0.7, reg_lambda=0.79, subsample=1 \n",
      "[CV] colsample_bytree=1, gamma=2.32, learning_rate=0.00234422881532, max_depth=6, min_child_weight=1, n_estimators=869, reg_alpha=0.7, reg_lambda=0.79, subsample=1 \n",
      "[CV] colsample_bytree=1, gamma=2.32, learning_rate=0.00234422881532, max_depth=6, min_child_weight=1, n_estimators=869, reg_alpha=0.7, reg_lambda=0.79, subsample=1 \n",
      "[CV] colsample_bytree=1, gamma=2.32, learning_rate=0.00234422881532, max_depth=6, min_child_weight=1, n_estimators=869, reg_alpha=0.7, reg_lambda=0.79, subsample=1 \n",
      "[CV] colsample_bytree=1, gamma=2.32, learning_rate=0.00234422881532, max_depth=6, min_child_weight=1, n_estimators=869, reg_alpha=0.7, reg_lambda=0.79, subsample=1 \n",
      "[CV] colsample_bytree=1, gamma=1.38, learning_rate=0.00831763771103, max_depth=6, min_child_weight=1, n_estimators=499, reg_alpha=0.81, reg_lambda=0.89, subsample=1 \n",
      "[CV] colsample_bytree=1, gamma=1.38, learning_rate=0.00831763771103, max_depth=6, min_child_weight=1, n_estimators=499, reg_alpha=0.81, reg_lambda=0.89, subsample=1 \n",
      "[CV]  colsample_bytree=1, gamma=1.38, learning_rate=0.00831763771103, max_depth=6, min_child_weight=1, n_estimators=499, reg_alpha=0.81, reg_lambda=0.89, subsample=1, score=0.807448, total=  20.7s\n",
      "[CV] colsample_bytree=1, gamma=1.38, learning_rate=0.00831763771103, max_depth=6, min_child_weight=1, n_estimators=499, reg_alpha=0.81, reg_lambda=0.89, subsample=1 \n",
      "[CV]  colsample_bytree=1, gamma=1.38, learning_rate=0.00831763771103, max_depth=6, min_child_weight=1, n_estimators=499, reg_alpha=0.81, reg_lambda=0.89, subsample=1, score=0.793343, total=  21.6s\n",
      "[CV] colsample_bytree=1, gamma=1.38, learning_rate=0.00831763771103, max_depth=6, min_child_weight=1, n_estimators=499, reg_alpha=0.81, reg_lambda=0.89, subsample=1 \n",
      "[CV]  colsample_bytree=1, gamma=2.32, learning_rate=0.00234422881532, max_depth=6, min_child_weight=1, n_estimators=869, reg_alpha=0.7, reg_lambda=0.79, subsample=1, score=0.799470, total=  35.4s\n",
      "[CV] colsample_bytree=1, gamma=1.38, learning_rate=0.00831763771103, max_depth=6, min_child_weight=1, n_estimators=499, reg_alpha=0.81, reg_lambda=0.89, subsample=1 \n",
      "[CV]  colsample_bytree=1, gamma=2.32, learning_rate=0.00234422881532, max_depth=6, min_child_weight=1, n_estimators=869, reg_alpha=0.7, reg_lambda=0.79, subsample=1, score=0.793499, total=  35.6s\n",
      "[CV] colsample_bytree=1, gamma=1.38, learning_rate=0.00831763771103, max_depth=6, min_child_weight=1, n_estimators=499, reg_alpha=0.81, reg_lambda=0.89, subsample=1 \n",
      "[CV]  colsample_bytree=1, gamma=2.32, learning_rate=0.00234422881532, max_depth=6, min_child_weight=1, n_estimators=869, reg_alpha=0.7, reg_lambda=0.79, subsample=1, score=0.791654, total=  36.0s\n",
      "[CV] colsample_bytree=1, gamma=1.11, learning_rate=0.00030199517204, max_depth=4, min_child_weight=3, n_estimators=463, reg_alpha=0.73, reg_lambda=0.72, subsample=1 \n",
      "[CV]  colsample_bytree=1, gamma=2.32, learning_rate=0.00234422881532, max_depth=6, min_child_weight=1, n_estimators=869, reg_alpha=0.7, reg_lambda=0.79, subsample=1, score=0.778011, total=  36.4s\n",
      "[CV] colsample_bytree=1, gamma=1.11, learning_rate=0.00030199517204, max_depth=4, min_child_weight=3, n_estimators=463, reg_alpha=0.73, reg_lambda=0.72, subsample=1 \n",
      "[CV]  colsample_bytree=1, gamma=2.32, learning_rate=0.00234422881532, max_depth=6, min_child_weight=1, n_estimators=869, reg_alpha=0.7, reg_lambda=0.79, subsample=1, score=0.762324, total=  36.2s\n",
      "[CV] colsample_bytree=1, gamma=1.11, learning_rate=0.00030199517204, max_depth=4, min_child_weight=3, n_estimators=463, reg_alpha=0.73, reg_lambda=0.72, subsample=1 \n",
      "[CV]  colsample_bytree=1, gamma=2.32, learning_rate=0.00234422881532, max_depth=6, min_child_weight=1, n_estimators=869, reg_alpha=0.7, reg_lambda=0.79, subsample=1, score=0.788185, total=  37.5s\n",
      "[CV] colsample_bytree=1, gamma=1.11, learning_rate=0.00030199517204, max_depth=4, min_child_weight=3, n_estimators=463, reg_alpha=0.73, reg_lambda=0.72, subsample=1 \n",
      "[CV]  colsample_bytree=1, gamma=1.38, learning_rate=0.00831763771103, max_depth=6, min_child_weight=1, n_estimators=499, reg_alpha=0.81, reg_lambda=0.89, subsample=1, score=0.795022, total=  20.5s\n",
      "[CV] colsample_bytree=1, gamma=1.11, learning_rate=0.00030199517204, max_depth=4, min_child_weight=3, n_estimators=463, reg_alpha=0.73, reg_lambda=0.72, subsample=1 \n",
      "[CV]  colsample_bytree=1, gamma=1.38, learning_rate=0.00831763771103, max_depth=6, min_child_weight=1, n_estimators=499, reg_alpha=0.81, reg_lambda=0.89, subsample=1, score=0.792865, total=  20.2s\n",
      "[CV] colsample_bytree=1, gamma=1.11, learning_rate=0.00030199517204, max_depth=4, min_child_weight=3, n_estimators=463, reg_alpha=0.73, reg_lambda=0.72, subsample=1 \n",
      "[CV]  colsample_bytree=1, gamma=1.11, learning_rate=0.00030199517204, max_depth=4, min_child_weight=3, n_estimators=463, reg_alpha=0.73, reg_lambda=0.72, subsample=1, score=0.781655, total=  11.5s\n",
      "[CV] colsample_bytree=1, gamma=2.95, learning_rate=0.00346736850453, max_depth=5, min_child_weight=1, n_estimators=967, reg_alpha=0.91, reg_lambda=0.74, subsample=1 \n",
      "[CV]  colsample_bytree=1, gamma=1.11, learning_rate=0.00030199517204, max_depth=4, min_child_weight=3, n_estimators=463, reg_alpha=0.73, reg_lambda=0.72, subsample=1, score=0.763306, total=  11.8s\n",
      "[CV] colsample_bytree=1, gamma=2.95, learning_rate=0.00346736850453, max_depth=5, min_child_weight=1, n_estimators=967, reg_alpha=0.91, reg_lambda=0.74, subsample=1 \n",
      "[CV]  colsample_bytree=1, gamma=1.11, learning_rate=0.00030199517204, max_depth=4, min_child_weight=3, n_estimators=463, reg_alpha=0.73, reg_lambda=0.72, subsample=1, score=0.778289, total=  12.1s\n",
      "[CV] colsample_bytree=1, gamma=2.95, learning_rate=0.00346736850453, max_depth=5, min_child_weight=1, n_estimators=967, reg_alpha=0.91, reg_lambda=0.74, subsample=1 \n",
      "[CV]  colsample_bytree=1, gamma=1.11, learning_rate=0.00030199517204, max_depth=4, min_child_weight=3, n_estimators=463, reg_alpha=0.73, reg_lambda=0.72, subsample=1, score=0.784593, total=  11.7s\n",
      "[CV] colsample_bytree=1, gamma=2.95, learning_rate=0.00346736850453, max_depth=5, min_child_weight=1, n_estimators=967, reg_alpha=0.91, reg_lambda=0.74, subsample=1 \n",
      "[CV]  colsample_bytree=1, gamma=1.11, learning_rate=0.00030199517204, max_depth=4, min_child_weight=3, n_estimators=463, reg_alpha=0.73, reg_lambda=0.72, subsample=1, score=0.772834, total=  12.6s\n",
      "[CV] colsample_bytree=1, gamma=2.95, learning_rate=0.00346736850453, max_depth=5, min_child_weight=1, n_estimators=967, reg_alpha=0.91, reg_lambda=0.74, subsample=1 \n",
      "[CV]  colsample_bytree=1, gamma=1.11, learning_rate=0.00030199517204, max_depth=4, min_child_weight=3, n_estimators=463, reg_alpha=0.73, reg_lambda=0.72, subsample=1, score=0.759842, total=  12.1s\n",
      "[CV] colsample_bytree=1, gamma=2.95, learning_rate=0.00346736850453, max_depth=5, min_child_weight=1, n_estimators=967, reg_alpha=0.91, reg_lambda=0.74, subsample=1 \n"
     ]
    },
    {
     "name": "stderr",
     "output_type": "stream",
     "text": [
      "[Parallel(n_jobs=-1)]: Done  16 tasks      | elapsed:   55.7s\n"
     ]
    },
    {
     "name": "stdout",
     "output_type": "stream",
     "text": [
      "[CV]  colsample_bytree=1, gamma=1.38, learning_rate=0.00831763771103, max_depth=6, min_child_weight=1, n_estimators=499, reg_alpha=0.81, reg_lambda=0.89, subsample=1, score=0.785743, total=  20.7s\n",
      "[CV] colsample_bytree=1, gamma=2.43, learning_rate=0.0030199517204, max_depth=5, min_child_weight=3, n_estimators=371, reg_alpha=0.95, reg_lambda=0.61, subsample=1 \n",
      "[CV]  colsample_bytree=1, gamma=1.38, learning_rate=0.00831763771103, max_depth=6, min_child_weight=1, n_estimators=499, reg_alpha=0.81, reg_lambda=0.89, subsample=1, score=0.767773, total=  20.6s\n",
      "[CV] colsample_bytree=1, gamma=2.43, learning_rate=0.0030199517204, max_depth=5, min_child_weight=3, n_estimators=371, reg_alpha=0.95, reg_lambda=0.61, subsample=1 \n",
      "[CV]  colsample_bytree=1, gamma=2.43, learning_rate=0.0030199517204, max_depth=5, min_child_weight=3, n_estimators=371, reg_alpha=0.95, reg_lambda=0.61, subsample=1, score=0.793340, total=  12.7s\n",
      "[CV] colsample_bytree=1, gamma=2.43, learning_rate=0.0030199517204, max_depth=5, min_child_weight=3, n_estimators=371, reg_alpha=0.95, reg_lambda=0.61, subsample=1 \n",
      "[CV]  colsample_bytree=1, gamma=2.43, learning_rate=0.0030199517204, max_depth=5, min_child_weight=3, n_estimators=371, reg_alpha=0.95, reg_lambda=0.61, subsample=1, score=0.793190, total=  13.0s\n",
      "[CV] colsample_bytree=1, gamma=2.43, learning_rate=0.0030199517204, max_depth=5, min_child_weight=3, n_estimators=371, reg_alpha=0.95, reg_lambda=0.61, subsample=1 \n",
      "[CV]  colsample_bytree=1, gamma=2.43, learning_rate=0.0030199517204, max_depth=5, min_child_weight=3, n_estimators=371, reg_alpha=0.95, reg_lambda=0.61, subsample=1, score=0.786915, total=  13.1s\n",
      "[CV] colsample_bytree=1, gamma=2.43, learning_rate=0.0030199517204, max_depth=5, min_child_weight=3, n_estimators=371, reg_alpha=0.95, reg_lambda=0.61, subsample=1 \n",
      "[CV]  colsample_bytree=1, gamma=2.43, learning_rate=0.0030199517204, max_depth=5, min_child_weight=3, n_estimators=371, reg_alpha=0.95, reg_lambda=0.61, subsample=1, score=0.786805, total=  13.5s\n",
      "[CV] colsample_bytree=1, gamma=2.43, learning_rate=0.0030199517204, max_depth=5, min_child_weight=3, n_estimators=371, reg_alpha=0.95, reg_lambda=0.61, subsample=1 \n",
      "[CV]  colsample_bytree=1, gamma=2.95, learning_rate=0.00346736850453, max_depth=5, min_child_weight=1, n_estimators=967, reg_alpha=0.91, reg_lambda=0.74, subsample=1, score=0.807158, total=  34.4s\n",
      "[CV] colsample_bytree=1, gamma=3.39, learning_rate=0.00151356124844, max_depth=4, min_child_weight=1, n_estimators=882, reg_alpha=0.96, reg_lambda=0.82, subsample=1 \n",
      "[CV]  colsample_bytree=1, gamma=2.95, learning_rate=0.00346736850453, max_depth=5, min_child_weight=1, n_estimators=967, reg_alpha=0.91, reg_lambda=0.74, subsample=1, score=0.796168, total=  34.5s\n",
      "[CV] colsample_bytree=1, gamma=3.39, learning_rate=0.00151356124844, max_depth=4, min_child_weight=1, n_estimators=882, reg_alpha=0.96, reg_lambda=0.82, subsample=1 \n",
      "[CV]  colsample_bytree=1, gamma=2.95, learning_rate=0.00346736850453, max_depth=5, min_child_weight=1, n_estimators=967, reg_alpha=0.91, reg_lambda=0.74, subsample=1, score=0.797694, total=  34.8s\n",
      "[CV] colsample_bytree=1, gamma=3.39, learning_rate=0.00151356124844, max_depth=4, min_child_weight=1, n_estimators=882, reg_alpha=0.96, reg_lambda=0.82, subsample=1 \n",
      "[CV]  colsample_bytree=1, gamma=2.95, learning_rate=0.00346736850453, max_depth=5, min_child_weight=1, n_estimators=967, reg_alpha=0.91, reg_lambda=0.74, subsample=1, score=0.791380, total=  36.4s\n",
      "[CV] colsample_bytree=1, gamma=3.39, learning_rate=0.00151356124844, max_depth=4, min_child_weight=1, n_estimators=882, reg_alpha=0.96, reg_lambda=0.82, subsample=1 \n",
      "[CV]  colsample_bytree=1, gamma=2.95, learning_rate=0.00346736850453, max_depth=5, min_child_weight=1, n_estimators=967, reg_alpha=0.91, reg_lambda=0.74, subsample=1, score=0.763241, total=  35.4s\n",
      "[CV] colsample_bytree=1, gamma=3.39, learning_rate=0.00151356124844, max_depth=4, min_child_weight=1, n_estimators=882, reg_alpha=0.96, reg_lambda=0.82, subsample=1 \n",
      "[CV]  colsample_bytree=1, gamma=2.95, learning_rate=0.00346736850453, max_depth=5, min_child_weight=1, n_estimators=967, reg_alpha=0.91, reg_lambda=0.74, subsample=1, score=0.780829, total=  36.3s\n",
      "[CV] colsample_bytree=1, gamma=3.39, learning_rate=0.00151356124844, max_depth=4, min_child_weight=1, n_estimators=882, reg_alpha=0.96, reg_lambda=0.82, subsample=1 \n",
      "[CV]  colsample_bytree=1, gamma=2.43, learning_rate=0.0030199517204, max_depth=5, min_child_weight=3, n_estimators=371, reg_alpha=0.95, reg_lambda=0.61, subsample=1, score=0.775503, total=  14.5s\n",
      "[CV] colsample_bytree=1, gamma=2.07, learning_rate=0.0052480746025, max_depth=6, min_child_weight=4, n_estimators=816, reg_alpha=0.63, reg_lambda=0.95, subsample=1 \n",
      "[CV]  colsample_bytree=1, gamma=2.43, learning_rate=0.0030199517204, max_depth=5, min_child_weight=3, n_estimators=371, reg_alpha=0.95, reg_lambda=0.61, subsample=1, score=0.761602, total=  13.6s\n",
      "[CV] colsample_bytree=1, gamma=2.07, learning_rate=0.0052480746025, max_depth=6, min_child_weight=4, n_estimators=816, reg_alpha=0.63, reg_lambda=0.95, subsample=1 \n",
      "[CV]  colsample_bytree=1, gamma=3.39, learning_rate=0.00151356124844, max_depth=4, min_child_weight=1, n_estimators=882, reg_alpha=0.96, reg_lambda=0.82, subsample=1, score=0.792189, total=  24.4s\n",
      "[CV] colsample_bytree=1, gamma=2.07, learning_rate=0.0052480746025, max_depth=6, min_child_weight=4, n_estimators=816, reg_alpha=0.63, reg_lambda=0.95, subsample=1 \n",
      "[CV]  colsample_bytree=1, gamma=3.39, learning_rate=0.00151356124844, max_depth=4, min_child_weight=1, n_estimators=882, reg_alpha=0.96, reg_lambda=0.82, subsample=1, score=0.791487, total=  24.1s\n",
      "[CV] colsample_bytree=1, gamma=2.07, learning_rate=0.0052480746025, max_depth=6, min_child_weight=4, n_estimators=816, reg_alpha=0.63, reg_lambda=0.95, subsample=1 \n",
      "[CV]  colsample_bytree=1, gamma=3.39, learning_rate=0.00151356124844, max_depth=4, min_child_weight=1, n_estimators=882, reg_alpha=0.96, reg_lambda=0.82, subsample=1, score=0.785829, total=  24.4s\n",
      "[CV] colsample_bytree=1, gamma=2.07, learning_rate=0.0052480746025, max_depth=6, min_child_weight=4, n_estimators=816, reg_alpha=0.63, reg_lambda=0.95, subsample=1 \n",
      "[CV]  colsample_bytree=1, gamma=3.39, learning_rate=0.00151356124844, max_depth=4, min_child_weight=1, n_estimators=882, reg_alpha=0.96, reg_lambda=0.82, subsample=1, score=0.787523, total=  24.2s\n",
      "[CV] colsample_bytree=1, gamma=2.07, learning_rate=0.0052480746025, max_depth=6, min_child_weight=4, n_estimators=816, reg_alpha=0.63, reg_lambda=0.95, subsample=1 \n",
      "[CV]  colsample_bytree=1, gamma=3.39, learning_rate=0.00151356124844, max_depth=4, min_child_weight=1, n_estimators=882, reg_alpha=0.96, reg_lambda=0.82, subsample=1, score=0.774296, total=  23.8s\n",
      "[CV] colsample_bytree=1, gamma=1.27, learning_rate=0.0053703179637, max_depth=5, min_child_weight=2, n_estimators=668, reg_alpha=0.84, reg_lambda=0.65, subsample=1 \n",
      "[CV]  colsample_bytree=1, gamma=3.39, learning_rate=0.00151356124844, max_depth=4, min_child_weight=1, n_estimators=882, reg_alpha=0.96, reg_lambda=0.82, subsample=1, score=0.760893, total=  23.4s\n",
      "[CV] colsample_bytree=1, gamma=1.27, learning_rate=0.0053703179637, max_depth=5, min_child_weight=2, n_estimators=668, reg_alpha=0.84, reg_lambda=0.65, subsample=1 \n",
      "[CV]  colsample_bytree=1, gamma=2.07, learning_rate=0.0052480746025, max_depth=6, min_child_weight=4, n_estimators=816, reg_alpha=0.63, reg_lambda=0.95, subsample=1, score=0.808301, total=  32.8s\n",
      "[CV] colsample_bytree=1, gamma=1.27, learning_rate=0.0053703179637, max_depth=5, min_child_weight=2, n_estimators=668, reg_alpha=0.84, reg_lambda=0.65, subsample=1 \n",
      "[CV]  colsample_bytree=1, gamma=2.07, learning_rate=0.0052480746025, max_depth=6, min_child_weight=4, n_estimators=816, reg_alpha=0.63, reg_lambda=0.95, subsample=1, score=0.793053, total=  32.9s\n",
      "[CV] colsample_bytree=1, gamma=1.27, learning_rate=0.0053703179637, max_depth=5, min_child_weight=2, n_estimators=668, reg_alpha=0.84, reg_lambda=0.65, subsample=1 \n",
      "[CV]  colsample_bytree=1, gamma=1.27, learning_rate=0.0053703179637, max_depth=5, min_child_weight=2, n_estimators=668, reg_alpha=0.84, reg_lambda=0.65, subsample=1, score=0.797061, total=  21.7s\n",
      "[CV] colsample_bytree=1, gamma=1.27, learning_rate=0.0053703179637, max_depth=5, min_child_weight=2, n_estimators=668, reg_alpha=0.84, reg_lambda=0.65, subsample=1 \n"
     ]
    },
    {
     "name": "stdout",
     "output_type": "stream",
     "text": [
      "[CV]  colsample_bytree=1, gamma=1.27, learning_rate=0.0053703179637, max_depth=5, min_child_weight=2, n_estimators=668, reg_alpha=0.84, reg_lambda=0.65, subsample=1, score=0.806778, total=  21.8s\n",
      "[CV] colsample_bytree=1, gamma=1.27, learning_rate=0.0053703179637, max_depth=5, min_child_weight=2, n_estimators=668, reg_alpha=0.84, reg_lambda=0.65, subsample=1 \n",
      "[CV]  colsample_bytree=1, gamma=2.07, learning_rate=0.0052480746025, max_depth=6, min_child_weight=4, n_estimators=816, reg_alpha=0.63, reg_lambda=0.95, subsample=1, score=0.792517, total=  33.0s\n",
      "[CV] colsample_bytree=1, gamma=1.36, learning_rate=0.0063095734448, max_depth=6, min_child_weight=4, n_estimators=302, reg_alpha=0.71, reg_lambda=0.75, subsample=1 \n",
      "[CV]  colsample_bytree=1, gamma=2.07, learning_rate=0.0052480746025, max_depth=6, min_child_weight=4, n_estimators=816, reg_alpha=0.63, reg_lambda=0.95, subsample=1, score=0.795983, total=  33.7s\n",
      "[CV] colsample_bytree=1, gamma=1.36, learning_rate=0.0063095734448, max_depth=6, min_child_weight=4, n_estimators=302, reg_alpha=0.71, reg_lambda=0.75, subsample=1 \n",
      "[CV]  colsample_bytree=1, gamma=2.07, learning_rate=0.0052480746025, max_depth=6, min_child_weight=4, n_estimators=816, reg_alpha=0.63, reg_lambda=0.95, subsample=1, score=0.766580, total=  33.0s\n",
      "[CV] colsample_bytree=1, gamma=1.36, learning_rate=0.0063095734448, max_depth=6, min_child_weight=4, n_estimators=302, reg_alpha=0.71, reg_lambda=0.75, subsample=1 \n",
      "[CV]  colsample_bytree=1, gamma=2.07, learning_rate=0.0052480746025, max_depth=6, min_child_weight=4, n_estimators=816, reg_alpha=0.63, reg_lambda=0.95, subsample=1, score=0.781229, total=  33.9s\n",
      "[CV] colsample_bytree=1, gamma=1.36, learning_rate=0.0063095734448, max_depth=6, min_child_weight=4, n_estimators=302, reg_alpha=0.71, reg_lambda=0.75, subsample=1 \n",
      "[CV]  colsample_bytree=1, gamma=1.27, learning_rate=0.0053703179637, max_depth=5, min_child_weight=2, n_estimators=668, reg_alpha=0.84, reg_lambda=0.65, subsample=1, score=0.792586, total=  22.9s\n",
      "[CV] colsample_bytree=1, gamma=1.36, learning_rate=0.0063095734448, max_depth=6, min_child_weight=4, n_estimators=302, reg_alpha=0.71, reg_lambda=0.75, subsample=1 \n",
      "[CV]  colsample_bytree=1, gamma=1.27, learning_rate=0.0053703179637, max_depth=5, min_child_weight=2, n_estimators=668, reg_alpha=0.84, reg_lambda=0.65, subsample=1, score=0.794922, total=  24.4s\n",
      "[CV] colsample_bytree=1, gamma=1.36, learning_rate=0.0063095734448, max_depth=6, min_child_weight=4, n_estimators=302, reg_alpha=0.71, reg_lambda=0.75, subsample=1 \n",
      "[CV]  colsample_bytree=1, gamma=1.36, learning_rate=0.0063095734448, max_depth=6, min_child_weight=4, n_estimators=302, reg_alpha=0.71, reg_lambda=0.75, subsample=1, score=0.794503, total=  12.6s\n",
      "[CV] colsample_bytree=1, gamma=1.97, learning_rate=0.00102329299228, max_depth=4, min_child_weight=3, n_estimators=687, reg_alpha=0.84, reg_lambda=0.68, subsample=1 \n",
      "[CV]  colsample_bytree=1, gamma=1.36, learning_rate=0.0063095734448, max_depth=6, min_child_weight=4, n_estimators=302, reg_alpha=0.71, reg_lambda=0.75, subsample=1, score=0.802540, total=  13.3s\n",
      "[CV] colsample_bytree=1, gamma=1.97, learning_rate=0.00102329299228, max_depth=4, min_child_weight=3, n_estimators=687, reg_alpha=0.84, reg_lambda=0.68, subsample=1 \n",
      "[CV]  colsample_bytree=1, gamma=1.36, learning_rate=0.0063095734448, max_depth=6, min_child_weight=4, n_estimators=302, reg_alpha=0.71, reg_lambda=0.75, subsample=1, score=0.791839, total=  13.0s\n",
      "[CV] colsample_bytree=1, gamma=1.97, learning_rate=0.00102329299228, max_depth=4, min_child_weight=3, n_estimators=687, reg_alpha=0.84, reg_lambda=0.68, subsample=1 \n",
      "[CV]  colsample_bytree=1, gamma=1.36, learning_rate=0.0063095734448, max_depth=6, min_child_weight=4, n_estimators=302, reg_alpha=0.71, reg_lambda=0.75, subsample=1, score=0.792703, total=  13.6s\n",
      "[CV] colsample_bytree=1, gamma=1.97, learning_rate=0.00102329299228, max_depth=4, min_child_weight=3, n_estimators=687, reg_alpha=0.84, reg_lambda=0.68, subsample=1 \n",
      "[CV]  colsample_bytree=1, gamma=1.27, learning_rate=0.0053703179637, max_depth=5, min_child_weight=2, n_estimators=668, reg_alpha=0.84, reg_lambda=0.65, subsample=1, score=0.782761, total=  23.1s\n",
      "[CV]  colsample_bytree=1, gamma=1.27, learning_rate=0.0053703179637, max_depth=5, min_child_weight=2, n_estimators=668, reg_alpha=0.84, reg_lambda=0.65, subsample=1, score=0.764715, total=  23.0s\n",
      "[CV] colsample_bytree=1, gamma=1.97, learning_rate=0.00102329299228, max_depth=4, min_child_weight=3, n_estimators=687, reg_alpha=0.84, reg_lambda=0.68, subsample=1 \n",
      "[CV] colsample_bytree=1, gamma=1.97, learning_rate=0.00102329299228, max_depth=4, min_child_weight=3, n_estimators=687, reg_alpha=0.84, reg_lambda=0.68, subsample=1 \n",
      "[CV]  colsample_bytree=1, gamma=1.36, learning_rate=0.0063095734448, max_depth=6, min_child_weight=4, n_estimators=302, reg_alpha=0.71, reg_lambda=0.75, subsample=1, score=0.778430, total=  12.5s\n",
      "[CV] colsample_bytree=1, gamma=1.25, learning_rate=0.0032359365693, max_depth=5, min_child_weight=2, n_estimators=413, reg_alpha=0.79, reg_lambda=0.6, subsample=1 \n",
      "[CV]  colsample_bytree=1, gamma=1.36, learning_rate=0.0063095734448, max_depth=6, min_child_weight=4, n_estimators=302, reg_alpha=0.71, reg_lambda=0.75, subsample=1, score=0.762158, total=  12.0s\n",
      "[CV] colsample_bytree=1, gamma=1.25, learning_rate=0.0032359365693, max_depth=5, min_child_weight=2, n_estimators=413, reg_alpha=0.79, reg_lambda=0.6, subsample=1 \n",
      "[CV]  colsample_bytree=1, gamma=1.97, learning_rate=0.00102329299228, max_depth=4, min_child_weight=3, n_estimators=687, reg_alpha=0.84, reg_lambda=0.68, subsample=1, score=0.792452, total=  17.3s\n",
      "[CV] colsample_bytree=1, gamma=1.25, learning_rate=0.0032359365693, max_depth=5, min_child_weight=2, n_estimators=413, reg_alpha=0.79, reg_lambda=0.6, subsample=1 \n",
      "[CV]  colsample_bytree=1, gamma=1.97, learning_rate=0.00102329299228, max_depth=4, min_child_weight=3, n_estimators=687, reg_alpha=0.84, reg_lambda=0.68, subsample=1, score=0.790424, total=  18.2s\n",
      "[CV] colsample_bytree=1, gamma=1.25, learning_rate=0.0032359365693, max_depth=5, min_child_weight=2, n_estimators=413, reg_alpha=0.79, reg_lambda=0.6, subsample=1 \n",
      "[CV]  colsample_bytree=1, gamma=1.97, learning_rate=0.00102329299228, max_depth=4, min_child_weight=3, n_estimators=687, reg_alpha=0.84, reg_lambda=0.68, subsample=1, score=0.785894, total=  17.7s\n",
      "[CV] colsample_bytree=1, gamma=1.25, learning_rate=0.0032359365693, max_depth=5, min_child_weight=2, n_estimators=413, reg_alpha=0.79, reg_lambda=0.6, subsample=1 \n",
      "[CV]  colsample_bytree=1, gamma=1.97, learning_rate=0.00102329299228, max_depth=4, min_child_weight=3, n_estimators=687, reg_alpha=0.84, reg_lambda=0.68, subsample=1, score=0.787081, total=  17.2s\n",
      "[CV] colsample_bytree=1, gamma=1.25, learning_rate=0.0032359365693, max_depth=5, min_child_weight=2, n_estimators=413, reg_alpha=0.79, reg_lambda=0.6, subsample=1 \n",
      "[CV]  colsample_bytree=1, gamma=1.97, learning_rate=0.00102329299228, max_depth=4, min_child_weight=3, n_estimators=687, reg_alpha=0.84, reg_lambda=0.68, subsample=1, score=0.773833, total=  17.0s\n",
      "[CV] colsample_bytree=1, gamma=2.58, learning_rate=0.00316227766017, max_depth=5, min_child_weight=1, n_estimators=201, reg_alpha=0.96, reg_lambda=0.95, subsample=1 \n",
      "[CV]  colsample_bytree=1, gamma=1.97, learning_rate=0.00102329299228, max_depth=4, min_child_weight=3, n_estimators=687, reg_alpha=0.84, reg_lambda=0.68, subsample=1, score=0.760717, total=  17.5s\n",
      "[CV] colsample_bytree=1, gamma=2.58, learning_rate=0.00316227766017, max_depth=5, min_child_weight=1, n_estimators=201, reg_alpha=0.96, reg_lambda=0.95, subsample=1 \n",
      "[CV]  colsample_bytree=1, gamma=1.25, learning_rate=0.0032359365693, max_depth=5, min_child_weight=2, n_estimators=413, reg_alpha=0.79, reg_lambda=0.6, subsample=1, score=0.796290, total=  13.5s\n",
      "[CV] colsample_bytree=1, gamma=2.58, learning_rate=0.00316227766017, max_depth=5, min_child_weight=1, n_estimators=201, reg_alpha=0.96, reg_lambda=0.95, subsample=1 \n",
      "[CV]  colsample_bytree=1, gamma=1.25, learning_rate=0.0032359365693, max_depth=5, min_child_weight=2, n_estimators=413, reg_alpha=0.79, reg_lambda=0.6, subsample=1, score=0.791400, total=  13.3s\n",
      "[CV] colsample_bytree=1, gamma=2.58, learning_rate=0.00316227766017, max_depth=5, min_child_weight=1, n_estimators=201, reg_alpha=0.96, reg_lambda=0.95, subsample=1 \n"
     ]
    },
    {
     "name": "stdout",
     "output_type": "stream",
     "text": [
      "[CV]  colsample_bytree=1, gamma=2.58, learning_rate=0.00316227766017, max_depth=5, min_child_weight=1, n_estimators=201, reg_alpha=0.96, reg_lambda=0.95, subsample=1, score=0.792321, total=   6.5s\n",
      "[CV] colsample_bytree=1, gamma=2.58, learning_rate=0.00316227766017, max_depth=5, min_child_weight=1, n_estimators=201, reg_alpha=0.96, reg_lambda=0.95, subsample=1 \n",
      "[CV]  colsample_bytree=1, gamma=2.58, learning_rate=0.00316227766017, max_depth=5, min_child_weight=1, n_estimators=201, reg_alpha=0.96, reg_lambda=0.95, subsample=1, score=0.772431, total=   6.4s\n",
      "[CV] colsample_bytree=1, gamma=2.58, learning_rate=0.00316227766017, max_depth=5, min_child_weight=1, n_estimators=201, reg_alpha=0.96, reg_lambda=0.95, subsample=1 \n",
      "[CV]  colsample_bytree=1, gamma=1.25, learning_rate=0.0032359365693, max_depth=5, min_child_weight=2, n_estimators=413, reg_alpha=0.79, reg_lambda=0.6, subsample=1, score=0.788204, total=  13.6s\n",
      "[CV] colsample_bytree=1, gamma=2.7, learning_rate=0.000831763771103, max_depth=5, min_child_weight=1, n_estimators=260, reg_alpha=0.9, reg_lambda=0.78, subsample=1 \n",
      "[CV]  colsample_bytree=1, gamma=2.58, learning_rate=0.00316227766017, max_depth=5, min_child_weight=1, n_estimators=201, reg_alpha=0.96, reg_lambda=0.95, subsample=1, score=0.785794, total=   6.8s\n",
      "[CV] colsample_bytree=1, gamma=2.7, learning_rate=0.000831763771103, max_depth=5, min_child_weight=1, n_estimators=260, reg_alpha=0.9, reg_lambda=0.78, subsample=1 \n",
      "[CV]  colsample_bytree=1, gamma=2.58, learning_rate=0.00316227766017, max_depth=5, min_child_weight=1, n_estimators=201, reg_alpha=0.96, reg_lambda=0.95, subsample=1, score=0.786929, total=   7.2s\n",
      "[CV] colsample_bytree=1, gamma=2.7, learning_rate=0.000831763771103, max_depth=5, min_child_weight=1, n_estimators=260, reg_alpha=0.9, reg_lambda=0.78, subsample=1 \n",
      "[CV]  colsample_bytree=1, gamma=1.25, learning_rate=0.0032359365693, max_depth=5, min_child_weight=2, n_estimators=413, reg_alpha=0.79, reg_lambda=0.6, subsample=1, score=0.778098, total=  13.5s\n",
      "[CV] colsample_bytree=1, gamma=2.7, learning_rate=0.000831763771103, max_depth=5, min_child_weight=1, n_estimators=260, reg_alpha=0.9, reg_lambda=0.78, subsample=1 \n",
      "[CV]  colsample_bytree=1, gamma=1.25, learning_rate=0.0032359365693, max_depth=5, min_child_weight=2, n_estimators=413, reg_alpha=0.79, reg_lambda=0.6, subsample=1, score=0.784970, total=  14.5s\n",
      "[CV] colsample_bytree=1, gamma=2.7, learning_rate=0.000831763771103, max_depth=5, min_child_weight=1, n_estimators=260, reg_alpha=0.9, reg_lambda=0.78, subsample=1 \n",
      "[CV]  colsample_bytree=1, gamma=1.25, learning_rate=0.0032359365693, max_depth=5, min_child_weight=2, n_estimators=413, reg_alpha=0.79, reg_lambda=0.6, subsample=1, score=0.762789, total=  14.1s\n",
      "[CV] colsample_bytree=1, gamma=2.7, learning_rate=0.000831763771103, max_depth=5, min_child_weight=1, n_estimators=260, reg_alpha=0.9, reg_lambda=0.78, subsample=1 \n",
      "[CV]  colsample_bytree=1, gamma=2.58, learning_rate=0.00316227766017, max_depth=5, min_child_weight=1, n_estimators=201, reg_alpha=0.96, reg_lambda=0.95, subsample=1, score=0.774940, total=   7.2s\n",
      "[CV] colsample_bytree=1, gamma=1.6, learning_rate=0.000208929613085, max_depth=6, min_child_weight=4, n_estimators=529, reg_alpha=0.9, reg_lambda=0.8, subsample=1 \n",
      "[CV]  colsample_bytree=1, gamma=2.58, learning_rate=0.00316227766017, max_depth=5, min_child_weight=1, n_estimators=201, reg_alpha=0.96, reg_lambda=0.95, subsample=1, score=0.761782, total=   7.4s\n",
      "[CV] colsample_bytree=1, gamma=1.6, learning_rate=0.000208929613085, max_depth=6, min_child_weight=4, n_estimators=529, reg_alpha=0.9, reg_lambda=0.8, subsample=1 \n",
      "[CV]  colsample_bytree=1, gamma=2.7, learning_rate=0.000831763771103, max_depth=5, min_child_weight=1, n_estimators=260, reg_alpha=0.9, reg_lambda=0.78, subsample=1, score=0.773657, total=   9.6s\n",
      "[CV] colsample_bytree=1, gamma=1.6, learning_rate=0.000208929613085, max_depth=6, min_child_weight=4, n_estimators=529, reg_alpha=0.9, reg_lambda=0.8, subsample=1 \n",
      "[CV]  colsample_bytree=1, gamma=2.7, learning_rate=0.000831763771103, max_depth=5, min_child_weight=1, n_estimators=260, reg_alpha=0.9, reg_lambda=0.78, subsample=1, score=0.766594, total=   9.3s\n",
      "[CV] colsample_bytree=1, gamma=1.6, learning_rate=0.000208929613085, max_depth=6, min_child_weight=4, n_estimators=529, reg_alpha=0.9, reg_lambda=0.8, subsample=1 \n",
      "[CV]  colsample_bytree=1, gamma=2.7, learning_rate=0.000831763771103, max_depth=5, min_child_weight=1, n_estimators=260, reg_alpha=0.9, reg_lambda=0.78, subsample=1, score=0.777809, total=   9.5s\n",
      "[CV] colsample_bytree=1, gamma=1.6, learning_rate=0.000208929613085, max_depth=6, min_child_weight=4, n_estimators=529, reg_alpha=0.9, reg_lambda=0.8, subsample=1 \n",
      "[CV]  colsample_bytree=1, gamma=2.7, learning_rate=0.000831763771103, max_depth=5, min_child_weight=1, n_estimators=260, reg_alpha=0.9, reg_lambda=0.78, subsample=1, score=0.776392, total=   9.7s\n",
      "[CV] colsample_bytree=1, gamma=1.6, learning_rate=0.000208929613085, max_depth=6, min_child_weight=4, n_estimators=529, reg_alpha=0.9, reg_lambda=0.8, subsample=1 \n",
      "[CV]  colsample_bytree=1, gamma=2.7, learning_rate=0.000831763771103, max_depth=5, min_child_weight=1, n_estimators=260, reg_alpha=0.9, reg_lambda=0.78, subsample=1, score=0.766224, total=   9.6s\n",
      "[CV] colsample_bytree=1, gamma=1.32, learning_rate=0.00063095734448, max_depth=5, min_child_weight=1, n_estimators=891, reg_alpha=0.88, reg_lambda=0.86, subsample=1 \n",
      "[CV]  colsample_bytree=1, gamma=2.7, learning_rate=0.000831763771103, max_depth=5, min_child_weight=1, n_estimators=260, reg_alpha=0.9, reg_lambda=0.78, subsample=1, score=0.752762, total=   9.4s\n",
      "[CV] colsample_bytree=1, gamma=1.32, learning_rate=0.00063095734448, max_depth=5, min_child_weight=1, n_estimators=891, reg_alpha=0.88, reg_lambda=0.86, subsample=1 \n",
      "[CV]  colsample_bytree=1, gamma=1.6, learning_rate=0.000208929613085, max_depth=6, min_child_weight=4, n_estimators=529, reg_alpha=0.9, reg_lambda=0.8, subsample=1, score=0.770464, total=  20.9s\n",
      "[CV] colsample_bytree=1, gamma=1.32, learning_rate=0.00063095734448, max_depth=5, min_child_weight=1, n_estimators=891, reg_alpha=0.88, reg_lambda=0.86, subsample=1 \n",
      "[CV]  colsample_bytree=1, gamma=1.6, learning_rate=0.000208929613085, max_depth=6, min_child_weight=4, n_estimators=529, reg_alpha=0.9, reg_lambda=0.8, subsample=1, score=0.766467, total=  21.3s\n",
      "[CV] colsample_bytree=1, gamma=1.32, learning_rate=0.00063095734448, max_depth=5, min_child_weight=1, n_estimators=891, reg_alpha=0.88, reg_lambda=0.86, subsample=1 \n",
      "[CV]  colsample_bytree=1, gamma=1.6, learning_rate=0.000208929613085, max_depth=6, min_child_weight=4, n_estimators=529, reg_alpha=0.9, reg_lambda=0.8, subsample=1, score=0.775255, total=  20.7s\n",
      "[CV] colsample_bytree=1, gamma=1.32, learning_rate=0.00063095734448, max_depth=5, min_child_weight=1, n_estimators=891, reg_alpha=0.88, reg_lambda=0.86, subsample=1 \n",
      "[CV]  colsample_bytree=1, gamma=1.6, learning_rate=0.000208929613085, max_depth=6, min_child_weight=4, n_estimators=529, reg_alpha=0.9, reg_lambda=0.8, subsample=1, score=0.782827, total=  21.1s\n",
      "[CV]  colsample_bytree=1, gamma=1.6, learning_rate=0.000208929613085, max_depth=6, min_child_weight=4, n_estimators=529, reg_alpha=0.9, reg_lambda=0.8, subsample=1, score=0.765868, total=  19.9s\n",
      "[CV] colsample_bytree=1, gamma=1.32, learning_rate=0.00063095734448, max_depth=5, min_child_weight=1, n_estimators=891, reg_alpha=0.88, reg_lambda=0.86, subsample=1 \n",
      "[CV] colsample_bytree=1, gamma=2.89, learning_rate=0.00676082975392, max_depth=5, min_child_weight=2, n_estimators=605, reg_alpha=0.6, reg_lambda=0.79, subsample=1 \n",
      "[CV]  colsample_bytree=1, gamma=1.6, learning_rate=0.000208929613085, max_depth=6, min_child_weight=4, n_estimators=529, reg_alpha=0.9, reg_lambda=0.8, subsample=1, score=0.759618, total=  20.6s\n",
      "[CV] colsample_bytree=1, gamma=2.89, learning_rate=0.00676082975392, max_depth=5, min_child_weight=2, n_estimators=605, reg_alpha=0.6, reg_lambda=0.79, subsample=1 \n",
      "[CV]  colsample_bytree=1, gamma=1.32, learning_rate=0.00063095734448, max_depth=5, min_child_weight=1, n_estimators=891, reg_alpha=0.88, reg_lambda=0.86, subsample=1, score=0.792555, total=  28.9s\n",
      "[CV] colsample_bytree=1, gamma=2.89, learning_rate=0.00676082975392, max_depth=5, min_child_weight=2, n_estimators=605, reg_alpha=0.6, reg_lambda=0.79, subsample=1 \n"
     ]
    },
    {
     "name": "stdout",
     "output_type": "stream",
     "text": [
      "[CV]  colsample_bytree=1, gamma=1.32, learning_rate=0.00063095734448, max_depth=5, min_child_weight=1, n_estimators=891, reg_alpha=0.88, reg_lambda=0.86, subsample=1, score=0.792374, total=  28.7s\n",
      "[CV] colsample_bytree=1, gamma=2.89, learning_rate=0.00676082975392, max_depth=5, min_child_weight=2, n_estimators=605, reg_alpha=0.6, reg_lambda=0.79, subsample=1 \n",
      "[CV]  colsample_bytree=1, gamma=2.89, learning_rate=0.00676082975392, max_depth=5, min_child_weight=2, n_estimators=605, reg_alpha=0.6, reg_lambda=0.79, subsample=1, score=0.808798, total=  19.7s\n",
      "[CV] colsample_bytree=1, gamma=2.89, learning_rate=0.00676082975392, max_depth=5, min_child_weight=2, n_estimators=605, reg_alpha=0.6, reg_lambda=0.79, subsample=1 \n",
      "[CV]  colsample_bytree=1, gamma=2.89, learning_rate=0.00676082975392, max_depth=5, min_child_weight=2, n_estimators=605, reg_alpha=0.6, reg_lambda=0.79, subsample=1, score=0.795460, total=  19.4s\n",
      "[CV] colsample_bytree=1, gamma=2.89, learning_rate=0.00676082975392, max_depth=5, min_child_weight=2, n_estimators=605, reg_alpha=0.6, reg_lambda=0.79, subsample=1 \n",
      "[CV]  colsample_bytree=1, gamma=1.32, learning_rate=0.00063095734448, max_depth=5, min_child_weight=1, n_estimators=891, reg_alpha=0.88, reg_lambda=0.86, subsample=1, score=0.786535, total=  29.1s\n",
      "[CV] colsample_bytree=1, gamma=1.82, learning_rate=0.000776247116629, max_depth=5, min_child_weight=2, n_estimators=211, reg_alpha=0.84, reg_lambda=0.91, subsample=1 \n",
      "[CV]  colsample_bytree=1, gamma=1.32, learning_rate=0.00063095734448, max_depth=5, min_child_weight=1, n_estimators=891, reg_alpha=0.88, reg_lambda=0.86, subsample=1, score=0.786643, total=  29.6s\n",
      "[CV] colsample_bytree=1, gamma=1.82, learning_rate=0.000776247116629, max_depth=5, min_child_weight=2, n_estimators=211, reg_alpha=0.84, reg_lambda=0.91, subsample=1 \n",
      "[CV]  colsample_bytree=1, gamma=1.32, learning_rate=0.00063095734448, max_depth=5, min_child_weight=1, n_estimators=891, reg_alpha=0.88, reg_lambda=0.86, subsample=1, score=0.774357, total=  28.7s\n",
      "[CV] colsample_bytree=1, gamma=1.82, learning_rate=0.000776247116629, max_depth=5, min_child_weight=2, n_estimators=211, reg_alpha=0.84, reg_lambda=0.91, subsample=1 \n",
      "[CV]  colsample_bytree=1, gamma=1.32, learning_rate=0.00063095734448, max_depth=5, min_child_weight=1, n_estimators=891, reg_alpha=0.88, reg_lambda=0.86, subsample=1, score=0.761635, total=  29.1s\n",
      "[CV] colsample_bytree=1, gamma=1.82, learning_rate=0.000776247116629, max_depth=5, min_child_weight=2, n_estimators=211, reg_alpha=0.84, reg_lambda=0.91, subsample=1 \n",
      "[CV]  colsample_bytree=1, gamma=1.82, learning_rate=0.000776247116629, max_depth=5, min_child_weight=2, n_estimators=211, reg_alpha=0.84, reg_lambda=0.91, subsample=1, score=0.769680, total=   6.8s\n",
      "[CV] colsample_bytree=1, gamma=1.82, learning_rate=0.000776247116629, max_depth=5, min_child_weight=2, n_estimators=211, reg_alpha=0.84, reg_lambda=0.91, subsample=1 \n",
      "[CV]  colsample_bytree=1, gamma=2.89, learning_rate=0.00676082975392, max_depth=5, min_child_weight=2, n_estimators=605, reg_alpha=0.6, reg_lambda=0.79, subsample=1, score=0.791639, total=  19.4s\n",
      "[CV] colsample_bytree=1, gamma=1.82, learning_rate=0.000776247116629, max_depth=5, min_child_weight=2, n_estimators=211, reg_alpha=0.84, reg_lambda=0.91, subsample=1 \n",
      "[CV]  colsample_bytree=1, gamma=2.89, learning_rate=0.00676082975392, max_depth=5, min_child_weight=2, n_estimators=605, reg_alpha=0.6, reg_lambda=0.79, subsample=1, score=0.798523, total=  20.3s\n",
      "[CV] colsample_bytree=1, gamma=2.72, learning_rate=0.00954992586021, max_depth=4, min_child_weight=1, n_estimators=748, reg_alpha=0.87, reg_lambda=0.67, subsample=1 \n",
      "[CV]  colsample_bytree=1, gamma=1.82, learning_rate=0.000776247116629, max_depth=5, min_child_weight=2, n_estimators=211, reg_alpha=0.84, reg_lambda=0.91, subsample=1, score=0.765769, total=   7.0s\n",
      "[CV] colsample_bytree=1, gamma=2.72, learning_rate=0.00954992586021, max_depth=4, min_child_weight=1, n_estimators=748, reg_alpha=0.87, reg_lambda=0.67, subsample=1 \n",
      "[CV]  colsample_bytree=1, gamma=1.82, learning_rate=0.000776247116629, max_depth=5, min_child_weight=2, n_estimators=211, reg_alpha=0.84, reg_lambda=0.91, subsample=1, score=0.785065, total=   7.9s\n",
      "[CV] colsample_bytree=1, gamma=2.72, learning_rate=0.00954992586021, max_depth=4, min_child_weight=1, n_estimators=748, reg_alpha=0.87, reg_lambda=0.67, subsample=1 \n",
      "[CV]  colsample_bytree=1, gamma=1.82, learning_rate=0.000776247116629, max_depth=5, min_child_weight=2, n_estimators=211, reg_alpha=0.84, reg_lambda=0.91, subsample=1, score=0.775879, total=   8.2s\n",
      "[CV] colsample_bytree=1, gamma=2.72, learning_rate=0.00954992586021, max_depth=4, min_child_weight=1, n_estimators=748, reg_alpha=0.87, reg_lambda=0.67, subsample=1 \n",
      "[CV]  colsample_bytree=1, gamma=1.82, learning_rate=0.000776247116629, max_depth=5, min_child_weight=2, n_estimators=211, reg_alpha=0.84, reg_lambda=0.91, subsample=1, score=0.760038, total=   7.6s\n",
      "[CV] colsample_bytree=1, gamma=2.72, learning_rate=0.00954992586021, max_depth=4, min_child_weight=1, n_estimators=748, reg_alpha=0.87, reg_lambda=0.67, subsample=1 \n",
      "[CV]  colsample_bytree=1, gamma=1.82, learning_rate=0.000776247116629, max_depth=5, min_child_weight=2, n_estimators=211, reg_alpha=0.84, reg_lambda=0.91, subsample=1, score=0.766454, total=   7.9s\n",
      "[CV] colsample_bytree=1, gamma=2.72, learning_rate=0.00954992586021, max_depth=4, min_child_weight=1, n_estimators=748, reg_alpha=0.87, reg_lambda=0.67, subsample=1 \n",
      "[CV]  colsample_bytree=1, gamma=2.89, learning_rate=0.00676082975392, max_depth=5, min_child_weight=2, n_estimators=605, reg_alpha=0.6, reg_lambda=0.79, subsample=1, score=0.782912, total=  20.3s\n",
      "[CV] colsample_bytree=1, gamma=1.61, learning_rate=0.000660693448008, max_depth=4, min_child_weight=4, n_estimators=237, reg_alpha=0.66, reg_lambda=0.79, subsample=1 \n",
      "[CV]  colsample_bytree=1, gamma=2.89, learning_rate=0.00676082975392, max_depth=5, min_child_weight=2, n_estimators=605, reg_alpha=0.6, reg_lambda=0.79, subsample=1, score=0.765192, total=  20.3s\n",
      "[CV] colsample_bytree=1, gamma=1.61, learning_rate=0.000660693448008, max_depth=4, min_child_weight=4, n_estimators=237, reg_alpha=0.66, reg_lambda=0.79, subsample=1 \n",
      "[CV]  colsample_bytree=1, gamma=1.61, learning_rate=0.000660693448008, max_depth=4, min_child_weight=4, n_estimators=237, reg_alpha=0.66, reg_lambda=0.79, subsample=1, score=0.766544, total=   6.0s\n",
      "[CV] colsample_bytree=1, gamma=1.61, learning_rate=0.000660693448008, max_depth=4, min_child_weight=4, n_estimators=237, reg_alpha=0.66, reg_lambda=0.79, subsample=1 \n",
      "[CV]  colsample_bytree=1, gamma=1.61, learning_rate=0.000660693448008, max_depth=4, min_child_weight=4, n_estimators=237, reg_alpha=0.66, reg_lambda=0.79, subsample=1, score=0.764144, total=   6.0s\n",
      "[CV] colsample_bytree=1, gamma=1.61, learning_rate=0.000660693448008, max_depth=4, min_child_weight=4, n_estimators=237, reg_alpha=0.66, reg_lambda=0.79, subsample=1 \n",
      "[CV]  colsample_bytree=1, gamma=2.72, learning_rate=0.00954992586021, max_depth=4, min_child_weight=1, n_estimators=748, reg_alpha=0.87, reg_lambda=0.67, subsample=1, score=0.807180, total=  20.0s\n",
      "[CV] colsample_bytree=1, gamma=1.61, learning_rate=0.000660693448008, max_depth=4, min_child_weight=4, n_estimators=237, reg_alpha=0.66, reg_lambda=0.79, subsample=1 \n",
      "[CV]  colsample_bytree=1, gamma=2.72, learning_rate=0.00954992586021, max_depth=4, min_child_weight=1, n_estimators=748, reg_alpha=0.87, reg_lambda=0.67, subsample=1, score=0.794355, total=  19.9s\n",
      "[CV] colsample_bytree=1, gamma=1.61, learning_rate=0.000660693448008, max_depth=4, min_child_weight=4, n_estimators=237, reg_alpha=0.66, reg_lambda=0.79, subsample=1 \n",
      "[CV]  colsample_bytree=1, gamma=1.61, learning_rate=0.000660693448008, max_depth=4, min_child_weight=4, n_estimators=237, reg_alpha=0.66, reg_lambda=0.79, subsample=1, score=0.784034, total=   6.0s\n",
      "[CV] colsample_bytree=1, gamma=2.86, learning_rate=0.000144543977075, max_depth=5, min_child_weight=2, n_estimators=738, reg_alpha=0.93, reg_lambda=0.77, subsample=1 \n",
      "[CV]  colsample_bytree=1, gamma=1.61, learning_rate=0.000660693448008, max_depth=4, min_child_weight=4, n_estimators=237, reg_alpha=0.66, reg_lambda=0.79, subsample=1, score=0.784692, total=   6.1s\n"
     ]
    },
    {
     "name": "stdout",
     "output_type": "stream",
     "text": [
      "[CV] colsample_bytree=1, gamma=2.86, learning_rate=0.000144543977075, max_depth=5, min_child_weight=2, n_estimators=738, reg_alpha=0.93, reg_lambda=0.77, subsample=1 \n",
      "[CV]  colsample_bytree=1, gamma=2.72, learning_rate=0.00954992586021, max_depth=4, min_child_weight=1, n_estimators=748, reg_alpha=0.87, reg_lambda=0.67, subsample=1, score=0.798833, total=  19.0s\n",
      "[CV] colsample_bytree=1, gamma=2.86, learning_rate=0.000144543977075, max_depth=5, min_child_weight=2, n_estimators=738, reg_alpha=0.93, reg_lambda=0.77, subsample=1 \n",
      "[CV]  colsample_bytree=1, gamma=1.61, learning_rate=0.000660693448008, max_depth=4, min_child_weight=4, n_estimators=237, reg_alpha=0.66, reg_lambda=0.79, subsample=1, score=0.773283, total=   6.1s\n",
      "[CV] colsample_bytree=1, gamma=2.86, learning_rate=0.000144543977075, max_depth=5, min_child_weight=2, n_estimators=738, reg_alpha=0.93, reg_lambda=0.77, subsample=1 \n",
      "[CV]  colsample_bytree=1, gamma=2.72, learning_rate=0.00954992586021, max_depth=4, min_child_weight=1, n_estimators=748, reg_alpha=0.87, reg_lambda=0.67, subsample=1, score=0.792977, total=  19.2s\n",
      "[CV]  colsample_bytree=1, gamma=2.72, learning_rate=0.00954992586021, max_depth=4, min_child_weight=1, n_estimators=748, reg_alpha=0.87, reg_lambda=0.67, subsample=1, score=0.783200, total=  19.0s\n",
      "[CV] colsample_bytree=1, gamma=2.86, learning_rate=0.000144543977075, max_depth=5, min_child_weight=2, n_estimators=738, reg_alpha=0.93, reg_lambda=0.77, subsample=1 \n",
      "[CV] colsample_bytree=1, gamma=2.86, learning_rate=0.000144543977075, max_depth=5, min_child_weight=2, n_estimators=738, reg_alpha=0.93, reg_lambda=0.77, subsample=1 \n"
     ]
    },
    {
     "name": "stderr",
     "output_type": "stream",
     "text": [
      "[Parallel(n_jobs=-1)]: Done 112 tasks      | elapsed:  4.7min\n"
     ]
    },
    {
     "name": "stdout",
     "output_type": "stream",
     "text": [
      "[CV]  colsample_bytree=1, gamma=2.72, learning_rate=0.00954992586021, max_depth=4, min_child_weight=1, n_estimators=748, reg_alpha=0.87, reg_lambda=0.67, subsample=1, score=0.765121, total=  19.3s\n",
      "[CV] colsample_bytree=1, gamma=3.4, learning_rate=0.000199526231497, max_depth=5, min_child_weight=1, n_estimators=591, reg_alpha=0.87, reg_lambda=0.89, subsample=1 \n",
      "[CV]  colsample_bytree=1, gamma=1.61, learning_rate=0.000660693448008, max_depth=4, min_child_weight=4, n_estimators=237, reg_alpha=0.66, reg_lambda=0.79, subsample=1, score=0.758803, total=   6.1s\n",
      "[CV] colsample_bytree=1, gamma=3.4, learning_rate=0.000199526231497, max_depth=5, min_child_weight=1, n_estimators=591, reg_alpha=0.87, reg_lambda=0.89, subsample=1 \n",
      "[CV]  colsample_bytree=1, gamma=2.86, learning_rate=0.000144543977075, max_depth=5, min_child_weight=2, n_estimators=738, reg_alpha=0.93, reg_lambda=0.77, subsample=1, score=0.767494, total=  24.1s\n",
      "[CV] colsample_bytree=1, gamma=3.4, learning_rate=0.000199526231497, max_depth=5, min_child_weight=1, n_estimators=591, reg_alpha=0.87, reg_lambda=0.89, subsample=1 \n",
      "[CV]  colsample_bytree=1, gamma=3.4, learning_rate=0.000199526231497, max_depth=5, min_child_weight=1, n_estimators=591, reg_alpha=0.87, reg_lambda=0.89, subsample=1, score=0.764879, total=  18.8s\n",
      "[CV] colsample_bytree=1, gamma=3.4, learning_rate=0.000199526231497, max_depth=5, min_child_weight=1, n_estimators=591, reg_alpha=0.87, reg_lambda=0.89, subsample=1 \n",
      "[CV]  colsample_bytree=1, gamma=3.4, learning_rate=0.000199526231497, max_depth=5, min_child_weight=1, n_estimators=591, reg_alpha=0.87, reg_lambda=0.89, subsample=1, score=0.767605, total=  19.8s\n",
      "[CV] colsample_bytree=1, gamma=3.4, learning_rate=0.000199526231497, max_depth=5, min_child_weight=1, n_estimators=591, reg_alpha=0.87, reg_lambda=0.89, subsample=1 \n",
      "[CV]  colsample_bytree=1, gamma=2.86, learning_rate=0.000144543977075, max_depth=5, min_child_weight=2, n_estimators=738, reg_alpha=0.93, reg_lambda=0.77, subsample=1, score=0.765627, total=  23.8s\n",
      "[CV] colsample_bytree=1, gamma=3.4, learning_rate=0.000199526231497, max_depth=5, min_child_weight=1, n_estimators=591, reg_alpha=0.87, reg_lambda=0.89, subsample=1 \n",
      "[CV]  colsample_bytree=1, gamma=2.86, learning_rate=0.000144543977075, max_depth=5, min_child_weight=2, n_estimators=738, reg_alpha=0.93, reg_lambda=0.77, subsample=1, score=0.774402, total=  23.7s\n",
      "[CV] colsample_bytree=1, gamma=1.84, learning_rate=0.00776247116629, max_depth=4, min_child_weight=4, n_estimators=561, reg_alpha=0.77, reg_lambda=0.91, subsample=1 \n",
      "[CV]  colsample_bytree=1, gamma=2.86, learning_rate=0.000144543977075, max_depth=5, min_child_weight=2, n_estimators=738, reg_alpha=0.93, reg_lambda=0.77, subsample=1, score=0.766052, total=  23.5s\n",
      "[CV] colsample_bytree=1, gamma=1.84, learning_rate=0.00776247116629, max_depth=4, min_child_weight=4, n_estimators=561, reg_alpha=0.77, reg_lambda=0.91, subsample=1 \n",
      "[CV]  colsample_bytree=1, gamma=2.86, learning_rate=0.000144543977075, max_depth=5, min_child_weight=2, n_estimators=738, reg_alpha=0.93, reg_lambda=0.77, subsample=1, score=0.752539, total=  23.8s\n",
      "[CV] colsample_bytree=1, gamma=1.84, learning_rate=0.00776247116629, max_depth=4, min_child_weight=4, n_estimators=561, reg_alpha=0.77, reg_lambda=0.91, subsample=1 \n",
      "[CV]  colsample_bytree=1, gamma=2.86, learning_rate=0.000144543977075, max_depth=5, min_child_weight=2, n_estimators=738, reg_alpha=0.93, reg_lambda=0.77, subsample=1, score=0.775202, total=  24.6s\n",
      "[CV] colsample_bytree=1, gamma=1.84, learning_rate=0.00776247116629, max_depth=4, min_child_weight=4, n_estimators=561, reg_alpha=0.77, reg_lambda=0.91, subsample=1 \n",
      "[CV]  colsample_bytree=1, gamma=1.84, learning_rate=0.00776247116629, max_depth=4, min_child_weight=4, n_estimators=561, reg_alpha=0.77, reg_lambda=0.91, subsample=1, score=0.804638, total=  14.6s\n",
      "[CV] colsample_bytree=1, gamma=1.84, learning_rate=0.00776247116629, max_depth=4, min_child_weight=4, n_estimators=561, reg_alpha=0.77, reg_lambda=0.91, subsample=1 \n",
      "[CV]  colsample_bytree=1, gamma=1.84, learning_rate=0.00776247116629, max_depth=4, min_child_weight=4, n_estimators=561, reg_alpha=0.77, reg_lambda=0.91, subsample=1, score=0.796284, total=  14.6s\n",
      "[CV] colsample_bytree=1, gamma=1.84, learning_rate=0.00776247116629, max_depth=4, min_child_weight=4, n_estimators=561, reg_alpha=0.77, reg_lambda=0.91, subsample=1 \n",
      "[CV]  colsample_bytree=1, gamma=1.84, learning_rate=0.00776247116629, max_depth=4, min_child_weight=4, n_estimators=561, reg_alpha=0.77, reg_lambda=0.91, subsample=1, score=0.797142, total=  14.5s\n",
      "[CV] colsample_bytree=1, gamma=3.28, learning_rate=0.00354813389234, max_depth=5, min_child_weight=3, n_estimators=335, reg_alpha=0.7, reg_lambda=0.86, subsample=1 \n",
      "[CV]  colsample_bytree=1, gamma=3.4, learning_rate=0.000199526231497, max_depth=5, min_child_weight=1, n_estimators=591, reg_alpha=0.87, reg_lambda=0.89, subsample=1, score=0.774628, total=  19.6s\n",
      "[CV] colsample_bytree=1, gamma=3.28, learning_rate=0.00354813389234, max_depth=5, min_child_weight=3, n_estimators=335, reg_alpha=0.7, reg_lambda=0.86, subsample=1 \n",
      "[CV]  colsample_bytree=1, gamma=1.84, learning_rate=0.00776247116629, max_depth=4, min_child_weight=4, n_estimators=561, reg_alpha=0.77, reg_lambda=0.91, subsample=1, score=0.794000, total=  15.0s\n",
      "[CV]  colsample_bytree=1, gamma=3.4, learning_rate=0.000199526231497, max_depth=5, min_child_weight=1, n_estimators=591, reg_alpha=0.87, reg_lambda=0.89, subsample=1, score=0.765778, total=  19.5s\n",
      "[CV] colsample_bytree=1, gamma=3.28, learning_rate=0.00354813389234, max_depth=5, min_child_weight=3, n_estimators=335, reg_alpha=0.7, reg_lambda=0.86, subsample=1 \n",
      "[CV] colsample_bytree=1, gamma=3.28, learning_rate=0.00354813389234, max_depth=5, min_child_weight=3, n_estimators=335, reg_alpha=0.7, reg_lambda=0.86, subsample=1 \n",
      "[CV]  colsample_bytree=1, gamma=3.4, learning_rate=0.000199526231497, max_depth=5, min_child_weight=1, n_estimators=591, reg_alpha=0.87, reg_lambda=0.89, subsample=1, score=0.776035, total=  20.6s\n",
      "[CV] colsample_bytree=1, gamma=3.28, learning_rate=0.00354813389234, max_depth=5, min_child_weight=3, n_estimators=335, reg_alpha=0.7, reg_lambda=0.86, subsample=1 \n",
      "[CV]  colsample_bytree=1, gamma=3.4, learning_rate=0.000199526231497, max_depth=5, min_child_weight=1, n_estimators=591, reg_alpha=0.87, reg_lambda=0.89, subsample=1, score=0.752582, total=  19.9s\n",
      "[CV] colsample_bytree=1, gamma=3.28, learning_rate=0.00354813389234, max_depth=5, min_child_weight=3, n_estimators=335, reg_alpha=0.7, reg_lambda=0.86, subsample=1 \n",
      "[CV]  colsample_bytree=1, gamma=3.28, learning_rate=0.00354813389234, max_depth=5, min_child_weight=3, n_estimators=335, reg_alpha=0.7, reg_lambda=0.86, subsample=1, score=0.793256, total=  10.9s\n",
      "[CV] colsample_bytree=1, gamma=1.4, learning_rate=0.00052480746025, max_depth=4, min_child_weight=1, n_estimators=341, reg_alpha=0.92, reg_lambda=0.75, subsample=1 \n",
      "[CV]  colsample_bytree=1, gamma=3.28, learning_rate=0.00354813389234, max_depth=5, min_child_weight=3, n_estimators=335, reg_alpha=0.7, reg_lambda=0.86, subsample=1, score=0.793620, total=  10.7s\n",
      "[CV] colsample_bytree=1, gamma=1.4, learning_rate=0.00052480746025, max_depth=4, min_child_weight=1, n_estimators=341, reg_alpha=0.92, reg_lambda=0.75, subsample=1 \n",
      "[CV]  colsample_bytree=1, gamma=3.28, learning_rate=0.00354813389234, max_depth=5, min_child_weight=3, n_estimators=335, reg_alpha=0.7, reg_lambda=0.86, subsample=1, score=0.786881, total=  10.7s\n",
      "[CV] colsample_bytree=1, gamma=1.4, learning_rate=0.00052480746025, max_depth=4, min_child_weight=1, n_estimators=341, reg_alpha=0.92, reg_lambda=0.75, subsample=1 \n",
      "[CV]  colsample_bytree=1, gamma=3.28, learning_rate=0.00354813389234, max_depth=5, min_child_weight=3, n_estimators=335, reg_alpha=0.7, reg_lambda=0.86, subsample=1, score=0.786909, total=  11.1s\n",
      "[CV] colsample_bytree=1, gamma=1.4, learning_rate=0.00052480746025, max_depth=4, min_child_weight=1, n_estimators=341, reg_alpha=0.92, reg_lambda=0.75, subsample=1 \n",
      "[CV]  colsample_bytree=1, gamma=3.28, learning_rate=0.00354813389234, max_depth=5, min_child_weight=3, n_estimators=335, reg_alpha=0.7, reg_lambda=0.86, subsample=1, score=0.775542, total=  10.8s\n",
      "[CV] colsample_bytree=1, gamma=1.4, learning_rate=0.00052480746025, max_depth=4, min_child_weight=1, n_estimators=341, reg_alpha=0.92, reg_lambda=0.75, subsample=1 \n"
     ]
    },
    {
     "name": "stdout",
     "output_type": "stream",
     "text": [
      "[CV]  colsample_bytree=1, gamma=3.28, learning_rate=0.00354813389234, max_depth=5, min_child_weight=3, n_estimators=335, reg_alpha=0.7, reg_lambda=0.86, subsample=1, score=0.761734, total=  10.8s\n",
      "[CV] colsample_bytree=1, gamma=1.4, learning_rate=0.00052480746025, max_depth=4, min_child_weight=1, n_estimators=341, reg_alpha=0.92, reg_lambda=0.75, subsample=1 \n",
      "[CV]  colsample_bytree=1, gamma=1.84, learning_rate=0.00776247116629, max_depth=4, min_child_weight=4, n_estimators=561, reg_alpha=0.77, reg_lambda=0.91, subsample=1, score=0.780608, total=  14.7s\n",
      "[CV] colsample_bytree=1, gamma=3.4, learning_rate=0.000912010839356, max_depth=5, min_child_weight=4, n_estimators=928, reg_alpha=0.86, reg_lambda=0.72, subsample=1 \n",
      "[CV]  colsample_bytree=1, gamma=1.84, learning_rate=0.00776247116629, max_depth=4, min_child_weight=4, n_estimators=561, reg_alpha=0.77, reg_lambda=0.91, subsample=1, score=0.761890, total=  14.4s\n",
      "[CV] colsample_bytree=1, gamma=3.4, learning_rate=0.000912010839356, max_depth=5, min_child_weight=4, n_estimators=928, reg_alpha=0.86, reg_lambda=0.72, subsample=1 \n",
      "[CV]  colsample_bytree=1, gamma=1.4, learning_rate=0.00052480746025, max_depth=4, min_child_weight=1, n_estimators=341, reg_alpha=0.92, reg_lambda=0.75, subsample=1, score=0.768929, total=   8.7s\n",
      "[CV] colsample_bytree=1, gamma=3.4, learning_rate=0.000912010839356, max_depth=5, min_child_weight=4, n_estimators=928, reg_alpha=0.86, reg_lambda=0.72, subsample=1 \n",
      "[CV]  colsample_bytree=1, gamma=1.4, learning_rate=0.00052480746025, max_depth=4, min_child_weight=1, n_estimators=341, reg_alpha=0.92, reg_lambda=0.75, subsample=1, score=0.762915, total=   8.7s\n",
      "[CV] colsample_bytree=1, gamma=3.4, learning_rate=0.000912010839356, max_depth=5, min_child_weight=4, n_estimators=928, reg_alpha=0.86, reg_lambda=0.72, subsample=1 \n",
      "[CV]  colsample_bytree=1, gamma=1.4, learning_rate=0.00052480746025, max_depth=4, min_child_weight=1, n_estimators=341, reg_alpha=0.92, reg_lambda=0.75, subsample=1, score=0.784170, total=   8.7s\n",
      "[CV] colsample_bytree=1, gamma=3.4, learning_rate=0.000912010839356, max_depth=5, min_child_weight=4, n_estimators=928, reg_alpha=0.86, reg_lambda=0.72, subsample=1 \n",
      "[CV]  colsample_bytree=1, gamma=1.4, learning_rate=0.00052480746025, max_depth=4, min_child_weight=1, n_estimators=341, reg_alpha=0.92, reg_lambda=0.75, subsample=1, score=0.784779, total=   8.8s\n",
      "[CV] colsample_bytree=1, gamma=3.4, learning_rate=0.000912010839356, max_depth=5, min_child_weight=4, n_estimators=928, reg_alpha=0.86, reg_lambda=0.72, subsample=1 \n",
      "[CV]  colsample_bytree=1, gamma=1.4, learning_rate=0.00052480746025, max_depth=4, min_child_weight=1, n_estimators=341, reg_alpha=0.92, reg_lambda=0.75, subsample=1, score=0.773039, total=   8.6s\n",
      "[CV]  colsample_bytree=1, gamma=1.4, learning_rate=0.00052480746025, max_depth=4, min_child_weight=1, n_estimators=341, reg_alpha=0.92, reg_lambda=0.75, subsample=1, score=0.759034, total=   8.7s\n",
      "[CV]  colsample_bytree=1, gamma=3.4, learning_rate=0.000912010839356, max_depth=5, min_child_weight=4, n_estimators=928, reg_alpha=0.86, reg_lambda=0.72, subsample=1, score=0.792634, total=  21.6s\n",
      "[CV]  colsample_bytree=1, gamma=3.4, learning_rate=0.000912010839356, max_depth=5, min_child_weight=4, n_estimators=928, reg_alpha=0.86, reg_lambda=0.72, subsample=1, score=0.773593, total=  21.2s\n",
      "[CV]  colsample_bytree=1, gamma=3.4, learning_rate=0.000912010839356, max_depth=5, min_child_weight=4, n_estimators=928, reg_alpha=0.86, reg_lambda=0.72, subsample=1, score=0.786704, total=  24.2s\n",
      "[CV]  colsample_bytree=1, gamma=3.4, learning_rate=0.000912010839356, max_depth=5, min_child_weight=4, n_estimators=928, reg_alpha=0.86, reg_lambda=0.72, subsample=1, score=0.774487, total=  23.6s\n",
      "[CV]  colsample_bytree=1, gamma=3.4, learning_rate=0.000912010839356, max_depth=5, min_child_weight=4, n_estimators=928, reg_alpha=0.86, reg_lambda=0.72, subsample=1, score=0.786584, total=  24.3s\n",
      "[CV]  colsample_bytree=1, gamma=3.4, learning_rate=0.000912010839356, max_depth=5, min_child_weight=4, n_estimators=928, reg_alpha=0.86, reg_lambda=0.72, subsample=1, score=0.761389, total=  23.7s\n"
     ]
    },
    {
     "name": "stderr",
     "output_type": "stream",
     "text": [
      "[Parallel(n_jobs=-1)]: Done 150 out of 150 | elapsed:  6.1min finished\n",
      "/usr/lib64/python3.6/site-packages/sklearn/model_selection/_search.py:667: DeprecationWarning: The grid_scores_ attribute was deprecated in version 0.18 in favor of the more elaborate cv_results_ attribute. The grid_scores_ attribute will not be available from 0.20\n",
      "  DeprecationWarning)\n"
     ]
    },
    {
     "name": "stdout",
     "output_type": "stream",
     "text": [
      "Raw AUC score: 0.790423572532\n",
      "colsample_bytree: 1\n",
      "gamma: 2.8900000000000015\n",
      "learning_rate: 0.0067608297539192104\n",
      "max_depth: 5\n",
      "min_child_weight: 2\n",
      "n_estimators: 605\n",
      "reg_alpha: 0.59999999999999998\n",
      "reg_lambda: 0.79000000000000015\n",
      "subsample: 1\n"
     ]
    }
   ],
   "source": [
    "param_dist = {'n_estimators': stats.randint(200, 1000),\n",
    "              'learning_rate': 10 ** np.arange(-4, -2, 0.01),\n",
    "              'subsample': [1],\n",
    "              'max_depth': [4, 5, 6],\n",
    "              'colsample_bytree': [1],\n",
    "              'min_child_weight': [1, 2, 3, 4],\n",
    "              'gamma' : np.arange(1.1, 3.488, 0.01),\n",
    "              'reg_alpha':np.arange(0.6, 1, 0.01), \n",
    "              'reg_lambda':np.arange(0.6, 1, 0.01)\n",
    "             }\n",
    "\n",
    "clf = RandomizedSearchCV(clf_xgb, \n",
    "                         param_distributions = param_dist,\n",
    "                         cv = 6,  \n",
    "                         n_iter = 25, # you want 5 here not 25 if I understand you correctly \n",
    "                         scoring = 'roc_auc', \n",
    "                         error_score = 0, \n",
    "                         verbose = 3, \n",
    "                         n_jobs = -1)\n",
    "clf.fit(X_train, Y_train)\n",
    "\n",
    "#trust your CV!\n",
    "best_parameters, score, _ = max(clf.grid_scores_, key=lambda x: x[1])\n",
    "print('Raw AUC score:', score)\n",
    "for param_name in sorted(best_parameters.keys()):\n",
    "    print(\"%s: %r\" % (param_name, best_parameters[param_name]))\n",
    "\n",
    "test_probs = clf.predict_proba(X_test.as_matrix())[:,1]"
   ]
  },
  {
   "cell_type": "code",
   "execution_count": 74,
   "metadata": {},
   "outputs": [
    {
     "data": {
      "text/plain": [
       "array([ 0.06310574,  0.20222679,  0.06957059, ...,  0.06254054,\n",
       "        0.06809467,  0.13734066], dtype=float32)"
      ]
     },
     "execution_count": 74,
     "metadata": {},
     "output_type": "execute_result"
    }
   ],
   "source": [
    "test_probs"
   ]
  },
  {
   "cell_type": "code",
   "execution_count": 75,
   "metadata": {},
   "outputs": [
    {
     "data": {
      "text/plain": [
       "array([22077, 40890, 23683, ..., 26870, 25976, 35620])"
      ]
     },
     "execution_count": 75,
     "metadata": {},
     "output_type": "execute_result"
    }
   ],
   "source": [
    "test_indices = X_test.index.values\n",
    "test_indices"
   ]
  },
  {
   "cell_type": "code",
   "execution_count": 76,
   "metadata": {
    "collapsed": true
   },
   "outputs": [],
   "source": [
    "results = pd.DataFrame({'id':test_indices, 'y':test_probs})"
   ]
  },
  {
   "cell_type": "code",
   "execution_count": 77,
   "metadata": {},
   "outputs": [
    {
     "data": {
      "text/html": [
       "<div>\n",
       "<style>\n",
       "    .dataframe thead tr:only-child th {\n",
       "        text-align: right;\n",
       "    }\n",
       "\n",
       "    .dataframe thead th {\n",
       "        text-align: left;\n",
       "    }\n",
       "\n",
       "    .dataframe tbody tr th {\n",
       "        vertical-align: top;\n",
       "    }\n",
       "</style>\n",
       "<table border=\"1\" class=\"dataframe\">\n",
       "  <thead>\n",
       "    <tr style=\"text-align: right;\">\n",
       "      <th></th>\n",
       "      <th>id</th>\n",
       "      <th>y</th>\n",
       "    </tr>\n",
       "  </thead>\n",
       "  <tbody>\n",
       "    <tr>\n",
       "      <th>0</th>\n",
       "      <td>22077</td>\n",
       "      <td>0.063106</td>\n",
       "    </tr>\n",
       "    <tr>\n",
       "      <th>1</th>\n",
       "      <td>40890</td>\n",
       "      <td>0.202227</td>\n",
       "    </tr>\n",
       "    <tr>\n",
       "      <th>2</th>\n",
       "      <td>23683</td>\n",
       "      <td>0.069571</td>\n",
       "    </tr>\n",
       "    <tr>\n",
       "      <th>3</th>\n",
       "      <td>35367</td>\n",
       "      <td>0.071503</td>\n",
       "    </tr>\n",
       "    <tr>\n",
       "      <th>4</th>\n",
       "      <td>33480</td>\n",
       "      <td>0.083151</td>\n",
       "    </tr>\n",
       "  </tbody>\n",
       "</table>\n",
       "</div>"
      ],
      "text/plain": [
       "      id         y\n",
       "0  22077  0.063106\n",
       "1  40890  0.202227\n",
       "2  23683  0.069571\n",
       "3  35367  0.071503\n",
       "4  33480  0.083151"
      ]
     },
     "execution_count": 77,
     "metadata": {},
     "output_type": "execute_result"
    }
   ],
   "source": [
    "results.head()"
   ]
  },
  {
   "cell_type": "code",
   "execution_count": 78,
   "metadata": {
    "collapsed": true
   },
   "outputs": [],
   "source": [
    "results_sorted = results.sort_values(['id'])"
   ]
  },
  {
   "cell_type": "code",
   "execution_count": 79,
   "metadata": {},
   "outputs": [
    {
     "data": {
      "text/html": [
       "<div>\n",
       "<style>\n",
       "    .dataframe thead tr:only-child th {\n",
       "        text-align: right;\n",
       "    }\n",
       "\n",
       "    .dataframe thead th {\n",
       "        text-align: left;\n",
       "    }\n",
       "\n",
       "    .dataframe tbody tr th {\n",
       "        vertical-align: top;\n",
       "    }\n",
       "</style>\n",
       "<table border=\"1\" class=\"dataframe\">\n",
       "  <thead>\n",
       "    <tr style=\"text-align: right;\">\n",
       "      <th></th>\n",
       "      <th>id</th>\n",
       "      <th>y</th>\n",
       "    </tr>\n",
       "  </thead>\n",
       "  <tbody>\n",
       "    <tr>\n",
       "      <th>1462</th>\n",
       "      <td>2</td>\n",
       "      <td>0.039669</td>\n",
       "    </tr>\n",
       "    <tr>\n",
       "      <th>14498</th>\n",
       "      <td>4</td>\n",
       "      <td>0.039507</td>\n",
       "    </tr>\n",
       "    <tr>\n",
       "      <th>782</th>\n",
       "      <td>5</td>\n",
       "      <td>0.039832</td>\n",
       "    </tr>\n",
       "    <tr>\n",
       "      <th>8504</th>\n",
       "      <td>7</td>\n",
       "      <td>0.039507</td>\n",
       "    </tr>\n",
       "    <tr>\n",
       "      <th>17492</th>\n",
       "      <td>10</td>\n",
       "      <td>0.046416</td>\n",
       "    </tr>\n",
       "  </tbody>\n",
       "</table>\n",
       "</div>"
      ],
      "text/plain": [
       "       id         y\n",
       "1462    2  0.039669\n",
       "14498   4  0.039507\n",
       "782     5  0.039832\n",
       "8504    7  0.039507\n",
       "17492  10  0.046416"
      ]
     },
     "execution_count": 79,
     "metadata": {},
     "output_type": "execute_result"
    }
   ],
   "source": [
    "results_sorted.head()"
   ]
  },
  {
   "cell_type": "code",
   "execution_count": 80,
   "metadata": {
    "collapsed": true
   },
   "outputs": [],
   "source": [
    "results_sorted.to_csv('test_submition2.csv', index=False)"
   ]
  },
  {
   "cell_type": "code",
   "execution_count": null,
   "metadata": {
    "collapsed": true
   },
   "outputs": [],
   "source": []
  }
 ],
 "metadata": {
  "kernelspec": {
   "display_name": "Python 2",
   "language": "python",
   "name": "python2"
  },
  "language_info": {
   "codemirror_mode": {
    "name": "ipython",
    "version": 3
   },
   "file_extension": ".py",
   "mimetype": "text/x-python",
   "name": "python",
   "nbconvert_exporter": "python",
   "pygments_lexer": "ipython3",
   "version": "3.6.3"
  }
 },
 "nbformat": 4,
 "nbformat_minor": 2
}
