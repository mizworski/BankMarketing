{
 "cells": [
  {
   "cell_type": "code",
   "execution_count": 1,
   "metadata": {
    "collapsed": true
   },
   "outputs": [],
   "source": [
    "import pandas as pd\n",
    "import numpy as np\n",
    "import sys\n",
    "sys.path.append(\"/home/mizworski/Repos/xgboost/python-package/\")\n",
    "from xgboost import XGBClassifier\n",
    "from sklearn.model_selection import train_test_split\n",
    "from sklearn.metrics import accuracy_score\n",
    "from datetime import datetime\n",
    "from sklearn.metrics import roc_curve, auc\n",
    "from sklearn.model_selection import StratifiedKFold\n",
    "import matplotlib.pyplot as plt\n",
    "from sklearn.utils.validation import column_or_1d\n",
    "from scipy import interp\n",
    "from scipy import stats"
   ]
  },
  {
   "cell_type": "code",
   "execution_count": 2,
   "metadata": {
    "collapsed": true
   },
   "outputs": [],
   "source": [
    "date_parse_format = '%Y-%m-%d'\n",
    "def age2class(age):\n",
    "    if age < 20:\n",
    "        return 0\n",
    "    if age < 27:\n",
    "        return 1\n",
    "    \n",
    "    if age < 32:\n",
    "        return 2\n",
    "    if age < 36:\n",
    "        return 3\n",
    "    \n",
    "    if age < 42:\n",
    "        return 4\n",
    "    \n",
    "    if age < 55:\n",
    "        return 5\n",
    "    if age < 75:\n",
    "        return 6\n",
    "    return 7\n",
    "\n",
    "def preprocess_data(data):\n",
    "    now = datetime.strptime(data.contact_date.max(), date_parse_format)\n",
    "    data['sum_nan'] = (data[['default', 'loan', 'education', 'housing', 'job']] == 'unknown').sum(axis=1)\n",
    "    data['age'] = data.apply(lambda r: int((now - datetime.strptime(r.birth_date, date_parse_format)).days / 365.25), axis=1)\n",
    "    data.drop('birth_date', axis=1, inplace=True)\n",
    "#     data['contact_weekday'] = data.apply(lambda r: (datetime.strptime(r.contact_date, date_parse_format)).weekday(), axis=1)\n",
    "    \n",
    "#     data['age_range'] = data['age'].apply(age2class)\n",
    "#     data.drop('age', axis=1, inplace=True)11\n",
    "    \n",
    "    categorical_cols = list(set(data.columns) - set(['birth_date', 'contact_date', 'pdays', 'campaign', 'y','age', 'sum_nan']))\n",
    "    X = pd.get_dummies(data, columns=categorical_cols)\n",
    "    X['contacted'] = pd.get_dummies(X.pdays < 999, drop_first=True)\n",
    "    \n",
    "    X['days_since_contact'] =  X.apply(lambda r: int((now - datetime.strptime(r.contact_date, date_parse_format)).days), \n",
    "                                       axis=1)\n",
    "    \n",
    "    X.drop('contact_date', axis=1, inplace=True)\n",
    "    \n",
    "    train_x = X[X.y != 'unknown']\n",
    "    test_x = X[X.y == 'unknown']\n",
    "    train_y = train_x['y']\n",
    "    train_y = pd.get_dummies(train_y, drop_first=True)\n",
    "    train_x = train_x.drop('y', axis=1)\n",
    "    test_x = test_x.drop('y', axis=1)\n",
    "    \n",
    "#     train_y = column_or_1d(train_y)\n",
    "#     train_x = train_x.as_matrix()\n",
    "#     test_x = test_x.as_matrix()\n",
    "    \n",
    "    return train_x, train_y, test_x\n",
    "    "
   ]
  },
  {
   "cell_type": "code",
   "execution_count": 3,
   "metadata": {
    "collapsed": true
   },
   "outputs": [],
   "source": [
    "# X_train.head()"
   ]
  },
  {
   "cell_type": "code",
   "execution_count": 4,
   "metadata": {
    "collapsed": true
   },
   "outputs": [],
   "source": [
    "# X_train.days_since_contact.describe()"
   ]
  },
  {
   "cell_type": "code",
   "execution_count": 5,
   "metadata": {
    "collapsed": true
   },
   "outputs": [],
   "source": [
    "df = pd.read_csv('../data/bank-classification.csv', index_col=0)\n",
    "df = df.sample(frac=1)\n",
    "X_train, Y_train, X_test = preprocess_data(df.copy())\n",
    "\n",
    "from sklearn.model_selection import GridSearchCV, RandomizedSearchCV\n",
    "from numpy import random\n",
    "from sklearn.preprocessing import PolynomialFeatures"
   ]
  },
  {
   "cell_type": "code",
   "execution_count": 6,
   "metadata": {},
   "outputs": [
    {
     "data": {
      "text/plain": [
       "birth_date       1962-06-07\n",
       "job             blue-collar\n",
       "marital              single\n",
       "education          basic.6y\n",
       "default             unknown\n",
       "housing                  no\n",
       "loan                     no\n",
       "contact_date     2009-05-27\n",
       "contact            cellular\n",
       "campaign                  2\n",
       "pdays                   999\n",
       "previous                  2\n",
       "poutcome            failure\n",
       "y                        no\n",
       "Name: 34079, dtype: object"
      ]
     },
     "execution_count": 6,
     "metadata": {},
     "output_type": "execute_result"
    }
   ],
   "source": [
    "df.iloc[0]"
   ]
  },
  {
   "cell_type": "code",
   "execution_count": 7,
   "metadata": {
    "collapsed": true
   },
   "outputs": [],
   "source": [
    "X_train['houseXmarried'] = X_train.housing_yes * X_train.marital_married\n",
    "X_train['uniXmarried'] = X_train['education_university.degree'] * X_train.marital_married\n",
    "X_train['highschoolXmarried'] = X_train['education_high.school'] * X_train.marital_married\n",
    "X_train['job_high_paid'] = X_train.job_entrepreneur + X_train.job_management + X_train.job_technician\n",
    "X_train['campaignXdays_since_contact']= X_train.campaign * X_train.days_since_contact\n",
    "X_train['campaignXpoutcome_success']= X_train.campaign * X_train.poutcome_success\n",
    "\n",
    "X_test['houseXmarried'] = X_test.housing_yes * X_test.marital_married\n",
    "X_test['uniXmarried'] = X_test['education_university.degree'] * X_test.marital_married\n",
    "X_test['highschoolXmarried'] = X_test['education_high.school'] * X_test.marital_married\n",
    "X_test['job_high_paid'] = X_test.job_entrepreneur + X_test.job_management + X_test.job_technician\n",
    "X_test['campaignXdays_since_contact']= X_test.campaign * X_test.days_since_contact\n",
    "X_test['campaignXpoutcome_success']= X_test.campaign * X_test.poutcome_success"
   ]
  },
  {
   "cell_type": "code",
   "execution_count": 8,
   "metadata": {
    "collapsed": true
   },
   "outputs": [],
   "source": [
    "# X_train = X_train.as_matrix()"
   ]
  },
  {
   "cell_type": "code",
   "execution_count": 9,
   "metadata": {},
   "outputs": [
    {
     "data": {
      "text/html": [
       "<div>\n",
       "<style>\n",
       "    .dataframe thead tr:only-child th {\n",
       "        text-align: right;\n",
       "    }\n",
       "\n",
       "    .dataframe thead th {\n",
       "        text-align: left;\n",
       "    }\n",
       "\n",
       "    .dataframe tbody tr th {\n",
       "        vertical-align: top;\n",
       "    }\n",
       "</style>\n",
       "<table border=\"1\" class=\"dataframe\">\n",
       "  <thead>\n",
       "    <tr style=\"text-align: right;\">\n",
       "      <th></th>\n",
       "      <th>campaign</th>\n",
       "      <th>pdays</th>\n",
       "      <th>sum_nan</th>\n",
       "      <th>age</th>\n",
       "      <th>job_admin.</th>\n",
       "      <th>job_blue-collar</th>\n",
       "      <th>job_entrepreneur</th>\n",
       "      <th>job_housemaid</th>\n",
       "      <th>job_management</th>\n",
       "      <th>job_retired</th>\n",
       "      <th>...</th>\n",
       "      <th>previous_6</th>\n",
       "      <th>previous_7</th>\n",
       "      <th>contacted</th>\n",
       "      <th>days_since_contact</th>\n",
       "      <th>houseXmarried</th>\n",
       "      <th>uniXmarried</th>\n",
       "      <th>highschoolXmarried</th>\n",
       "      <th>job_high_paid</th>\n",
       "      <th>campaignXdays_since_contact</th>\n",
       "      <th>campaignXpoutcome_success</th>\n",
       "    </tr>\n",
       "    <tr>\n",
       "      <th>id</th>\n",
       "      <th></th>\n",
       "      <th></th>\n",
       "      <th></th>\n",
       "      <th></th>\n",
       "      <th></th>\n",
       "      <th></th>\n",
       "      <th></th>\n",
       "      <th></th>\n",
       "      <th></th>\n",
       "      <th></th>\n",
       "      <th></th>\n",
       "      <th></th>\n",
       "      <th></th>\n",
       "      <th></th>\n",
       "      <th></th>\n",
       "      <th></th>\n",
       "      <th></th>\n",
       "      <th></th>\n",
       "      <th></th>\n",
       "      <th></th>\n",
       "      <th></th>\n",
       "    </tr>\n",
       "  </thead>\n",
       "  <tbody>\n",
       "    <tr>\n",
       "      <th>34079</th>\n",
       "      <td>2</td>\n",
       "      <td>999</td>\n",
       "      <td>1</td>\n",
       "      <td>48</td>\n",
       "      <td>0</td>\n",
       "      <td>1</td>\n",
       "      <td>0</td>\n",
       "      <td>0</td>\n",
       "      <td>0</td>\n",
       "      <td>0</td>\n",
       "      <td>...</td>\n",
       "      <td>0</td>\n",
       "      <td>0</td>\n",
       "      <td>0</td>\n",
       "      <td>552</td>\n",
       "      <td>0</td>\n",
       "      <td>0</td>\n",
       "      <td>0</td>\n",
       "      <td>0</td>\n",
       "      <td>1104</td>\n",
       "      <td>0</td>\n",
       "    </tr>\n",
       "    <tr>\n",
       "      <th>16159</th>\n",
       "      <td>1</td>\n",
       "      <td>999</td>\n",
       "      <td>1</td>\n",
       "      <td>37</td>\n",
       "      <td>1</td>\n",
       "      <td>0</td>\n",
       "      <td>0</td>\n",
       "      <td>0</td>\n",
       "      <td>0</td>\n",
       "      <td>0</td>\n",
       "      <td>...</td>\n",
       "      <td>0</td>\n",
       "      <td>0</td>\n",
       "      <td>0</td>\n",
       "      <td>861</td>\n",
       "      <td>1</td>\n",
       "      <td>1</td>\n",
       "      <td>0</td>\n",
       "      <td>0</td>\n",
       "      <td>861</td>\n",
       "      <td>0</td>\n",
       "    </tr>\n",
       "    <tr>\n",
       "      <th>13958</th>\n",
       "      <td>2</td>\n",
       "      <td>999</td>\n",
       "      <td>0</td>\n",
       "      <td>34</td>\n",
       "      <td>0</td>\n",
       "      <td>0</td>\n",
       "      <td>0</td>\n",
       "      <td>0</td>\n",
       "      <td>0</td>\n",
       "      <td>0</td>\n",
       "      <td>...</td>\n",
       "      <td>0</td>\n",
       "      <td>0</td>\n",
       "      <td>0</td>\n",
       "      <td>865</td>\n",
       "      <td>1</td>\n",
       "      <td>1</td>\n",
       "      <td>0</td>\n",
       "      <td>0</td>\n",
       "      <td>1730</td>\n",
       "      <td>0</td>\n",
       "    </tr>\n",
       "    <tr>\n",
       "      <th>11460</th>\n",
       "      <td>1</td>\n",
       "      <td>999</td>\n",
       "      <td>0</td>\n",
       "      <td>36</td>\n",
       "      <td>0</td>\n",
       "      <td>0</td>\n",
       "      <td>0</td>\n",
       "      <td>0</td>\n",
       "      <td>1</td>\n",
       "      <td>0</td>\n",
       "      <td>...</td>\n",
       "      <td>0</td>\n",
       "      <td>0</td>\n",
       "      <td>0</td>\n",
       "      <td>907</td>\n",
       "      <td>1</td>\n",
       "      <td>1</td>\n",
       "      <td>0</td>\n",
       "      <td>1</td>\n",
       "      <td>907</td>\n",
       "      <td>0</td>\n",
       "    </tr>\n",
       "    <tr>\n",
       "      <th>13181</th>\n",
       "      <td>1</td>\n",
       "      <td>999</td>\n",
       "      <td>0</td>\n",
       "      <td>45</td>\n",
       "      <td>0</td>\n",
       "      <td>1</td>\n",
       "      <td>0</td>\n",
       "      <td>0</td>\n",
       "      <td>0</td>\n",
       "      <td>0</td>\n",
       "      <td>...</td>\n",
       "      <td>0</td>\n",
       "      <td>0</td>\n",
       "      <td>0</td>\n",
       "      <td>860</td>\n",
       "      <td>0</td>\n",
       "      <td>0</td>\n",
       "      <td>0</td>\n",
       "      <td>0</td>\n",
       "      <td>860</td>\n",
       "      <td>0</td>\n",
       "    </tr>\n",
       "  </tbody>\n",
       "</table>\n",
       "<p>5 rows × 58 columns</p>\n",
       "</div>"
      ],
      "text/plain": [
       "       campaign  pdays  sum_nan  age  job_admin.  job_blue-collar  \\\n",
       "id                                                                  \n",
       "34079         2    999        1   48           0                1   \n",
       "16159         1    999        1   37           1                0   \n",
       "13958         2    999        0   34           0                0   \n",
       "11460         1    999        0   36           0                0   \n",
       "13181         1    999        0   45           0                1   \n",
       "\n",
       "       job_entrepreneur  job_housemaid  job_management  job_retired  \\\n",
       "id                                                                    \n",
       "34079                 0              0               0            0   \n",
       "16159                 0              0               0            0   \n",
       "13958                 0              0               0            0   \n",
       "11460                 0              0               1            0   \n",
       "13181                 0              0               0            0   \n",
       "\n",
       "                 ...              previous_6  previous_7  contacted  \\\n",
       "id               ...                                                  \n",
       "34079            ...                       0           0          0   \n",
       "16159            ...                       0           0          0   \n",
       "13958            ...                       0           0          0   \n",
       "11460            ...                       0           0          0   \n",
       "13181            ...                       0           0          0   \n",
       "\n",
       "       days_since_contact  houseXmarried  uniXmarried  highschoolXmarried  \\\n",
       "id                                                                          \n",
       "34079                 552              0            0                   0   \n",
       "16159                 861              1            1                   0   \n",
       "13958                 865              1            1                   0   \n",
       "11460                 907              1            1                   0   \n",
       "13181                 860              0            0                   0   \n",
       "\n",
       "       job_high_paid  campaignXdays_since_contact  campaignXpoutcome_success  \n",
       "id                                                                            \n",
       "34079              0                         1104                          0  \n",
       "16159              0                          861                          0  \n",
       "13958              0                         1730                          0  \n",
       "11460              1                          907                          0  \n",
       "13181              0                          860                          0  \n",
       "\n",
       "[5 rows x 58 columns]"
      ]
     },
     "execution_count": 9,
     "metadata": {},
     "output_type": "execute_result"
    }
   ],
   "source": [
    "X_train.head()"
   ]
  },
  {
   "cell_type": "markdown",
   "metadata": {},
   "source": [
    "Raw AUC score: 0.789379398328\n",
    "colsample_bytree: 1\n",
    "gamma: 3.0500000000000016\n",
    "learning_rate: 0.0063095734448016848\n",
    "max_depth: 5\n",
    "min_child_weight: 2\n",
    "n_estimators: 820\n",
    "reg_alpha: 0.26000000000000006\n",
    "reg_lambda: 0.9600000000000003\n",
    "subsample: 1"
   ]
  },
  {
   "cell_type": "code",
   "execution_count": 10,
   "metadata": {},
   "outputs": [],
   "source": [
    "model = XGBClassifier(max_depth=4, gamma=3, reg_alpha=0.2137, min_child_weight=2, n_estimators=880,\n",
    "                      reg_lambda=1, subsample=1, max_delta_step=5, learning_rate=0.006)\n",
    "cv = StratifiedKFold(n_splits=10)\n",
    "\n",
    "\n",
    "X = X_train.as_matrix()\n",
    "Y = column_or_1d(Y_train)"
   ]
  },
  {
   "cell_type": "code",
   "execution_count": 11,
   "metadata": {
    "scrolled": false
   },
   "outputs": [
    {
     "data": {
      "image/png": "[encoded data removed]",
      "text/plain": [
       "<matplotlib.figure.Figure at 0x7f0d2560b710>"
      ]
     },
     "metadata": {},
     "output_type": "display_data"
    },
    {
     "data": {
      "image/png": "[encoded data removed]",
      "text/plain": [
       "<matplotlib.figure.Figure at 0x7f0d25708940>"
      ]
     },
     "metadata": {},
     "output_type": "display_data"
    },
    {
     "data": {
      "image/png": "[encoded data removed]",
      "text/plain": [
       "<matplotlib.figure.Figure at 0x7f0d25705588>"
      ]
     },
     "metadata": {},
     "output_type": "display_data"
    },
    {
     "data": {
      "image/png": "[encoded data removed]",
      "text/plain": [
       "<matplotlib.figure.Figure at 0x7f0d2556fd68>"
      ]
     },
     "metadata": {},
     "output_type": "display_data"
    },
    {
     "data": {
      "image/png": "[encoded data removed]",
      "text/plain": [
       "<matplotlib.figure.Figure at 0x7f0d254fef28>"
      ]
     },
     "metadata": {},
     "output_type": "display_data"
    },
    {
     "data": {
      "image/png": "[encoded data removed]",
      "text/plain": [
       "<matplotlib.figure.Figure at 0x7f0d2552a208>"
      ]
     },
     "metadata": {},
     "output_type": "display_data"
    },
    {
     "data": {
      "image/png": "[encoded data removed]",
      "text/plain": [
       "<matplotlib.figure.Figure at 0x7f0d2558e2e8>"
      ]
     },
     "metadata": {},
     "output_type": "display_data"
    },
    {
     "data": {
      "image/png": "[encoded data removed]",
      "text/plain": [
       "<matplotlib.figure.Figure at 0x7f0d2558e438>"
      ]
     },
     "metadata": {},
     "output_type": "display_data"
    },
    {
     "data": {
      "image/png": "[encoded data removed]",
      "text/plain": [
       "<matplotlib.figure.Figure at 0x7f0d254a63c8>"
      ]
     },
     "metadata": {},
     "output_type": "display_data"
    },
    {
     "data": {
      "image/png": "[encoded data removed]",
      "text/plain": [
       "<matplotlib.figure.Figure at 0x7f0d22f560b8>"
      ]
     },
     "metadata": {},
     "output_type": "display_data"
    },
    {
     "data": {
      "image/png": "[encoded data removed]",
      "text/plain": [
       "<matplotlib.figure.Figure at 0x7f0d2560b630>"
      ]
     },
     "metadata": {},
     "output_type": "display_data"
    }
   ],
   "source": [
    "tprs = []\n",
    "aucs = []\n",
    "mean_fpr = np.linspace(0, 1, 100)\n",
    "i=0\n",
    "\n",
    "for train, test in cv.split(X, Y):\n",
    "    probas_ = model.fit(X[train], Y[train]).predict_proba(X[test])\n",
    "    # Compute ROC curve and area the curve\n",
    "    fpr, tpr, thresholds = roc_curve(Y[test], probas_[:, 1])\n",
    "    tprs.append(interp(mean_fpr, fpr, tpr))\n",
    "    tprs[-1][0] = 0.0\n",
    "    roc_auc = auc(fpr, tpr)\n",
    "    aucs.append(roc_auc)\n",
    "    plt.plot(fpr, tpr, lw=1, alpha=0.3,\n",
    "             label='ROC fold %d (AUC = %0.2f)' % (i, roc_auc))\n",
    "    plt.show()\n",
    "\n",
    "    i += 1\n",
    "plt.plot([0, 1], [0, 1], linestyle='--', lw=2, color='r',\n",
    "         label='Luck', alpha=.8)\n",
    "\n",
    "mean_tpr = np.mean(tprs, axis=0)\n",
    "mean_tpr[-1] = 1.0\n",
    "mean_auc = auc(mean_fpr, mean_tpr)\n",
    "std_auc = np.std(aucs)\n",
    "plt.plot(mean_fpr, mean_tpr, color='b',\n",
    "         label=r'Mean ROC (AUC = %0.2f $\\pm$ %0.2f)' % (mean_auc, std_auc),\n",
    "         lw=2, alpha=.8)\n",
    "\n",
    "plt.show()"
   ]
  },
  {
   "cell_type": "code",
   "execution_count": 12,
   "metadata": {},
   "outputs": [
    {
     "data": {
      "image/png": "[encoded data removed]",
      "text/plain": [
       "<matplotlib.figure.Figure at 0x7f0d25ad3b00>"
      ]
     },
     "metadata": {},
     "output_type": "display_data"
    }
   ],
   "source": [
    "std_tpr = np.std(tprs, axis=0)\n",
    "tprs_upper = np.minimum(mean_tpr + std_tpr, 1)\n",
    "tprs_lower = np.maximum(mean_tpr - std_tpr, 0)\n",
    "plt.fill_between(mean_fpr, tprs_lower, tprs_upper, color='grey', alpha=.2,\n",
    "                 label=r'$\\pm$ 1 std. dev.')\n",
    "\n",
    "plt.xlim([-0.05, 1.05])\n",
    "plt.ylim([-0.05, 1.05])\n",
    "plt.xlabel('False Positive Rate')\n",
    "plt.ylabel('True Positive Rate')\n",
    "plt.title('Receiver operating characteristic example')\n",
    "plt.legend(loc=\"lower right\")\n",
    "plt.show()"
   ]
  },
  {
   "cell_type": "code",
   "execution_count": 13,
   "metadata": {},
   "outputs": [
    {
     "data": {
      "text/plain": [
       "0.79061078485631742"
      ]
     },
     "execution_count": 13,
     "metadata": {},
     "output_type": "execute_result"
    }
   ],
   "source": [
    "mean_auc"
   ]
  },
  {
   "cell_type": "code",
   "execution_count": 14,
   "metadata": {
    "collapsed": true
   },
   "outputs": [],
   "source": [
    "from xgboost import plot_importance"
   ]
  },
  {
   "cell_type": "code",
   "execution_count": 15,
   "metadata": {},
   "outputs": [
    {
     "data": {
      "image/png": "[encoded data removed]",
      "text/plain": [
       "<matplotlib.figure.Figure at 0x7f0d22d91208>"
      ]
     },
     "metadata": {},
     "output_type": "display_data"
    }
   ],
   "source": [
    "plot_importance(model)\n",
    "plt.show()"
   ]
  },
  {
   "cell_type": "code",
   "execution_count": 16,
   "metadata": {},
   "outputs": [
    {
     "name": "stdout",
     "output_type": "stream",
     "text": [
      "feature: days_since_contact score=3229\n",
      "feature: campaignXdays_since_contact score=1909\n",
      "feature: age score=914\n",
      "feature: pdays score=755\n",
      "feature: contact_cellular score=572\n",
      "feature: poutcome_failure score=454\n",
      "feature: job_unknown score=148\n",
      "feature: default_no score=137\n",
      "feature: campaign score=110\n",
      "feature: housing_no score=104\n",
      "feature: sum_nan score=100\n",
      "feature: job_blue-collar score=93\n",
      "feature: poutcome_success score=75\n",
      "feature: highschoolXmarried score=65\n",
      "feature: job_student score=61\n",
      "feature: education_basic.9y score=45\n",
      "feature: education_basic.4y score=41\n",
      "feature: previous_3 score=32\n",
      "feature: job_entrepreneur score=32\n",
      "feature: previous_4 score=28\n",
      "feature: job_services score=27\n",
      "feature: marital_single score=23\n",
      "feature: marital_unknown score=23\n",
      "feature: education_professional.course score=21\n",
      "feature: uniXmarried score=21\n",
      "feature: job_admin. score=20\n",
      "feature: campaignXpoutcome_success score=20\n",
      "feature: job_technician score=16\n",
      "feature: marital_married score=15\n",
      "feature: housing_yes score=14\n",
      "feature: education_unknown score=11\n",
      "feature: houseXmarried score=8\n",
      "feature: education_high.school score=7\n",
      "feature: loan_yes score=5\n",
      "feature: marital_divorced score=4\n",
      "feature: education_university.degree score=4\n",
      "feature: loan_no score=3\n",
      "feature: loan_unknown score=3\n",
      "feature: job_unemployed score=2\n",
      "feature: previous_2 score=1\n",
      "feature: job_high_paid score=1\n"
     ]
    }
   ],
   "source": [
    "fscore = model.get_booster().get_fscore().items()\n",
    "fscore = sorted(fscore,key=lambda x:(-x[1],x[0]))\n",
    "for key, score in fscore:\n",
    "    fname = X_train.columns[int(key[1:])]\n",
    "    print('feature: {} score={}'.format(fname, score))"
   ]
  },
  {
   "cell_type": "code",
   "execution_count": 17,
   "metadata": {},
   "outputs": [
    {
     "data": {
      "text/plain": [
       "Index(['campaign', 'pdays', 'sum_nan', 'age', 'job_admin.', 'job_blue-collar',\n",
       "       'job_entrepreneur', 'job_housemaid', 'job_management', 'job_retired',\n",
       "       'job_self-employed', 'job_services', 'job_student', 'job_technician',\n",
       "       'job_unemployed', 'job_unknown', 'loan_no', 'loan_unknown', 'loan_yes',\n",
       "       'marital_divorced', 'marital_married', 'marital_single',\n",
       "       'marital_unknown', 'contact_cellular', 'contact_telephone',\n",
       "       'housing_no', 'housing_unknown', 'housing_yes', 'poutcome_failure',\n",
       "       'poutcome_nonexistent', 'poutcome_success', 'education_basic.4y',\n",
       "       'education_basic.6y', 'education_basic.9y', 'education_high.school',\n",
       "       'education_illiterate', 'education_professional.course',\n",
       "       'education_university.degree', 'education_unknown', 'default_no',\n",
       "       'default_unknown', 'default_yes', 'previous_0', 'previous_1',\n",
       "       'previous_2', 'previous_3', 'previous_4', 'previous_5', 'previous_6',\n",
       "       'previous_7', 'contacted', 'days_since_contact', 'houseXmarried',\n",
       "       'uniXmarried', 'highschoolXmarried', 'job_high_paid',\n",
       "       'campaignXdays_since_contact', 'campaignXpoutcome_success'],\n",
       "      dtype='object')"
      ]
     },
     "execution_count": 17,
     "metadata": {},
     "output_type": "execute_result"
    }
   ],
   "source": [
    "X_train.columns"
   ]
  },
  {
   "cell_type": "code",
   "execution_count": 18,
   "metadata": {},
   "outputs": [
    {
     "data": {
      "text/html": [
       "<div>\n",
       "<style>\n",
       "    .dataframe thead tr:only-child th {\n",
       "        text-align: right;\n",
       "    }\n",
       "\n",
       "    .dataframe thead th {\n",
       "        text-align: left;\n",
       "    }\n",
       "\n",
       "    .dataframe tbody tr th {\n",
       "        vertical-align: top;\n",
       "    }\n",
       "</style>\n",
       "<table border=\"1\" class=\"dataframe\">\n",
       "  <thead>\n",
       "    <tr style=\"text-align: right;\">\n",
       "      <th></th>\n",
       "      <th>campaign</th>\n",
       "      <th>pdays</th>\n",
       "      <th>sum_nan</th>\n",
       "      <th>age</th>\n",
       "      <th>job_admin.</th>\n",
       "      <th>job_blue-collar</th>\n",
       "      <th>job_entrepreneur</th>\n",
       "      <th>job_housemaid</th>\n",
       "      <th>job_management</th>\n",
       "      <th>job_retired</th>\n",
       "      <th>...</th>\n",
       "      <th>previous_6</th>\n",
       "      <th>previous_7</th>\n",
       "      <th>contacted</th>\n",
       "      <th>days_since_contact</th>\n",
       "      <th>houseXmarried</th>\n",
       "      <th>uniXmarried</th>\n",
       "      <th>highschoolXmarried</th>\n",
       "      <th>job_high_paid</th>\n",
       "      <th>campaignXdays_since_contact</th>\n",
       "      <th>campaignXpoutcome_success</th>\n",
       "    </tr>\n",
       "    <tr>\n",
       "      <th>id</th>\n",
       "      <th></th>\n",
       "      <th></th>\n",
       "      <th></th>\n",
       "      <th></th>\n",
       "      <th></th>\n",
       "      <th></th>\n",
       "      <th></th>\n",
       "      <th></th>\n",
       "      <th></th>\n",
       "      <th></th>\n",
       "      <th></th>\n",
       "      <th></th>\n",
       "      <th></th>\n",
       "      <th></th>\n",
       "      <th></th>\n",
       "      <th></th>\n",
       "      <th></th>\n",
       "      <th></th>\n",
       "      <th></th>\n",
       "      <th></th>\n",
       "      <th></th>\n",
       "    </tr>\n",
       "  </thead>\n",
       "  <tbody>\n",
       "    <tr>\n",
       "      <th>34079</th>\n",
       "      <td>2</td>\n",
       "      <td>999</td>\n",
       "      <td>1</td>\n",
       "      <td>48</td>\n",
       "      <td>0</td>\n",
       "      <td>1</td>\n",
       "      <td>0</td>\n",
       "      <td>0</td>\n",
       "      <td>0</td>\n",
       "      <td>0</td>\n",
       "      <td>...</td>\n",
       "      <td>0</td>\n",
       "      <td>0</td>\n",
       "      <td>0</td>\n",
       "      <td>552</td>\n",
       "      <td>0</td>\n",
       "      <td>0</td>\n",
       "      <td>0</td>\n",
       "      <td>0</td>\n",
       "      <td>1104</td>\n",
       "      <td>0</td>\n",
       "    </tr>\n",
       "    <tr>\n",
       "      <th>16159</th>\n",
       "      <td>1</td>\n",
       "      <td>999</td>\n",
       "      <td>1</td>\n",
       "      <td>37</td>\n",
       "      <td>1</td>\n",
       "      <td>0</td>\n",
       "      <td>0</td>\n",
       "      <td>0</td>\n",
       "      <td>0</td>\n",
       "      <td>0</td>\n",
       "      <td>...</td>\n",
       "      <td>0</td>\n",
       "      <td>0</td>\n",
       "      <td>0</td>\n",
       "      <td>861</td>\n",
       "      <td>1</td>\n",
       "      <td>1</td>\n",
       "      <td>0</td>\n",
       "      <td>0</td>\n",
       "      <td>861</td>\n",
       "      <td>0</td>\n",
       "    </tr>\n",
       "    <tr>\n",
       "      <th>13958</th>\n",
       "      <td>2</td>\n",
       "      <td>999</td>\n",
       "      <td>0</td>\n",
       "      <td>34</td>\n",
       "      <td>0</td>\n",
       "      <td>0</td>\n",
       "      <td>0</td>\n",
       "      <td>0</td>\n",
       "      <td>0</td>\n",
       "      <td>0</td>\n",
       "      <td>...</td>\n",
       "      <td>0</td>\n",
       "      <td>0</td>\n",
       "      <td>0</td>\n",
       "      <td>865</td>\n",
       "      <td>1</td>\n",
       "      <td>1</td>\n",
       "      <td>0</td>\n",
       "      <td>0</td>\n",
       "      <td>1730</td>\n",
       "      <td>0</td>\n",
       "    </tr>\n",
       "    <tr>\n",
       "      <th>11460</th>\n",
       "      <td>1</td>\n",
       "      <td>999</td>\n",
       "      <td>0</td>\n",
       "      <td>36</td>\n",
       "      <td>0</td>\n",
       "      <td>0</td>\n",
       "      <td>0</td>\n",
       "      <td>0</td>\n",
       "      <td>1</td>\n",
       "      <td>0</td>\n",
       "      <td>...</td>\n",
       "      <td>0</td>\n",
       "      <td>0</td>\n",
       "      <td>0</td>\n",
       "      <td>907</td>\n",
       "      <td>1</td>\n",
       "      <td>1</td>\n",
       "      <td>0</td>\n",
       "      <td>1</td>\n",
       "      <td>907</td>\n",
       "      <td>0</td>\n",
       "    </tr>\n",
       "    <tr>\n",
       "      <th>13181</th>\n",
       "      <td>1</td>\n",
       "      <td>999</td>\n",
       "      <td>0</td>\n",
       "      <td>45</td>\n",
       "      <td>0</td>\n",
       "      <td>1</td>\n",
       "      <td>0</td>\n",
       "      <td>0</td>\n",
       "      <td>0</td>\n",
       "      <td>0</td>\n",
       "      <td>...</td>\n",
       "      <td>0</td>\n",
       "      <td>0</td>\n",
       "      <td>0</td>\n",
       "      <td>860</td>\n",
       "      <td>0</td>\n",
       "      <td>0</td>\n",
       "      <td>0</td>\n",
       "      <td>0</td>\n",
       "      <td>860</td>\n",
       "      <td>0</td>\n",
       "    </tr>\n",
       "  </tbody>\n",
       "</table>\n",
       "<p>5 rows × 58 columns</p>\n",
       "</div>"
      ],
      "text/plain": [
       "       campaign  pdays  sum_nan  age  job_admin.  job_blue-collar  \\\n",
       "id                                                                  \n",
       "34079         2    999        1   48           0                1   \n",
       "16159         1    999        1   37           1                0   \n",
       "13958         2    999        0   34           0                0   \n",
       "11460         1    999        0   36           0                0   \n",
       "13181         1    999        0   45           0                1   \n",
       "\n",
       "       job_entrepreneur  job_housemaid  job_management  job_retired  \\\n",
       "id                                                                    \n",
       "34079                 0              0               0            0   \n",
       "16159                 0              0               0            0   \n",
       "13958                 0              0               0            0   \n",
       "11460                 0              0               1            0   \n",
       "13181                 0              0               0            0   \n",
       "\n",
       "                 ...              previous_6  previous_7  contacted  \\\n",
       "id               ...                                                  \n",
       "34079            ...                       0           0          0   \n",
       "16159            ...                       0           0          0   \n",
       "13958            ...                       0           0          0   \n",
       "11460            ...                       0           0          0   \n",
       "13181            ...                       0           0          0   \n",
       "\n",
       "       days_since_contact  houseXmarried  uniXmarried  highschoolXmarried  \\\n",
       "id                                                                          \n",
       "34079                 552              0            0                   0   \n",
       "16159                 861              1            1                   0   \n",
       "13958                 865              1            1                   0   \n",
       "11460                 907              1            1                   0   \n",
       "13181                 860              0            0                   0   \n",
       "\n",
       "       job_high_paid  campaignXdays_since_contact  campaignXpoutcome_success  \n",
       "id                                                                            \n",
       "34079              0                         1104                          0  \n",
       "16159              0                          861                          0  \n",
       "13958              0                         1730                          0  \n",
       "11460              1                          907                          0  \n",
       "13181              0                          860                          0  \n",
       "\n",
       "[5 rows x 58 columns]"
      ]
     },
     "execution_count": 18,
     "metadata": {},
     "output_type": "execute_result"
    }
   ],
   "source": [
    "X_train.head()"
   ]
  },
  {
   "cell_type": "code",
   "execution_count": 19,
   "metadata": {},
   "outputs": [
    {
     "data": {
      "image/png": "[encoded data removed]",
      "text/plain": [
       "<matplotlib.figure.Figure at 0x7f0d22f88e80>"
      ]
     },
     "metadata": {},
     "output_type": "display_data"
    }
   ],
   "source": [
    "X_train['days_since_contact'].hist()\n",
    "plt.show()"
   ]
  },
  {
   "cell_type": "code",
   "execution_count": 20,
   "metadata": {},
   "outputs": [
    {
     "data": {
      "text/plain": [
       "Index(['campaign', 'pdays', 'sum_nan', 'age', 'job_admin.', 'job_blue-collar',\n",
       "       'job_entrepreneur', 'job_housemaid', 'job_management', 'job_retired',\n",
       "       'job_self-employed', 'job_services', 'job_student', 'job_technician',\n",
       "       'job_unemployed', 'job_unknown', 'loan_no', 'loan_unknown', 'loan_yes',\n",
       "       'marital_divorced', 'marital_married', 'marital_single',\n",
       "       'marital_unknown', 'contact_cellular', 'contact_telephone',\n",
       "       'housing_no', 'housing_unknown', 'housing_yes', 'poutcome_failure',\n",
       "       'poutcome_nonexistent', 'poutcome_success', 'education_basic.4y',\n",
       "       'education_basic.6y', 'education_basic.9y', 'education_high.school',\n",
       "       'education_illiterate', 'education_professional.course',\n",
       "       'education_university.degree', 'education_unknown', 'default_no',\n",
       "       'default_unknown', 'default_yes', 'previous_0', 'previous_1',\n",
       "       'previous_2', 'previous_3', 'previous_4', 'previous_5', 'previous_6',\n",
       "       'previous_7', 'contacted', 'days_since_contact', 'houseXmarried',\n",
       "       'uniXmarried', 'highschoolXmarried', 'job_high_paid',\n",
       "       'campaignXdays_since_contact', 'campaignXpoutcome_success'],\n",
       "      dtype='object')"
      ]
     },
     "execution_count": 20,
     "metadata": {},
     "output_type": "execute_result"
    }
   ],
   "source": [
    "X_train.columns"
   ]
  },
  {
   "cell_type": "code",
   "execution_count": 21,
   "metadata": {},
   "outputs": [
    {
     "data": {
      "text/plain": [
       "XGBClassifier(base_score=0.5, booster='gbtree', colsample_bylevel=1,\n",
       "       colsample_bytree=1, gamma=3, learning_rate=0.006, max_delta_step=5,\n",
       "       max_depth=4, min_child_weight=2, missing=None, n_estimators=880,\n",
       "       n_jobs=1, nthread=None, objective='binary:logistic', random_state=0,\n",
       "       reg_alpha=0.2137, reg_lambda=1, scale_pos_weight=1, seed=None,\n",
       "       silent=True, subsample=1)"
      ]
     },
     "execution_count": 21,
     "metadata": {},
     "output_type": "execute_result"
    }
   ],
   "source": [
    "model.fit(X, Y)"
   ]
  },
  {
   "cell_type": "code",
   "execution_count": 22,
   "metadata": {
    "collapsed": true
   },
   "outputs": [],
   "source": [
    "y_pred = model.predict(X_test.as_matrix())\n",
    "y_proba = model.predict_proba(X_test.as_matrix())"
   ]
  },
  {
   "cell_type": "code",
   "execution_count": 23,
   "metadata": {
    "collapsed": true
   },
   "outputs": [],
   "source": [
    "test_indices = X_test.index.values\n",
    "test_indices\n",
    "results = pd.DataFrame({'id':test_indices, 'y':y_proba[:, 1]})\n",
    "results_sorted = results.sort_values(['id'])\n",
    "results_sorted.to_csv('test_submition4.csv', index=False)"
   ]
  },
  {
   "cell_type": "code",
   "execution_count": 24,
   "metadata": {},
   "outputs": [
    {
     "data": {
      "text/plain": [
       "array([0, 0, 0, ..., 0, 0, 1], dtype=uint8)"
      ]
     },
     "execution_count": 24,
     "metadata": {},
     "output_type": "execute_result"
    }
   ],
   "source": [
    "y_pred"
   ]
  },
  {
   "cell_type": "code",
   "execution_count": 25,
   "metadata": {},
   "outputs": [
    {
     "data": {
      "text/html": [
       "<div>\n",
       "<style>\n",
       "    .dataframe thead tr:only-child th {\n",
       "        text-align: right;\n",
       "    }\n",
       "\n",
       "    .dataframe thead th {\n",
       "        text-align: left;\n",
       "    }\n",
       "\n",
       "    .dataframe tbody tr th {\n",
       "        vertical-align: top;\n",
       "    }\n",
       "</style>\n",
       "<table border=\"1\" class=\"dataframe\">\n",
       "  <thead>\n",
       "    <tr style=\"text-align: right;\">\n",
       "      <th></th>\n",
       "      <th>id</th>\n",
       "      <th>y</th>\n",
       "    </tr>\n",
       "  </thead>\n",
       "  <tbody>\n",
       "    <tr>\n",
       "      <th>0</th>\n",
       "      <td>844</td>\n",
       "      <td>0.036582</td>\n",
       "    </tr>\n",
       "    <tr>\n",
       "      <th>1</th>\n",
       "      <td>36702</td>\n",
       "      <td>0.308096</td>\n",
       "    </tr>\n",
       "    <tr>\n",
       "      <th>2</th>\n",
       "      <td>6686</td>\n",
       "      <td>0.036239</td>\n",
       "    </tr>\n",
       "    <tr>\n",
       "      <th>3</th>\n",
       "      <td>25590</td>\n",
       "      <td>0.061826</td>\n",
       "    </tr>\n",
       "    <tr>\n",
       "      <th>4</th>\n",
       "      <td>16697</td>\n",
       "      <td>0.065075</td>\n",
       "    </tr>\n",
       "  </tbody>\n",
       "</table>\n",
       "</div>"
      ],
      "text/plain": [
       "      id         y\n",
       "0    844  0.036582\n",
       "1  36702  0.308096\n",
       "2   6686  0.036239\n",
       "3  25590  0.061826\n",
       "4  16697  0.065075"
      ]
     },
     "execution_count": 25,
     "metadata": {},
     "output_type": "execute_result"
    }
   ],
   "source": [
    "results.head()"
   ]
  },
  {
   "cell_type": "code",
   "execution_count": null,
   "metadata": {
    "collapsed": true
   },
   "outputs": [],
   "source": []
  }
 ],
 "metadata": {
  "kernelspec": {
   "display_name": "Python 2",
   "language": "python",
   "name": "python2"
  },
  "language_info": {
   "codemirror_mode": {
    "name": "ipython",
    "version": 3
   },
   "file_extension": ".py",
   "mimetype": "text/x-python",
   "name": "python",
   "nbconvert_exporter": "python",
   "pygments_lexer": "ipython3",
   "version": "3.6.3"
  }
 },
 "nbformat": 4,
 "nbformat_minor": 2
}
