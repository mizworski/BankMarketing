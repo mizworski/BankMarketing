{
 "cells": [
  {
   "cell_type": "code",
   "execution_count": 259,
   "metadata": {
    "collapsed": true
   },
   "outputs": [],
   "source": [
    "import pandas as pd\n",
    "import numpy as np\n",
    "import sys\n",
    "sys.path.append(\"/home/mizworski/Repos/xgboost/python-package/\")\n",
    "sys.path.append(\"/home/mizworski/Repos/LightGBM/python-package/\")\n",
    "from xgboost import XGBClassifier, XGBRegressor\n",
    "from sklearn.model_selection import train_test_split\n",
    "from sklearn.metrics import accuracy_score\n",
    "from datetime import datetime\n",
    "from sklearn.metrics import roc_curve, auc\n",
    "from sklearn.model_selection import StratifiedKFold\n",
    "import matplotlib.pyplot as plt\n",
    "from sklearn.utils.validation import column_or_1d\n",
    "from scipy import interp\n",
    "from scipy import stats"
   ]
  },
  {
   "cell_type": "code",
   "execution_count": 216,
   "metadata": {},
   "outputs": [],
   "source": [
    "import mlens\n",
    "import lightgbm as lgb"
   ]
  },
  {
   "cell_type": "code",
   "execution_count": 364,
   "metadata": {},
   "outputs": [
    {
     "data": {
      "text/html": [
       "<div>\n",
       "<style>\n",
       "    .dataframe thead tr:only-child th {\n",
       "        text-align: right;\n",
       "    }\n",
       "\n",
       "    .dataframe thead th {\n",
       "        text-align: left;\n",
       "    }\n",
       "\n",
       "    .dataframe tbody tr th {\n",
       "        vertical-align: top;\n",
       "    }\n",
       "</style>\n",
       "<table border=\"1\" class=\"dataframe\">\n",
       "  <thead>\n",
       "    <tr style=\"text-align: right;\">\n",
       "      <th></th>\n",
       "      <th>job</th>\n",
       "      <th>marital</th>\n",
       "      <th>education</th>\n",
       "      <th>default</th>\n",
       "      <th>housing</th>\n",
       "      <th>loan</th>\n",
       "      <th>contact_date</th>\n",
       "      <th>contact</th>\n",
       "      <th>campaign</th>\n",
       "      <th>pdays</th>\n",
       "      <th>previous</th>\n",
       "      <th>poutcome</th>\n",
       "      <th>y</th>\n",
       "      <th>age</th>\n",
       "      <th>contact_weekday</th>\n",
       "    </tr>\n",
       "    <tr>\n",
       "      <th>id</th>\n",
       "      <th></th>\n",
       "      <th></th>\n",
       "      <th></th>\n",
       "      <th></th>\n",
       "      <th></th>\n",
       "      <th></th>\n",
       "      <th></th>\n",
       "      <th></th>\n",
       "      <th></th>\n",
       "      <th></th>\n",
       "      <th></th>\n",
       "      <th></th>\n",
       "      <th></th>\n",
       "      <th></th>\n",
       "      <th></th>\n",
       "    </tr>\n",
       "  </thead>\n",
       "  <tbody>\n",
       "    <tr>\n",
       "      <th>23457</th>\n",
       "      <td>technician</td>\n",
       "      <td>single</td>\n",
       "      <td>university.degree</td>\n",
       "      <td>no</td>\n",
       "      <td>no</td>\n",
       "      <td>no</td>\n",
       "      <td>2008-08-13</td>\n",
       "      <td>cellular</td>\n",
       "      <td>5</td>\n",
       "      <td>999</td>\n",
       "      <td>0</td>\n",
       "      <td>nonexistent</td>\n",
       "      <td>unknown</td>\n",
       "      <td>32</td>\n",
       "      <td>2</td>\n",
       "    </tr>\n",
       "    <tr>\n",
       "      <th>25744</th>\n",
       "      <td>management</td>\n",
       "      <td>married</td>\n",
       "      <td>professional.course</td>\n",
       "      <td>no</td>\n",
       "      <td>yes</td>\n",
       "      <td>no</td>\n",
       "      <td>2008-11-12</td>\n",
       "      <td>cellular</td>\n",
       "      <td>1</td>\n",
       "      <td>999</td>\n",
       "      <td>0</td>\n",
       "      <td>nonexistent</td>\n",
       "      <td>unknown</td>\n",
       "      <td>42</td>\n",
       "      <td>2</td>\n",
       "    </tr>\n",
       "    <tr>\n",
       "      <th>35520</th>\n",
       "      <td>entrepreneur</td>\n",
       "      <td>divorced</td>\n",
       "      <td>university.degree</td>\n",
       "      <td>no</td>\n",
       "      <td>yes</td>\n",
       "      <td>no</td>\n",
       "      <td>2009-05-25</td>\n",
       "      <td>telephone</td>\n",
       "      <td>1</td>\n",
       "      <td>999</td>\n",
       "      <td>0</td>\n",
       "      <td>nonexistent</td>\n",
       "      <td>no</td>\n",
       "      <td>45</td>\n",
       "      <td>0</td>\n",
       "    </tr>\n",
       "    <tr>\n",
       "      <th>40985</th>\n",
       "      <td>services</td>\n",
       "      <td>married</td>\n",
       "      <td>high.school</td>\n",
       "      <td>no</td>\n",
       "      <td>no</td>\n",
       "      <td>no</td>\n",
       "      <td>2010-10-18</td>\n",
       "      <td>cellular</td>\n",
       "      <td>3</td>\n",
       "      <td>999</td>\n",
       "      <td>0</td>\n",
       "      <td>nonexistent</td>\n",
       "      <td>unknown</td>\n",
       "      <td>44</td>\n",
       "      <td>0</td>\n",
       "    </tr>\n",
       "    <tr>\n",
       "      <th>20286</th>\n",
       "      <td>admin.</td>\n",
       "      <td>single</td>\n",
       "      <td>university.degree</td>\n",
       "      <td>no</td>\n",
       "      <td>no</td>\n",
       "      <td>yes</td>\n",
       "      <td>2008-08-04</td>\n",
       "      <td>cellular</td>\n",
       "      <td>3</td>\n",
       "      <td>999</td>\n",
       "      <td>0</td>\n",
       "      <td>nonexistent</td>\n",
       "      <td>no</td>\n",
       "      <td>36</td>\n",
       "      <td>0</td>\n",
       "    </tr>\n",
       "  </tbody>\n",
       "</table>\n",
       "</div>"
      ],
      "text/plain": [
       "                job   marital            education default housing loan  \\\n",
       "id                                                                        \n",
       "23457    technician    single    university.degree      no      no   no   \n",
       "25744    management   married  professional.course      no     yes   no   \n",
       "35520  entrepreneur  divorced    university.degree      no     yes   no   \n",
       "40985      services   married          high.school      no      no   no   \n",
       "20286        admin.    single    university.degree      no      no  yes   \n",
       "\n",
       "      contact_date    contact  campaign  pdays  previous     poutcome  \\\n",
       "id                                                                      \n",
       "23457   2008-08-13   cellular         5    999         0  nonexistent   \n",
       "25744   2008-11-12   cellular         1    999         0  nonexistent   \n",
       "35520   2009-05-25  telephone         1    999         0  nonexistent   \n",
       "40985   2010-10-18   cellular         3    999         0  nonexistent   \n",
       "20286   2008-08-04   cellular         3    999         0  nonexistent   \n",
       "\n",
       "             y  age  contact_weekday  \n",
       "id                                    \n",
       "23457  unknown   32                2  \n",
       "25744  unknown   42                2  \n",
       "35520       no   45                0  \n",
       "40985  unknown   44                0  \n",
       "20286       no   36                0  "
      ]
     },
     "execution_count": 364,
     "metadata": {},
     "output_type": "execute_result"
    }
   ],
   "source": [
    "df = pd.read_csv('../data/bank-classification.csv', index_col=0)\n",
    "df = df.sample(frac=1)\n",
    "df.head()"
   ]
  },
  {
   "cell_type": "code",
   "execution_count": 365,
   "metadata": {},
   "outputs": [
    {
     "data": {
      "text/html": [
       "<div>\n",
       "<style>\n",
       "    .dataframe thead tr:only-child th {\n",
       "        text-align: right;\n",
       "    }\n",
       "\n",
       "    .dataframe thead th {\n",
       "        text-align: left;\n",
       "    }\n",
       "\n",
       "    .dataframe tbody tr th {\n",
       "        vertical-align: top;\n",
       "    }\n",
       "</style>\n",
       "<table border=\"1\" class=\"dataframe\">\n",
       "  <thead>\n",
       "    <tr style=\"text-align: right;\">\n",
       "      <th></th>\n",
       "      <th>job</th>\n",
       "      <th>marital</th>\n",
       "      <th>education</th>\n",
       "      <th>default</th>\n",
       "      <th>housing</th>\n",
       "      <th>loan</th>\n",
       "      <th>contact_date</th>\n",
       "      <th>contact</th>\n",
       "      <th>campaign</th>\n",
       "      <th>pdays</th>\n",
       "      <th>previous</th>\n",
       "      <th>poutcome</th>\n",
       "      <th>y</th>\n",
       "      <th>age</th>\n",
       "      <th>contact_weekday</th>\n",
       "      <th>education_bas</th>\n",
       "    </tr>\n",
       "    <tr>\n",
       "      <th>id</th>\n",
       "      <th></th>\n",
       "      <th></th>\n",
       "      <th></th>\n",
       "      <th></th>\n",
       "      <th></th>\n",
       "      <th></th>\n",
       "      <th></th>\n",
       "      <th></th>\n",
       "      <th></th>\n",
       "      <th></th>\n",
       "      <th></th>\n",
       "      <th></th>\n",
       "      <th></th>\n",
       "      <th></th>\n",
       "      <th></th>\n",
       "      <th></th>\n",
       "    </tr>\n",
       "  </thead>\n",
       "  <tbody>\n",
       "    <tr>\n",
       "      <th>23457</th>\n",
       "      <td>technician</td>\n",
       "      <td>single</td>\n",
       "      <td>university.degree</td>\n",
       "      <td>no</td>\n",
       "      <td>no</td>\n",
       "      <td>no</td>\n",
       "      <td>2008-08-13</td>\n",
       "      <td>cellular</td>\n",
       "      <td>5</td>\n",
       "      <td>999</td>\n",
       "      <td>0</td>\n",
       "      <td>nonexistent</td>\n",
       "      <td>unknown</td>\n",
       "      <td>32</td>\n",
       "      <td>2</td>\n",
       "      <td>False</td>\n",
       "    </tr>\n",
       "    <tr>\n",
       "      <th>25744</th>\n",
       "      <td>management</td>\n",
       "      <td>married</td>\n",
       "      <td>professional.course</td>\n",
       "      <td>no</td>\n",
       "      <td>yes</td>\n",
       "      <td>no</td>\n",
       "      <td>2008-11-12</td>\n",
       "      <td>cellular</td>\n",
       "      <td>1</td>\n",
       "      <td>999</td>\n",
       "      <td>0</td>\n",
       "      <td>nonexistent</td>\n",
       "      <td>unknown</td>\n",
       "      <td>42</td>\n",
       "      <td>2</td>\n",
       "      <td>False</td>\n",
       "    </tr>\n",
       "    <tr>\n",
       "      <th>35520</th>\n",
       "      <td>entrepreneur</td>\n",
       "      <td>divorced</td>\n",
       "      <td>university.degree</td>\n",
       "      <td>no</td>\n",
       "      <td>yes</td>\n",
       "      <td>no</td>\n",
       "      <td>2009-05-25</td>\n",
       "      <td>telephone</td>\n",
       "      <td>1</td>\n",
       "      <td>999</td>\n",
       "      <td>0</td>\n",
       "      <td>nonexistent</td>\n",
       "      <td>no</td>\n",
       "      <td>45</td>\n",
       "      <td>0</td>\n",
       "      <td>False</td>\n",
       "    </tr>\n",
       "    <tr>\n",
       "      <th>40985</th>\n",
       "      <td>services</td>\n",
       "      <td>married</td>\n",
       "      <td>high.school</td>\n",
       "      <td>no</td>\n",
       "      <td>no</td>\n",
       "      <td>no</td>\n",
       "      <td>2010-10-18</td>\n",
       "      <td>cellular</td>\n",
       "      <td>3</td>\n",
       "      <td>999</td>\n",
       "      <td>0</td>\n",
       "      <td>nonexistent</td>\n",
       "      <td>unknown</td>\n",
       "      <td>44</td>\n",
       "      <td>0</td>\n",
       "      <td>False</td>\n",
       "    </tr>\n",
       "    <tr>\n",
       "      <th>20286</th>\n",
       "      <td>admin.</td>\n",
       "      <td>single</td>\n",
       "      <td>university.degree</td>\n",
       "      <td>no</td>\n",
       "      <td>no</td>\n",
       "      <td>yes</td>\n",
       "      <td>2008-08-04</td>\n",
       "      <td>cellular</td>\n",
       "      <td>3</td>\n",
       "      <td>999</td>\n",
       "      <td>0</td>\n",
       "      <td>nonexistent</td>\n",
       "      <td>no</td>\n",
       "      <td>36</td>\n",
       "      <td>0</td>\n",
       "      <td>False</td>\n",
       "    </tr>\n",
       "  </tbody>\n",
       "</table>\n",
       "</div>"
      ],
      "text/plain": [
       "                job   marital            education default housing loan  \\\n",
       "id                                                                        \n",
       "23457    technician    single    university.degree      no      no   no   \n",
       "25744    management   married  professional.course      no     yes   no   \n",
       "35520  entrepreneur  divorced    university.degree      no     yes   no   \n",
       "40985      services   married          high.school      no      no   no   \n",
       "20286        admin.    single    university.degree      no      no  yes   \n",
       "\n",
       "      contact_date    contact  campaign  pdays  previous     poutcome  \\\n",
       "id                                                                      \n",
       "23457   2008-08-13   cellular         5    999         0  nonexistent   \n",
       "25744   2008-11-12   cellular         1    999         0  nonexistent   \n",
       "35520   2009-05-25  telephone         1    999         0  nonexistent   \n",
       "40985   2010-10-18   cellular         3    999         0  nonexistent   \n",
       "20286   2008-08-04   cellular         3    999         0  nonexistent   \n",
       "\n",
       "             y  age  contact_weekday  education_bas  \n",
       "id                                                   \n",
       "23457  unknown   32                2          False  \n",
       "25744  unknown   42                2          False  \n",
       "35520       no   45                0          False  \n",
       "40985  unknown   44                0          False  \n",
       "20286       no   36                0          False  "
      ]
     },
     "execution_count": 365,
     "metadata": {},
     "output_type": "execute_result"
    }
   ],
   "source": [
    "\n",
    "df['education_bas'] = df['education'].isin(['4y', '9y', '6y'])\n",
    "df.head()"
   ]
  },
  {
   "cell_type": "code",
   "execution_count": 217,
   "metadata": {
    "collapsed": true
   },
   "outputs": [],
   "source": [
    "date_parse_format = '%Y-%m-%d'\n",
    "\n",
    "def preprocess_data(data):\n",
    "    now = datetime.strptime(data.contact_date.max(), date_parse_format)\n",
    "#     data['sum_nan'] = (data[['default', 'loan', 'education', 'housing', 'job']] == 'unknown').sum(axis=1)\n",
    "\n",
    "    data['age'] = data.apply(lambda r: \n",
    "                             int((now - datetime.strptime(r.birth_date, date_parse_format)).days / 365.0), \n",
    "                             axis=1)\n",
    "    data.drop('birth_date', axis=1, inplace=True)\n",
    "    \n",
    "    data['contact_weekday'] = data.apply(lambda r: \n",
    "                                         (datetime.strptime(r.contact_date, date_parse_format)).weekday(), \n",
    "                                         axis=1)\n",
    "    \n",
    "#     data['education_bas'] = 1 if data['education'].isin(['9y', '6y']) else 0\n",
    "    \n",
    "    categorical_cols = list(set(data.columns) - \n",
    "                            set(['birth_date', 'contact_date', 'pdays', 'campaign', 'y','age', 'sum_nan']))\n",
    "    X = pd.get_dummies(data, columns=categorical_cols, drop_first=True)\n",
    "#     X['contacted'] = pd.get_dummies(X.pdays < 999, drop_first=True)\n",
    "    \n",
    "    X['days_since_contact'] =  X.apply(lambda r: \n",
    "                                       int((now - datetime.strptime(r.contact_date, date_parse_format)).days), \n",
    "                                       axis=1)\n",
    "    \n",
    "    X.drop('contact_date', axis=1, inplace=True)\n",
    "    \n",
    "    train_x = X[X.y != 'unknown']\n",
    "    test_x = X[X.y == 'unknown']\n",
    "    train_y = train_x['y']\n",
    "    train_y = pd.get_dummies(train_y, drop_first=True)\n",
    "    train_x = train_x.drop('y', axis=1)\n",
    "    test_x = test_x.drop('y', axis=1)\n",
    "    \n",
    "#     train_y = column_or_1d(train_y)\n",
    "#     train_x = train_x.as_matrix()\n",
    "#     test_x = test_x.as_matrix()\n",
    "    \n",
    "    return train_x, train_y, test_x\n",
    "    "
   ]
  },
  {
   "cell_type": "code",
   "execution_count": 218,
   "metadata": {
    "collapsed": true
   },
   "outputs": [],
   "source": [
    "\n",
    "X_train, Y_train, X_test = preprocess_data(df)\n",
    "\n",
    "from sklearn.model_selection import RandomizedSearchCV\n",
    "from numpy import random\n",
    "from sklearn.preprocessing import PolynomialFeatures"
   ]
  },
  {
   "cell_type": "code",
   "execution_count": 219,
   "metadata": {
    "collapsed": true
   },
   "outputs": [],
   "source": [
    "from mlens.ensemble import Subsemble"
   ]
  },
  {
   "cell_type": "code",
   "execution_count": null,
   "metadata": {
    "collapsed": true
   },
   "outputs": [],
   "source": []
  },
  {
   "cell_type": "code",
   "execution_count": 328,
   "metadata": {
    "collapsed": true
   },
   "outputs": [],
   "source": [
    "from sklearn.ensemble import GradientBoostingClassifier, RandomForestClassifier, GradientBoostingRegressor, RandomForestRegressor\n",
    "from sklearn.linear_model import  LogisticRegression, LinearRegression\n"
   ]
  },
  {
   "cell_type": "code",
   "execution_count": 356,
   "metadata": {},
   "outputs": [],
   "source": [
    "def get_ensemble():\n",
    "    model1 = XGBClassifier(max_depth=4, gamma=3, reg_alpha=0.2137, min_child_weight=2, n_estimators=880,\n",
    "                      reg_lambda=1, subsample=1, max_delta_step=5, learning_rate=0.006)\n",
    "\n",
    "    model2 = lgb.LGBMClassifier(nthread=4,silent=False, bagging_fraction= 0.6, bagging_freq= 16,\n",
    "                                boosting_type= 'dart',colsample_bytree= 0.9,feature_fraction= 0.7,\n",
    "                                is_unbalance= False)\n",
    "    model2b = lgb.LGBMClassifier(nthread=4,silent=False, bagging_fraction= 0.6, bagging_freq= 16,\n",
    "                                boosting_type= 'dart',colsample_bytree= 0.9,feature_fraction= 0.7,\n",
    "                                is_unbalance= False)\n",
    "\n",
    "    model3 = GradientBoostingClassifier(n_estimators=100)\n",
    "    model4 = RandomForestClassifier(n_estimators=100)\n",
    "    model5 = lgb.LGBMClassifier(nthread=4,silent=False)\n",
    "    model6 = XGBClassifier()\n",
    "    model7 = LogisticRegression()\n",
    "    ensemble = Subsemble()\n",
    "\n",
    "#     # # First layer\n",
    "    ensemble.add([model1, model2, model3], proba=True)\n",
    "#     ensemble.add([LinearRegression() for i in range(6)])\n",
    "#     ensemble.add([LinearRegression() for i in range(6)])\n",
    "#     # # Second layer\n",
    "#     ensemble.add([model3, model4], proba=True, shuffle=True)\n",
    "\n",
    "    # # Final meta estimator\n",
    "    ensemble.add_meta(LogisticRegression(), proba=True)\n",
    "    \n",
    "    return ensemble"
   ]
  },
  {
   "cell_type": "code",
   "execution_count": 357,
   "metadata": {
    "collapsed": true
   },
   "outputs": [],
   "source": [
    "# def get_ensemble2():\n",
    "#     model1 = XGBRegressor(max_depth=4, gamma=3, reg_alpha=0.2137, min_child_weight=2, n_estimators=880,\n",
    "#                       reg_lambda=1, subsample=1, max_delta_step=5, learning_rate=0.006)\n",
    "\n",
    "#     model2 = lgb.LGBMRegressor(nthread=4,silent=False, bagging_fraction= 0.6, bagging_freq= 16,\n",
    "#                                 boosting_type= 'dart',colsample_bytree= 0.9,feature_fraction= 0.7,\n",
    "#                                 is_unbalance= False)\n",
    "\n",
    "#     model3 = GradientBoostingRegressor(n_estimators=100, learning_rate=0.05)\n",
    "#     model4 = RandomForestRegressor(n_estimators=100)\n",
    "    \n",
    "#     model5 = lgb.LGBMClassifier(nthread=4,silent=False)\n",
    "#     model6 = XGBClassifier()\n",
    "#     model7 = LogisticRegression()\n",
    "#     ensemble = Subsemble()\n",
    "\n",
    "# #     # # First layer\n",
    "#     ensemble.add([model1, model2])\n",
    "\n",
    "# #     # # Second layer\n",
    "# #     ensemble.add([model3, model4], proba=True, shuffle=True)\n",
    "\n",
    "#     # # Final meta estimator\n",
    "#     ensemble.add_meta(model7, proba=True)\n",
    "    \n",
    "#     return ensemble"
   ]
  },
  {
   "cell_type": "code",
   "execution_count": null,
   "metadata": {
    "collapsed": true
   },
   "outputs": [],
   "source": []
  },
  {
   "cell_type": "code",
   "execution_count": 358,
   "metadata": {},
   "outputs": [],
   "source": [
    "# ensemble = get_ensemble()\n",
    "\n",
    "# Train ensemble\n",
    "# ensemble.fit(X, Y)"
   ]
  },
  {
   "cell_type": "code",
   "execution_count": 359,
   "metadata": {},
   "outputs": [],
   "source": [
    "# ensemble.predict(X[test])"
   ]
  },
  {
   "cell_type": "code",
   "execution_count": 360,
   "metadata": {
    "collapsed": true
   },
   "outputs": [],
   "source": [
    "cv = StratifiedKFold(n_splits=5)\n",
    "\n",
    "X = X_train.as_matrix()\n",
    "Y = column_or_1d(Y_train)"
   ]
  },
  {
   "cell_type": "code",
   "execution_count": 361,
   "metadata": {
    "scrolled": false
   },
   "outputs": [
    {
     "data": {
      "image/png": "[encoded data removed]",
      "text/plain": [
       "<matplotlib.figure.Figure at 0x7fad2178df60>"
      ]
     },
     "metadata": {},
     "output_type": "display_data"
    },
    {
     "data": {
      "image/png": "[encoded data removed]",
      "text/plain": [
       "<matplotlib.figure.Figure at 0x7fad208e2f28>"
      ]
     },
     "metadata": {},
     "output_type": "display_data"
    },
    {
     "data": {
      "image/png": "[encoded data removed]",
      "text/plain": [
       "<matplotlib.figure.Figure at 0x7fad20eea4a8>"
      ]
     },
     "metadata": {},
     "output_type": "display_data"
    },
    {
     "data": {
      "image/png": "[encoded data removed]",
      "text/plain": [
       "<matplotlib.figure.Figure at 0x7fad20eef128>"
      ]
     },
     "metadata": {},
     "output_type": "display_data"
    },
    {
     "data": {
      "image/png": "[encoded data removed]",
      "text/plain": [
       "<matplotlib.figure.Figure at 0x7fad20ebeb70>"
      ]
     },
     "metadata": {},
     "output_type": "display_data"
    },
    {
     "data": {
      "image/png": "[encoded data removed]",
      "text/plain": [
       "<matplotlib.figure.Figure at 0x7fad2007b780>"
      ]
     },
     "metadata": {},
     "output_type": "display_data"
    }
   ],
   "source": [
    "tprs = []\n",
    "aucs = []\n",
    "mean_fpr = np.linspace(0, 1, 100)\n",
    "i=0\n",
    "\n",
    "for train, test in cv.split(X, Y):\n",
    "    ensemble = get_ensemble()\n",
    "    \n",
    "    probas_ = ensemble.fit(X[train], Y[train]).predict_proba(X[test])\n",
    "    # Compute ROC curve and area the curve\n",
    "    fpr, tpr, thresholds = roc_curve(Y[test], probas_[:, 1])\n",
    "    tprs.append(interp(mean_fpr, fpr, tpr))\n",
    "    tprs[-1][0] = 0.0\n",
    "    roc_auc = auc(fpr, tpr)\n",
    "    aucs.append(roc_auc)\n",
    "    plt.plot(fpr, tpr, lw=1, alpha=0.3,\n",
    "             label='ROC fold %d (AUC = %0.2f)' % (i, roc_auc))\n",
    "    plt.show()\n",
    "\n",
    "    i += 1\n",
    "plt.plot([0, 1], [0, 1], linestyle='--', lw=2, color='r',\n",
    "         label='Luck', alpha=.8)\n",
    "\n",
    "mean_tpr = np.mean(tprs, axis=0)\n",
    "mean_tpr[-1] = 1.0\n",
    "mean_auc = auc(mean_fpr, mean_tpr)\n",
    "std_auc = np.std(aucs)\n",
    "plt.plot(mean_fpr, mean_tpr, color='b',\n",
    "         label=r'Mean ROC (AUC = %0.2f $\\pm$ %0.2f)' % (mean_auc, std_auc),\n",
    "         lw=2, alpha=.8)\n",
    "\n",
    "plt.show()"
   ]
  },
  {
   "cell_type": "code",
   "execution_count": 362,
   "metadata": {},
   "outputs": [
    {
     "data": {
      "image/png": "[encoded data removed]",
      "text/plain": [
       "<matplotlib.figure.Figure at 0x7fad20db38d0>"
      ]
     },
     "metadata": {},
     "output_type": "display_data"
    },
    {
     "data": {
      "text/plain": [
       "0.78986503692386045"
      ]
     },
     "execution_count": 362,
     "metadata": {},
     "output_type": "execute_result"
    }
   ],
   "source": [
    "std_tpr = np.std(tprs, axis=0)\n",
    "tprs_upper = np.minimum(mean_tpr + std_tpr, 1)\n",
    "tprs_lower = np.maximum(mean_tpr - std_tpr, 0)\n",
    "plt.fill_between(mean_fpr, tprs_lower, tprs_upper, color='grey', alpha=.2,\n",
    "                 label=r'$\\pm$ 1 std. dev.')\n",
    "\n",
    "plt.xlim([-0.05, 1.05])\n",
    "plt.ylim([-0.05, 1.05])\n",
    "plt.xlabel('False Positive Rate')\n",
    "plt.ylabel('True Positive Rate')\n",
    "plt.title('Receiver operating characteristic example')\n",
    "plt.legend(loc=\"lower right\")\n",
    "plt.show()\n",
    "\n",
    "mean_auc"
   ]
  },
  {
   "cell_type": "code",
   "execution_count": null,
   "metadata": {
    "collapsed": true
   },
   "outputs": [],
   "source": []
  },
  {
   "cell_type": "code",
   "execution_count": null,
   "metadata": {
    "collapsed": true
   },
   "outputs": [],
   "source": []
  },
  {
   "cell_type": "code",
   "execution_count": null,
   "metadata": {
    "collapsed": true
   },
   "outputs": [],
   "source": []
  }
 ],
 "metadata": {
  "kernelspec": {
   "display_name": "Python 2",
   "language": "python",
   "name": "python2"
  },
  "language_info": {
   "codemirror_mode": {
    "name": "ipython",
    "version": 3
   },
   "file_extension": ".py",
   "mimetype": "text/x-python",
   "name": "python",
   "nbconvert_exporter": "python",
   "pygments_lexer": "ipython3",
   "version": "3.6.3"
  }
 },
 "nbformat": 4,
 "nbformat_minor": 2
}
